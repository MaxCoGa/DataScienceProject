{
 "metadata": {
  "language_info": {
   "codemirror_mode": {
    "name": "ipython",
    "version": 3
   },
   "file_extension": ".py",
   "mimetype": "text/x-python",
   "name": "python",
   "nbconvert_exporter": "python",
   "pygments_lexer": "ipython3",
   "version": "3.9.2-final"
  },
  "orig_nbformat": 2,
  "kernelspec": {
   "name": "python3",
   "display_name": "Python 3",
   "language": "python"
  }
 },
 "nbformat": 4,
 "nbformat_minor": 2,
 "cells": [
  {
   "cell_type": "code",
   "execution_count": 1,
   "metadata": {},
   "outputs": [],
   "source": [
    "import pandas as pd\n",
    "import numpy as np\n",
    "from datetime import datetime, timedelta"
   ]
  },
  {
   "cell_type": "code",
   "execution_count": 13,
   "metadata": {},
   "outputs": [
    {
     "output_type": "execute_result",
     "data": {
      "text/plain": [
       "       patient_key  gender age_group    acquisition_group outbreak_related  \\\n",
       "0                1  FEMALE       50s                   OB                y   \n",
       "1                2  FEMALE       20s                   CC                n   \n",
       "2                3    MALE       50s    NO KNOWN EPI LINK                n   \n",
       "3                4  FEMALE       30s                   CC                n   \n",
       "4                5  FEMALE       20s                   CC                n   \n",
       "...            ...     ...       ...                  ...              ...   \n",
       "97617        97618    MALE       20s                   CC                y   \n",
       "97618        97619  FEMALE       70s    NO KNOWN EPI LINK                n   \n",
       "97619        97620  FEMALE       20s    NO KNOWN EPI LINK                n   \n",
       "97620        97621  FEMALE       80s                   OB                y   \n",
       "97621        97622    MALE       40s  MISSING INFORMATION                n   \n",
       "\n",
       "        outcome                       reporting_phu reporting_phu_city  \\\n",
       "0      Resolved                  Peel Public Health        Mississauga   \n",
       "1      Resolved                  Peel Public Health        Mississauga   \n",
       "2      Resolved  York Region Public Health Services          Newmarket   \n",
       "3      Resolved  York Region Public Health Services          Newmarket   \n",
       "4      Resolved  York Region Public Health Services          Newmarket   \n",
       "...         ...                                 ...                ...   \n",
       "97617  Resolved                  Peel Public Health        Mississauga   \n",
       "97618  Resolved                  Peel Public Health        Mississauga   \n",
       "97619  Resolved                  Peel Public Health        Mississauga   \n",
       "97620     Fatal  York Region Public Health Services          Newmarket   \n",
       "97621  Resolved               Toronto Public Health            Toronto   \n",
       "\n",
       "       onset_date reported_date   test_date specimen_date  \n",
       "0      2020-05-12    2020-05-23  2020-12-03    2020-05-12  \n",
       "1      2020-03-11    2020-12-05  2020-12-05    2020-09-29  \n",
       "2      2020-04-29    2020-10-06  2020-10-06    2020-08-21  \n",
       "3      2020-03-23    2020-12-12  2020-12-12    2020-12-11  \n",
       "4      2020-04-19    2020-04-19  2020-12-15    2020-12-13  \n",
       "...           ...           ...         ...           ...  \n",
       "97617  2020-12-05    2020-12-11  2020-12-11    2020-12-10  \n",
       "97618  2020-11-17    2020-11-20  2020-11-20    2020-11-18  \n",
       "97619  2020-10-19    2020-10-23  2020-10-23    2020-10-22  \n",
       "97620  2020-10-20    2020-10-23  2020-10-23    2020-10-20  \n",
       "97621  2020-11-24    2020-11-28  2020-11-28    2020-11-24  \n",
       "\n",
       "[97622 rows x 12 columns]"
      ],
      "text/html": "<div>\n<style scoped>\n    .dataframe tbody tr th:only-of-type {\n        vertical-align: middle;\n    }\n\n    .dataframe tbody tr th {\n        vertical-align: top;\n    }\n\n    .dataframe thead th {\n        text-align: right;\n    }\n</style>\n<table border=\"1\" class=\"dataframe\">\n  <thead>\n    <tr style=\"text-align: right;\">\n      <th></th>\n      <th>patient_key</th>\n      <th>gender</th>\n      <th>age_group</th>\n      <th>acquisition_group</th>\n      <th>outbreak_related</th>\n      <th>outcome</th>\n      <th>reporting_phu</th>\n      <th>reporting_phu_city</th>\n      <th>onset_date</th>\n      <th>reported_date</th>\n      <th>test_date</th>\n      <th>specimen_date</th>\n    </tr>\n  </thead>\n  <tbody>\n    <tr>\n      <th>0</th>\n      <td>1</td>\n      <td>FEMALE</td>\n      <td>50s</td>\n      <td>OB</td>\n      <td>y</td>\n      <td>Resolved</td>\n      <td>Peel Public Health</td>\n      <td>Mississauga</td>\n      <td>2020-05-12</td>\n      <td>2020-05-23</td>\n      <td>2020-12-03</td>\n      <td>2020-05-12</td>\n    </tr>\n    <tr>\n      <th>1</th>\n      <td>2</td>\n      <td>FEMALE</td>\n      <td>20s</td>\n      <td>CC</td>\n      <td>n</td>\n      <td>Resolved</td>\n      <td>Peel Public Health</td>\n      <td>Mississauga</td>\n      <td>2020-03-11</td>\n      <td>2020-12-05</td>\n      <td>2020-12-05</td>\n      <td>2020-09-29</td>\n    </tr>\n    <tr>\n      <th>2</th>\n      <td>3</td>\n      <td>MALE</td>\n      <td>50s</td>\n      <td>NO KNOWN EPI LINK</td>\n      <td>n</td>\n      <td>Resolved</td>\n      <td>York Region Public Health Services</td>\n      <td>Newmarket</td>\n      <td>2020-04-29</td>\n      <td>2020-10-06</td>\n      <td>2020-10-06</td>\n      <td>2020-08-21</td>\n    </tr>\n    <tr>\n      <th>3</th>\n      <td>4</td>\n      <td>FEMALE</td>\n      <td>30s</td>\n      <td>CC</td>\n      <td>n</td>\n      <td>Resolved</td>\n      <td>York Region Public Health Services</td>\n      <td>Newmarket</td>\n      <td>2020-03-23</td>\n      <td>2020-12-12</td>\n      <td>2020-12-12</td>\n      <td>2020-12-11</td>\n    </tr>\n    <tr>\n      <th>4</th>\n      <td>5</td>\n      <td>FEMALE</td>\n      <td>20s</td>\n      <td>CC</td>\n      <td>n</td>\n      <td>Resolved</td>\n      <td>York Region Public Health Services</td>\n      <td>Newmarket</td>\n      <td>2020-04-19</td>\n      <td>2020-04-19</td>\n      <td>2020-12-15</td>\n      <td>2020-12-13</td>\n    </tr>\n    <tr>\n      <th>...</th>\n      <td>...</td>\n      <td>...</td>\n      <td>...</td>\n      <td>...</td>\n      <td>...</td>\n      <td>...</td>\n      <td>...</td>\n      <td>...</td>\n      <td>...</td>\n      <td>...</td>\n      <td>...</td>\n      <td>...</td>\n    </tr>\n    <tr>\n      <th>97617</th>\n      <td>97618</td>\n      <td>MALE</td>\n      <td>20s</td>\n      <td>CC</td>\n      <td>y</td>\n      <td>Resolved</td>\n      <td>Peel Public Health</td>\n      <td>Mississauga</td>\n      <td>2020-12-05</td>\n      <td>2020-12-11</td>\n      <td>2020-12-11</td>\n      <td>2020-12-10</td>\n    </tr>\n    <tr>\n      <th>97618</th>\n      <td>97619</td>\n      <td>FEMALE</td>\n      <td>70s</td>\n      <td>NO KNOWN EPI LINK</td>\n      <td>n</td>\n      <td>Resolved</td>\n      <td>Peel Public Health</td>\n      <td>Mississauga</td>\n      <td>2020-11-17</td>\n      <td>2020-11-20</td>\n      <td>2020-11-20</td>\n      <td>2020-11-18</td>\n    </tr>\n    <tr>\n      <th>97619</th>\n      <td>97620</td>\n      <td>FEMALE</td>\n      <td>20s</td>\n      <td>NO KNOWN EPI LINK</td>\n      <td>n</td>\n      <td>Resolved</td>\n      <td>Peel Public Health</td>\n      <td>Mississauga</td>\n      <td>2020-10-19</td>\n      <td>2020-10-23</td>\n      <td>2020-10-23</td>\n      <td>2020-10-22</td>\n    </tr>\n    <tr>\n      <th>97620</th>\n      <td>97621</td>\n      <td>FEMALE</td>\n      <td>80s</td>\n      <td>OB</td>\n      <td>y</td>\n      <td>Fatal</td>\n      <td>York Region Public Health Services</td>\n      <td>Newmarket</td>\n      <td>2020-10-20</td>\n      <td>2020-10-23</td>\n      <td>2020-10-23</td>\n      <td>2020-10-20</td>\n    </tr>\n    <tr>\n      <th>97621</th>\n      <td>97622</td>\n      <td>MALE</td>\n      <td>40s</td>\n      <td>MISSING INFORMATION</td>\n      <td>n</td>\n      <td>Resolved</td>\n      <td>Toronto Public Health</td>\n      <td>Toronto</td>\n      <td>2020-11-24</td>\n      <td>2020-11-28</td>\n      <td>2020-11-28</td>\n      <td>2020-11-24</td>\n    </tr>\n  </tbody>\n</table>\n<p>97622 rows × 12 columns</p>\n</div>"
     },
     "metadata": {},
     "execution_count": 13
    }
   ],
   "source": [
    "dates_dimension = pd.DataFrame(pd.read_csv(\"date_dimension.csv\"))\n",
    "weather_dimension = pd.DataFrame(pd.read_csv(\"weather_dimension.csv\"))\n",
    "mobility_dimension = pd.DataFrame(pd.read_csv(\"mobility_dimension.csv\"))\n",
    "special_measures_dimension = pd.DataFrame(pd.read_csv(\"special_measures_dimension.csv\"))\n",
    "\n",
    "cases = pd.read_csv(\"patients.csv\")   \n",
    "cases_df = pd.DataFrame(cases)    \n",
    "\n",
    "cases_df"
   ]
  },
  {
   "cell_type": "code",
   "execution_count": 3,
   "metadata": {},
   "outputs": [
    {
     "output_type": "execute_result",
     "data": {
      "text/plain": [
       "Empty DataFrame\n",
       "Columns: [onset_date_surrogate, reported_date_surrogate, test_date_surrogate, specimen_date_surrogate, weather_surrogate, patient_surrogate, phu_location_surrogate, mobility_surrogate, special_measures_surrogate, is_fatal, is_unresolved, is_resolved]\n",
       "Index: []"
      ],
      "text/html": "<div>\n<style scoped>\n    .dataframe tbody tr th:only-of-type {\n        vertical-align: middle;\n    }\n\n    .dataframe tbody tr th {\n        vertical-align: top;\n    }\n\n    .dataframe thead th {\n        text-align: right;\n    }\n</style>\n<table border=\"1\" class=\"dataframe\">\n  <thead>\n    <tr style=\"text-align: right;\">\n      <th></th>\n      <th>onset_date_surrogate</th>\n      <th>reported_date_surrogate</th>\n      <th>test_date_surrogate</th>\n      <th>specimen_date_surrogate</th>\n      <th>weather_surrogate</th>\n      <th>patient_surrogate</th>\n      <th>phu_location_surrogate</th>\n      <th>mobility_surrogate</th>\n      <th>special_measures_surrogate</th>\n      <th>is_fatal</th>\n      <th>is_unresolved</th>\n      <th>is_resolved</th>\n    </tr>\n  </thead>\n  <tbody>\n  </tbody>\n</table>\n</div>"
     },
     "metadata": {},
     "execution_count": 3
    }
   ],
   "source": [
    "#Fact table rows\n",
    "fact_table_final =  pd.DataFrame(columns=['onset_date_surrogate','reported_date_surrogate','test_date_surrogate','specimen_date_surrogate', 'weather_surrogate','patient_surrogate', 'phu_location_surrogate', 'mobility_surrogate','special_measures_surrogate',\"is_fatal\", \"is_unresolved\", \"is_resolved\"])\n",
    "\n",
    "fact_table_final"
   ]
  },
  {
   "cell_type": "code",
   "execution_count": 15,
   "metadata": {},
   "outputs": [
    {
     "output_type": "execute_result",
     "data": {
      "text/plain": [
       "       patient_key  gender age_group    acquisition_group outbreak_related  \\\n",
       "0                1  FEMALE       50s                   OB                y   \n",
       "1                2  FEMALE       20s                   CC                n   \n",
       "2                3    MALE       50s    NO KNOWN EPI LINK                n   \n",
       "3                4  FEMALE       30s                   CC                n   \n",
       "4                5  FEMALE       20s                   CC                n   \n",
       "...            ...     ...       ...                  ...              ...   \n",
       "97617        97618    MALE       20s                   CC                y   \n",
       "97618        97619  FEMALE       70s    NO KNOWN EPI LINK                n   \n",
       "97619        97620  FEMALE       20s    NO KNOWN EPI LINK                n   \n",
       "97620        97621  FEMALE       80s                   OB                y   \n",
       "97621        97622    MALE       40s  MISSING INFORMATION                n   \n",
       "\n",
       "        outcome                       reporting_phu reporting_phu_city  \\\n",
       "0      Resolved                  Peel Public Health        Mississauga   \n",
       "1      Resolved                  Peel Public Health        Mississauga   \n",
       "2      Resolved  York Region Public Health Services          Newmarket   \n",
       "3      Resolved  York Region Public Health Services          Newmarket   \n",
       "4      Resolved  York Region Public Health Services          Newmarket   \n",
       "...         ...                                 ...                ...   \n",
       "97617  Resolved                  Peel Public Health        Mississauga   \n",
       "97618  Resolved                  Peel Public Health        Mississauga   \n",
       "97619  Resolved                  Peel Public Health        Mississauga   \n",
       "97620     Fatal  York Region Public Health Services          Newmarket   \n",
       "97621  Resolved               Toronto Public Health            Toronto   \n",
       "\n",
       "       onset_date reported_date   test_date specimen_date  \n",
       "0      2020-05-12    2020-05-23  2020-12-03    2020-05-12  \n",
       "1      2020-03-11    2020-12-05  2020-12-05    2020-09-29  \n",
       "2      2020-04-29    2020-10-06  2020-10-06    2020-08-21  \n",
       "3      2020-03-23    2020-12-12  2020-12-12    2020-12-11  \n",
       "4      2020-04-19    2020-04-19  2020-12-15    2020-12-13  \n",
       "...           ...           ...         ...           ...  \n",
       "97617  2020-12-05    2020-12-11  2020-12-11    2020-12-10  \n",
       "97618  2020-11-17    2020-11-20  2020-11-20    2020-11-18  \n",
       "97619  2020-10-19    2020-10-23  2020-10-23    2020-10-22  \n",
       "97620  2020-10-20    2020-10-23  2020-10-23    2020-10-20  \n",
       "97621  2020-11-24    2020-11-28  2020-11-28    2020-11-24  \n",
       "\n",
       "[97622 rows x 12 columns]"
      ],
      "text/html": "<div>\n<style scoped>\n    .dataframe tbody tr th:only-of-type {\n        vertical-align: middle;\n    }\n\n    .dataframe tbody tr th {\n        vertical-align: top;\n    }\n\n    .dataframe thead th {\n        text-align: right;\n    }\n</style>\n<table border=\"1\" class=\"dataframe\">\n  <thead>\n    <tr style=\"text-align: right;\">\n      <th></th>\n      <th>patient_key</th>\n      <th>gender</th>\n      <th>age_group</th>\n      <th>acquisition_group</th>\n      <th>outbreak_related</th>\n      <th>outcome</th>\n      <th>reporting_phu</th>\n      <th>reporting_phu_city</th>\n      <th>onset_date</th>\n      <th>reported_date</th>\n      <th>test_date</th>\n      <th>specimen_date</th>\n    </tr>\n  </thead>\n  <tbody>\n    <tr>\n      <th>0</th>\n      <td>1</td>\n      <td>FEMALE</td>\n      <td>50s</td>\n      <td>OB</td>\n      <td>y</td>\n      <td>Resolved</td>\n      <td>Peel Public Health</td>\n      <td>Mississauga</td>\n      <td>2020-05-12</td>\n      <td>2020-05-23</td>\n      <td>2020-12-03</td>\n      <td>2020-05-12</td>\n    </tr>\n    <tr>\n      <th>1</th>\n      <td>2</td>\n      <td>FEMALE</td>\n      <td>20s</td>\n      <td>CC</td>\n      <td>n</td>\n      <td>Resolved</td>\n      <td>Peel Public Health</td>\n      <td>Mississauga</td>\n      <td>2020-03-11</td>\n      <td>2020-12-05</td>\n      <td>2020-12-05</td>\n      <td>2020-09-29</td>\n    </tr>\n    <tr>\n      <th>2</th>\n      <td>3</td>\n      <td>MALE</td>\n      <td>50s</td>\n      <td>NO KNOWN EPI LINK</td>\n      <td>n</td>\n      <td>Resolved</td>\n      <td>York Region Public Health Services</td>\n      <td>Newmarket</td>\n      <td>2020-04-29</td>\n      <td>2020-10-06</td>\n      <td>2020-10-06</td>\n      <td>2020-08-21</td>\n    </tr>\n    <tr>\n      <th>3</th>\n      <td>4</td>\n      <td>FEMALE</td>\n      <td>30s</td>\n      <td>CC</td>\n      <td>n</td>\n      <td>Resolved</td>\n      <td>York Region Public Health Services</td>\n      <td>Newmarket</td>\n      <td>2020-03-23</td>\n      <td>2020-12-12</td>\n      <td>2020-12-12</td>\n      <td>2020-12-11</td>\n    </tr>\n    <tr>\n      <th>4</th>\n      <td>5</td>\n      <td>FEMALE</td>\n      <td>20s</td>\n      <td>CC</td>\n      <td>n</td>\n      <td>Resolved</td>\n      <td>York Region Public Health Services</td>\n      <td>Newmarket</td>\n      <td>2020-04-19</td>\n      <td>2020-04-19</td>\n      <td>2020-12-15</td>\n      <td>2020-12-13</td>\n    </tr>\n    <tr>\n      <th>...</th>\n      <td>...</td>\n      <td>...</td>\n      <td>...</td>\n      <td>...</td>\n      <td>...</td>\n      <td>...</td>\n      <td>...</td>\n      <td>...</td>\n      <td>...</td>\n      <td>...</td>\n      <td>...</td>\n      <td>...</td>\n    </tr>\n    <tr>\n      <th>97617</th>\n      <td>97618</td>\n      <td>MALE</td>\n      <td>20s</td>\n      <td>CC</td>\n      <td>y</td>\n      <td>Resolved</td>\n      <td>Peel Public Health</td>\n      <td>Mississauga</td>\n      <td>2020-12-05</td>\n      <td>2020-12-11</td>\n      <td>2020-12-11</td>\n      <td>2020-12-10</td>\n    </tr>\n    <tr>\n      <th>97618</th>\n      <td>97619</td>\n      <td>FEMALE</td>\n      <td>70s</td>\n      <td>NO KNOWN EPI LINK</td>\n      <td>n</td>\n      <td>Resolved</td>\n      <td>Peel Public Health</td>\n      <td>Mississauga</td>\n      <td>2020-11-17</td>\n      <td>2020-11-20</td>\n      <td>2020-11-20</td>\n      <td>2020-11-18</td>\n    </tr>\n    <tr>\n      <th>97619</th>\n      <td>97620</td>\n      <td>FEMALE</td>\n      <td>20s</td>\n      <td>NO KNOWN EPI LINK</td>\n      <td>n</td>\n      <td>Resolved</td>\n      <td>Peel Public Health</td>\n      <td>Mississauga</td>\n      <td>2020-10-19</td>\n      <td>2020-10-23</td>\n      <td>2020-10-23</td>\n      <td>2020-10-22</td>\n    </tr>\n    <tr>\n      <th>97620</th>\n      <td>97621</td>\n      <td>FEMALE</td>\n      <td>80s</td>\n      <td>OB</td>\n      <td>y</td>\n      <td>Fatal</td>\n      <td>York Region Public Health Services</td>\n      <td>Newmarket</td>\n      <td>2020-10-20</td>\n      <td>2020-10-23</td>\n      <td>2020-10-23</td>\n      <td>2020-10-20</td>\n    </tr>\n    <tr>\n      <th>97621</th>\n      <td>97622</td>\n      <td>MALE</td>\n      <td>40s</td>\n      <td>MISSING INFORMATION</td>\n      <td>n</td>\n      <td>Resolved</td>\n      <td>Toronto Public Health</td>\n      <td>Toronto</td>\n      <td>2020-11-24</td>\n      <td>2020-11-28</td>\n      <td>2020-11-28</td>\n      <td>2020-11-24</td>\n    </tr>\n  </tbody>\n</table>\n<p>97622 rows × 12 columns</p>\n</div>"
     },
     "metadata": {},
     "execution_count": 15
    }
   ],
   "source": [
    "#remove cases and drop duplicates for the cases data \n",
    "cases_df = cases_df[(cases_df.test_date >= '2020-09-01') & (cases_df.test_date <= '2020-12-31')]#TODO\n",
    "\n",
    "cases_df"
   ]
  },
  {
   "cell_type": "code",
   "execution_count": 16,
   "metadata": {},
   "outputs": [
    {
     "output_type": "execute_result",
     "data": {
      "text/plain": [
       "       patient_key          gender age_group    acquisition_group  \\\n",
       "0                1          FEMALE       50s                   OB   \n",
       "1                2          FEMALE       20s                   CC   \n",
       "2                3            MALE       50s    NO KNOWN EPI LINK   \n",
       "3                4          FEMALE       30s                   CC   \n",
       "5                6          FEMALE       80s                   OB   \n",
       "...            ...             ...       ...                  ...   \n",
       "89190        89191  GENDER DIVERSE       20s                   OB   \n",
       "89229        89230  GENDER DIVERSE       40s  MISSING INFORMATION   \n",
       "89619        89620  GENDER DIVERSE       <20  MISSING INFORMATION   \n",
       "92164        92165          FEMALE       90+                   OB   \n",
       "92764        92765            MALE       90+               TRAVEL   \n",
       "\n",
       "      outbreak_related   outcome                       reporting_phu  \\\n",
       "0                    y  Resolved                  Peel Public Health   \n",
       "1                    n  Resolved                  Peel Public Health   \n",
       "2                    n  Resolved  York Region Public Health Services   \n",
       "3                    n  Resolved  York Region Public Health Services   \n",
       "5                    y  Resolved  York Region Public Health Services   \n",
       "...                ...       ...                                 ...   \n",
       "89190                y  Resolved               Toronto Public Health   \n",
       "89229                n  Resolved               Toronto Public Health   \n",
       "89619                y  Resolved               Toronto Public Health   \n",
       "92164                n  Resolved  York Region Public Health Services   \n",
       "92764                n  Resolved                  Peel Public Health   \n",
       "\n",
       "      reporting_phu_city  onset_date reported_date   test_date specimen_date  \n",
       "0            Mississauga  2020-05-12    2020-05-23  2020-12-03    2020-05-12  \n",
       "1            Mississauga  2020-03-11    2020-12-05  2020-12-05    2020-09-29  \n",
       "2              Newmarket  2020-04-29    2020-10-06  2020-10-06    2020-08-21  \n",
       "3              Newmarket  2020-03-23    2020-12-12  2020-12-12    2020-12-11  \n",
       "5              Newmarket  2020-06-11    2020-05-25  2020-09-23    2020-06-11  \n",
       "...                  ...         ...           ...         ...           ...  \n",
       "89190            Toronto  2020-09-29    2020-10-01  2020-10-01    2020-09-29  \n",
       "89229            Toronto  2020-11-05    2020-11-06  2020-11-06    2020-11-05  \n",
       "89619            Toronto  2020-11-17    2020-11-20  2020-11-20    2020-11-19  \n",
       "92164          Newmarket  2020-12-27    2020-12-28  2020-12-28    2020-12-27  \n",
       "92764        Mississauga  2020-09-13    2020-09-16  2020-09-16    2020-09-13  \n",
       "\n",
       "[233 rows x 12 columns]"
      ],
      "text/html": "<div>\n<style scoped>\n    .dataframe tbody tr th:only-of-type {\n        vertical-align: middle;\n    }\n\n    .dataframe tbody tr th {\n        vertical-align: top;\n    }\n\n    .dataframe thead th {\n        text-align: right;\n    }\n</style>\n<table border=\"1\" class=\"dataframe\">\n  <thead>\n    <tr style=\"text-align: right;\">\n      <th></th>\n      <th>patient_key</th>\n      <th>gender</th>\n      <th>age_group</th>\n      <th>acquisition_group</th>\n      <th>outbreak_related</th>\n      <th>outcome</th>\n      <th>reporting_phu</th>\n      <th>reporting_phu_city</th>\n      <th>onset_date</th>\n      <th>reported_date</th>\n      <th>test_date</th>\n      <th>specimen_date</th>\n    </tr>\n  </thead>\n  <tbody>\n    <tr>\n      <th>0</th>\n      <td>1</td>\n      <td>FEMALE</td>\n      <td>50s</td>\n      <td>OB</td>\n      <td>y</td>\n      <td>Resolved</td>\n      <td>Peel Public Health</td>\n      <td>Mississauga</td>\n      <td>2020-05-12</td>\n      <td>2020-05-23</td>\n      <td>2020-12-03</td>\n      <td>2020-05-12</td>\n    </tr>\n    <tr>\n      <th>1</th>\n      <td>2</td>\n      <td>FEMALE</td>\n      <td>20s</td>\n      <td>CC</td>\n      <td>n</td>\n      <td>Resolved</td>\n      <td>Peel Public Health</td>\n      <td>Mississauga</td>\n      <td>2020-03-11</td>\n      <td>2020-12-05</td>\n      <td>2020-12-05</td>\n      <td>2020-09-29</td>\n    </tr>\n    <tr>\n      <th>2</th>\n      <td>3</td>\n      <td>MALE</td>\n      <td>50s</td>\n      <td>NO KNOWN EPI LINK</td>\n      <td>n</td>\n      <td>Resolved</td>\n      <td>York Region Public Health Services</td>\n      <td>Newmarket</td>\n      <td>2020-04-29</td>\n      <td>2020-10-06</td>\n      <td>2020-10-06</td>\n      <td>2020-08-21</td>\n    </tr>\n    <tr>\n      <th>3</th>\n      <td>4</td>\n      <td>FEMALE</td>\n      <td>30s</td>\n      <td>CC</td>\n      <td>n</td>\n      <td>Resolved</td>\n      <td>York Region Public Health Services</td>\n      <td>Newmarket</td>\n      <td>2020-03-23</td>\n      <td>2020-12-12</td>\n      <td>2020-12-12</td>\n      <td>2020-12-11</td>\n    </tr>\n    <tr>\n      <th>5</th>\n      <td>6</td>\n      <td>FEMALE</td>\n      <td>80s</td>\n      <td>OB</td>\n      <td>y</td>\n      <td>Resolved</td>\n      <td>York Region Public Health Services</td>\n      <td>Newmarket</td>\n      <td>2020-06-11</td>\n      <td>2020-05-25</td>\n      <td>2020-09-23</td>\n      <td>2020-06-11</td>\n    </tr>\n    <tr>\n      <th>...</th>\n      <td>...</td>\n      <td>...</td>\n      <td>...</td>\n      <td>...</td>\n      <td>...</td>\n      <td>...</td>\n      <td>...</td>\n      <td>...</td>\n      <td>...</td>\n      <td>...</td>\n      <td>...</td>\n      <td>...</td>\n    </tr>\n    <tr>\n      <th>89190</th>\n      <td>89191</td>\n      <td>GENDER DIVERSE</td>\n      <td>20s</td>\n      <td>OB</td>\n      <td>y</td>\n      <td>Resolved</td>\n      <td>Toronto Public Health</td>\n      <td>Toronto</td>\n      <td>2020-09-29</td>\n      <td>2020-10-01</td>\n      <td>2020-10-01</td>\n      <td>2020-09-29</td>\n    </tr>\n    <tr>\n      <th>89229</th>\n      <td>89230</td>\n      <td>GENDER DIVERSE</td>\n      <td>40s</td>\n      <td>MISSING INFORMATION</td>\n      <td>n</td>\n      <td>Resolved</td>\n      <td>Toronto Public Health</td>\n      <td>Toronto</td>\n      <td>2020-11-05</td>\n      <td>2020-11-06</td>\n      <td>2020-11-06</td>\n      <td>2020-11-05</td>\n    </tr>\n    <tr>\n      <th>89619</th>\n      <td>89620</td>\n      <td>GENDER DIVERSE</td>\n      <td>&lt;20</td>\n      <td>MISSING INFORMATION</td>\n      <td>y</td>\n      <td>Resolved</td>\n      <td>Toronto Public Health</td>\n      <td>Toronto</td>\n      <td>2020-11-17</td>\n      <td>2020-11-20</td>\n      <td>2020-11-20</td>\n      <td>2020-11-19</td>\n    </tr>\n    <tr>\n      <th>92164</th>\n      <td>92165</td>\n      <td>FEMALE</td>\n      <td>90+</td>\n      <td>OB</td>\n      <td>n</td>\n      <td>Resolved</td>\n      <td>York Region Public Health Services</td>\n      <td>Newmarket</td>\n      <td>2020-12-27</td>\n      <td>2020-12-28</td>\n      <td>2020-12-28</td>\n      <td>2020-12-27</td>\n    </tr>\n    <tr>\n      <th>92764</th>\n      <td>92765</td>\n      <td>MALE</td>\n      <td>90+</td>\n      <td>TRAVEL</td>\n      <td>n</td>\n      <td>Resolved</td>\n      <td>Peel Public Health</td>\n      <td>Mississauga</td>\n      <td>2020-09-13</td>\n      <td>2020-09-16</td>\n      <td>2020-09-16</td>\n      <td>2020-09-13</td>\n    </tr>\n  </tbody>\n</table>\n<p>233 rows × 12 columns</p>\n</div>"
     },
     "metadata": {},
     "execution_count": 16
    }
   ],
   "source": [
    "#drop duplicates\n",
    "patients_data = cases_df.drop_duplicates(subset =['gender', 'age_group', 'acquisition_group', 'outbreak_related']) \n",
    "patients_data"
   ]
  },
  {
   "cell_type": "code",
   "execution_count": 17,
   "metadata": {},
   "outputs": [
    {
     "output_type": "error",
     "ename": "IndexError",
     "evalue": "index 0 is out of bounds for axis 0 with size 0",
     "traceback": [
      "\u001b[1;31m---------------------------------------------------------------------------\u001b[0m",
      "\u001b[1;31mIndexError\u001b[0m                                Traceback (most recent call last)",
      "\u001b[1;32m<ipython-input-17-a5eaf9c01990>\u001b[0m in \u001b[0;36m<module>\u001b[1;34m\u001b[0m\n\u001b[0;32m     19\u001b[0m     \u001b[1;31m#link dates key\u001b[0m\u001b[1;33m\u001b[0m\u001b[1;33m\u001b[0m\u001b[1;33m\u001b[0m\u001b[0m\n\u001b[0;32m     20\u001b[0m     \u001b[1;31m#onset_date key\u001b[0m\u001b[1;33m\u001b[0m\u001b[1;33m\u001b[0m\u001b[1;33m\u001b[0m\u001b[0m\n\u001b[1;32m---> 21\u001b[1;33m     \u001b[0monset_key\u001b[0m \u001b[1;33m=\u001b[0m \u001b[0mdates_dimension\u001b[0m\u001b[1;33m[\u001b[0m\u001b[0mdates_dimension\u001b[0m\u001b[1;33m[\u001b[0m\u001b[1;34m'date'\u001b[0m\u001b[1;33m]\u001b[0m\u001b[1;33m==\u001b[0m\u001b[0monset_date\u001b[0m\u001b[1;33m]\u001b[0m\u001b[1;33m[\u001b[0m\u001b[1;34m'test_date_key'\u001b[0m\u001b[1;33m]\u001b[0m\u001b[1;33m.\u001b[0m\u001b[0mvalues\u001b[0m\u001b[1;33m[\u001b[0m\u001b[1;36m0\u001b[0m\u001b[1;33m]\u001b[0m\u001b[1;33m\u001b[0m\u001b[1;33m\u001b[0m\u001b[0m\n\u001b[0m\u001b[0;32m     22\u001b[0m \u001b[1;33m\u001b[0m\u001b[0m\n\u001b[0;32m     23\u001b[0m     \u001b[1;31m#reported date key\u001b[0m\u001b[1;33m\u001b[0m\u001b[1;33m\u001b[0m\u001b[1;33m\u001b[0m\u001b[0m\n",
      "\u001b[1;31mIndexError\u001b[0m: index 0 is out of bounds for axis 0 with size 0"
     ]
    }
   ],
   "source": [
    "#4 months \n",
    "start_date = datetime(2020, 9, 1).date()\n",
    "end_date = datetime(2020, 12, 31).date()\n",
    "\n",
    "#sort by reported_date\n",
    "patients_data = patients_data.sort_values('reported_date')\n",
    "patients_data.head()\n",
    "\n",
    "regions = [\"durham\", \"halton\", \"peel\", \"york\", \"toronto\", \"ottawa\"]#list of regions\n",
    "\n",
    "for idx, row in patients_data.iterrows():\n",
    "    #reported date\n",
    "    onset_date = row['onset_date']\n",
    "    reported_date = row['reported_date']\n",
    "    test_date = row['test_date']\n",
    "    specimen_date = row['specimen_date']\n",
    "    phu = row[\"reporting_phu\"]\n",
    "    \n",
    "    #link dates key\n",
    "    #onset_date key\n",
    "    onset_key = dates_dimension[dates_dimension['date']==onset_date]['test_date_key'].values[0]\n",
    "\n",
    "    #reported date key\n",
    "    reported_key = dates_dimension[dates_dimension['date']== reported_date]['test_date_key'].values[0]\n",
    "\n",
    "    #test date\n",
    "    test_key = dates_dimension[dates_dimension['date']==test_date]['test_date_key'].values[0]\n",
    "\n",
    "    #specimen date\n",
    "    specimen_key = dates_dimension[dates_dimension['date']==specimen_date]['test_date_key'].values[0]\n",
    "\n",
    "    #link regions\n",
    "    for city in regions:\n",
    "        if(city in phu.lower()):\n",
    "            break#return x\n",
    "\n",
    "    #link weather\n",
    "    if(city == 'ottawa'):#Ottawa case\n",
    "        weather_key = weather_dimension[(weather_dimension['station_name'] == 'OTTAWA') & (weather_dimension['date_col'] == test_date)]['weather_surrogate_key'].values[0] \n",
    "    else:#GTA case\n",
    "        weather_key = weather_dimension[(weather_dimension['station_name'] == 'TORONTO') & (weather_dimension['date_col'] == test_date)]['weather_surrogate_key'].values[0] \n",
    "\n",
    "\n",
    "    #link mobility\n",
    "    mobility_key = mobility_dimension[(mobility_dimension['date_col'] == test_date) & ( mobility_dimension['subregion'].str.contains(city, case=False))]['mobility_surrogate_key'].values[0] \n",
    "\n",
    "\n",
    "    #link measures\n",
    "    measures_key = special_measures_dimension[((special_measures_dimension['start_date'] <= test_date) & (special_measures_dimension['end_date'] >= test_date)) & (special_measures_dimension['region'] == city) ]['special_measures_surrogate_key'].values[0]\n",
    "\n",
    "\n",
    "    #add data to row\n",
    "    fact_row = []#surrogate key\n",
    "    fact_row.append(onset_key)#date\n",
    "    fact_row.append(reported_key)#date \n",
    "    fact_row.append(test_key)#date \n",
    "    fact_row.append(specimen_key)#date \n",
    "\n",
    "    fact_row.append(weather_key)#weather\n",
    "    fact_row.append(row['patient_key'])#patient_surrogate \n",
    "    fact_row.append(phu)#(phu_row[\"phu_location_key\"])#phu TODO\n",
    "    fact_row.append(mobility_key)#mobility\n",
    "    fact_row.append(measures_key)#measures\n",
    "\n",
    "    if(row[\"outcome\"].lower() == \"fatal\"):\n",
    "        fact_row.append(True)#is_fatal\n",
    "        fact_row.append(False)#is_unresolved\n",
    "        fact_row.append(True)#is_resolved\n",
    "    elif(row[\"outcome\"].lower() == \"not resolved\"):\n",
    "        fact_row.append(False)#is_fatal\n",
    "        fact_row.append(True)#is_unresolved\n",
    "        fact_row.append(False)#is_resolved\n",
    "    elif(row[\"outcome\"].lower() == \"resolved\"):\n",
    "        fact_row.append(False)#is_fatal\n",
    "        fact_row.append(False)#is_unresolved\n",
    "        fact_row.append(True)#is_resolved\n",
    "\n",
    "    #add row    \n",
    "    fact_table_final.loc[len(fact_table_final)] = fact_row\n"
   ]
  },
  {
   "cell_type": "code",
   "execution_count": 10,
   "metadata": {},
   "outputs": [
    {
     "output_type": "execute_result",
     "data": {
      "text/plain": [
       "     onset_date_surrogate  reported_date_surrogate  test_date_surrogate  \\\n",
       "0                       1                        2                    2   \n",
       "1                       1                        2                    2   \n",
       "2                       1                        2                    2   \n",
       "3                       2                        3                    3   \n",
       "4                       2                        3                    3   \n",
       "..                    ...                      ...                  ...   \n",
       "459                   114                      119                  119   \n",
       "460                   117                      119                  119   \n",
       "461                   118                      119                  119   \n",
       "462                   117                      121                  121   \n",
       "463                   120                      121                  121   \n",
       "\n",
       "     specimen_date_surrogate  weather_surrogate  patient_surrogate  \\\n",
       "0                          1                545                508   \n",
       "1                          1                545                611   \n",
       "2                          1                545                455   \n",
       "3                          2                546                674   \n",
       "4                          2                546                576   \n",
       "..                       ...                ...                ...   \n",
       "459                      118                662              51555   \n",
       "460                      117                662              54661   \n",
       "461                      118                662              92165   \n",
       "462                      118                664              54761   \n",
       "463                      120                464              50625   \n",
       "\n",
       "                 phu_location_surrogate  mobility_surrogate  \\\n",
       "0                    Peel Public Health               48065   \n",
       "1                    Peel Public Health               48065   \n",
       "2                    Peel Public Health               48065   \n",
       "3                    Peel Public Health               48066   \n",
       "4                    Peel Public Health               48066   \n",
       "..                                  ...                 ...   \n",
       "459               Toronto Public Health               50916   \n",
       "460               Toronto Public Health               50916   \n",
       "461  York Region Public Health Services               48543   \n",
       "462               Toronto Public Health               50918   \n",
       "463                Ottawa Public Health               44557   \n",
       "\n",
       "     special_measures_surrogate  is_fatal  is_unresolved  is_resolved  \n",
       "0                           102     False          False         True  \n",
       "1                           102     False          False         True  \n",
       "2                           102     False          False         True  \n",
       "3                           102     False          False         True  \n",
       "4                           102     False          False         True  \n",
       "..                          ...       ...            ...          ...  \n",
       "459                         172     False          False         True  \n",
       "460                         172     False          False         True  \n",
       "461                         188     False          False         True  \n",
       "462                         172     False          False         True  \n",
       "463                         130     False          False         True  \n",
       "\n",
       "[464 rows x 12 columns]"
      ],
      "text/html": "<div>\n<style scoped>\n    .dataframe tbody tr th:only-of-type {\n        vertical-align: middle;\n    }\n\n    .dataframe tbody tr th {\n        vertical-align: top;\n    }\n\n    .dataframe thead th {\n        text-align: right;\n    }\n</style>\n<table border=\"1\" class=\"dataframe\">\n  <thead>\n    <tr style=\"text-align: right;\">\n      <th></th>\n      <th>onset_date_surrogate</th>\n      <th>reported_date_surrogate</th>\n      <th>test_date_surrogate</th>\n      <th>specimen_date_surrogate</th>\n      <th>weather_surrogate</th>\n      <th>patient_surrogate</th>\n      <th>phu_location_surrogate</th>\n      <th>mobility_surrogate</th>\n      <th>special_measures_surrogate</th>\n      <th>is_fatal</th>\n      <th>is_unresolved</th>\n      <th>is_resolved</th>\n    </tr>\n  </thead>\n  <tbody>\n    <tr>\n      <th>0</th>\n      <td>1</td>\n      <td>2</td>\n      <td>2</td>\n      <td>1</td>\n      <td>545</td>\n      <td>508</td>\n      <td>Peel Public Health</td>\n      <td>48065</td>\n      <td>102</td>\n      <td>False</td>\n      <td>False</td>\n      <td>True</td>\n    </tr>\n    <tr>\n      <th>1</th>\n      <td>1</td>\n      <td>2</td>\n      <td>2</td>\n      <td>1</td>\n      <td>545</td>\n      <td>611</td>\n      <td>Peel Public Health</td>\n      <td>48065</td>\n      <td>102</td>\n      <td>False</td>\n      <td>False</td>\n      <td>True</td>\n    </tr>\n    <tr>\n      <th>2</th>\n      <td>1</td>\n      <td>2</td>\n      <td>2</td>\n      <td>1</td>\n      <td>545</td>\n      <td>455</td>\n      <td>Peel Public Health</td>\n      <td>48065</td>\n      <td>102</td>\n      <td>False</td>\n      <td>False</td>\n      <td>True</td>\n    </tr>\n    <tr>\n      <th>3</th>\n      <td>2</td>\n      <td>3</td>\n      <td>3</td>\n      <td>2</td>\n      <td>546</td>\n      <td>674</td>\n      <td>Peel Public Health</td>\n      <td>48066</td>\n      <td>102</td>\n      <td>False</td>\n      <td>False</td>\n      <td>True</td>\n    </tr>\n    <tr>\n      <th>4</th>\n      <td>2</td>\n      <td>3</td>\n      <td>3</td>\n      <td>2</td>\n      <td>546</td>\n      <td>576</td>\n      <td>Peel Public Health</td>\n      <td>48066</td>\n      <td>102</td>\n      <td>False</td>\n      <td>False</td>\n      <td>True</td>\n    </tr>\n    <tr>\n      <th>...</th>\n      <td>...</td>\n      <td>...</td>\n      <td>...</td>\n      <td>...</td>\n      <td>...</td>\n      <td>...</td>\n      <td>...</td>\n      <td>...</td>\n      <td>...</td>\n      <td>...</td>\n      <td>...</td>\n      <td>...</td>\n    </tr>\n    <tr>\n      <th>459</th>\n      <td>114</td>\n      <td>119</td>\n      <td>119</td>\n      <td>118</td>\n      <td>662</td>\n      <td>51555</td>\n      <td>Toronto Public Health</td>\n      <td>50916</td>\n      <td>172</td>\n      <td>False</td>\n      <td>False</td>\n      <td>True</td>\n    </tr>\n    <tr>\n      <th>460</th>\n      <td>117</td>\n      <td>119</td>\n      <td>119</td>\n      <td>117</td>\n      <td>662</td>\n      <td>54661</td>\n      <td>Toronto Public Health</td>\n      <td>50916</td>\n      <td>172</td>\n      <td>False</td>\n      <td>False</td>\n      <td>True</td>\n    </tr>\n    <tr>\n      <th>461</th>\n      <td>118</td>\n      <td>119</td>\n      <td>119</td>\n      <td>118</td>\n      <td>662</td>\n      <td>92165</td>\n      <td>York Region Public Health Services</td>\n      <td>48543</td>\n      <td>188</td>\n      <td>False</td>\n      <td>False</td>\n      <td>True</td>\n    </tr>\n    <tr>\n      <th>462</th>\n      <td>117</td>\n      <td>121</td>\n      <td>121</td>\n      <td>118</td>\n      <td>664</td>\n      <td>54761</td>\n      <td>Toronto Public Health</td>\n      <td>50918</td>\n      <td>172</td>\n      <td>False</td>\n      <td>False</td>\n      <td>True</td>\n    </tr>\n    <tr>\n      <th>463</th>\n      <td>120</td>\n      <td>121</td>\n      <td>121</td>\n      <td>120</td>\n      <td>464</td>\n      <td>50625</td>\n      <td>Ottawa Public Health</td>\n      <td>44557</td>\n      <td>130</td>\n      <td>False</td>\n      <td>False</td>\n      <td>True</td>\n    </tr>\n  </tbody>\n</table>\n<p>464 rows × 12 columns</p>\n</div>"
     },
     "metadata": {},
     "execution_count": 10
    }
   ],
   "source": [
    "fact_table_final"
   ]
  },
  {
   "cell_type": "code",
   "execution_count": 8,
   "metadata": {},
   "outputs": [],
   "source": [
    "fact_table_final.fillna(0, inplace = True)\n",
    "\n",
    "fact_table_final.to_csv(\"fact_table_final.csv\",index=False)"
   ]
  }
 ]
}