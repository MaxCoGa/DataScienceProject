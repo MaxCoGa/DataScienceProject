{
 "metadata": {
  "language_info": {
   "codemirror_mode": {
    "name": "ipython",
    "version": 3
   },
   "file_extension": ".py",
   "mimetype": "text/x-python",
   "name": "python",
   "nbconvert_exporter": "python",
   "pygments_lexer": "ipython3",
   "version": "3.9.2-final"
  },
  "orig_nbformat": 2,
  "kernelspec": {
   "name": "python3",
   "display_name": "Python 3",
   "language": "python"
  }
 },
 "nbformat": 4,
 "nbformat_minor": 2,
 "cells": [
  {
   "cell_type": "code",
   "execution_count": 1,
   "metadata": {},
   "outputs": [],
   "source": [
    "import pandas as pd\n",
    "#import numpy as np\n",
    "from datetime import datetime, timedelta"
   ]
  },
  {
   "cell_type": "code",
   "execution_count": 2,
   "metadata": {},
   "outputs": [
    {
     "output_type": "execute_result",
     "data": {
      "text/plain": [
       "        patient_key  gender age_group    acquisition_group outbreak_related  \\\n",
       "0                10    MALE       20s                   CC                n   \n",
       "1                11  FEMALE       50s    NO KNOWN EPI LINK                n   \n",
       "2                12    MALE       30s    NO KNOWN EPI LINK                n   \n",
       "3                13    MALE       70s                   CC                n   \n",
       "4                14  FEMALE       70s                   CC                n   \n",
       "...             ...     ...       ...                  ...              ...   \n",
       "107039       108105  FEMALE       70s    NO KNOWN EPI LINK                n   \n",
       "107040       108106  FEMALE       20s    NO KNOWN EPI LINK                n   \n",
       "107041       108107    MALE       <20                   CC                n   \n",
       "107042       108108  FEMALE       80s                   OB                y   \n",
       "107043       108109    MALE       40s  MISSING INFORMATION                n   \n",
       "\n",
       "         outcome                       reporting_phu reporting_phu_city  \\\n",
       "0       Resolved                  Peel Public Health        Mississauga   \n",
       "1       Resolved                  Peel Public Health        Mississauga   \n",
       "2       Resolved                  Peel Public Health        Mississauga   \n",
       "3       Resolved                  Peel Public Health        Mississauga   \n",
       "4       Resolved                  Peel Public Health        Mississauga   \n",
       "...          ...                                 ...                ...   \n",
       "107039  Resolved                  Peel Public Health        Mississauga   \n",
       "107040  Resolved                  Peel Public Health        Mississauga   \n",
       "107041  Resolved     Halton Region Health Department           Oakville   \n",
       "107042     Fatal  York Region Public Health Services          Newmarket   \n",
       "107043  Resolved               Toronto Public Health            Toronto   \n",
       "\n",
       "        onset_date reported_date   test_date specimen_date  \n",
       "0       2020-09-07    2020-09-08  2020-09-08    2020-09-07  \n",
       "1       2020-09-06    2020-09-08  2020-09-08    2020-09-06  \n",
       "2       2020-09-04    2020-09-08  2020-09-08    2020-09-07  \n",
       "3       2020-09-06    2020-09-08  2020-09-08    2020-09-06  \n",
       "4       2020-09-07    2020-09-08  2020-09-08    2020-09-07  \n",
       "...            ...           ...         ...           ...  \n",
       "107039  2020-11-17    2020-11-20  2020-11-20    2020-11-18  \n",
       "107040  2020-10-19    2020-10-23  2020-10-23    2020-10-22  \n",
       "107041  2020-11-13    2020-11-22  2020-11-22    2020-11-20  \n",
       "107042  2020-10-20    2020-10-23  2020-10-23    2020-10-20  \n",
       "107043  2020-11-24    2020-11-28  2020-11-28    2020-11-24  \n",
       "\n",
       "[107044 rows x 12 columns]"
      ],
      "text/html": "<div>\n<style scoped>\n    .dataframe tbody tr th:only-of-type {\n        vertical-align: middle;\n    }\n\n    .dataframe tbody tr th {\n        vertical-align: top;\n    }\n\n    .dataframe thead th {\n        text-align: right;\n    }\n</style>\n<table border=\"1\" class=\"dataframe\">\n  <thead>\n    <tr style=\"text-align: right;\">\n      <th></th>\n      <th>patient_key</th>\n      <th>gender</th>\n      <th>age_group</th>\n      <th>acquisition_group</th>\n      <th>outbreak_related</th>\n      <th>outcome</th>\n      <th>reporting_phu</th>\n      <th>reporting_phu_city</th>\n      <th>onset_date</th>\n      <th>reported_date</th>\n      <th>test_date</th>\n      <th>specimen_date</th>\n    </tr>\n  </thead>\n  <tbody>\n    <tr>\n      <th>0</th>\n      <td>10</td>\n      <td>MALE</td>\n      <td>20s</td>\n      <td>CC</td>\n      <td>n</td>\n      <td>Resolved</td>\n      <td>Peel Public Health</td>\n      <td>Mississauga</td>\n      <td>2020-09-07</td>\n      <td>2020-09-08</td>\n      <td>2020-09-08</td>\n      <td>2020-09-07</td>\n    </tr>\n    <tr>\n      <th>1</th>\n      <td>11</td>\n      <td>FEMALE</td>\n      <td>50s</td>\n      <td>NO KNOWN EPI LINK</td>\n      <td>n</td>\n      <td>Resolved</td>\n      <td>Peel Public Health</td>\n      <td>Mississauga</td>\n      <td>2020-09-06</td>\n      <td>2020-09-08</td>\n      <td>2020-09-08</td>\n      <td>2020-09-06</td>\n    </tr>\n    <tr>\n      <th>2</th>\n      <td>12</td>\n      <td>MALE</td>\n      <td>30s</td>\n      <td>NO KNOWN EPI LINK</td>\n      <td>n</td>\n      <td>Resolved</td>\n      <td>Peel Public Health</td>\n      <td>Mississauga</td>\n      <td>2020-09-04</td>\n      <td>2020-09-08</td>\n      <td>2020-09-08</td>\n      <td>2020-09-07</td>\n    </tr>\n    <tr>\n      <th>3</th>\n      <td>13</td>\n      <td>MALE</td>\n      <td>70s</td>\n      <td>CC</td>\n      <td>n</td>\n      <td>Resolved</td>\n      <td>Peel Public Health</td>\n      <td>Mississauga</td>\n      <td>2020-09-06</td>\n      <td>2020-09-08</td>\n      <td>2020-09-08</td>\n      <td>2020-09-06</td>\n    </tr>\n    <tr>\n      <th>4</th>\n      <td>14</td>\n      <td>FEMALE</td>\n      <td>70s</td>\n      <td>CC</td>\n      <td>n</td>\n      <td>Resolved</td>\n      <td>Peel Public Health</td>\n      <td>Mississauga</td>\n      <td>2020-09-07</td>\n      <td>2020-09-08</td>\n      <td>2020-09-08</td>\n      <td>2020-09-07</td>\n    </tr>\n    <tr>\n      <th>...</th>\n      <td>...</td>\n      <td>...</td>\n      <td>...</td>\n      <td>...</td>\n      <td>...</td>\n      <td>...</td>\n      <td>...</td>\n      <td>...</td>\n      <td>...</td>\n      <td>...</td>\n      <td>...</td>\n      <td>...</td>\n    </tr>\n    <tr>\n      <th>107039</th>\n      <td>108105</td>\n      <td>FEMALE</td>\n      <td>70s</td>\n      <td>NO KNOWN EPI LINK</td>\n      <td>n</td>\n      <td>Resolved</td>\n      <td>Peel Public Health</td>\n      <td>Mississauga</td>\n      <td>2020-11-17</td>\n      <td>2020-11-20</td>\n      <td>2020-11-20</td>\n      <td>2020-11-18</td>\n    </tr>\n    <tr>\n      <th>107040</th>\n      <td>108106</td>\n      <td>FEMALE</td>\n      <td>20s</td>\n      <td>NO KNOWN EPI LINK</td>\n      <td>n</td>\n      <td>Resolved</td>\n      <td>Peel Public Health</td>\n      <td>Mississauga</td>\n      <td>2020-10-19</td>\n      <td>2020-10-23</td>\n      <td>2020-10-23</td>\n      <td>2020-10-22</td>\n    </tr>\n    <tr>\n      <th>107041</th>\n      <td>108107</td>\n      <td>MALE</td>\n      <td>&lt;20</td>\n      <td>CC</td>\n      <td>n</td>\n      <td>Resolved</td>\n      <td>Halton Region Health Department</td>\n      <td>Oakville</td>\n      <td>2020-11-13</td>\n      <td>2020-11-22</td>\n      <td>2020-11-22</td>\n      <td>2020-11-20</td>\n    </tr>\n    <tr>\n      <th>107042</th>\n      <td>108108</td>\n      <td>FEMALE</td>\n      <td>80s</td>\n      <td>OB</td>\n      <td>y</td>\n      <td>Fatal</td>\n      <td>York Region Public Health Services</td>\n      <td>Newmarket</td>\n      <td>2020-10-20</td>\n      <td>2020-10-23</td>\n      <td>2020-10-23</td>\n      <td>2020-10-20</td>\n    </tr>\n    <tr>\n      <th>107043</th>\n      <td>108109</td>\n      <td>MALE</td>\n      <td>40s</td>\n      <td>MISSING INFORMATION</td>\n      <td>n</td>\n      <td>Resolved</td>\n      <td>Toronto Public Health</td>\n      <td>Toronto</td>\n      <td>2020-11-24</td>\n      <td>2020-11-28</td>\n      <td>2020-11-28</td>\n      <td>2020-11-24</td>\n    </tr>\n  </tbody>\n</table>\n<p>107044 rows × 12 columns</p>\n</div>"
     },
     "metadata": {},
     "execution_count": 2
    }
   ],
   "source": [
    "dates_dimension = pd.DataFrame(pd.read_csv(\"date_dimension.csv\"))\n",
    "weather_dimension = pd.DataFrame(pd.read_csv(\"weather_dimension.csv\"))\n",
    "mobility_dimension = pd.DataFrame(pd.read_csv(\"mobility_dimension.csv\"))\n",
    "special_measures_dimension = pd.DataFrame(pd.read_csv(\"special_measures_dimension.csv\"))\n",
    "phu_dimension = pd.DataFrame(pd.read_csv(\"phu_dimension.csv\"))\n",
    "\n",
    "cases = pd.read_csv(\"patients.csv\")   \n",
    "cases_df = pd.DataFrame(cases)    \n",
    "\n",
    "cases_df"
   ]
  },
  {
   "cell_type": "code",
   "execution_count": 3,
   "metadata": {},
   "outputs": [
    {
     "output_type": "execute_result",
     "data": {
      "text/plain": [
       "Empty DataFrame\n",
       "Columns: [onset_date_surrogate, reported_date_surrogate, test_date_surrogate, specimen_date_surrogate, weather_surrogate, patient_surrogate, phu_location_surrogate, mobility_surrogate, special_measures_surrogate, is_fatal, is_unresolved, is_resolved]\n",
       "Index: []"
      ],
      "text/html": "<div>\n<style scoped>\n    .dataframe tbody tr th:only-of-type {\n        vertical-align: middle;\n    }\n\n    .dataframe tbody tr th {\n        vertical-align: top;\n    }\n\n    .dataframe thead th {\n        text-align: right;\n    }\n</style>\n<table border=\"1\" class=\"dataframe\">\n  <thead>\n    <tr style=\"text-align: right;\">\n      <th></th>\n      <th>onset_date_surrogate</th>\n      <th>reported_date_surrogate</th>\n      <th>test_date_surrogate</th>\n      <th>specimen_date_surrogate</th>\n      <th>weather_surrogate</th>\n      <th>patient_surrogate</th>\n      <th>phu_location_surrogate</th>\n      <th>mobility_surrogate</th>\n      <th>special_measures_surrogate</th>\n      <th>is_fatal</th>\n      <th>is_unresolved</th>\n      <th>is_resolved</th>\n    </tr>\n  </thead>\n  <tbody>\n  </tbody>\n</table>\n</div>"
     },
     "metadata": {},
     "execution_count": 3
    }
   ],
   "source": [
    "#Fact table rows\n",
    "fact_table_final =  pd.DataFrame(columns=['onset_date_surrogate','reported_date_surrogate','test_date_surrogate','specimen_date_surrogate', 'weather_surrogate','patient_surrogate', 'phu_location_surrogate', 'mobility_surrogate','special_measures_surrogate',\"is_fatal\", \"is_unresolved\", \"is_resolved\"])\n",
    "\n",
    "fact_table_final"
   ]
  },
  {
   "cell_type": "code",
   "execution_count": 4,
   "metadata": {},
   "outputs": [
    {
     "output_type": "execute_result",
     "data": {
      "text/plain": [
       "        patient_key  gender age_group    acquisition_group outbreak_related  \\\n",
       "0                10    MALE       20s                   CC                n   \n",
       "1                11  FEMALE       50s    NO KNOWN EPI LINK                n   \n",
       "2                12    MALE       30s    NO KNOWN EPI LINK                n   \n",
       "3                13    MALE       70s                   CC                n   \n",
       "4                14  FEMALE       70s                   CC                n   \n",
       "...             ...     ...       ...                  ...              ...   \n",
       "107037       108103    MALE       30s    NO KNOWN EPI LINK                n   \n",
       "107038       108104    MALE       20s                   CC                y   \n",
       "107039       108105  FEMALE       70s    NO KNOWN EPI LINK                n   \n",
       "107041       108107    MALE       <20                   CC                n   \n",
       "107043       108109    MALE       40s  MISSING INFORMATION                n   \n",
       "\n",
       "         outcome                    reporting_phu reporting_phu_city  \\\n",
       "0       Resolved               Peel Public Health        Mississauga   \n",
       "1       Resolved               Peel Public Health        Mississauga   \n",
       "2       Resolved               Peel Public Health        Mississauga   \n",
       "3       Resolved               Peel Public Health        Mississauga   \n",
       "4       Resolved               Peel Public Health        Mississauga   \n",
       "...          ...                              ...                ...   \n",
       "107037  Resolved  Durham Region Health Department             Whitby   \n",
       "107038  Resolved               Peel Public Health        Mississauga   \n",
       "107039  Resolved               Peel Public Health        Mississauga   \n",
       "107041  Resolved  Halton Region Health Department           Oakville   \n",
       "107043  Resolved            Toronto Public Health            Toronto   \n",
       "\n",
       "        onset_date reported_date   test_date specimen_date  \n",
       "0       2020-09-07    2020-09-08  2020-09-08    2020-09-07  \n",
       "1       2020-09-06    2020-09-08  2020-09-08    2020-09-06  \n",
       "2       2020-09-04    2020-09-08  2020-09-08    2020-09-07  \n",
       "3       2020-09-06    2020-09-08  2020-09-08    2020-09-06  \n",
       "4       2020-09-07    2020-09-08  2020-09-08    2020-09-07  \n",
       "...            ...           ...         ...           ...  \n",
       "107037  2020-10-15    2020-10-22  2020-10-22    2020-10-20  \n",
       "107038  2020-12-05    2020-12-11  2020-12-11    2020-12-10  \n",
       "107039  2020-11-17    2020-11-20  2020-11-20    2020-11-18  \n",
       "107041  2020-11-13    2020-11-22  2020-11-22    2020-11-20  \n",
       "107043  2020-11-24    2020-11-28  2020-11-28    2020-11-24  \n",
       "\n",
       "[84812 rows x 12 columns]"
      ],
      "text/html": "<div>\n<style scoped>\n    .dataframe tbody tr th:only-of-type {\n        vertical-align: middle;\n    }\n\n    .dataframe tbody tr th {\n        vertical-align: top;\n    }\n\n    .dataframe thead th {\n        text-align: right;\n    }\n</style>\n<table border=\"1\" class=\"dataframe\">\n  <thead>\n    <tr style=\"text-align: right;\">\n      <th></th>\n      <th>patient_key</th>\n      <th>gender</th>\n      <th>age_group</th>\n      <th>acquisition_group</th>\n      <th>outbreak_related</th>\n      <th>outcome</th>\n      <th>reporting_phu</th>\n      <th>reporting_phu_city</th>\n      <th>onset_date</th>\n      <th>reported_date</th>\n      <th>test_date</th>\n      <th>specimen_date</th>\n    </tr>\n  </thead>\n  <tbody>\n    <tr>\n      <th>0</th>\n      <td>10</td>\n      <td>MALE</td>\n      <td>20s</td>\n      <td>CC</td>\n      <td>n</td>\n      <td>Resolved</td>\n      <td>Peel Public Health</td>\n      <td>Mississauga</td>\n      <td>2020-09-07</td>\n      <td>2020-09-08</td>\n      <td>2020-09-08</td>\n      <td>2020-09-07</td>\n    </tr>\n    <tr>\n      <th>1</th>\n      <td>11</td>\n      <td>FEMALE</td>\n      <td>50s</td>\n      <td>NO KNOWN EPI LINK</td>\n      <td>n</td>\n      <td>Resolved</td>\n      <td>Peel Public Health</td>\n      <td>Mississauga</td>\n      <td>2020-09-06</td>\n      <td>2020-09-08</td>\n      <td>2020-09-08</td>\n      <td>2020-09-06</td>\n    </tr>\n    <tr>\n      <th>2</th>\n      <td>12</td>\n      <td>MALE</td>\n      <td>30s</td>\n      <td>NO KNOWN EPI LINK</td>\n      <td>n</td>\n      <td>Resolved</td>\n      <td>Peel Public Health</td>\n      <td>Mississauga</td>\n      <td>2020-09-04</td>\n      <td>2020-09-08</td>\n      <td>2020-09-08</td>\n      <td>2020-09-07</td>\n    </tr>\n    <tr>\n      <th>3</th>\n      <td>13</td>\n      <td>MALE</td>\n      <td>70s</td>\n      <td>CC</td>\n      <td>n</td>\n      <td>Resolved</td>\n      <td>Peel Public Health</td>\n      <td>Mississauga</td>\n      <td>2020-09-06</td>\n      <td>2020-09-08</td>\n      <td>2020-09-08</td>\n      <td>2020-09-06</td>\n    </tr>\n    <tr>\n      <th>4</th>\n      <td>14</td>\n      <td>FEMALE</td>\n      <td>70s</td>\n      <td>CC</td>\n      <td>n</td>\n      <td>Resolved</td>\n      <td>Peel Public Health</td>\n      <td>Mississauga</td>\n      <td>2020-09-07</td>\n      <td>2020-09-08</td>\n      <td>2020-09-08</td>\n      <td>2020-09-07</td>\n    </tr>\n    <tr>\n      <th>...</th>\n      <td>...</td>\n      <td>...</td>\n      <td>...</td>\n      <td>...</td>\n      <td>...</td>\n      <td>...</td>\n      <td>...</td>\n      <td>...</td>\n      <td>...</td>\n      <td>...</td>\n      <td>...</td>\n      <td>...</td>\n    </tr>\n    <tr>\n      <th>107037</th>\n      <td>108103</td>\n      <td>MALE</td>\n      <td>30s</td>\n      <td>NO KNOWN EPI LINK</td>\n      <td>n</td>\n      <td>Resolved</td>\n      <td>Durham Region Health Department</td>\n      <td>Whitby</td>\n      <td>2020-10-15</td>\n      <td>2020-10-22</td>\n      <td>2020-10-22</td>\n      <td>2020-10-20</td>\n    </tr>\n    <tr>\n      <th>107038</th>\n      <td>108104</td>\n      <td>MALE</td>\n      <td>20s</td>\n      <td>CC</td>\n      <td>y</td>\n      <td>Resolved</td>\n      <td>Peel Public Health</td>\n      <td>Mississauga</td>\n      <td>2020-12-05</td>\n      <td>2020-12-11</td>\n      <td>2020-12-11</td>\n      <td>2020-12-10</td>\n    </tr>\n    <tr>\n      <th>107039</th>\n      <td>108105</td>\n      <td>FEMALE</td>\n      <td>70s</td>\n      <td>NO KNOWN EPI LINK</td>\n      <td>n</td>\n      <td>Resolved</td>\n      <td>Peel Public Health</td>\n      <td>Mississauga</td>\n      <td>2020-11-17</td>\n      <td>2020-11-20</td>\n      <td>2020-11-20</td>\n      <td>2020-11-18</td>\n    </tr>\n    <tr>\n      <th>107041</th>\n      <td>108107</td>\n      <td>MALE</td>\n      <td>&lt;20</td>\n      <td>CC</td>\n      <td>n</td>\n      <td>Resolved</td>\n      <td>Halton Region Health Department</td>\n      <td>Oakville</td>\n      <td>2020-11-13</td>\n      <td>2020-11-22</td>\n      <td>2020-11-22</td>\n      <td>2020-11-20</td>\n    </tr>\n    <tr>\n      <th>107043</th>\n      <td>108109</td>\n      <td>MALE</td>\n      <td>40s</td>\n      <td>MISSING INFORMATION</td>\n      <td>n</td>\n      <td>Resolved</td>\n      <td>Toronto Public Health</td>\n      <td>Toronto</td>\n      <td>2020-11-24</td>\n      <td>2020-11-28</td>\n      <td>2020-11-28</td>\n      <td>2020-11-24</td>\n    </tr>\n  </tbody>\n</table>\n<p>84812 rows × 12 columns</p>\n</div>"
     },
     "metadata": {},
     "execution_count": 4
    }
   ],
   "source": [
    "#drop duplicates for the same patients profiles\n",
    "patients_data = cases_df.drop_duplicates(subset =['gender', 'age_group', 'acquisition_group', 'outbreak_related','outcome', 'reporting_phu','onset_date','reported_date','test_date','specimen_date']) \n",
    "patients_data"
   ]
  },
  {
   "cell_type": "code",
   "execution_count": 5,
   "metadata": {},
   "outputs": [
    {
     "output_type": "error",
     "ename": "KeyboardInterrupt",
     "evalue": "",
     "traceback": [
      "\u001b[1;31m---------------------------------------------------------------------------\u001b[0m",
      "\u001b[1;31mKeyboardInterrupt\u001b[0m                         Traceback (most recent call last)",
      "\u001b[1;32m<ipython-input-5-82855d243aae>\u001b[0m in \u001b[0;36m<module>\u001b[1;34m\u001b[0m\n\u001b[0;32m     81\u001b[0m \u001b[1;33m\u001b[0m\u001b[0m\n\u001b[0;32m     82\u001b[0m     \u001b[1;31m#add row\u001b[0m\u001b[1;33m\u001b[0m\u001b[1;33m\u001b[0m\u001b[1;33m\u001b[0m\u001b[0m\n\u001b[1;32m---> 83\u001b[1;33m     \u001b[0mfact_table_final\u001b[0m\u001b[1;33m.\u001b[0m\u001b[0mloc\u001b[0m\u001b[1;33m[\u001b[0m\u001b[0mlen\u001b[0m\u001b[1;33m(\u001b[0m\u001b[0mfact_table_final\u001b[0m\u001b[1;33m)\u001b[0m\u001b[1;33m]\u001b[0m \u001b[1;33m=\u001b[0m \u001b[0mfact_row\u001b[0m\u001b[1;33m\u001b[0m\u001b[1;33m\u001b[0m\u001b[0m\n\u001b[0m",
      "\u001b[1;32m~\\AppData\\Local\\Programs\\Python\\Python39\\lib\\site-packages\\pandas\\core\\indexing.py\u001b[0m in \u001b[0;36m__setitem__\u001b[1;34m(self, key, value)\u001b[0m\n\u001b[0;32m    690\u001b[0m \u001b[1;33m\u001b[0m\u001b[0m\n\u001b[0;32m    691\u001b[0m         \u001b[0miloc\u001b[0m \u001b[1;33m=\u001b[0m \u001b[0mself\u001b[0m \u001b[1;32mif\u001b[0m \u001b[0mself\u001b[0m\u001b[1;33m.\u001b[0m\u001b[0mname\u001b[0m \u001b[1;33m==\u001b[0m \u001b[1;34m\"iloc\"\u001b[0m \u001b[1;32melse\u001b[0m \u001b[0mself\u001b[0m\u001b[1;33m.\u001b[0m\u001b[0mobj\u001b[0m\u001b[1;33m.\u001b[0m\u001b[0miloc\u001b[0m\u001b[1;33m\u001b[0m\u001b[1;33m\u001b[0m\u001b[0m\n\u001b[1;32m--> 692\u001b[1;33m         \u001b[0miloc\u001b[0m\u001b[1;33m.\u001b[0m\u001b[0m_setitem_with_indexer\u001b[0m\u001b[1;33m(\u001b[0m\u001b[0mindexer\u001b[0m\u001b[1;33m,\u001b[0m \u001b[0mvalue\u001b[0m\u001b[1;33m,\u001b[0m \u001b[0mself\u001b[0m\u001b[1;33m.\u001b[0m\u001b[0mname\u001b[0m\u001b[1;33m)\u001b[0m\u001b[1;33m\u001b[0m\u001b[1;33m\u001b[0m\u001b[0m\n\u001b[0m\u001b[0;32m    693\u001b[0m \u001b[1;33m\u001b[0m\u001b[0m\n\u001b[0;32m    694\u001b[0m     \u001b[1;32mdef\u001b[0m \u001b[0m_validate_key\u001b[0m\u001b[1;33m(\u001b[0m\u001b[0mself\u001b[0m\u001b[1;33m,\u001b[0m \u001b[0mkey\u001b[0m\u001b[1;33m,\u001b[0m \u001b[0maxis\u001b[0m\u001b[1;33m:\u001b[0m \u001b[0mint\u001b[0m\u001b[1;33m)\u001b[0m\u001b[1;33m:\u001b[0m\u001b[1;33m\u001b[0m\u001b[1;33m\u001b[0m\u001b[0m\n",
      "\u001b[1;32m~\\AppData\\Local\\Programs\\Python\\Python39\\lib\\site-packages\\pandas\\core\\indexing.py\u001b[0m in \u001b[0;36m_setitem_with_indexer\u001b[1;34m(self, indexer, value, name)\u001b[0m\n\u001b[0;32m   1627\u001b[0m \u001b[1;33m\u001b[0m\u001b[0m\n\u001b[0;32m   1628\u001b[0m             \u001b[1;32mif\u001b[0m \u001b[0mmissing\u001b[0m\u001b[1;33m:\u001b[0m\u001b[1;33m\u001b[0m\u001b[1;33m\u001b[0m\u001b[0m\n\u001b[1;32m-> 1629\u001b[1;33m                 \u001b[0mself\u001b[0m\u001b[1;33m.\u001b[0m\u001b[0m_setitem_with_indexer_missing\u001b[0m\u001b[1;33m(\u001b[0m\u001b[0mindexer\u001b[0m\u001b[1;33m,\u001b[0m \u001b[0mvalue\u001b[0m\u001b[1;33m)\u001b[0m\u001b[1;33m\u001b[0m\u001b[1;33m\u001b[0m\u001b[0m\n\u001b[0m\u001b[0;32m   1630\u001b[0m                 \u001b[1;32mreturn\u001b[0m\u001b[1;33m\u001b[0m\u001b[1;33m\u001b[0m\u001b[0m\n\u001b[0;32m   1631\u001b[0m \u001b[1;33m\u001b[0m\u001b[0m\n",
      "\u001b[1;32m~\\AppData\\Local\\Programs\\Python\\Python39\\lib\\site-packages\\pandas\\core\\indexing.py\u001b[0m in \u001b[0;36m_setitem_with_indexer_missing\u001b[1;34m(self, indexer, value)\u001b[0m\n\u001b[0;32m   1920\u001b[0m                 \u001b[0mvalue\u001b[0m \u001b[1;33m=\u001b[0m \u001b[0mSeries\u001b[0m\u001b[1;33m(\u001b[0m\u001b[0mvalue\u001b[0m\u001b[1;33m,\u001b[0m \u001b[0mindex\u001b[0m\u001b[1;33m=\u001b[0m\u001b[0mself\u001b[0m\u001b[1;33m.\u001b[0m\u001b[0mobj\u001b[0m\u001b[1;33m.\u001b[0m\u001b[0mcolumns\u001b[0m\u001b[1;33m,\u001b[0m \u001b[0mname\u001b[0m\u001b[1;33m=\u001b[0m\u001b[0mindexer\u001b[0m\u001b[1;33m)\u001b[0m\u001b[1;33m\u001b[0m\u001b[1;33m\u001b[0m\u001b[0m\n\u001b[0;32m   1921\u001b[0m \u001b[1;33m\u001b[0m\u001b[0m\n\u001b[1;32m-> 1922\u001b[1;33m             \u001b[0mself\u001b[0m\u001b[1;33m.\u001b[0m\u001b[0mobj\u001b[0m\u001b[1;33m.\u001b[0m\u001b[0m_mgr\u001b[0m \u001b[1;33m=\u001b[0m \u001b[0mself\u001b[0m\u001b[1;33m.\u001b[0m\u001b[0mobj\u001b[0m\u001b[1;33m.\u001b[0m\u001b[0mappend\u001b[0m\u001b[1;33m(\u001b[0m\u001b[0mvalue\u001b[0m\u001b[1;33m)\u001b[0m\u001b[1;33m.\u001b[0m\u001b[0m_mgr\u001b[0m\u001b[1;33m\u001b[0m\u001b[1;33m\u001b[0m\u001b[0m\n\u001b[0m\u001b[0;32m   1923\u001b[0m             \u001b[0mself\u001b[0m\u001b[1;33m.\u001b[0m\u001b[0mobj\u001b[0m\u001b[1;33m.\u001b[0m\u001b[0m_maybe_update_cacher\u001b[0m\u001b[1;33m(\u001b[0m\u001b[0mclear\u001b[0m\u001b[1;33m=\u001b[0m\u001b[1;32mTrue\u001b[0m\u001b[1;33m)\u001b[0m\u001b[1;33m\u001b[0m\u001b[1;33m\u001b[0m\u001b[0m\n\u001b[0;32m   1924\u001b[0m \u001b[1;33m\u001b[0m\u001b[0m\n",
      "\u001b[1;32m~\\AppData\\Local\\Programs\\Python\\Python39\\lib\\site-packages\\pandas\\core\\frame.py\u001b[0m in \u001b[0;36mappend\u001b[1;34m(self, other, ignore_index, verify_integrity, sort)\u001b[0m\n\u001b[0;32m   7977\u001b[0m             \u001b[0mto_concat\u001b[0m \u001b[1;33m=\u001b[0m \u001b[1;33m[\u001b[0m\u001b[0mself\u001b[0m\u001b[1;33m,\u001b[0m \u001b[0mother\u001b[0m\u001b[1;33m]\u001b[0m\u001b[1;33m\u001b[0m\u001b[1;33m\u001b[0m\u001b[0m\n\u001b[0;32m   7978\u001b[0m         return (\n\u001b[1;32m-> 7979\u001b[1;33m             concat(\n\u001b[0m\u001b[0;32m   7980\u001b[0m                 \u001b[0mto_concat\u001b[0m\u001b[1;33m,\u001b[0m\u001b[1;33m\u001b[0m\u001b[1;33m\u001b[0m\u001b[0m\n\u001b[0;32m   7981\u001b[0m                 \u001b[0mignore_index\u001b[0m\u001b[1;33m=\u001b[0m\u001b[0mignore_index\u001b[0m\u001b[1;33m,\u001b[0m\u001b[1;33m\u001b[0m\u001b[1;33m\u001b[0m\u001b[0m\n",
      "\u001b[1;32m~\\AppData\\Local\\Programs\\Python\\Python39\\lib\\site-packages\\pandas\\core\\reshape\\concat.py\u001b[0m in \u001b[0;36mconcat\u001b[1;34m(objs, axis, join, ignore_index, keys, levels, names, verify_integrity, sort, copy)\u001b[0m\n\u001b[0;32m    283\u001b[0m     \u001b[0mValueError\u001b[0m\u001b[1;33m:\u001b[0m \u001b[0mIndexes\u001b[0m \u001b[0mhave\u001b[0m \u001b[0moverlapping\u001b[0m \u001b[0mvalues\u001b[0m\u001b[1;33m:\u001b[0m \u001b[1;33m[\u001b[0m\u001b[1;34m'a'\u001b[0m\u001b[1;33m]\u001b[0m\u001b[1;33m\u001b[0m\u001b[1;33m\u001b[0m\u001b[0m\n\u001b[0;32m    284\u001b[0m     \"\"\"\n\u001b[1;32m--> 285\u001b[1;33m     op = _Concatenator(\n\u001b[0m\u001b[0;32m    286\u001b[0m         \u001b[0mobjs\u001b[0m\u001b[1;33m,\u001b[0m\u001b[1;33m\u001b[0m\u001b[1;33m\u001b[0m\u001b[0m\n\u001b[0;32m    287\u001b[0m         \u001b[0maxis\u001b[0m\u001b[1;33m=\u001b[0m\u001b[0maxis\u001b[0m\u001b[1;33m,\u001b[0m\u001b[1;33m\u001b[0m\u001b[1;33m\u001b[0m\u001b[0m\n",
      "\u001b[1;32m~\\AppData\\Local\\Programs\\Python\\Python39\\lib\\site-packages\\pandas\\core\\reshape\\concat.py\u001b[0m in \u001b[0;36m__init__\u001b[1;34m(self, objs, axis, join, keys, levels, names, ignore_index, verify_integrity, copy, sort)\u001b[0m\n\u001b[0;32m    371\u001b[0m \u001b[1;33m\u001b[0m\u001b[0m\n\u001b[0;32m    372\u001b[0m             \u001b[1;31m# consolidate\u001b[0m\u001b[1;33m\u001b[0m\u001b[1;33m\u001b[0m\u001b[1;33m\u001b[0m\u001b[0m\n\u001b[1;32m--> 373\u001b[1;33m             \u001b[0mobj\u001b[0m\u001b[1;33m.\u001b[0m\u001b[0m_consolidate_inplace\u001b[0m\u001b[1;33m(\u001b[0m\u001b[1;33m)\u001b[0m\u001b[1;33m\u001b[0m\u001b[1;33m\u001b[0m\u001b[0m\n\u001b[0m\u001b[0;32m    374\u001b[0m             \u001b[0mndims\u001b[0m\u001b[1;33m.\u001b[0m\u001b[0madd\u001b[0m\u001b[1;33m(\u001b[0m\u001b[0mobj\u001b[0m\u001b[1;33m.\u001b[0m\u001b[0mndim\u001b[0m\u001b[1;33m)\u001b[0m\u001b[1;33m\u001b[0m\u001b[1;33m\u001b[0m\u001b[0m\n\u001b[0;32m    375\u001b[0m \u001b[1;33m\u001b[0m\u001b[0m\n",
      "\u001b[1;32m~\\AppData\\Local\\Programs\\Python\\Python39\\lib\\site-packages\\pandas\\core\\generic.py\u001b[0m in \u001b[0;36m_consolidate_inplace\u001b[1;34m(self)\u001b[0m\n\u001b[0;32m   5536\u001b[0m             \u001b[0mself\u001b[0m\u001b[1;33m.\u001b[0m\u001b[0m_mgr\u001b[0m \u001b[1;33m=\u001b[0m \u001b[0mself\u001b[0m\u001b[1;33m.\u001b[0m\u001b[0m_mgr\u001b[0m\u001b[1;33m.\u001b[0m\u001b[0mconsolidate\u001b[0m\u001b[1;33m(\u001b[0m\u001b[1;33m)\u001b[0m\u001b[1;33m\u001b[0m\u001b[1;33m\u001b[0m\u001b[0m\n\u001b[0;32m   5537\u001b[0m \u001b[1;33m\u001b[0m\u001b[0m\n\u001b[1;32m-> 5538\u001b[1;33m         \u001b[0mself\u001b[0m\u001b[1;33m.\u001b[0m\u001b[0m_protect_consolidate\u001b[0m\u001b[1;33m(\u001b[0m\u001b[0mf\u001b[0m\u001b[1;33m)\u001b[0m\u001b[1;33m\u001b[0m\u001b[1;33m\u001b[0m\u001b[0m\n\u001b[0m\u001b[0;32m   5539\u001b[0m \u001b[1;33m\u001b[0m\u001b[0m\n\u001b[0;32m   5540\u001b[0m     \u001b[1;33m@\u001b[0m\u001b[0mfinal\u001b[0m\u001b[1;33m\u001b[0m\u001b[1;33m\u001b[0m\u001b[0m\n",
      "\u001b[1;32m~\\AppData\\Local\\Programs\\Python\\Python39\\lib\\site-packages\\pandas\\core\\generic.py\u001b[0m in \u001b[0;36m_protect_consolidate\u001b[1;34m(self, f)\u001b[0m\n\u001b[0;32m   5524\u001b[0m         \"\"\"\n\u001b[0;32m   5525\u001b[0m         \u001b[0mblocks_before\u001b[0m \u001b[1;33m=\u001b[0m \u001b[0mlen\u001b[0m\u001b[1;33m(\u001b[0m\u001b[0mself\u001b[0m\u001b[1;33m.\u001b[0m\u001b[0m_mgr\u001b[0m\u001b[1;33m.\u001b[0m\u001b[0mblocks\u001b[0m\u001b[1;33m)\u001b[0m\u001b[1;33m\u001b[0m\u001b[1;33m\u001b[0m\u001b[0m\n\u001b[1;32m-> 5526\u001b[1;33m         \u001b[0mresult\u001b[0m \u001b[1;33m=\u001b[0m \u001b[0mf\u001b[0m\u001b[1;33m(\u001b[0m\u001b[1;33m)\u001b[0m\u001b[1;33m\u001b[0m\u001b[1;33m\u001b[0m\u001b[0m\n\u001b[0m\u001b[0;32m   5527\u001b[0m         \u001b[1;32mif\u001b[0m \u001b[0mlen\u001b[0m\u001b[1;33m(\u001b[0m\u001b[0mself\u001b[0m\u001b[1;33m.\u001b[0m\u001b[0m_mgr\u001b[0m\u001b[1;33m.\u001b[0m\u001b[0mblocks\u001b[0m\u001b[1;33m)\u001b[0m \u001b[1;33m!=\u001b[0m \u001b[0mblocks_before\u001b[0m\u001b[1;33m:\u001b[0m\u001b[1;33m\u001b[0m\u001b[1;33m\u001b[0m\u001b[0m\n\u001b[0;32m   5528\u001b[0m             \u001b[0mself\u001b[0m\u001b[1;33m.\u001b[0m\u001b[0m_clear_item_cache\u001b[0m\u001b[1;33m(\u001b[0m\u001b[1;33m)\u001b[0m\u001b[1;33m\u001b[0m\u001b[1;33m\u001b[0m\u001b[0m\n",
      "\u001b[1;32m~\\AppData\\Local\\Programs\\Python\\Python39\\lib\\site-packages\\pandas\\core\\generic.py\u001b[0m in \u001b[0;36mf\u001b[1;34m()\u001b[0m\n\u001b[0;32m   5534\u001b[0m \u001b[1;33m\u001b[0m\u001b[0m\n\u001b[0;32m   5535\u001b[0m         \u001b[1;32mdef\u001b[0m \u001b[0mf\u001b[0m\u001b[1;33m(\u001b[0m\u001b[1;33m)\u001b[0m\u001b[1;33m:\u001b[0m\u001b[1;33m\u001b[0m\u001b[1;33m\u001b[0m\u001b[0m\n\u001b[1;32m-> 5536\u001b[1;33m             \u001b[0mself\u001b[0m\u001b[1;33m.\u001b[0m\u001b[0m_mgr\u001b[0m \u001b[1;33m=\u001b[0m \u001b[0mself\u001b[0m\u001b[1;33m.\u001b[0m\u001b[0m_mgr\u001b[0m\u001b[1;33m.\u001b[0m\u001b[0mconsolidate\u001b[0m\u001b[1;33m(\u001b[0m\u001b[1;33m)\u001b[0m\u001b[1;33m\u001b[0m\u001b[1;33m\u001b[0m\u001b[0m\n\u001b[0m\u001b[0;32m   5537\u001b[0m \u001b[1;33m\u001b[0m\u001b[0m\n\u001b[0;32m   5538\u001b[0m         \u001b[0mself\u001b[0m\u001b[1;33m.\u001b[0m\u001b[0m_protect_consolidate\u001b[0m\u001b[1;33m(\u001b[0m\u001b[0mf\u001b[0m\u001b[1;33m)\u001b[0m\u001b[1;33m\u001b[0m\u001b[1;33m\u001b[0m\u001b[0m\n",
      "\u001b[1;32m~\\AppData\\Local\\Programs\\Python\\Python39\\lib\\site-packages\\pandas\\core\\internals\\managers.py\u001b[0m in \u001b[0;36mconsolidate\u001b[1;34m(self)\u001b[0m\n\u001b[0;32m    986\u001b[0m         \u001b[0mbm\u001b[0m \u001b[1;33m=\u001b[0m \u001b[0mtype\u001b[0m\u001b[1;33m(\u001b[0m\u001b[0mself\u001b[0m\u001b[1;33m)\u001b[0m\u001b[1;33m(\u001b[0m\u001b[0mself\u001b[0m\u001b[1;33m.\u001b[0m\u001b[0mblocks\u001b[0m\u001b[1;33m,\u001b[0m \u001b[0mself\u001b[0m\u001b[1;33m.\u001b[0m\u001b[0maxes\u001b[0m\u001b[1;33m)\u001b[0m\u001b[1;33m\u001b[0m\u001b[1;33m\u001b[0m\u001b[0m\n\u001b[0;32m    987\u001b[0m         \u001b[0mbm\u001b[0m\u001b[1;33m.\u001b[0m\u001b[0m_is_consolidated\u001b[0m \u001b[1;33m=\u001b[0m \u001b[1;32mFalse\u001b[0m\u001b[1;33m\u001b[0m\u001b[1;33m\u001b[0m\u001b[0m\n\u001b[1;32m--> 988\u001b[1;33m         \u001b[0mbm\u001b[0m\u001b[1;33m.\u001b[0m\u001b[0m_consolidate_inplace\u001b[0m\u001b[1;33m(\u001b[0m\u001b[1;33m)\u001b[0m\u001b[1;33m\u001b[0m\u001b[1;33m\u001b[0m\u001b[0m\n\u001b[0m\u001b[0;32m    989\u001b[0m         \u001b[1;32mreturn\u001b[0m \u001b[0mbm\u001b[0m\u001b[1;33m\u001b[0m\u001b[1;33m\u001b[0m\u001b[0m\n\u001b[0;32m    990\u001b[0m \u001b[1;33m\u001b[0m\u001b[0m\n",
      "\u001b[1;32m~\\AppData\\Local\\Programs\\Python\\Python39\\lib\\site-packages\\pandas\\core\\internals\\managers.py\u001b[0m in \u001b[0;36m_consolidate_inplace\u001b[1;34m(self)\u001b[0m\n\u001b[0;32m    991\u001b[0m     \u001b[1;32mdef\u001b[0m \u001b[0m_consolidate_inplace\u001b[0m\u001b[1;33m(\u001b[0m\u001b[0mself\u001b[0m\u001b[1;33m)\u001b[0m \u001b[1;33m->\u001b[0m \u001b[1;32mNone\u001b[0m\u001b[1;33m:\u001b[0m\u001b[1;33m\u001b[0m\u001b[1;33m\u001b[0m\u001b[0m\n\u001b[0;32m    992\u001b[0m         \u001b[1;32mif\u001b[0m \u001b[1;32mnot\u001b[0m \u001b[0mself\u001b[0m\u001b[1;33m.\u001b[0m\u001b[0mis_consolidated\u001b[0m\u001b[1;33m(\u001b[0m\u001b[1;33m)\u001b[0m\u001b[1;33m:\u001b[0m\u001b[1;33m\u001b[0m\u001b[1;33m\u001b[0m\u001b[0m\n\u001b[1;32m--> 993\u001b[1;33m             \u001b[0mself\u001b[0m\u001b[1;33m.\u001b[0m\u001b[0mblocks\u001b[0m \u001b[1;33m=\u001b[0m \u001b[0mtuple\u001b[0m\u001b[1;33m(\u001b[0m\u001b[0m_consolidate\u001b[0m\u001b[1;33m(\u001b[0m\u001b[0mself\u001b[0m\u001b[1;33m.\u001b[0m\u001b[0mblocks\u001b[0m\u001b[1;33m)\u001b[0m\u001b[1;33m)\u001b[0m\u001b[1;33m\u001b[0m\u001b[1;33m\u001b[0m\u001b[0m\n\u001b[0m\u001b[0;32m    994\u001b[0m             \u001b[0mself\u001b[0m\u001b[1;33m.\u001b[0m\u001b[0m_is_consolidated\u001b[0m \u001b[1;33m=\u001b[0m \u001b[1;32mTrue\u001b[0m\u001b[1;33m\u001b[0m\u001b[1;33m\u001b[0m\u001b[0m\n\u001b[0;32m    995\u001b[0m             \u001b[0mself\u001b[0m\u001b[1;33m.\u001b[0m\u001b[0m_known_consolidated\u001b[0m \u001b[1;33m=\u001b[0m \u001b[1;32mTrue\u001b[0m\u001b[1;33m\u001b[0m\u001b[1;33m\u001b[0m\u001b[0m\n",
      "\u001b[1;32m~\\AppData\\Local\\Programs\\Python\\Python39\\lib\\site-packages\\pandas\\core\\internals\\managers.py\u001b[0m in \u001b[0;36m_consolidate\u001b[1;34m(blocks)\u001b[0m\n\u001b[0;32m   1914\u001b[0m     \u001b[0mnew_blocks\u001b[0m\u001b[1;33m:\u001b[0m \u001b[0mList\u001b[0m\u001b[1;33m[\u001b[0m\u001b[0mBlock\u001b[0m\u001b[1;33m]\u001b[0m \u001b[1;33m=\u001b[0m \u001b[1;33m[\u001b[0m\u001b[1;33m]\u001b[0m\u001b[1;33m\u001b[0m\u001b[1;33m\u001b[0m\u001b[0m\n\u001b[0;32m   1915\u001b[0m     \u001b[1;32mfor\u001b[0m \u001b[1;33m(\u001b[0m\u001b[0m_can_consolidate\u001b[0m\u001b[1;33m,\u001b[0m \u001b[0mdtype\u001b[0m\u001b[1;33m)\u001b[0m\u001b[1;33m,\u001b[0m \u001b[0mgroup_blocks\u001b[0m \u001b[1;32min\u001b[0m \u001b[0mgrouper\u001b[0m\u001b[1;33m:\u001b[0m\u001b[1;33m\u001b[0m\u001b[1;33m\u001b[0m\u001b[0m\n\u001b[1;32m-> 1916\u001b[1;33m         merged_blocks = _merge_blocks(\n\u001b[0m\u001b[0;32m   1917\u001b[0m             \u001b[0mlist\u001b[0m\u001b[1;33m(\u001b[0m\u001b[0mgroup_blocks\u001b[0m\u001b[1;33m)\u001b[0m\u001b[1;33m,\u001b[0m \u001b[0mdtype\u001b[0m\u001b[1;33m=\u001b[0m\u001b[0mdtype\u001b[0m\u001b[1;33m,\u001b[0m \u001b[0mcan_consolidate\u001b[0m\u001b[1;33m=\u001b[0m\u001b[0m_can_consolidate\u001b[0m\u001b[1;33m\u001b[0m\u001b[1;33m\u001b[0m\u001b[0m\n\u001b[0;32m   1918\u001b[0m         )\n",
      "\u001b[1;32m~\\AppData\\Local\\Programs\\Python\\Python39\\lib\\site-packages\\pandas\\core\\internals\\managers.py\u001b[0m in \u001b[0;36m_merge_blocks\u001b[1;34m(blocks, dtype, can_consolidate)\u001b[0m\n\u001b[0;32m   1936\u001b[0m         \u001b[1;31m# TODO: optimization potential in case all mgrs contain slices and\u001b[0m\u001b[1;33m\u001b[0m\u001b[1;33m\u001b[0m\u001b[1;33m\u001b[0m\u001b[0m\n\u001b[0;32m   1937\u001b[0m         \u001b[1;31m# combination of those slices is a slice, too.\u001b[0m\u001b[1;33m\u001b[0m\u001b[1;33m\u001b[0m\u001b[1;33m\u001b[0m\u001b[0m\n\u001b[1;32m-> 1938\u001b[1;33m         \u001b[0mnew_mgr_locs\u001b[0m \u001b[1;33m=\u001b[0m \u001b[0mnp\u001b[0m\u001b[1;33m.\u001b[0m\u001b[0mconcatenate\u001b[0m\u001b[1;33m(\u001b[0m\u001b[1;33m[\u001b[0m\u001b[0mb\u001b[0m\u001b[1;33m.\u001b[0m\u001b[0mmgr_locs\u001b[0m\u001b[1;33m.\u001b[0m\u001b[0mas_array\u001b[0m \u001b[1;32mfor\u001b[0m \u001b[0mb\u001b[0m \u001b[1;32min\u001b[0m \u001b[0mblocks\u001b[0m\u001b[1;33m]\u001b[0m\u001b[1;33m)\u001b[0m\u001b[1;33m\u001b[0m\u001b[1;33m\u001b[0m\u001b[0m\n\u001b[0m\u001b[0;32m   1939\u001b[0m         \u001b[0mnew_values\u001b[0m \u001b[1;33m=\u001b[0m \u001b[0mnp\u001b[0m\u001b[1;33m.\u001b[0m\u001b[0mvstack\u001b[0m\u001b[1;33m(\u001b[0m\u001b[1;33m[\u001b[0m\u001b[0mb\u001b[0m\u001b[1;33m.\u001b[0m\u001b[0mvalues\u001b[0m \u001b[1;32mfor\u001b[0m \u001b[0mb\u001b[0m \u001b[1;32min\u001b[0m \u001b[0mblocks\u001b[0m\u001b[1;33m]\u001b[0m\u001b[1;33m)\u001b[0m\u001b[1;33m\u001b[0m\u001b[1;33m\u001b[0m\u001b[0m\n\u001b[0;32m   1940\u001b[0m \u001b[1;33m\u001b[0m\u001b[0m\n",
      "\u001b[1;32m<__array_function__ internals>\u001b[0m in \u001b[0;36mconcatenate\u001b[1;34m(*args, **kwargs)\u001b[0m\n",
      "\u001b[1;31mKeyboardInterrupt\u001b[0m: "
     ]
    }
   ],
   "source": [
    "#4 months \n",
    "start_date = datetime(2020, 9, 1).date()\n",
    "end_date = datetime(2020, 12, 31).date()\n",
    "\n",
    "#sort by reported_date\n",
    "patients_data = patients_data.sort_values('reported_date')\n",
    "patients_data.head()\n",
    "\n",
    "regions = [\"durham\", \"halton\", \"peel\", \"york\", \"toronto\", \"ottawa\"]#list of regions\n",
    "\n",
    "for idx, row in patients_data.iterrows():\n",
    "    #map by reported_date\n",
    "    onset_date = row['onset_date']\n",
    "    reported_date = row['reported_date']\n",
    "    test_date = row['test_date']\n",
    "    specimen_date = row['specimen_date']\n",
    "    phu = row[\"reporting_phu\"]\n",
    "    \n",
    "    #link dates key\n",
    "    #onset_date key\n",
    "    onset_key = dates_dimension[dates_dimension['date']==onset_date]['test_date_key'].values[0]\n",
    "\n",
    "    #reported date key\n",
    "    reported_key = dates_dimension[dates_dimension['date']== reported_date]['test_date_key'].values[0]\n",
    "\n",
    "    #test date\n",
    "    test_key = dates_dimension[dates_dimension['date']==test_date]['test_date_key'].values[0]\n",
    "\n",
    "    #specimen date\n",
    "    specimen_key = dates_dimension[dates_dimension['date']==specimen_date]['test_date_key'].values[0]\n",
    "\n",
    "    #link phu\n",
    "    phu_key = phu_dimension[phu_dimension[\"phu_name\"] == phu][\"phu_location_key\"].values[0]\n",
    "\n",
    "    #link regions\n",
    "    for city in regions:\n",
    "        if(city in phu.lower()):\n",
    "            break#return x\n",
    "\n",
    "    #link weather\n",
    "    if(city == 'ottawa'):#Ottawa case\n",
    "        weather_key = weather_dimension[(weather_dimension['station_name'] == 'OTTAWA') & (weather_dimension['date_col'] == reported_date)]['weather_surrogate_key'].values[0] \n",
    "    else:#GTA case\n",
    "        weather_key = weather_dimension[(weather_dimension['station_name'] == 'TORONTO') & (weather_dimension['date_col'] == reported_date)]['weather_surrogate_key'].values[0] \n",
    "\n",
    "\n",
    "    #link mobility\n",
    "    mobility_key = mobility_dimension[(mobility_dimension['date_col'] == reported_date) & ( mobility_dimension['subregion'].str.contains(city, case=False))]['mobility_surrogate_key'].values[0] \n",
    "\n",
    "\n",
    "    #link measures\n",
    "    measures_key = special_measures_dimension[((special_measures_dimension['start_date'] <= reported_date) & (special_measures_dimension['end_date'] >= reported_date)) & (special_measures_dimension['region'] == city) ]['special_measures_surrogate_key'].values[0]\n",
    "\n",
    "\n",
    "    #add data to row\n",
    "    fact_row = []#surrogate key\n",
    "    fact_row.append(onset_key)#date\n",
    "    fact_row.append(reported_key)#date \n",
    "    fact_row.append(test_key)#date \n",
    "    fact_row.append(specimen_key)#date \n",
    "\n",
    "    fact_row.append(weather_key)#weather\n",
    "    fact_row.append(row['patient_key'])#patient_surrogate \n",
    "    fact_row.append(phu_key)#(phu_row[\"phu_location_key\"])#phu TODO\n",
    "    fact_row.append(mobility_key)#mobility\n",
    "    fact_row.append(measures_key)#measures\n",
    "\n",
    "    #add measures attributes\n",
    "    if(row[\"outcome\"].lower() == \"fatal\"):\n",
    "        fact_row.append(True)#is_fatal\n",
    "        fact_row.append(False)#is_unresolved\n",
    "        fact_row.append(True)#is_resolved\n",
    "    elif(row[\"outcome\"].lower() == \"not resolved\"):\n",
    "        fact_row.append(False)#is_fatal\n",
    "        fact_row.append(True)#is_unresolved\n",
    "        fact_row.append(False)#is_resolved\n",
    "    elif(row[\"outcome\"].lower() == \"resolved\"):\n",
    "        fact_row.append(False)#is_fatal\n",
    "        fact_row.append(False)#is_unresolved\n",
    "        fact_row.append(True)#is_resolved\n",
    "\n",
    "    #add row    \n",
    "    fact_table_final.loc[len(fact_table_final)] = fact_row\n"
   ]
  },
  {
   "cell_type": "code",
   "execution_count": 6,
   "metadata": {},
   "outputs": [
    {
     "output_type": "execute_result",
     "data": {
      "text/plain": [
       "Empty DataFrame\n",
       "Columns: [onset_date_surrogate, reported_date_surrogate, test_date_surrogate, specimen_date_surrogate, weather_surrogate, patient_surrogate, phu_location_surrogate, mobility_surrogate, special_measures_surrogate, is_fatal, is_unresolved, is_resolved]\n",
       "Index: []"
      ],
      "text/html": "<div>\n<style scoped>\n    .dataframe tbody tr th:only-of-type {\n        vertical-align: middle;\n    }\n\n    .dataframe tbody tr th {\n        vertical-align: top;\n    }\n\n    .dataframe thead th {\n        text-align: right;\n    }\n</style>\n<table border=\"1\" class=\"dataframe\">\n  <thead>\n    <tr style=\"text-align: right;\">\n      <th></th>\n      <th>onset_date_surrogate</th>\n      <th>reported_date_surrogate</th>\n      <th>test_date_surrogate</th>\n      <th>specimen_date_surrogate</th>\n      <th>weather_surrogate</th>\n      <th>patient_surrogate</th>\n      <th>phu_location_surrogate</th>\n      <th>mobility_surrogate</th>\n      <th>special_measures_surrogate</th>\n      <th>is_fatal</th>\n      <th>is_unresolved</th>\n      <th>is_resolved</th>\n    </tr>\n  </thead>\n  <tbody>\n  </tbody>\n</table>\n</div>"
     },
     "metadata": {},
     "execution_count": 6
    }
   ],
   "source": [
    "fact_table_final"
   ]
  },
  {
   "cell_type": "code",
   "execution_count": 27,
   "metadata": {},
   "outputs": [],
   "source": [
    "fact_table_final.fillna(0, inplace = True)\n",
    "\n",
    "fact_table_final.to_csv(\"fact_table_final.csv\",index=False)"
   ]
  }
 ]
}