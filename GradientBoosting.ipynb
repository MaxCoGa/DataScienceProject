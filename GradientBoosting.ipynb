{
 "cells": [
  {
   "cell_type": "code",
   "execution_count": 1,
   "metadata": {},
   "outputs": [],
   "source": [
    "from configparser import ConfigParser\n",
    "import psycopg2\n",
    "import numpy as np\n",
    "import pandas as pd"
   ]
  },
  {
   "cell_type": "code",
   "execution_count": 2,
   "metadata": {},
   "outputs": [],
   "source": [
    "#Sourced from https://www.postgresqltutorial.com/postgresql-python/connect/\n",
    "def config(filename='psql_sample.ini', section='postgresql'):\n",
    "    parser = ConfigParser()\n",
    "    # read config file\n",
    "    parser.read(filename) \n",
    " \n",
    "    # get section, default to postgresql\n",
    "    db = {}\n",
    "    if parser.has_section(section):\n",
    "        params = parser.items(section)\n",
    "        for param in params:\n",
    "            db[param[0]] = param[1]\n",
    "    else:\n",
    "        raise Exception('Section {0} not found in the {1} file'.format(section, filename))\n",
    " \n",
    "    return db\n",
    "#Get the configuration file as a python dictionary\n",
    "cfg = config()\n",
    "try:\n",
    "    conn = psycopg2.connect(**cfg)\n",
    "    cursor = conn.cursor()\n",
    "    \n",
    "except (Exception, psycopg2.DatabaseError) as error:\n",
    "    print(error)"
   ]
  },
  {
   "cell_type": "code",
   "execution_count": 3,
   "metadata": {},
   "outputs": [],
   "source": [
    "# is_fatal \n",
    "cursor.execute(\"SELECT status, retail_and_recreation_percentage,\\\n",
    "                   grocery_and_pharmacy_percentage, parks_percentage, transit_stations_percentage,\\\n",
    "                   workplaces_percentage, age_group, gender, phu_name, holiday, \\\n",
    "                   is_fatal from data_mart.fact_table as fact inner join data_mart.special_measures_dimension\\\n",
    "                   as measure on fact.special_measures_key = measure.special_measures_key \\\n",
    "                   inner join data_mart.patient_dimension as patient\\\n",
    "                   on fact.patient_key = patient.patient_key inner join data_mart.mobility_dimension as mobile\\\n",
    "                   on fact.mobility_key = mobile.mobility_key\\\n",
    "                   inner join data_mart.phu_location_dimension as phu\\\n",
    "                   on fact.phu_location_key = phu.phu_location_key\\\n",
    "                   inner join data_mart.test_date_dimension as test_date\\\n",
    "                   on fact.test_date_key = test_date.test_date_key;\"\n",
    "                  )\n",
    "\n",
    "#Get the complete result set. It will be a list of tuples where each tuple is a row from the result set\n",
    "result_list = cursor.fetchall()"
   ]
  },
  {
   "cell_type": "code",
   "execution_count": 4,
   "metadata": {},
   "outputs": [],
   "source": [
    "result_df = pd.DataFrame(result_list, columns=[\"status\",\"retail_rec\", \"grocery_pharm\", \n",
    "                                               \"parks\", \"transit\",\"workplaces\",\"age_group\",\n",
    "                                               \"gender\",\"phu_name\",\"holiday\",\"is_fatal\"])\n",
    "\n"
   ]
  },
  {
   "cell_type": "code",
   "execution_count": 5,
   "metadata": {},
   "outputs": [
    {
     "data": {
      "text/html": [
       "<div>\n",
       "<style scoped>\n",
       "    .dataframe tbody tr th:only-of-type {\n",
       "        vertical-align: middle;\n",
       "    }\n",
       "\n",
       "    .dataframe tbody tr th {\n",
       "        vertical-align: top;\n",
       "    }\n",
       "\n",
       "    .dataframe thead th {\n",
       "        text-align: right;\n",
       "    }\n",
       "</style>\n",
       "<table border=\"1\" class=\"dataframe\">\n",
       "  <thead>\n",
       "    <tr style=\"text-align: right;\">\n",
       "      <th></th>\n",
       "      <th>status</th>\n",
       "      <th>retail_rec</th>\n",
       "      <th>grocery_pharm</th>\n",
       "      <th>parks</th>\n",
       "      <th>transit</th>\n",
       "      <th>workplaces</th>\n",
       "      <th>age_group</th>\n",
       "      <th>gender</th>\n",
       "      <th>phu_name</th>\n",
       "      <th>holiday</th>\n",
       "      <th>is_fatal</th>\n",
       "    </tr>\n",
       "  </thead>\n",
       "  <tbody>\n",
       "    <tr>\n",
       "      <th>0</th>\n",
       "      <td>Private gathering restrictions</td>\n",
       "      <td>-15.0</td>\n",
       "      <td>-1.0</td>\n",
       "      <td>71.0</td>\n",
       "      <td>-57.0</td>\n",
       "      <td>-44.0</td>\n",
       "      <td>40s</td>\n",
       "      <td>MALE</td>\n",
       "      <td>Peel Public Health</td>\n",
       "      <td>False</td>\n",
       "      <td>False</td>\n",
       "    </tr>\n",
       "    <tr>\n",
       "      <th>1</th>\n",
       "      <td>Private gathering restrictions</td>\n",
       "      <td>-15.0</td>\n",
       "      <td>-1.0</td>\n",
       "      <td>71.0</td>\n",
       "      <td>-57.0</td>\n",
       "      <td>-44.0</td>\n",
       "      <td>50s</td>\n",
       "      <td>MALE</td>\n",
       "      <td>Peel Public Health</td>\n",
       "      <td>False</td>\n",
       "      <td>False</td>\n",
       "    </tr>\n",
       "    <tr>\n",
       "      <th>2</th>\n",
       "      <td>Private gathering restrictions</td>\n",
       "      <td>-15.0</td>\n",
       "      <td>-1.0</td>\n",
       "      <td>71.0</td>\n",
       "      <td>-57.0</td>\n",
       "      <td>-44.0</td>\n",
       "      <td>&lt;20</td>\n",
       "      <td>MALE</td>\n",
       "      <td>Peel Public Health</td>\n",
       "      <td>False</td>\n",
       "      <td>False</td>\n",
       "    </tr>\n",
       "    <tr>\n",
       "      <th>3</th>\n",
       "      <td>Private gathering restrictions</td>\n",
       "      <td>-15.0</td>\n",
       "      <td>-1.0</td>\n",
       "      <td>71.0</td>\n",
       "      <td>-57.0</td>\n",
       "      <td>-44.0</td>\n",
       "      <td>30s</td>\n",
       "      <td>MALE</td>\n",
       "      <td>Peel Public Health</td>\n",
       "      <td>False</td>\n",
       "      <td>False</td>\n",
       "    </tr>\n",
       "    <tr>\n",
       "      <th>4</th>\n",
       "      <td>Private gathering restrictions</td>\n",
       "      <td>-11.0</td>\n",
       "      <td>4.0</td>\n",
       "      <td>NaN</td>\n",
       "      <td>-52.0</td>\n",
       "      <td>-50.0</td>\n",
       "      <td>20s</td>\n",
       "      <td>MALE</td>\n",
       "      <td>York Region Public Health Services</td>\n",
       "      <td>False</td>\n",
       "      <td>False</td>\n",
       "    </tr>\n",
       "  </tbody>\n",
       "</table>\n",
       "</div>"
      ],
      "text/plain": [
       "                           status  retail_rec  grocery_pharm  parks  transit  \\\n",
       "0  Private gathering restrictions       -15.0           -1.0   71.0    -57.0   \n",
       "1  Private gathering restrictions       -15.0           -1.0   71.0    -57.0   \n",
       "2  Private gathering restrictions       -15.0           -1.0   71.0    -57.0   \n",
       "3  Private gathering restrictions       -15.0           -1.0   71.0    -57.0   \n",
       "4  Private gathering restrictions       -11.0            4.0    NaN    -52.0   \n",
       "\n",
       "   workplaces age_group gender                            phu_name  holiday  \\\n",
       "0       -44.0       40s   MALE                  Peel Public Health    False   \n",
       "1       -44.0       50s   MALE                  Peel Public Health    False   \n",
       "2       -44.0       <20   MALE                  Peel Public Health    False   \n",
       "3       -44.0       30s   MALE                  Peel Public Health    False   \n",
       "4       -50.0       20s   MALE  York Region Public Health Services    False   \n",
       "\n",
       "   is_fatal  \n",
       "0     False  \n",
       "1     False  \n",
       "2     False  \n",
       "3     False  \n",
       "4     False  "
      ]
     },
     "execution_count": 5,
     "metadata": {},
     "output_type": "execute_result"
    }
   ],
   "source": [
    "result_df.head()"
   ]
  },
  {
   "cell_type": "code",
   "execution_count": 6,
   "metadata": {},
   "outputs": [],
   "source": [
    "cursor.close()\n",
    "conn.close()"
   ]
  },
  {
   "cell_type": "code",
   "execution_count": 7,
   "metadata": {},
   "outputs": [
    {
     "data": {
      "text/plain": [
       "0"
      ]
     },
     "execution_count": 7,
     "metadata": {},
     "output_type": "execute_result"
    }
   ],
   "source": [
    "#Remove null values - first check which columns have null values\n",
    "result_df['status'].isna().sum() "
   ]
  },
  {
   "cell_type": "code",
   "execution_count": 8,
   "metadata": {},
   "outputs": [
    {
     "data": {
      "text/plain": [
       "0"
      ]
     },
     "execution_count": 8,
     "metadata": {},
     "output_type": "execute_result"
    }
   ],
   "source": [
    "result_df['retail_rec'].isna().sum() \n",
    "\n"
   ]
  },
  {
   "cell_type": "code",
   "execution_count": 9,
   "metadata": {},
   "outputs": [
    {
     "data": {
      "text/plain": [
       "0"
      ]
     },
     "execution_count": 9,
     "metadata": {},
     "output_type": "execute_result"
    }
   ],
   "source": [
    "result_df['grocery_pharm'].isna().sum() \n"
   ]
  },
  {
   "cell_type": "code",
   "execution_count": 10,
   "metadata": {},
   "outputs": [
    {
     "data": {
      "text/plain": [
       "186"
      ]
     },
     "execution_count": 10,
     "metadata": {},
     "output_type": "execute_result"
    }
   ],
   "source": [
    "result_df['parks'].isna().sum() \n"
   ]
  },
  {
   "cell_type": "code",
   "execution_count": 11,
   "metadata": {},
   "outputs": [],
   "source": [
    "# Replace null values with mean - may introduce bias\n",
    "result_df['parks'].fillna(result_df['parks'].mean(), inplace=True)"
   ]
  },
  {
   "cell_type": "code",
   "execution_count": 12,
   "metadata": {},
   "outputs": [
    {
     "data": {
      "text/plain": [
       "0"
      ]
     },
     "execution_count": 12,
     "metadata": {},
     "output_type": "execute_result"
    }
   ],
   "source": [
    "result_df['parks'].isna().sum() \n"
   ]
  },
  {
   "cell_type": "code",
   "execution_count": 13,
   "metadata": {},
   "outputs": [
    {
     "data": {
      "text/plain": [
       "5"
      ]
     },
     "execution_count": 13,
     "metadata": {},
     "output_type": "execute_result"
    }
   ],
   "source": [
    "\n",
    "result_df['transit'].isna().sum() "
   ]
  },
  {
   "cell_type": "code",
   "execution_count": 14,
   "metadata": {},
   "outputs": [],
   "source": [
    "result_df['transit'].fillna(result_df['transit'].mean(), inplace=True)"
   ]
  },
  {
   "cell_type": "code",
   "execution_count": 15,
   "metadata": {},
   "outputs": [
    {
     "data": {
      "text/plain": [
       "0"
      ]
     },
     "execution_count": 15,
     "metadata": {},
     "output_type": "execute_result"
    }
   ],
   "source": [
    "result_df['workplaces'].isna().sum() \n"
   ]
  },
  {
   "cell_type": "code",
   "execution_count": 16,
   "metadata": {},
   "outputs": [
    {
     "data": {
      "text/plain": [
       "0"
      ]
     },
     "execution_count": 16,
     "metadata": {},
     "output_type": "execute_result"
    }
   ],
   "source": [
    "result_df['age_group'].isna().sum() \n"
   ]
  },
  {
   "cell_type": "code",
   "execution_count": 17,
   "metadata": {},
   "outputs": [
    {
     "data": {
      "text/plain": [
       "0"
      ]
     },
     "execution_count": 17,
     "metadata": {},
     "output_type": "execute_result"
    }
   ],
   "source": [
    "result_df['gender'].isna().sum() \n"
   ]
  },
  {
   "cell_type": "code",
   "execution_count": 18,
   "metadata": {},
   "outputs": [
    {
     "data": {
      "text/plain": [
       "0"
      ]
     },
     "execution_count": 18,
     "metadata": {},
     "output_type": "execute_result"
    }
   ],
   "source": [
    "result_df['phu_name'].isna().sum() \n"
   ]
  },
  {
   "cell_type": "code",
   "execution_count": 19,
   "metadata": {},
   "outputs": [
    {
     "data": {
      "text/plain": [
       "0"
      ]
     },
     "execution_count": 19,
     "metadata": {},
     "output_type": "execute_result"
    }
   ],
   "source": [
    "result_df['holiday'].isna().sum() \n"
   ]
  },
  {
   "cell_type": "code",
   "execution_count": 20,
   "metadata": {},
   "outputs": [
    {
     "data": {
      "text/plain": [
       "0"
      ]
     },
     "execution_count": 20,
     "metadata": {},
     "output_type": "execute_result"
    }
   ],
   "source": [
    "result_df['is_fatal'].isna().sum() "
   ]
  },
  {
   "cell_type": "code",
   "execution_count": 21,
   "metadata": {},
   "outputs": [],
   "source": [
    "# Normalization \n",
    "normalized_data = result_df[[\"retail_rec\", \"grocery_pharm\",\"parks\", \"transit\",\"workplaces\"]]\n",
    "from sklearn import preprocessing\n"
   ]
  },
  {
   "cell_type": "code",
   "execution_count": 22,
   "metadata": {},
   "outputs": [],
   "source": [
    "X_normalized = preprocessing.normalize(normalized_data, norm='l2')"
   ]
  },
  {
   "cell_type": "code",
   "execution_count": 23,
   "metadata": {},
   "outputs": [
    {
     "data": {
      "text/html": [
       "<div>\n",
       "<style scoped>\n",
       "    .dataframe tbody tr th:only-of-type {\n",
       "        vertical-align: middle;\n",
       "    }\n",
       "\n",
       "    .dataframe tbody tr th {\n",
       "        vertical-align: top;\n",
       "    }\n",
       "\n",
       "    .dataframe thead th {\n",
       "        text-align: right;\n",
       "    }\n",
       "</style>\n",
       "<table border=\"1\" class=\"dataframe\">\n",
       "  <thead>\n",
       "    <tr style=\"text-align: right;\">\n",
       "      <th></th>\n",
       "      <th>retail_rec</th>\n",
       "      <th>grocery_pharm</th>\n",
       "      <th>parks</th>\n",
       "      <th>transit</th>\n",
       "      <th>workplaces</th>\n",
       "    </tr>\n",
       "  </thead>\n",
       "  <tbody>\n",
       "    <tr>\n",
       "      <th>0</th>\n",
       "      <td>-0.146721</td>\n",
       "      <td>-0.009781</td>\n",
       "      <td>0.694478</td>\n",
       "      <td>-0.557539</td>\n",
       "      <td>-0.430381</td>\n",
       "    </tr>\n",
       "    <tr>\n",
       "      <th>1</th>\n",
       "      <td>-0.146721</td>\n",
       "      <td>-0.009781</td>\n",
       "      <td>0.694478</td>\n",
       "      <td>-0.557539</td>\n",
       "      <td>-0.430381</td>\n",
       "    </tr>\n",
       "    <tr>\n",
       "      <th>2</th>\n",
       "      <td>-0.146721</td>\n",
       "      <td>-0.009781</td>\n",
       "      <td>0.694478</td>\n",
       "      <td>-0.557539</td>\n",
       "      <td>-0.430381</td>\n",
       "    </tr>\n",
       "    <tr>\n",
       "      <th>3</th>\n",
       "      <td>-0.146721</td>\n",
       "      <td>-0.009781</td>\n",
       "      <td>0.694478</td>\n",
       "      <td>-0.557539</td>\n",
       "      <td>-0.430381</td>\n",
       "    </tr>\n",
       "    <tr>\n",
       "      <th>4</th>\n",
       "      <td>-0.146629</td>\n",
       "      <td>0.053320</td>\n",
       "      <td>0.225781</td>\n",
       "      <td>-0.693155</td>\n",
       "      <td>-0.666495</td>\n",
       "    </tr>\n",
       "  </tbody>\n",
       "</table>\n",
       "</div>"
      ],
      "text/plain": [
       "   retail_rec  grocery_pharm     parks   transit  workplaces\n",
       "0   -0.146721      -0.009781  0.694478 -0.557539   -0.430381\n",
       "1   -0.146721      -0.009781  0.694478 -0.557539   -0.430381\n",
       "2   -0.146721      -0.009781  0.694478 -0.557539   -0.430381\n",
       "3   -0.146721      -0.009781  0.694478 -0.557539   -0.430381\n",
       "4   -0.146629       0.053320  0.225781 -0.693155   -0.666495"
      ]
     },
     "execution_count": 23,
     "metadata": {},
     "output_type": "execute_result"
    }
   ],
   "source": [
    "normalized_part = pd.DataFrame(X_normalized, columns=normalized_data.columns)\n",
    "normalized_part.head()"
   ]
  },
  {
   "cell_type": "code",
   "execution_count": 24,
   "metadata": {},
   "outputs": [
    {
     "data": {
      "text/html": [
       "<div>\n",
       "<style scoped>\n",
       "    .dataframe tbody tr th:only-of-type {\n",
       "        vertical-align: middle;\n",
       "    }\n",
       "\n",
       "    .dataframe tbody tr th {\n",
       "        vertical-align: top;\n",
       "    }\n",
       "\n",
       "    .dataframe thead th {\n",
       "        text-align: right;\n",
       "    }\n",
       "</style>\n",
       "<table border=\"1\" class=\"dataframe\">\n",
       "  <thead>\n",
       "    <tr style=\"text-align: right;\">\n",
       "      <th></th>\n",
       "      <th>status</th>\n",
       "      <th>age_group</th>\n",
       "      <th>gender</th>\n",
       "      <th>phu_name</th>\n",
       "      <th>holiday</th>\n",
       "      <th>is_fatal</th>\n",
       "    </tr>\n",
       "  </thead>\n",
       "  <tbody>\n",
       "    <tr>\n",
       "      <th>0</th>\n",
       "      <td>Private gathering restrictions</td>\n",
       "      <td>40s</td>\n",
       "      <td>MALE</td>\n",
       "      <td>Peel Public Health</td>\n",
       "      <td>False</td>\n",
       "      <td>False</td>\n",
       "    </tr>\n",
       "    <tr>\n",
       "      <th>1</th>\n",
       "      <td>Private gathering restrictions</td>\n",
       "      <td>50s</td>\n",
       "      <td>MALE</td>\n",
       "      <td>Peel Public Health</td>\n",
       "      <td>False</td>\n",
       "      <td>False</td>\n",
       "    </tr>\n",
       "    <tr>\n",
       "      <th>2</th>\n",
       "      <td>Private gathering restrictions</td>\n",
       "      <td>&lt;20</td>\n",
       "      <td>MALE</td>\n",
       "      <td>Peel Public Health</td>\n",
       "      <td>False</td>\n",
       "      <td>False</td>\n",
       "    </tr>\n",
       "    <tr>\n",
       "      <th>3</th>\n",
       "      <td>Private gathering restrictions</td>\n",
       "      <td>30s</td>\n",
       "      <td>MALE</td>\n",
       "      <td>Peel Public Health</td>\n",
       "      <td>False</td>\n",
       "      <td>False</td>\n",
       "    </tr>\n",
       "    <tr>\n",
       "      <th>4</th>\n",
       "      <td>Private gathering restrictions</td>\n",
       "      <td>20s</td>\n",
       "      <td>MALE</td>\n",
       "      <td>York Region Public Health Services</td>\n",
       "      <td>False</td>\n",
       "      <td>False</td>\n",
       "    </tr>\n",
       "  </tbody>\n",
       "</table>\n",
       "</div>"
      ],
      "text/plain": [
       "                           status age_group gender  \\\n",
       "0  Private gathering restrictions       40s   MALE   \n",
       "1  Private gathering restrictions       50s   MALE   \n",
       "2  Private gathering restrictions       <20   MALE   \n",
       "3  Private gathering restrictions       30s   MALE   \n",
       "4  Private gathering restrictions       20s   MALE   \n",
       "\n",
       "                             phu_name  holiday  is_fatal  \n",
       "0                  Peel Public Health    False     False  \n",
       "1                  Peel Public Health    False     False  \n",
       "2                  Peel Public Health    False     False  \n",
       "3                  Peel Public Health    False     False  \n",
       "4  York Region Public Health Services    False     False  "
      ]
     },
     "execution_count": 24,
     "metadata": {},
     "output_type": "execute_result"
    }
   ],
   "source": [
    "non_numerical = result_df[[\"status\",\"age_group\",\"gender\",\"phu_name\",\"holiday\",\"is_fatal\"]]\n",
    "non_numerical.head()"
   ]
  },
  {
   "cell_type": "code",
   "execution_count": 25,
   "metadata": {},
   "outputs": [
    {
     "data": {
      "text/html": [
       "<div>\n",
       "<style scoped>\n",
       "    .dataframe tbody tr th:only-of-type {\n",
       "        vertical-align: middle;\n",
       "    }\n",
       "\n",
       "    .dataframe tbody tr th {\n",
       "        vertical-align: top;\n",
       "    }\n",
       "\n",
       "    .dataframe thead th {\n",
       "        text-align: right;\n",
       "    }\n",
       "</style>\n",
       "<table border=\"1\" class=\"dataframe\">\n",
       "  <thead>\n",
       "    <tr style=\"text-align: right;\">\n",
       "      <th></th>\n",
       "      <th>status</th>\n",
       "      <th>age_group</th>\n",
       "      <th>gender</th>\n",
       "      <th>phu_name</th>\n",
       "      <th>holiday</th>\n",
       "      <th>is_fatal</th>\n",
       "      <th>retail_rec</th>\n",
       "      <th>grocery_pharm</th>\n",
       "      <th>parks</th>\n",
       "      <th>transit</th>\n",
       "      <th>workplaces</th>\n",
       "    </tr>\n",
       "  </thead>\n",
       "  <tbody>\n",
       "    <tr>\n",
       "      <th>0</th>\n",
       "      <td>Private gathering restrictions</td>\n",
       "      <td>40s</td>\n",
       "      <td>MALE</td>\n",
       "      <td>Peel Public Health</td>\n",
       "      <td>False</td>\n",
       "      <td>False</td>\n",
       "      <td>-0.146721</td>\n",
       "      <td>-0.009781</td>\n",
       "      <td>0.694478</td>\n",
       "      <td>-0.557539</td>\n",
       "      <td>-0.430381</td>\n",
       "    </tr>\n",
       "    <tr>\n",
       "      <th>1</th>\n",
       "      <td>Private gathering restrictions</td>\n",
       "      <td>50s</td>\n",
       "      <td>MALE</td>\n",
       "      <td>Peel Public Health</td>\n",
       "      <td>False</td>\n",
       "      <td>False</td>\n",
       "      <td>-0.146721</td>\n",
       "      <td>-0.009781</td>\n",
       "      <td>0.694478</td>\n",
       "      <td>-0.557539</td>\n",
       "      <td>-0.430381</td>\n",
       "    </tr>\n",
       "    <tr>\n",
       "      <th>2</th>\n",
       "      <td>Private gathering restrictions</td>\n",
       "      <td>&lt;20</td>\n",
       "      <td>MALE</td>\n",
       "      <td>Peel Public Health</td>\n",
       "      <td>False</td>\n",
       "      <td>False</td>\n",
       "      <td>-0.146721</td>\n",
       "      <td>-0.009781</td>\n",
       "      <td>0.694478</td>\n",
       "      <td>-0.557539</td>\n",
       "      <td>-0.430381</td>\n",
       "    </tr>\n",
       "    <tr>\n",
       "      <th>3</th>\n",
       "      <td>Private gathering restrictions</td>\n",
       "      <td>30s</td>\n",
       "      <td>MALE</td>\n",
       "      <td>Peel Public Health</td>\n",
       "      <td>False</td>\n",
       "      <td>False</td>\n",
       "      <td>-0.146721</td>\n",
       "      <td>-0.009781</td>\n",
       "      <td>0.694478</td>\n",
       "      <td>-0.557539</td>\n",
       "      <td>-0.430381</td>\n",
       "    </tr>\n",
       "    <tr>\n",
       "      <th>4</th>\n",
       "      <td>Private gathering restrictions</td>\n",
       "      <td>20s</td>\n",
       "      <td>MALE</td>\n",
       "      <td>York Region Public Health Services</td>\n",
       "      <td>False</td>\n",
       "      <td>False</td>\n",
       "      <td>-0.146629</td>\n",
       "      <td>0.053320</td>\n",
       "      <td>0.225781</td>\n",
       "      <td>-0.693155</td>\n",
       "      <td>-0.666495</td>\n",
       "    </tr>\n",
       "  </tbody>\n",
       "</table>\n",
       "</div>"
      ],
      "text/plain": [
       "                           status age_group gender  \\\n",
       "0  Private gathering restrictions       40s   MALE   \n",
       "1  Private gathering restrictions       50s   MALE   \n",
       "2  Private gathering restrictions       <20   MALE   \n",
       "3  Private gathering restrictions       30s   MALE   \n",
       "4  Private gathering restrictions       20s   MALE   \n",
       "\n",
       "                             phu_name  holiday  is_fatal  retail_rec  \\\n",
       "0                  Peel Public Health    False     False   -0.146721   \n",
       "1                  Peel Public Health    False     False   -0.146721   \n",
       "2                  Peel Public Health    False     False   -0.146721   \n",
       "3                  Peel Public Health    False     False   -0.146721   \n",
       "4  York Region Public Health Services    False     False   -0.146629   \n",
       "\n",
       "   grocery_pharm     parks   transit  workplaces  \n",
       "0      -0.009781  0.694478 -0.557539   -0.430381  \n",
       "1      -0.009781  0.694478 -0.557539   -0.430381  \n",
       "2      -0.009781  0.694478 -0.557539   -0.430381  \n",
       "3      -0.009781  0.694478 -0.557539   -0.430381  \n",
       "4       0.053320  0.225781 -0.693155   -0.666495  "
      ]
     },
     "execution_count": 25,
     "metadata": {},
     "output_type": "execute_result"
    }
   ],
   "source": [
    "result_normal = pd.concat([non_numerical,normalized_part],axis=1)\n",
    "result_normal.head()"
   ]
  },
  {
   "cell_type": "code",
   "execution_count": 26,
   "metadata": {},
   "outputs": [],
   "source": [
    "# one-hot encoding \n",
    "new_result = pd.get_dummies(result_normal)"
   ]
  },
  {
   "cell_type": "code",
   "execution_count": 27,
   "metadata": {},
   "outputs": [
    {
     "data": {
      "text/html": [
       "<div>\n",
       "<style scoped>\n",
       "    .dataframe tbody tr th:only-of-type {\n",
       "        vertical-align: middle;\n",
       "    }\n",
       "\n",
       "    .dataframe tbody tr th {\n",
       "        vertical-align: top;\n",
       "    }\n",
       "\n",
       "    .dataframe thead th {\n",
       "        text-align: right;\n",
       "    }\n",
       "</style>\n",
       "<table border=\"1\" class=\"dataframe\">\n",
       "  <thead>\n",
       "    <tr style=\"text-align: right;\">\n",
       "      <th></th>\n",
       "      <th>holiday</th>\n",
       "      <th>is_fatal</th>\n",
       "      <th>retail_rec</th>\n",
       "      <th>grocery_pharm</th>\n",
       "      <th>parks</th>\n",
       "      <th>transit</th>\n",
       "      <th>workplaces</th>\n",
       "      <th>status_Acitivies closures</th>\n",
       "      <th>status_Control</th>\n",
       "      <th>status_Lockdown</th>\n",
       "      <th>...</th>\n",
       "      <th>gender_FEMALE</th>\n",
       "      <th>gender_GENDER DIVERSE</th>\n",
       "      <th>gender_MALE</th>\n",
       "      <th>gender_UNSPECIFIED</th>\n",
       "      <th>phu_name_Durham Region Health Department</th>\n",
       "      <th>phu_name_Halton Region Health Department</th>\n",
       "      <th>phu_name_Ottawa Public Health</th>\n",
       "      <th>phu_name_Peel Public Health</th>\n",
       "      <th>phu_name_Toronto Public Health</th>\n",
       "      <th>phu_name_York Region Public Health Services</th>\n",
       "    </tr>\n",
       "  </thead>\n",
       "  <tbody>\n",
       "    <tr>\n",
       "      <th>0</th>\n",
       "      <td>False</td>\n",
       "      <td>False</td>\n",
       "      <td>-0.146721</td>\n",
       "      <td>-0.009781</td>\n",
       "      <td>0.694478</td>\n",
       "      <td>-0.557539</td>\n",
       "      <td>-0.430381</td>\n",
       "      <td>0</td>\n",
       "      <td>0</td>\n",
       "      <td>0</td>\n",
       "      <td>...</td>\n",
       "      <td>0</td>\n",
       "      <td>0</td>\n",
       "      <td>1</td>\n",
       "      <td>0</td>\n",
       "      <td>0</td>\n",
       "      <td>0</td>\n",
       "      <td>0</td>\n",
       "      <td>1</td>\n",
       "      <td>0</td>\n",
       "      <td>0</td>\n",
       "    </tr>\n",
       "    <tr>\n",
       "      <th>1</th>\n",
       "      <td>False</td>\n",
       "      <td>False</td>\n",
       "      <td>-0.146721</td>\n",
       "      <td>-0.009781</td>\n",
       "      <td>0.694478</td>\n",
       "      <td>-0.557539</td>\n",
       "      <td>-0.430381</td>\n",
       "      <td>0</td>\n",
       "      <td>0</td>\n",
       "      <td>0</td>\n",
       "      <td>...</td>\n",
       "      <td>0</td>\n",
       "      <td>0</td>\n",
       "      <td>1</td>\n",
       "      <td>0</td>\n",
       "      <td>0</td>\n",
       "      <td>0</td>\n",
       "      <td>0</td>\n",
       "      <td>1</td>\n",
       "      <td>0</td>\n",
       "      <td>0</td>\n",
       "    </tr>\n",
       "    <tr>\n",
       "      <th>2</th>\n",
       "      <td>False</td>\n",
       "      <td>False</td>\n",
       "      <td>-0.146721</td>\n",
       "      <td>-0.009781</td>\n",
       "      <td>0.694478</td>\n",
       "      <td>-0.557539</td>\n",
       "      <td>-0.430381</td>\n",
       "      <td>0</td>\n",
       "      <td>0</td>\n",
       "      <td>0</td>\n",
       "      <td>...</td>\n",
       "      <td>0</td>\n",
       "      <td>0</td>\n",
       "      <td>1</td>\n",
       "      <td>0</td>\n",
       "      <td>0</td>\n",
       "      <td>0</td>\n",
       "      <td>0</td>\n",
       "      <td>1</td>\n",
       "      <td>0</td>\n",
       "      <td>0</td>\n",
       "    </tr>\n",
       "    <tr>\n",
       "      <th>3</th>\n",
       "      <td>False</td>\n",
       "      <td>False</td>\n",
       "      <td>-0.146721</td>\n",
       "      <td>-0.009781</td>\n",
       "      <td>0.694478</td>\n",
       "      <td>-0.557539</td>\n",
       "      <td>-0.430381</td>\n",
       "      <td>0</td>\n",
       "      <td>0</td>\n",
       "      <td>0</td>\n",
       "      <td>...</td>\n",
       "      <td>0</td>\n",
       "      <td>0</td>\n",
       "      <td>1</td>\n",
       "      <td>0</td>\n",
       "      <td>0</td>\n",
       "      <td>0</td>\n",
       "      <td>0</td>\n",
       "      <td>1</td>\n",
       "      <td>0</td>\n",
       "      <td>0</td>\n",
       "    </tr>\n",
       "    <tr>\n",
       "      <th>4</th>\n",
       "      <td>False</td>\n",
       "      <td>False</td>\n",
       "      <td>-0.146629</td>\n",
       "      <td>0.053320</td>\n",
       "      <td>0.225781</td>\n",
       "      <td>-0.693155</td>\n",
       "      <td>-0.666495</td>\n",
       "      <td>0</td>\n",
       "      <td>0</td>\n",
       "      <td>0</td>\n",
       "      <td>...</td>\n",
       "      <td>0</td>\n",
       "      <td>0</td>\n",
       "      <td>1</td>\n",
       "      <td>0</td>\n",
       "      <td>0</td>\n",
       "      <td>0</td>\n",
       "      <td>0</td>\n",
       "      <td>0</td>\n",
       "      <td>0</td>\n",
       "      <td>1</td>\n",
       "    </tr>\n",
       "  </tbody>\n",
       "</table>\n",
       "<p>5 rows × 35 columns</p>\n",
       "</div>"
      ],
      "text/plain": [
       "   holiday  is_fatal  retail_rec  grocery_pharm     parks   transit  \\\n",
       "0    False     False   -0.146721      -0.009781  0.694478 -0.557539   \n",
       "1    False     False   -0.146721      -0.009781  0.694478 -0.557539   \n",
       "2    False     False   -0.146721      -0.009781  0.694478 -0.557539   \n",
       "3    False     False   -0.146721      -0.009781  0.694478 -0.557539   \n",
       "4    False     False   -0.146629       0.053320  0.225781 -0.693155   \n",
       "\n",
       "   workplaces  status_Acitivies closures  status_Control  status_Lockdown  \\\n",
       "0   -0.430381                          0               0                0   \n",
       "1   -0.430381                          0               0                0   \n",
       "2   -0.430381                          0               0                0   \n",
       "3   -0.430381                          0               0                0   \n",
       "4   -0.666495                          0               0                0   \n",
       "\n",
       "   ...  gender_FEMALE  gender_GENDER DIVERSE  gender_MALE  gender_UNSPECIFIED  \\\n",
       "0  ...              0                      0            1                   0   \n",
       "1  ...              0                      0            1                   0   \n",
       "2  ...              0                      0            1                   0   \n",
       "3  ...              0                      0            1                   0   \n",
       "4  ...              0                      0            1                   0   \n",
       "\n",
       "   phu_name_Durham Region Health Department  \\\n",
       "0                                         0   \n",
       "1                                         0   \n",
       "2                                         0   \n",
       "3                                         0   \n",
       "4                                         0   \n",
       "\n",
       "   phu_name_Halton Region Health Department  phu_name_Ottawa Public Health  \\\n",
       "0                                         0                              0   \n",
       "1                                         0                              0   \n",
       "2                                         0                              0   \n",
       "3                                         0                              0   \n",
       "4                                         0                              0   \n",
       "\n",
       "   phu_name_Peel Public Health  phu_name_Toronto Public Health  \\\n",
       "0                            1                               0   \n",
       "1                            1                               0   \n",
       "2                            1                               0   \n",
       "3                            1                               0   \n",
       "4                            0                               0   \n",
       "\n",
       "   phu_name_York Region Public Health Services  \n",
       "0                                            0  \n",
       "1                                            0  \n",
       "2                                            0  \n",
       "3                                            0  \n",
       "4                                            1  \n",
       "\n",
       "[5 rows x 35 columns]"
      ]
     },
     "execution_count": 27,
     "metadata": {},
     "output_type": "execute_result"
    }
   ],
   "source": [
    "new_result.head()"
   ]
  },
  {
   "cell_type": "code",
   "execution_count": 28,
   "metadata": {},
   "outputs": [],
   "source": [
    "# Undersampling of majority classes\n",
    "from imblearn.under_sampling import NearMiss\n",
    "x = new_result.values\n",
    "y = result_df[\"is_fatal\"]\n",
    "undersample = NearMiss(version=1, n_neighbors=3)\n",
    "x_under, y_under = undersample.fit_resample(x,y)"
   ]
  },
  {
   "cell_type": "code",
   "execution_count": 29,
   "metadata": {},
   "outputs": [],
   "source": [
    "from sklearn.model_selection import train_test_split\n",
    "X_train, X_test, y_train, y_test = train_test_split(x, y, test_size=0.33, shuffle=True, stratify=y)\n"
   ]
  },
  {
   "cell_type": "code",
   "execution_count": 30,
   "metadata": {},
   "outputs": [
    {
     "name": "stdout",
     "output_type": "stream",
     "text": [
      "Training set Counter({False: 55869, True: 955}) \n",
      "Test set Counter({False: 27518, True: 470}) \n"
     ]
    }
   ],
   "source": [
    "from collections import Counter \n",
    "#Let's see the no. of records per class in training and test set\n",
    "# class imbalance very high\n",
    "print(\"Training set {} \".format(Counter(y_train)))\n",
    "print(\"Test set {} \".format(Counter(y_test)))"
   ]
  },
  {
   "cell_type": "code",
   "execution_count": 32,
   "metadata": {},
   "outputs": [],
   "source": [
    "# Attempt Graident Boosting Algorithm on under_sampled data\n",
    "X_train, X_test, y_train, y_test = train_test_split(x_under, y_under, test_size=0.33, shuffle=True, stratify=y_under)"
   ]
  },
  {
   "cell_type": "code",
   "execution_count": 33,
   "metadata": {},
   "outputs": [
    {
     "name": "stdout",
     "output_type": "stream",
     "text": [
      "Training set Counter({False: 955, True: 954}) \n",
      "Test set Counter({True: 471, False: 470}) \n"
     ]
    }
   ],
   "source": [
    "print(\"Training set {} \".format(Counter(y_train)))\n",
    "print(\"Test set {} \".format(Counter(y_test)))"
   ]
  },
  {
   "cell_type": "code",
   "execution_count": 35,
   "metadata": {},
   "outputs": [
    {
     "name": "stdout",
     "output_type": "stream",
     "text": [
      "time in milliseconds\n",
      "17.397\n",
      "Confusion Matrix:\n",
      "[[370 101]\n",
      " [138 332]]\n",
      "Classification Report\n",
      "              precision    recall  f1-score   support\n",
      "\n",
      "       False       0.73      0.79      0.76       471\n",
      "        True       0.77      0.71      0.74       470\n",
      "\n",
      "    accuracy                           0.75       941\n",
      "   macro avg       0.75      0.75      0.75       941\n",
      "weighted avg       0.75      0.75      0.75       941\n",
      "\n",
      "74.60148777895856\n",
      "76.6743648960739\n",
      "70.63829787234043\n"
     ]
    },
    {
     "data": {
      "text/plain": [
       "{'ccp_alpha': 0.0,\n",
       " 'criterion': 'friedman_mse',\n",
       " 'init': None,\n",
       " 'learning_rate': 0.75,\n",
       " 'loss': 'deviance',\n",
       " 'max_depth': 2,\n",
       " 'max_features': 2,\n",
       " 'max_leaf_nodes': None,\n",
       " 'min_impurity_decrease': 0.0,\n",
       " 'min_impurity_split': None,\n",
       " 'min_samples_leaf': 1,\n",
       " 'min_samples_split': 2,\n",
       " 'min_weight_fraction_leaf': 0.0,\n",
       " 'n_estimators': 20,\n",
       " 'n_iter_no_change': None,\n",
       " 'random_state': 0,\n",
       " 'subsample': 1.0,\n",
       " 'tol': 0.0001,\n",
       " 'validation_fraction': 0.1,\n",
       " 'verbose': 0,\n",
       " 'warm_start': False}"
      ]
     },
     "execution_count": 35,
     "metadata": {},
     "output_type": "execute_result"
    }
   ],
   "source": [
    "from sklearn.metrics import classification_report, confusion_matrix\n",
    "from sklearn.metrics import recall_score, precision_score, accuracy_score\n",
    "import datetime\n",
    "\n",
    "X_train, X_test, y_train, y_test = train_test_split(x_under, y_under, test_size=0.33, shuffle=True, stratify=y_under)\n",
    "a = datetime.datetime.now()\n",
    "classifier = GradientBoostingClassifier(n_estimators=20, learning_rate=0.75, max_features=2, max_depth=2, random_state=0)\n",
    "classifier.fit(X_train, y_train)\n",
    "predictions = classifier.predict(X_test)\n",
    "b = datetime.datetime.now()\n",
    "c = b - a\n",
    "print('time in milliseconds')\n",
    "print(c.total_seconds() * 1000)\n",
    "print(\"Confusion Matrix:\")\n",
    "print(confusion_matrix(y_test, predictions))\n",
    "\n",
    "print(\"Classification Report\")\n",
    "print(classification_report(y_test, predictions))\n",
    "\n",
    "accuracy = accuracy_score(predictions, y_test) * 100\n",
    "recall = recall_score(predictions, y_test) * 100\n",
    "precision = precision_score(predictions, y_test) * 100\n",
    "\n",
    "print(accuracy)\n",
    "print(recall)\n",
    "print(precision)\n",
    "\n",
    "classifier.get_params()\n"
   ]
  },
  {
   "cell_type": "code",
   "execution_count": 36,
   "metadata": {},
   "outputs": [
    {
     "data": {
      "text/plain": [
       "array([0.00809367, 0.        , 0.13254509, 0.15572571, 0.01816863,\n",
       "       0.03426488, 0.00455549, 0.01073934, 0.0722731 , 0.00365296,\n",
       "       0.        , 0.07364914, 0.00048418, 0.00496198, 0.        ,\n",
       "       0.        , 0.        , 0.00694744, 0.0407314 , 0.03988674,\n",
       "       0.00117239, 0.00707005, 0.00350576, 0.        , 0.        ,\n",
       "       0.        , 0.        , 0.00312995, 0.00907061, 0.00079721,\n",
       "       0.00224099, 0.0023283 , 0.01567441, 0.34833057, 0.        ])"
      ]
     },
     "execution_count": 36,
     "metadata": {},
     "output_type": "execute_result"
    }
   ],
   "source": [
    "classifier.feature_importances_"
   ]
  },
  {
   "cell_type": "code",
   "execution_count": 37,
   "metadata": {},
   "outputs": [
    {
     "data": {
      "image/png": "[encoded data removed]",
      "text/plain": [
       "<Figure size 432x288 with 1 Axes>"
      ]
     },
     "metadata": {
      "needs_background": "light"
     },
     "output_type": "display_data"
    }
   ],
   "source": [
    "from matplotlib import pyplot\n",
    "pyplot.bar(range(len(classifier.feature_importances_)), classifier.feature_importances_)\n",
    "pyplot.show()"
   ]
  },
  {
   "cell_type": "code",
   "execution_count": 39,
   "metadata": {},
   "outputs": [
    {
     "data": {
      "text/plain": [
       "<AxesSubplot:>"
      ]
     },
     "execution_count": 39,
     "metadata": {},
     "output_type": "execute_result"
    },
    {
     "data": {
      "image/png": "[encoded data removed]",
      "text/plain": [
       "<Figure size 432x288 with 1 Axes>"
      ]
     },
     "metadata": {
      "needs_background": "light"
     },
     "output_type": "display_data"
    }
   ],
   "source": [
    "importance = pd.Series(classifier.feature_importances_, index=new_result.columns)\n",
    "importance.nlargest(20).plot(kind='barh')"
   ]
  },
  {
   "cell_type": "code",
   "execution_count": null,
   "metadata": {},
   "outputs": [],
   "source": []
  },
  {
   "cell_type": "code",
   "execution_count": null,
   "metadata": {},
   "outputs": [],
   "source": []
  }
 ],
 "metadata": {
  "kernelspec": {
   "display_name": "Python 3",
   "language": "python",
   "name": "python3"
  },
  "language_info": {
   "codemirror_mode": {
    "name": "ipython",
    "version": 3
   },
   "file_extension": ".py",
   "mimetype": "text/x-python",
   "name": "python",
   "nbconvert_exporter": "python",
   "pygments_lexer": "ipython3",
   "version": "3.8.5"
  }
 },
 "nbformat": 4,
 "nbformat_minor": 4
}
