{
 "metadata": {
  "language_info": {
   "codemirror_mode": {
    "name": "ipython",
    "version": 3
   },
   "file_extension": ".py",
   "mimetype": "text/x-python",
   "name": "python",
   "nbconvert_exporter": "python",
   "pygments_lexer": "ipython3",
   "version": "3.9.2"
  },
  "orig_nbformat": 2,
  "kernelspec": {
   "name": "python392jvsc74a57bd0ffef2fa9cbcc2cd7cb384c713b0ae375e402913407c8199aff0f77ffc4a59ac0",
   "display_name": "Python 3.9.2 64-bit"
  }
 },
 "nbformat": 4,
 "nbformat_minor": 2,
 "cells": [
  {
   "cell_type": "code",
   "execution_count": 14,
   "metadata": {},
   "outputs": [],
   "source": [
    "from configparser import ConfigParser\n",
    "import psycopg2\n",
    "import numpy as np\n",
    "import pandas as pd\n",
    "from sklearn import preprocessing\n",
    "from sklearn.model_selection import train_test_split\n",
    "from sklearn.tree import DecisionTreeClassifier\n",
    "from sklearn.ensemble import RandomForestClassifier\n",
    "from sklearn.ensemble import GradientBoostingClassifier\n",
    "from sklearn.svm import LinearSVC\n",
    "from sklearn.metrics import recall_score, precision_score\n",
    "#Can be very helpful to notice any imbalance in classes\n",
    "from collections import Counter "
   ]
  },
  {
   "cell_type": "code",
   "execution_count": 15,
   "metadata": {},
   "outputs": [],
   "source": [
    "#Sourced from https://www.postgresqltutorial.com/postgresql-python/connect/\n",
    "def config(filename='psql_sample.ini', section='postgresql'):\n",
    "    parser = ConfigParser()\n",
    "    # read config file\n",
    "    parser.read(filename) \n",
    " \n",
    "    # get section, default to postgresql\n",
    "    db = {}\n",
    "    if parser.has_section(section):\n",
    "        params = parser.items(section)\n",
    "        for param in params:\n",
    "            db[param[0]] = param[1]\n",
    "    else:\n",
    "        raise Exception('Section {0} not found in the {1} file'.format(section, filename))\n",
    " \n",
    "    return db"
   ]
  },
  {
   "cell_type": "code",
   "execution_count": 16,
   "metadata": {},
   "outputs": [
    {
     "output_type": "stream",
     "name": "stdout",
     "text": [
      "Here's an attempt to connect to the database\n",
      "Look's like it was a success\n"
     ]
    }
   ],
   "source": [
    "#Get the configuration file as a python dictionary\n",
    "cfg = config()\n",
    "\n",
    "#Establish the connection and create a cursor to the database\n",
    "try:\n",
    "    print(\"Here's an attempt to connect to the database\")\n",
    "    conn = psycopg2.connect(**cfg)\n",
    "    cursor = conn.cursor()\n",
    "    print(\"Look's like it was a success\")\n",
    "    \n",
    "except (Exception, psycopg2.DatabaseError) as error:\n",
    "    print(error)"
   ]
  },
  {
   "cell_type": "code",
   "execution_count": 17,
   "metadata": {},
   "outputs": [],
   "source": [
    "#SELECT QUERY\n",
    "try:\n",
    "    #Lets get our data \n",
    "    cursor.execute(\"SELECT age_group,gender,measures.status,holiday,city,daily_high_temp,daily_low_temp,rain_amount,snow_amount,parks_percentage,retail_and_recreation_percentage,grocery_and_pharmacy_percentage,workplaces_percentage,residential_percentage,transit_stations_percentage,is_fatal,is_resolved,is_unresolved from data_mart.fact_table as fact inner join data_mart.mobility_dimension as mobility on fact.mobility_key=mobility.mobility_key inner join data_mart.weather_dimension as weather on fact.weather_key=weather.weather_key inner join data_mart.patient_dimension as patient on fact.patient_key=patient.patient_key inner join data_mart.special_measures_dimension as measures on fact.special_measures_key=measures.special_measures_key inner join data_mart.phu_location_dimension as phu on fact.phu_location_key=phu.phu_location_key inner join data_mart.reported_date_dimension as date on fact.reported_date_key=date.reported_date_key\") \n",
    "\n",
    "    #Get the complete result set. It will be a list of tuples where each tuple is a row from the result set\n",
    "    result_list = cursor.fetchall()\n",
    "        \n",
    "except (Exception, psycopg2.DatabaseError) as error:\n",
    "    print(error)"
   ]
  },
  {
   "cell_type": "code",
   "execution_count": 18,
   "metadata": {},
   "outputs": [],
   "source": [
    "#Ensure to run this cell at the end of all your experiments to close all connections\n",
    "cursor.close()\n",
    "conn.close()"
   ]
  },
  {
   "cell_type": "code",
   "execution_count": 19,
   "metadata": {},
   "outputs": [
    {
     "output_type": "execute_result",
     "data": {
      "text/plain": [
       "  age_group gender                          status  holiday         city  \\\n",
       "0       40s   MALE  Private gathering restrictions    False  Mississauga   \n",
       "1       50s   MALE  Private gathering restrictions    False  Mississauga   \n",
       "2       <20   MALE  Private gathering restrictions    False  Mississauga   \n",
       "3       30s   MALE  Private gathering restrictions    False  Mississauga   \n",
       "4       20s   MALE  Private gathering restrictions    False    Newmarket   \n",
       "\n",
       "   parks_percentage  retail_and_recreation_percentage  \\\n",
       "0              71.0                             -15.0   \n",
       "1              71.0                             -15.0   \n",
       "2              71.0                             -15.0   \n",
       "3              71.0                             -15.0   \n",
       "4               NaN                             -11.0   \n",
       "\n",
       "   grocery_and_pharmacy_percentage  is_fatal  \n",
       "0                             -1.0     False  \n",
       "1                             -1.0     False  \n",
       "2                             -1.0     False  \n",
       "3                             -1.0     False  \n",
       "4                              4.0     False  "
      ],
      "text/html": "<div>\n<style scoped>\n    .dataframe tbody tr th:only-of-type {\n        vertical-align: middle;\n    }\n\n    .dataframe tbody tr th {\n        vertical-align: top;\n    }\n\n    .dataframe thead th {\n        text-align: right;\n    }\n</style>\n<table border=\"1\" class=\"dataframe\">\n  <thead>\n    <tr style=\"text-align: right;\">\n      <th></th>\n      <th>age_group</th>\n      <th>gender</th>\n      <th>status</th>\n      <th>holiday</th>\n      <th>city</th>\n      <th>parks_percentage</th>\n      <th>retail_and_recreation_percentage</th>\n      <th>grocery_and_pharmacy_percentage</th>\n      <th>is_fatal</th>\n    </tr>\n  </thead>\n  <tbody>\n    <tr>\n      <th>0</th>\n      <td>40s</td>\n      <td>MALE</td>\n      <td>Private gathering restrictions</td>\n      <td>False</td>\n      <td>Mississauga</td>\n      <td>71.0</td>\n      <td>-15.0</td>\n      <td>-1.0</td>\n      <td>False</td>\n    </tr>\n    <tr>\n      <th>1</th>\n      <td>50s</td>\n      <td>MALE</td>\n      <td>Private gathering restrictions</td>\n      <td>False</td>\n      <td>Mississauga</td>\n      <td>71.0</td>\n      <td>-15.0</td>\n      <td>-1.0</td>\n      <td>False</td>\n    </tr>\n    <tr>\n      <th>2</th>\n      <td>&lt;20</td>\n      <td>MALE</td>\n      <td>Private gathering restrictions</td>\n      <td>False</td>\n      <td>Mississauga</td>\n      <td>71.0</td>\n      <td>-15.0</td>\n      <td>-1.0</td>\n      <td>False</td>\n    </tr>\n    <tr>\n      <th>3</th>\n      <td>30s</td>\n      <td>MALE</td>\n      <td>Private gathering restrictions</td>\n      <td>False</td>\n      <td>Mississauga</td>\n      <td>71.0</td>\n      <td>-15.0</td>\n      <td>-1.0</td>\n      <td>False</td>\n    </tr>\n    <tr>\n      <th>4</th>\n      <td>20s</td>\n      <td>MALE</td>\n      <td>Private gathering restrictions</td>\n      <td>False</td>\n      <td>Newmarket</td>\n      <td>NaN</td>\n      <td>-11.0</td>\n      <td>4.0</td>\n      <td>False</td>\n    </tr>\n  </tbody>\n</table>\n</div>"
     },
     "metadata": {},
     "execution_count": 19
    }
   ],
   "source": [
    "#Now,  1\n",
    "result_df = pd.DataFrame(result_list, columns=[\"age_group\",\"gender\",\"status\",\"holiday\",\"city\",\"daily_high\",\"daily_low\",\"rain_amount\",\"snow_amount\", \"parks_percentage\", \"retail_and_recreation_percentage\",\"grocery_and_pharmacy_percentage\",\"workplaces_percentage\",\"residential_percentage\",\"transit_stations_percentage\",\n",
    "                                               \"is_fatal\", \"is_resolved\",\"is_unresolved\"])\n",
    "\n",
    "result_df.drop(columns=['daily_high'], inplace=True)\n",
    "result_df.drop(columns=['daily_low'], inplace=True)\n",
    "result_df.drop(columns=['rain_amount'], inplace=True)\n",
    "result_df.drop(columns=['snow_amount'], inplace=True)\n",
    "result_df.drop(columns=['workplaces_percentage'], inplace=True)\n",
    "result_df.drop(columns=['residential_percentage'], inplace=True)\n",
    "result_df.drop(columns=['transit_stations_percentage'], inplace=True)\n",
    "result_df.drop(columns=['is_resolved'], inplace=True)\n",
    "result_df.drop(columns=['is_unresolved'], inplace=True)\n",
    "\n",
    "result_df.head()"
   ]
  },
  {
   "cell_type": "code",
   "execution_count": 20,
   "metadata": {},
   "outputs": [
    {
     "output_type": "execute_result",
     "data": {
      "text/plain": [
       "  age_group gender                          status  holiday         city  \\\n",
       "0       40s   MALE  Private gathering restrictions    False  Mississauga   \n",
       "1       50s   MALE  Private gathering restrictions    False  Mississauga   \n",
       "2       <20   MALE  Private gathering restrictions    False  Mississauga   \n",
       "3       30s   MALE  Private gathering restrictions    False  Mississauga   \n",
       "4       20s   MALE  Private gathering restrictions    False    Newmarket   \n",
       "\n",
       "   parks_percentage  retail_and_recreation_percentage  \\\n",
       "0         71.000000                             -15.0   \n",
       "1         71.000000                             -15.0   \n",
       "2         71.000000                             -15.0   \n",
       "3         71.000000                             -15.0   \n",
       "4         16.937927                             -11.0   \n",
       "\n",
       "   grocery_and_pharmacy_percentage  is_fatal  \n",
       "0                             -1.0     False  \n",
       "1                             -1.0     False  \n",
       "2                             -1.0     False  \n",
       "3                             -1.0     False  \n",
       "4                              4.0     False  "
      ],
      "text/html": "<div>\n<style scoped>\n    .dataframe tbody tr th:only-of-type {\n        vertical-align: middle;\n    }\n\n    .dataframe tbody tr th {\n        vertical-align: top;\n    }\n\n    .dataframe thead th {\n        text-align: right;\n    }\n</style>\n<table border=\"1\" class=\"dataframe\">\n  <thead>\n    <tr style=\"text-align: right;\">\n      <th></th>\n      <th>age_group</th>\n      <th>gender</th>\n      <th>status</th>\n      <th>holiday</th>\n      <th>city</th>\n      <th>parks_percentage</th>\n      <th>retail_and_recreation_percentage</th>\n      <th>grocery_and_pharmacy_percentage</th>\n      <th>is_fatal</th>\n    </tr>\n  </thead>\n  <tbody>\n    <tr>\n      <th>0</th>\n      <td>40s</td>\n      <td>MALE</td>\n      <td>Private gathering restrictions</td>\n      <td>False</td>\n      <td>Mississauga</td>\n      <td>71.000000</td>\n      <td>-15.0</td>\n      <td>-1.0</td>\n      <td>False</td>\n    </tr>\n    <tr>\n      <th>1</th>\n      <td>50s</td>\n      <td>MALE</td>\n      <td>Private gathering restrictions</td>\n      <td>False</td>\n      <td>Mississauga</td>\n      <td>71.000000</td>\n      <td>-15.0</td>\n      <td>-1.0</td>\n      <td>False</td>\n    </tr>\n    <tr>\n      <th>2</th>\n      <td>&lt;20</td>\n      <td>MALE</td>\n      <td>Private gathering restrictions</td>\n      <td>False</td>\n      <td>Mississauga</td>\n      <td>71.000000</td>\n      <td>-15.0</td>\n      <td>-1.0</td>\n      <td>False</td>\n    </tr>\n    <tr>\n      <th>3</th>\n      <td>30s</td>\n      <td>MALE</td>\n      <td>Private gathering restrictions</td>\n      <td>False</td>\n      <td>Mississauga</td>\n      <td>71.000000</td>\n      <td>-15.0</td>\n      <td>-1.0</td>\n      <td>False</td>\n    </tr>\n    <tr>\n      <th>4</th>\n      <td>20s</td>\n      <td>MALE</td>\n      <td>Private gathering restrictions</td>\n      <td>False</td>\n      <td>Newmarket</td>\n      <td>16.937927</td>\n      <td>-11.0</td>\n      <td>4.0</td>\n      <td>False</td>\n    </tr>\n  </tbody>\n</table>\n</div>"
     },
     "metadata": {},
     "execution_count": 20
    }
   ],
   "source": [
    "#Removing null values : 2\n",
    "result_df[\"parks_percentage\"].fillna(result_df[\"parks_percentage\"].mean(), inplace=True)\n",
    "result_df[\"grocery_and_pharmacy_percentage\"].fillna(result_df[\"grocery_and_pharmacy_percentage\"].mean(), inplace=True)\n",
    "result_df[\"retail_and_recreation_percentage\"].fillna(result_df[\"retail_and_recreation_percentage\"].mean(), inplace=True)\n",
    "\n",
    "result_df.head()"
   ]
  },
  {
   "cell_type": "code",
   "execution_count": 21,
   "metadata": {},
   "outputs": [
    {
     "output_type": "execute_result",
     "data": {
      "text/plain": [
       "Counter({False: 83387, True: 1425})"
      ]
     },
     "metadata": {},
     "execution_count": 21
    }
   ],
   "source": [
    "#get counter 6\n",
    "Counter(result_df['is_fatal'])"
   ]
  },
  {
   "cell_type": "code",
   "execution_count": 22,
   "metadata": {},
   "outputs": [],
   "source": [
    "#Get the labels 3\n",
    "y_under = result_df[\"is_fatal\"]#label\n"
   ]
  },
  {
   "cell_type": "code",
   "execution_count": 23,
   "metadata": {},
   "outputs": [
    {
     "output_type": "execute_result",
     "data": {
      "text/plain": [
       "                           status age_group  is_fatal         city gender  \\\n",
       "0  Private gathering restrictions       40s     False  Mississauga   MALE   \n",
       "1  Private gathering restrictions       50s     False  Mississauga   MALE   \n",
       "2  Private gathering restrictions       <20     False  Mississauga   MALE   \n",
       "3  Private gathering restrictions       30s     False  Mississauga   MALE   \n",
       "4  Private gathering restrictions       20s     False    Newmarket   MALE   \n",
       "\n",
       "   holiday  retail_and_recreation_percentage  grocery_and_pharmacy_percentage  \\\n",
       "0    False                         -0.206685                        -0.013779   \n",
       "1    False                         -0.206685                        -0.013779   \n",
       "2    False                         -0.206685                        -0.013779   \n",
       "3    False                         -0.206685                        -0.013779   \n",
       "4    False                         -0.534274                         0.194282   \n",
       "\n",
       "   parks_percentage  \n",
       "0          0.978310  \n",
       "1          0.978310  \n",
       "2          0.978310  \n",
       "3          0.978310  \n",
       "4          0.822682  "
      ],
      "text/html": "<div>\n<style scoped>\n    .dataframe tbody tr th:only-of-type {\n        vertical-align: middle;\n    }\n\n    .dataframe tbody tr th {\n        vertical-align: top;\n    }\n\n    .dataframe thead th {\n        text-align: right;\n    }\n</style>\n<table border=\"1\" class=\"dataframe\">\n  <thead>\n    <tr style=\"text-align: right;\">\n      <th></th>\n      <th>status</th>\n      <th>age_group</th>\n      <th>is_fatal</th>\n      <th>city</th>\n      <th>gender</th>\n      <th>holiday</th>\n      <th>retail_and_recreation_percentage</th>\n      <th>grocery_and_pharmacy_percentage</th>\n      <th>parks_percentage</th>\n    </tr>\n  </thead>\n  <tbody>\n    <tr>\n      <th>0</th>\n      <td>Private gathering restrictions</td>\n      <td>40s</td>\n      <td>False</td>\n      <td>Mississauga</td>\n      <td>MALE</td>\n      <td>False</td>\n      <td>-0.206685</td>\n      <td>-0.013779</td>\n      <td>0.978310</td>\n    </tr>\n    <tr>\n      <th>1</th>\n      <td>Private gathering restrictions</td>\n      <td>50s</td>\n      <td>False</td>\n      <td>Mississauga</td>\n      <td>MALE</td>\n      <td>False</td>\n      <td>-0.206685</td>\n      <td>-0.013779</td>\n      <td>0.978310</td>\n    </tr>\n    <tr>\n      <th>2</th>\n      <td>Private gathering restrictions</td>\n      <td>&lt;20</td>\n      <td>False</td>\n      <td>Mississauga</td>\n      <td>MALE</td>\n      <td>False</td>\n      <td>-0.206685</td>\n      <td>-0.013779</td>\n      <td>0.978310</td>\n    </tr>\n    <tr>\n      <th>3</th>\n      <td>Private gathering restrictions</td>\n      <td>30s</td>\n      <td>False</td>\n      <td>Mississauga</td>\n      <td>MALE</td>\n      <td>False</td>\n      <td>-0.206685</td>\n      <td>-0.013779</td>\n      <td>0.978310</td>\n    </tr>\n    <tr>\n      <th>4</th>\n      <td>Private gathering restrictions</td>\n      <td>20s</td>\n      <td>False</td>\n      <td>Newmarket</td>\n      <td>MALE</td>\n      <td>False</td>\n      <td>-0.534274</td>\n      <td>0.194282</td>\n      <td>0.822682</td>\n    </tr>\n  </tbody>\n</table>\n</div>"
     },
     "metadata": {},
     "execution_count": 23
    }
   ],
   "source": [
    "#normalize\n",
    "#Normalizing data:\n",
    "transform_data = result_df[[\"retail_and_recreation_percentage\",\"grocery_and_pharmacy_percentage\",\"parks_percentage\"]]\n",
    "X_normalized=preprocessing.normalize(transform_data,norm='l2')\n",
    "normalize_part=pd.DataFrame(X_normalized,columns=transform_data.columns)\n",
    "non_numerical=result_df[[\"status\",\"age_group\",\"is_fatal\",\"city\",\"gender\",\"holiday\"]]\n",
    "result_data=pd.concat([non_numerical,normalize_part],axis=1)\n",
    "result_data.head()"
   ]
  },
  {
   "cell_type": "code",
   "execution_count": 24,
   "metadata": {},
   "outputs": [],
   "source": [
    "#drop the label\n",
    "result_data.drop(columns=['is_fatal'], inplace=True)"
   ]
  },
  {
   "cell_type": "code",
   "execution_count": 25,
   "metadata": {},
   "outputs": [
    {
     "output_type": "execute_result",
     "data": {
      "text/plain": [
       "   holiday  retail_and_recreation_percentage  grocery_and_pharmacy_percentage  \\\n",
       "0    False                         -0.206685                        -0.013779   \n",
       "1    False                         -0.206685                        -0.013779   \n",
       "2    False                         -0.206685                        -0.013779   \n",
       "3    False                         -0.206685                        -0.013779   \n",
       "4    False                         -0.534274                         0.194282   \n",
       "\n",
       "   parks_percentage  status_Acitivies closures  status_Control  \\\n",
       "0          0.978310                          0               0   \n",
       "1          0.978310                          0               0   \n",
       "2          0.978310                          0               0   \n",
       "3          0.978310                          0               0   \n",
       "4          0.822682                          0               0   \n",
       "\n",
       "   status_Lockdown  status_Other  status_Private gathering restrictions  \\\n",
       "0                0             0                                      1   \n",
       "1                0             0                                      1   \n",
       "2                0             0                                      1   \n",
       "3                0             0                                      1   \n",
       "4                0             0                                      1   \n",
       "\n",
       "   status_Protect  ...  city_Mississauga  city_Newmarket  city_Oakville  \\\n",
       "0               0  ...                 1               0              0   \n",
       "1               0  ...                 1               0              0   \n",
       "2               0  ...                 1               0              0   \n",
       "3               0  ...                 1               0              0   \n",
       "4               0  ...                 0               1              0   \n",
       "\n",
       "   city_Ottawa  city_Toronto  city_Whitby  gender_FEMALE  \\\n",
       "0            0             0            0              0   \n",
       "1            0             0            0              0   \n",
       "2            0             0            0              0   \n",
       "3            0             0            0              0   \n",
       "4            0             0            0              0   \n",
       "\n",
       "   gender_GENDER DIVERSE  gender_MALE  gender_UNSPECIFIED  \n",
       "0                      0            1                   0  \n",
       "1                      0            1                   0  \n",
       "2                      0            1                   0  \n",
       "3                      0            1                   0  \n",
       "4                      0            1                   0  \n",
       "\n",
       "[5 rows x 32 columns]"
      ],
      "text/html": "<div>\n<style scoped>\n    .dataframe tbody tr th:only-of-type {\n        vertical-align: middle;\n    }\n\n    .dataframe tbody tr th {\n        vertical-align: top;\n    }\n\n    .dataframe thead th {\n        text-align: right;\n    }\n</style>\n<table border=\"1\" class=\"dataframe\">\n  <thead>\n    <tr style=\"text-align: right;\">\n      <th></th>\n      <th>holiday</th>\n      <th>retail_and_recreation_percentage</th>\n      <th>grocery_and_pharmacy_percentage</th>\n      <th>parks_percentage</th>\n      <th>status_Acitivies closures</th>\n      <th>status_Control</th>\n      <th>status_Lockdown</th>\n      <th>status_Other</th>\n      <th>status_Private gathering restrictions</th>\n      <th>status_Protect</th>\n      <th>...</th>\n      <th>city_Mississauga</th>\n      <th>city_Newmarket</th>\n      <th>city_Oakville</th>\n      <th>city_Ottawa</th>\n      <th>city_Toronto</th>\n      <th>city_Whitby</th>\n      <th>gender_FEMALE</th>\n      <th>gender_GENDER DIVERSE</th>\n      <th>gender_MALE</th>\n      <th>gender_UNSPECIFIED</th>\n    </tr>\n  </thead>\n  <tbody>\n    <tr>\n      <th>0</th>\n      <td>False</td>\n      <td>-0.206685</td>\n      <td>-0.013779</td>\n      <td>0.978310</td>\n      <td>0</td>\n      <td>0</td>\n      <td>0</td>\n      <td>0</td>\n      <td>1</td>\n      <td>0</td>\n      <td>...</td>\n      <td>1</td>\n      <td>0</td>\n      <td>0</td>\n      <td>0</td>\n      <td>0</td>\n      <td>0</td>\n      <td>0</td>\n      <td>0</td>\n      <td>1</td>\n      <td>0</td>\n    </tr>\n    <tr>\n      <th>1</th>\n      <td>False</td>\n      <td>-0.206685</td>\n      <td>-0.013779</td>\n      <td>0.978310</td>\n      <td>0</td>\n      <td>0</td>\n      <td>0</td>\n      <td>0</td>\n      <td>1</td>\n      <td>0</td>\n      <td>...</td>\n      <td>1</td>\n      <td>0</td>\n      <td>0</td>\n      <td>0</td>\n      <td>0</td>\n      <td>0</td>\n      <td>0</td>\n      <td>0</td>\n      <td>1</td>\n      <td>0</td>\n    </tr>\n    <tr>\n      <th>2</th>\n      <td>False</td>\n      <td>-0.206685</td>\n      <td>-0.013779</td>\n      <td>0.978310</td>\n      <td>0</td>\n      <td>0</td>\n      <td>0</td>\n      <td>0</td>\n      <td>1</td>\n      <td>0</td>\n      <td>...</td>\n      <td>1</td>\n      <td>0</td>\n      <td>0</td>\n      <td>0</td>\n      <td>0</td>\n      <td>0</td>\n      <td>0</td>\n      <td>0</td>\n      <td>1</td>\n      <td>0</td>\n    </tr>\n    <tr>\n      <th>3</th>\n      <td>False</td>\n      <td>-0.206685</td>\n      <td>-0.013779</td>\n      <td>0.978310</td>\n      <td>0</td>\n      <td>0</td>\n      <td>0</td>\n      <td>0</td>\n      <td>1</td>\n      <td>0</td>\n      <td>...</td>\n      <td>1</td>\n      <td>0</td>\n      <td>0</td>\n      <td>0</td>\n      <td>0</td>\n      <td>0</td>\n      <td>0</td>\n      <td>0</td>\n      <td>1</td>\n      <td>0</td>\n    </tr>\n    <tr>\n      <th>4</th>\n      <td>False</td>\n      <td>-0.534274</td>\n      <td>0.194282</td>\n      <td>0.822682</td>\n      <td>0</td>\n      <td>0</td>\n      <td>0</td>\n      <td>0</td>\n      <td>1</td>\n      <td>0</td>\n      <td>...</td>\n      <td>0</td>\n      <td>1</td>\n      <td>0</td>\n      <td>0</td>\n      <td>0</td>\n      <td>0</td>\n      <td>0</td>\n      <td>0</td>\n      <td>1</td>\n      <td>0</td>\n    </tr>\n  </tbody>\n</table>\n<p>5 rows × 32 columns</p>\n</div>"
     },
     "metadata": {},
     "execution_count": 25
    }
   ],
   "source": [
    "# Our features have categorical data. We need to convert them to one-hot encoders to get the best results.\n",
    "new_result_df = pd.get_dummies(result_data)\n",
    "new_result_df.head()"
   ]
  },
  {
   "cell_type": "code",
   "execution_count": 26,
   "metadata": {},
   "outputs": [],
   "source": [
    "#Undersampling of majority classes:  4\n",
    "from imblearn.under_sampling import NearMiss\n",
    "X = new_result_df.values#features\n",
    "undersample = NearMiss(version=1,n_neighbors=3)\n",
    "x_under, y_under = undersample.fit_resample(X,y_under)"
   ]
  },
  {
   "cell_type": "code",
   "execution_count": 27,
   "metadata": {},
   "outputs": [],
   "source": [
    "X_train, X_test, y_train, y_test = train_test_split(x_under, y_under, test_size=0.2, shuffle=True, stratify=y_under)"
   ]
  },
  {
   "cell_type": "code",
   "execution_count": 28,
   "metadata": {},
   "outputs": [
    {
     "output_type": "stream",
     "name": "stdout",
     "text": [
      "Training set Counter({False: 1140, True: 1140}) \nTest set Counter({True: 285, False: 285}) \n"
     ]
    }
   ],
   "source": [
    "#Let's see the no. of records per class in training and test set\n",
    "print(\"Training set {} \".format(Counter(y_train)))\n",
    "print(\"Test set {} \".format(Counter(y_test)))"
   ]
  },
  {
   "cell_type": "code",
   "execution_count": 29,
   "metadata": {},
   "outputs": [
    {
     "output_type": "stream",
     "name": "stdout",
     "text": [
      "time in milliseconds\n75.212\nConfusion Matrix:\n[[249  36]\n [124 161]]\nClassification Report\n              precision    recall  f1-score   support\n\n       False       0.67      0.87      0.76       285\n        True       0.82      0.56      0.67       285\n\n    accuracy                           0.72       570\n   macro avg       0.74      0.72      0.71       570\nweighted avg       0.74      0.72      0.71       570\n\nAccuracy of Gradient Boosting: 71.93 %\nPrecision of Gradient Boosting: 56.49 %\nRecall of Gradient Boosting: 81.73 %\n"
     ]
    }
   ],
   "source": [
    "#PART B\n",
    "from sklearn.metrics import classification_report, confusion_matrix\n",
    "from sklearn.metrics import classification_report, confusion_matrix\n",
    "from sklearn.metrics import recall_score, precision_score, accuracy_score\n",
    "import datetime\n",
    "#Gradient Boosting\n",
    "\n",
    "\n",
    "#X_train, X_test, y_train, y_test = train_test_split(X, y, test_size=0.33, shuffle=True, stratify=y_under)\n",
    "a = datetime.datetime.now()\n",
    "classifier = GradientBoostingClassifier(n_estimators=20, learning_rate=0.75, max_features=2, max_depth=2, random_state=0)\n",
    "classifier.fit(X_train, y_train)\n",
    "predictions = classifier.predict(X_test)\n",
    "b = datetime.datetime.now()\n",
    "c = b - a\n",
    "\n",
    "print('time in milliseconds')\n",
    "print(c.total_seconds() * 1000)\n",
    "print(\"Confusion Matrix:\")\n",
    "print(confusion_matrix(y_test, predictions))\n",
    "\n",
    "print(\"Classification Report\")\n",
    "print(classification_report(y_test, predictions))\n",
    "\n",
    "accuracy = accuracy_score(predictions, y_test) * 100\n",
    "recall = recall_score(predictions, y_test) * 100\n",
    "precision = precision_score(predictions, y_test) * 100\n",
    "\n",
    "print(\"Accuracy of Gradient Boosting: {:.2f} %\".format(accuracy))\n",
    "print(\"Precision of Gradient Boosting: {:.2f} %\".format(precision))\n",
    "print(\"Recall of Gradient Boosting: {:.2f} %\".format(recall))\n"
   ]
  },
  {
   "cell_type": "code",
   "execution_count": 30,
   "metadata": {},
   "outputs": [
    {
     "output_type": "stream",
     "name": "stdout",
     "text": [
      "time in milliseconds\n538.077\nConfusion Matrix:\n[[222  63]\n [124 161]]\nClassification Report\n              precision    recall  f1-score   support\n\n       False       0.64      0.78      0.70       285\n        True       0.72      0.56      0.63       285\n\n    accuracy                           0.67       570\n   macro avg       0.68      0.67      0.67       570\nweighted avg       0.68      0.67      0.67       570\n\nAccuracy of Random Forest: 67.19 %\nPrecision of Random Forest: 56.49 %\nRecall of Random Forest: 71.88 %\n"
     ]
    }
   ],
   "source": [
    "#Random Forest\n",
    "#X_train, X_test, y_train, y_test = train_test_split(X, y, test_size=0.2, shuffle=True, stratify = y_under)\n",
    "\n",
    "#create and fit random forest\n",
    "a = datetime.datetime.now()#start time\n",
    "rf = RandomForestClassifier(max_depth=2, random_state=0)\n",
    "rf.fit(X_train, y_train)\n",
    "y_pred = rf.predict(X_test)\n",
    "b = datetime.datetime.now()#end time\n",
    "c = b - a\n",
    "\n",
    "print('time in milliseconds')\n",
    "print(c.total_seconds() * 1000)\n",
    "\n",
    "print(\"Confusion Matrix:\")\n",
    "print(confusion_matrix(y_test, y_pred))\n",
    "\n",
    "print(\"Classification Report\")\n",
    "print(classification_report(y_test, y_pred))\n",
    "\n",
    "accuracy = accuracy_score(y_pred, y_test) * 100\n",
    "recall = recall_score(y_pred, y_test) * 100\n",
    "precision = precision_score(y_pred, y_test) * 100\n",
    "\n",
    "print(\"Accuracy of Random Forest: {:.2f} %\".format(accuracy))\n",
    "print(\"Precision of Random Forest: {:.2f} %\".format(precision))\n",
    "print(\"Recall of Random Forest: {:.2f} %\".format(recall))\n"
   ]
  },
  {
   "cell_type": "code",
   "execution_count": 31,
   "metadata": {},
   "outputs": [
    {
     "output_type": "stream",
     "name": "stdout",
     "text": [
      "time in milliseconds\n16.152\nConfusion Matrix:\n[[274  11]\n [106 179]]\nClassification Report\n              precision    recall  f1-score   support\n\n       False       0.72      0.96      0.82       285\n        True       0.94      0.63      0.75       285\n\n    accuracy                           0.79       570\n   macro avg       0.83      0.79      0.79       570\nweighted avg       0.83      0.79      0.79       570\n\nAccuracy of Decision Tree: 79.47 %\nRecall of Decision Tree: 94.21 %\nPrecision of Decision Tree: 62.81 %\n"
     ]
    }
   ],
   "source": [
    "#Decision Tree Algorithm:\n",
    "#X_train, X_test, y_train, y_test = train_test_split(X, y, test_size=0.2, shuffle=True, stratify=y)\n",
    "from sklearn import tree\n",
    "from matplotlib import pyplot as plt\n",
    "import graphviz\n",
    "\n",
    "a = datetime.datetime.now()\n",
    "dt = DecisionTreeClassifier(criterion='entropy')\n",
    "dt.fit(X_train, y_train)\n",
    "y_pred = dt.predict(X_test)\n",
    "b = datetime.datetime.now()\n",
    "c = b - a\n",
    "\n",
    "print('time in milliseconds')\n",
    "print(c.total_seconds() * 1000)\n",
    "\n",
    "print(\"Confusion Matrix:\")\n",
    "print(confusion_matrix(y_test, y_pred))\n",
    "\n",
    "print(\"Classification Report\")\n",
    "print(classification_report(y_test, y_pred))\n",
    "\n",
    "accuracy = accuracy_score(y_pred,y_test) * 100  \n",
    "recall = recall_score(y_pred, y_test) * 100 \n",
    "precision = precision_score(y_pred, y_test) * 100\n",
    "\n",
    "print(\"Accuracy of Decision Tree: {:.2f} %\".format(accuracy))\n",
    "print(\"Recall of Decision Tree: {:.2f} %\".format(recall))\n",
    "print(\"Precision of Decision Tree: {:.2f} %\".format(precision))\n",
    "\n"
   ]
  },
  {
   "cell_type": "code",
   "execution_count": 32,
   "metadata": {},
   "outputs": [
    {
     "output_type": "execute_result",
     "data": {
      "text/plain": [
       "'DecisionTree.pdf'"
      ]
     },
     "metadata": {},
     "execution_count": 32
    }
   ],
   "source": [
    "dot_data = tree.export_graphviz(dt, out_file=None) \n",
    "graph = graphviz.Source(dot_data) \n",
    "graph.render(\"DecisionTree\") "
   ]
  },
  {
   "cell_type": "code",
   "execution_count": 33,
   "metadata": {},
   "outputs": [
    {
     "output_type": "stream",
     "name": "stdout",
     "text": [
      "[925.1087831  939.7998996  952.18285441 917.08553668 944.23583639\n 949.74014096 932.91626346 949.02915909 949.59407548 949.82907607\n 926.13928449 945.78844756 949.18189061 957.36590465 945.86749403\n 952.26264128 942.75300989 939.31171063 961.24894528 956.90805965\n 938.07559373 929.02738659 953.79144066 961.81270532 942.68274545\n 950.4449082  922.36269656 963.7609983  965.12387755 918.99338441\n 948.50151053 924.42493723 942.80074822 953.44690128 936.56966114\n 950.00585849 917.55261097 941.35091487 954.11784634 926.40344108\n 931.68785905 932.50681875 960.13959869 953.42644287 957.20947755\n 942.80152514 941.98238685 953.65035101 951.21167954 963.7609983\n 919.16438637 925.1087831  953.44690128 925.20188331 907.48424789\n 942.80102615 955.98508625 950.93101719 930.23746469 948.36728705\n 956.90805965 949.51496995 952.26264128 961.16010659 946.35148718\n 895.6000913  949.02915909 954.16858713 948.78311863 948.78311863\n 942.19153007 932.91626346 949.8592989  953.44690128 951.0802186\n 889.10182833 956.53398031 956.59122807 951.56113357 895.91296218\n 914.35533447 917.71906621 961.45340502 948.09741106 939.38695359\n 961.16010659 915.15313547 960.59282164 957.37849787 944.28820703\n 937.98921524 948.09741106 898.11193569 942.75300989 954.02786651\n 942.75300989 949.18189061 949.82907607 938.34465597 952.13413676\n 950.57526244 952.39293934 949.31731397 945.48256651 949.56946729\n 959.75309533 944.6715663  958.2226158  942.37192887 949.18189061\n 953.44690128 931.4978118  929.97105338 925.73662821 960.81058682\n 957.12215167 952.13413676 963.7609983  948.78311863 938.50182559\n 952.21509763 957.85613446 948.98688879 925.20188331 932.91626346\n 913.85103936 919.57154243 904.07530971 952.93826791 925.20188331\n 906.25564909 946.82901444 952.93826791 948.48032879 915.99302379\n 933.33834576 922.25033474 914.99454072 957.77652369 925.20188331\n 933.069038   913.06523334 941.54592569 948.09741106 939.69780342\n 938.1797304  942.31489723 956.40344365 940.81932063 933.33834576\n 924.70645502 924.41290629 935.76078717 961.03618369 937.8270334\n 958.03943113 912.01067948 941.60890757 925.56305895 939.69780342\n 950.84140286 933.33834576 921.21822873 919.3099627  941.98238685\n 942.80102615 956.72719821 942.75300989 956.49791492 939.69780342\n 940.95327982 956.90805965 931.68702552 911.35492884 953.14499769\n 927.38394782 945.78844756 955.3894272  941.60890757 922.14261921\n 905.30532295 963.53986738 961.24894528 942.19153007 947.73409284\n 956.09353972 958.31919604 952.98605601 939.69780342 925.20188331\n 906.30195442 942.19153007 938.07559373 952.93826791 944.28820703\n 952.13413676 916.66667205 944.45038328 948.78311863 956.53398031\n 943.63343565 954.69995213 945.78844756 938.1797304  958.16731342\n 938.14350823 918.74521835 924.70645502 949.46888465 958.03943113\n 947.6619443  958.03943113 920.87963256 965.54288209 901.1361283\n 888.36630246 912.16941955 947.64405741 936.42196249 942.19153007\n 901.26526186 957.37849787 957.91606562 914.18374763 956.59122807\n 931.36344771 953.30453748 962.75287706 955.98508625 937.00006928\n 942.75300989 947.68579931 950.15337512 923.81424172 916.93951045\n 950.89446932 938.07559373 941.20850309 945.86749403 944.70815372\n 938.07559373 908.92111437 960.37452724 917.45594564 916.24903464\n 945.18101544 899.04966276 924.42493723 944.24400419 948.78311863\n 948.70298277 957.37849787 949.06095007 949.06095007 929.56563409\n 965.58072161 942.80162573 880.18381775 955.98508625 931.6868514\n 894.93150963 947.60979808 940.87161387 939.19323114 943.55174335\n 950.15337512 922.63085    918.68674545 930.02542876 947.21493581\n 933.39075416 951.11852837 936.05811643 935.97554335 921.85009877\n 956.59122807 956.09353972 957.37849787 900.6255711  950.32685265\n 948.78311863 953.44690128 953.79144066 944.11736808 958.42348992\n 962.27535247 948.36728705 942.75300989 929.87803308 930.02542876\n 961.24894528 897.87872384 942.31489723 931.0491869  918.95312226\n 946.23698325 910.7924018  945.78844756 921.12945131 947.55856022\n 852.72626144 940.7635589  911.93937864 907.66151093 944.45038328\n 925.20188331 948.93912714 917.36089193 923.68499347 912.04658456\n 942.19153007 954.69995213 950.15337512 927.78955018 949.06095007\n 946.7687771  938.50182559 947.6619443  901.97671786 928.76024606\n 950.59221367 944.45038328 954.11784634 953.04476856 941.60890757\n 925.73662821 947.6619443  927.63951909 941.60890757 922.93006027\n 946.64426274 956.1047506  939.7998996  925.73662821 956.5593641\n 900.0719892  945.9438606  941.60890757 904.1780969  953.5225578\n 930.47228316 915.94536021 942.31489723 947.21493581 955.3894272\n 942.801188   933.33834576 906.92406457 949.06095007 903.62066269\n 965.12387755 946.29811322 953.44690128 934.05550983 910.88257891\n 938.1797304  913.82635308 953.42644287 951.60688305 948.4518125\n 919.92665665 933.92667577 950.96687116 961.16010659 931.0491869\n 930.02542876 930.12032053 942.04859423 937.44166283 932.50681875\n 943.41168589 950.21498525 903.2005298  925.86625206 913.05818065\n 942.19153007 926.22183142 949.82907607 950.44643011 940.59085225\n 917.98367897 940.81932063 961.16010659 958.03943113 950.93101719\n 948.36728705 958.31919604 953.5263637  942.19153007 950.21498525\n 893.35289686 950.22448793 932.81578965 949.46888465 952.39293934\n 921.85009877 937.00006928 948.48032879 961.24894528 906.0367775\n 942.19153007 954.52866473 917.84283832 888.30868104 909.70433748\n 955.89243489 950.44643011 953.65035101 947.10612678 949.46888465\n 957.49712818 954.11784634 897.94506444 900.84378555 939.90021917\n 929.52589746 927.63951909 952.93826791 945.78844756 934.34697681\n 940.01834101 961.34091796 959.31561328 941.60890757 948.4518125\n 946.23698325 933.33834576 899.48191725 897.08922254 953.5263637\n 942.14955323 957.38911749 942.31489723 940.54520425 953.91221792\n 935.11881007 951.47930309 949.09548459 957.12215167 961.24894528\n 918.33766165 933.38009617 956.72719821 959.31561328 916.83731136\n 960.41270845 961.16010659 953.5225578  936.47630702 924.42493723\n 948.09741106 948.48032879 965.12387755 948.96176637 941.60890757\n 948.58172907 948.4518125  934.7897781  948.70298277 939.38695359\n 941.60890757 933.37336904 938.1797304  949.09548459 953.5263637\n 925.73662821 913.03910701 927.52108917 955.42498489 947.22357194\n 958.08086699 925.60079693 953.44690128 882.13372676 941.66565595\n 909.78799218 954.7790663  958.08086699 939.45675364 957.18924498\n 942.31489723 954.75162252 930.39399087 952.21509763 939.32035082\n 904.64350857 965.58072161 949.31731397 957.95681033 942.68274545\n 950.93101719 955.98508625 913.24554079 940.12042417 940.95327982\n 958.03943113 953.5263637  953.5225578  958.08086699 940.81932063\n 948.78311863 930.02542876 924.8330331  960.70140439 946.21866259\n 930.09002686 937.8270334  922.25033474 946.68444872 956.53398031\n 949.83822042 880.25293231 909.09853889 931.00555942 932.4704606\n 918.66705799 921.0023525  925.38811328 924.45970901 962.75287706\n 938.07559373 949.02915909 957.37849787 947.65953036 938.1797304\n 956.09353972 956.5593641  940.95327982 949.72835547 939.38695359\n 953.91221792 939.32035082 944.08621819 941.66565595 937.4307846\n 892.82729672 925.20188331 952.93826791 949.02915909 954.11784634\n 950.44643011 950.93101719 919.20611462 933.38009617 953.65035101\n 925.20188331 961.24894528 930.64723278 922.93006027 960.35611286\n 956.09353972 894.34009197 938.50182559 947.10612678 949.09548459\n 959.31561328 942.31489723 925.20188331 915.99302379 939.73383545\n 956.61454568 927.8864404  920.07412764 952.13331931 907.6724482\n 942.96454355 895.26771197 932.52311569 954.69995213 942.96454355]\n"
     ]
    }
   ],
   "source": [
    "#PART C\n",
    "from sklearn.svm import OneClassSVM\n",
    "\n",
    "clf = OneClassSVM(gamma='auto').fit(X_train)\n",
    "y_pred = clf.predict(X_test)\n",
    "#array([-1,  1,  1,  1, -1])\n",
    "Score = clf.score_samples(X_test)\n",
    "print(Score)\n",
    "#array([1.7798..., 2.0547..., 2.0556..., 2.0561..., 1.7332...])\n"
   ]
  },
  {
   "cell_type": "code",
   "execution_count": null,
   "metadata": {},
   "outputs": [],
   "source": []
  }
 ]
}