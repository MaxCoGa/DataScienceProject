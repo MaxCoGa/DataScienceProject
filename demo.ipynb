{
 "metadata": {
  "language_info": {
   "codemirror_mode": {
    "name": "ipython",
    "version": 3
   },
   "file_extension": ".py",
   "mimetype": "text/x-python",
   "name": "python",
   "nbconvert_exporter": "python",
   "pygments_lexer": "ipython3",
   "version": "3.9.2"
  },
  "orig_nbformat": 2,
  "kernelspec": {
   "name": "python392jvsc74a57bd0ffef2fa9cbcc2cd7cb384c713b0ae375e402913407c8199aff0f77ffc4a59ac0",
   "display_name": "Python 3.9.2 64-bit"
  }
 },
 "nbformat": 4,
 "nbformat_minor": 2,
 "cells": [
  {
   "cell_type": "code",
   "execution_count": 56,
   "metadata": {},
   "outputs": [],
   "source": [
    "from configparser import ConfigParser\n",
    "import psycopg2\n",
    "import numpy as np\n",
    "import pandas as pd\n",
    "from sklearn import preprocessing\n",
    "from sklearn.model_selection import train_test_split\n",
    "from sklearn.tree import DecisionTreeClassifier\n",
    "from sklearn.ensemble import RandomForestClassifier\n",
    "from sklearn.ensemble import GradientBoostingClassifier\n",
    "from sklearn.svm import LinearSVC\n",
    "from sklearn.metrics import recall_score, precision_score\n",
    "#Can be very helpful to notice any imbalance in classes\n",
    "from collections import Counter "
   ]
  },
  {
   "cell_type": "code",
   "execution_count": 57,
   "metadata": {},
   "outputs": [],
   "source": [
    "#Sourced from https://www.postgresqltutorial.com/postgresql-python/connect/\n",
    "def config(filename='psql_sample.ini', section='postgresql'):\n",
    "    parser = ConfigParser()\n",
    "    # read config file\n",
    "    parser.read(filename) \n",
    " \n",
    "    # get section, default to postgresql\n",
    "    db = {}\n",
    "    if parser.has_section(section):\n",
    "        params = parser.items(section)\n",
    "        for param in params:\n",
    "            db[param[0]] = param[1]\n",
    "    else:\n",
    "        raise Exception('Section {0} not found in the {1} file'.format(section, filename))\n",
    " \n",
    "    return db"
   ]
  },
  {
   "cell_type": "code",
   "execution_count": 58,
   "metadata": {},
   "outputs": [
    {
     "output_type": "stream",
     "name": "stdout",
     "text": [
      "Here's an attempt to connect to the database\n",
      "Look's like it was a success\n"
     ]
    }
   ],
   "source": [
    "#Get the configuration file as a python dictionary\n",
    "cfg = config()\n",
    "\n",
    "#Establish the connection and create a cursor to the database\n",
    "try:\n",
    "    print(\"Here's an attempt to connect to the database\")\n",
    "    conn = psycopg2.connect(**cfg)\n",
    "    cursor = conn.cursor()\n",
    "    print(\"Look's like it was a success\")\n",
    "    \n",
    "except (Exception, psycopg2.DatabaseError) as error:\n",
    "    print(error)"
   ]
  },
  {
   "cell_type": "code",
   "execution_count": 59,
   "metadata": {},
   "outputs": [],
   "source": [
    "#SELECT QUERY\n",
    "try:\n",
    "    #Lets get our data \n",
    "    cursor.execute(\"SELECT age_group,gender,measures.status,holiday,city,daily_high_temp,daily_low_temp,rain_amount,snow_amount,parks_percentage,retail_and_recreation_percentage,grocery_and_pharmacy_percentage,workplaces_percentage,residential_percentage,transit_stations_percentage,is_fatal,is_resolved,is_unresolved from data_mart.fact_table as fact inner join data_mart.mobility_dimension as mobility on fact.mobility_key=mobility.mobility_key inner join data_mart.weather_dimension as weather on fact.weather_key=weather.weather_key inner join data_mart.patient_dimension as patient on fact.patient_key=patient.patient_key inner join data_mart.special_measures_dimension as measures on fact.special_measures_key=measures.special_measures_key inner join data_mart.phu_location_dimension as phu on fact.phu_location_key=phu.phu_location_key inner join data_mart.reported_date_dimension as date on fact.reported_date_key=date.reported_date_key\") \n",
    "\n",
    "    #Get the complete result set. It will be a list of tuples where each tuple is a row from the result set\n",
    "    result_list = cursor.fetchall()\n",
    "        \n",
    "except (Exception, psycopg2.DatabaseError) as error:\n",
    "    print(error)"
   ]
  },
  {
   "cell_type": "code",
   "execution_count": 60,
   "metadata": {},
   "outputs": [],
   "source": [
    "#Ensure to run this cell at the end of all your experiments to close all connections\n",
    "cursor.close()\n",
    "conn.close()"
   ]
  },
  {
   "cell_type": "code",
   "execution_count": 61,
   "metadata": {},
   "outputs": [
    {
     "output_type": "execute_result",
     "data": {
      "text/plain": [
       "  age_group gender                          status  holiday         city  \\\n",
       "0       40s   MALE  Private gathering restrictions    False  Mississauga   \n",
       "1       50s   MALE  Private gathering restrictions    False  Mississauga   \n",
       "2       <20   MALE  Private gathering restrictions    False  Mississauga   \n",
       "3       30s   MALE  Private gathering restrictions    False  Mississauga   \n",
       "4       20s   MALE  Private gathering restrictions    False    Newmarket   \n",
       "\n",
       "   parks_percentage  retail_and_recreation_percentage  \\\n",
       "0              71.0                             -15.0   \n",
       "1              71.0                             -15.0   \n",
       "2              71.0                             -15.0   \n",
       "3              71.0                             -15.0   \n",
       "4               NaN                             -11.0   \n",
       "\n",
       "   grocery_and_pharmacy_percentage  is_fatal  \n",
       "0                             -1.0     False  \n",
       "1                             -1.0     False  \n",
       "2                             -1.0     False  \n",
       "3                             -1.0     False  \n",
       "4                              4.0     False  "
      ],
      "text/html": "<div>\n<style scoped>\n    .dataframe tbody tr th:only-of-type {\n        vertical-align: middle;\n    }\n\n    .dataframe tbody tr th {\n        vertical-align: top;\n    }\n\n    .dataframe thead th {\n        text-align: right;\n    }\n</style>\n<table border=\"1\" class=\"dataframe\">\n  <thead>\n    <tr style=\"text-align: right;\">\n      <th></th>\n      <th>age_group</th>\n      <th>gender</th>\n      <th>status</th>\n      <th>holiday</th>\n      <th>city</th>\n      <th>parks_percentage</th>\n      <th>retail_and_recreation_percentage</th>\n      <th>grocery_and_pharmacy_percentage</th>\n      <th>is_fatal</th>\n    </tr>\n  </thead>\n  <tbody>\n    <tr>\n      <th>0</th>\n      <td>40s</td>\n      <td>MALE</td>\n      <td>Private gathering restrictions</td>\n      <td>False</td>\n      <td>Mississauga</td>\n      <td>71.0</td>\n      <td>-15.0</td>\n      <td>-1.0</td>\n      <td>False</td>\n    </tr>\n    <tr>\n      <th>1</th>\n      <td>50s</td>\n      <td>MALE</td>\n      <td>Private gathering restrictions</td>\n      <td>False</td>\n      <td>Mississauga</td>\n      <td>71.0</td>\n      <td>-15.0</td>\n      <td>-1.0</td>\n      <td>False</td>\n    </tr>\n    <tr>\n      <th>2</th>\n      <td>&lt;20</td>\n      <td>MALE</td>\n      <td>Private gathering restrictions</td>\n      <td>False</td>\n      <td>Mississauga</td>\n      <td>71.0</td>\n      <td>-15.0</td>\n      <td>-1.0</td>\n      <td>False</td>\n    </tr>\n    <tr>\n      <th>3</th>\n      <td>30s</td>\n      <td>MALE</td>\n      <td>Private gathering restrictions</td>\n      <td>False</td>\n      <td>Mississauga</td>\n      <td>71.0</td>\n      <td>-15.0</td>\n      <td>-1.0</td>\n      <td>False</td>\n    </tr>\n    <tr>\n      <th>4</th>\n      <td>20s</td>\n      <td>MALE</td>\n      <td>Private gathering restrictions</td>\n      <td>False</td>\n      <td>Newmarket</td>\n      <td>NaN</td>\n      <td>-11.0</td>\n      <td>4.0</td>\n      <td>False</td>\n    </tr>\n  </tbody>\n</table>\n</div>"
     },
     "metadata": {},
     "execution_count": 61
    }
   ],
   "source": [
    "#Now,  1\n",
    "result_df = pd.DataFrame(result_list, columns=[\"age_group\",\"gender\",\"status\",\"holiday\",\"city\",\"daily_high\",\"daily_low\",\"rain_amount\",\"snow_amount\", \"parks_percentage\", \"retail_and_recreation_percentage\",\"grocery_and_pharmacy_percentage\",\"workplaces_percentage\",\"residential_percentage\",\"transit_stations_percentage\",\n",
    "                                               \"is_fatal\", \"is_resolved\",\"is_unresolved\"])\n",
    "\n",
    "result_df.drop(columns=['daily_high'], inplace=True)\n",
    "result_df.drop(columns=['daily_low'], inplace=True)\n",
    "result_df.drop(columns=['rain_amount'], inplace=True)\n",
    "result_df.drop(columns=['snow_amount'], inplace=True)\n",
    "result_df.drop(columns=['workplaces_percentage'], inplace=True)\n",
    "result_df.drop(columns=['residential_percentage'], inplace=True)\n",
    "result_df.drop(columns=['transit_stations_percentage'], inplace=True)\n",
    "result_df.drop(columns=['is_resolved'], inplace=True)\n",
    "result_df.drop(columns=['is_unresolved'], inplace=True)\n",
    "\n",
    "result_df.head()"
   ]
  },
  {
   "cell_type": "code",
   "execution_count": 62,
   "metadata": {},
   "outputs": [
    {
     "output_type": "execute_result",
     "data": {
      "text/plain": [
       "  age_group gender                          status  holiday         city  \\\n",
       "0       40s   MALE  Private gathering restrictions    False  Mississauga   \n",
       "1       50s   MALE  Private gathering restrictions    False  Mississauga   \n",
       "2       <20   MALE  Private gathering restrictions    False  Mississauga   \n",
       "3       30s   MALE  Private gathering restrictions    False  Mississauga   \n",
       "4       20s   MALE  Private gathering restrictions    False    Newmarket   \n",
       "\n",
       "   parks_percentage  retail_and_recreation_percentage  \\\n",
       "0         71.000000                             -15.0   \n",
       "1         71.000000                             -15.0   \n",
       "2         71.000000                             -15.0   \n",
       "3         71.000000                             -15.0   \n",
       "4         16.937927                             -11.0   \n",
       "\n",
       "   grocery_and_pharmacy_percentage  is_fatal  \n",
       "0                             -1.0     False  \n",
       "1                             -1.0     False  \n",
       "2                             -1.0     False  \n",
       "3                             -1.0     False  \n",
       "4                              4.0     False  "
      ],
      "text/html": "<div>\n<style scoped>\n    .dataframe tbody tr th:only-of-type {\n        vertical-align: middle;\n    }\n\n    .dataframe tbody tr th {\n        vertical-align: top;\n    }\n\n    .dataframe thead th {\n        text-align: right;\n    }\n</style>\n<table border=\"1\" class=\"dataframe\">\n  <thead>\n    <tr style=\"text-align: right;\">\n      <th></th>\n      <th>age_group</th>\n      <th>gender</th>\n      <th>status</th>\n      <th>holiday</th>\n      <th>city</th>\n      <th>parks_percentage</th>\n      <th>retail_and_recreation_percentage</th>\n      <th>grocery_and_pharmacy_percentage</th>\n      <th>is_fatal</th>\n    </tr>\n  </thead>\n  <tbody>\n    <tr>\n      <th>0</th>\n      <td>40s</td>\n      <td>MALE</td>\n      <td>Private gathering restrictions</td>\n      <td>False</td>\n      <td>Mississauga</td>\n      <td>71.000000</td>\n      <td>-15.0</td>\n      <td>-1.0</td>\n      <td>False</td>\n    </tr>\n    <tr>\n      <th>1</th>\n      <td>50s</td>\n      <td>MALE</td>\n      <td>Private gathering restrictions</td>\n      <td>False</td>\n      <td>Mississauga</td>\n      <td>71.000000</td>\n      <td>-15.0</td>\n      <td>-1.0</td>\n      <td>False</td>\n    </tr>\n    <tr>\n      <th>2</th>\n      <td>&lt;20</td>\n      <td>MALE</td>\n      <td>Private gathering restrictions</td>\n      <td>False</td>\n      <td>Mississauga</td>\n      <td>71.000000</td>\n      <td>-15.0</td>\n      <td>-1.0</td>\n      <td>False</td>\n    </tr>\n    <tr>\n      <th>3</th>\n      <td>30s</td>\n      <td>MALE</td>\n      <td>Private gathering restrictions</td>\n      <td>False</td>\n      <td>Mississauga</td>\n      <td>71.000000</td>\n      <td>-15.0</td>\n      <td>-1.0</td>\n      <td>False</td>\n    </tr>\n    <tr>\n      <th>4</th>\n      <td>20s</td>\n      <td>MALE</td>\n      <td>Private gathering restrictions</td>\n      <td>False</td>\n      <td>Newmarket</td>\n      <td>16.937927</td>\n      <td>-11.0</td>\n      <td>4.0</td>\n      <td>False</td>\n    </tr>\n  </tbody>\n</table>\n</div>"
     },
     "metadata": {},
     "execution_count": 62
    }
   ],
   "source": [
    "#Removing null values : 2\n",
    "result_df[\"parks_percentage\"].fillna(result_df[\"parks_percentage\"].mean(), inplace=True)\n",
    "result_df[\"grocery_and_pharmacy_percentage\"].fillna(result_df[\"grocery_and_pharmacy_percentage\"].mean(), inplace=True)\n",
    "result_df[\"retail_and_recreation_percentage\"].fillna(result_df[\"retail_and_recreation_percentage\"].mean(), inplace=True)\n",
    "\n",
    "result_df.head()"
   ]
  },
  {
   "cell_type": "code",
   "execution_count": 63,
   "metadata": {},
   "outputs": [
    {
     "output_type": "execute_result",
     "data": {
      "text/plain": [
       "Counter({False: 83387, True: 1425})"
      ]
     },
     "metadata": {},
     "execution_count": 63
    }
   ],
   "source": [
    "#get counter 6\n",
    "Counter(result_df['is_fatal'])"
   ]
  },
  {
   "cell_type": "code",
   "execution_count": 64,
   "metadata": {},
   "outputs": [],
   "source": [
    "#Get the labels 3\n",
    "y_under = result_df[\"is_fatal\"]#label\n"
   ]
  },
  {
   "cell_type": "code",
   "execution_count": 65,
   "metadata": {},
   "outputs": [
    {
     "output_type": "execute_result",
     "data": {
      "text/plain": [
       "                           status age_group  is_fatal         city gender  \\\n",
       "0  Private gathering restrictions       40s     False  Mississauga   MALE   \n",
       "1  Private gathering restrictions       50s     False  Mississauga   MALE   \n",
       "2  Private gathering restrictions       <20     False  Mississauga   MALE   \n",
       "3  Private gathering restrictions       30s     False  Mississauga   MALE   \n",
       "4  Private gathering restrictions       20s     False    Newmarket   MALE   \n",
       "\n",
       "   holiday  retail_and_recreation_percentage  grocery_and_pharmacy_percentage  \\\n",
       "0    False                         -0.206685                        -0.013779   \n",
       "1    False                         -0.206685                        -0.013779   \n",
       "2    False                         -0.206685                        -0.013779   \n",
       "3    False                         -0.206685                        -0.013779   \n",
       "4    False                         -0.534274                         0.194282   \n",
       "\n",
       "   parks_percentage  \n",
       "0          0.978310  \n",
       "1          0.978310  \n",
       "2          0.978310  \n",
       "3          0.978310  \n",
       "4          0.822682  "
      ],
      "text/html": "<div>\n<style scoped>\n    .dataframe tbody tr th:only-of-type {\n        vertical-align: middle;\n    }\n\n    .dataframe tbody tr th {\n        vertical-align: top;\n    }\n\n    .dataframe thead th {\n        text-align: right;\n    }\n</style>\n<table border=\"1\" class=\"dataframe\">\n  <thead>\n    <tr style=\"text-align: right;\">\n      <th></th>\n      <th>status</th>\n      <th>age_group</th>\n      <th>is_fatal</th>\n      <th>city</th>\n      <th>gender</th>\n      <th>holiday</th>\n      <th>retail_and_recreation_percentage</th>\n      <th>grocery_and_pharmacy_percentage</th>\n      <th>parks_percentage</th>\n    </tr>\n  </thead>\n  <tbody>\n    <tr>\n      <th>0</th>\n      <td>Private gathering restrictions</td>\n      <td>40s</td>\n      <td>False</td>\n      <td>Mississauga</td>\n      <td>MALE</td>\n      <td>False</td>\n      <td>-0.206685</td>\n      <td>-0.013779</td>\n      <td>0.978310</td>\n    </tr>\n    <tr>\n      <th>1</th>\n      <td>Private gathering restrictions</td>\n      <td>50s</td>\n      <td>False</td>\n      <td>Mississauga</td>\n      <td>MALE</td>\n      <td>False</td>\n      <td>-0.206685</td>\n      <td>-0.013779</td>\n      <td>0.978310</td>\n    </tr>\n    <tr>\n      <th>2</th>\n      <td>Private gathering restrictions</td>\n      <td>&lt;20</td>\n      <td>False</td>\n      <td>Mississauga</td>\n      <td>MALE</td>\n      <td>False</td>\n      <td>-0.206685</td>\n      <td>-0.013779</td>\n      <td>0.978310</td>\n    </tr>\n    <tr>\n      <th>3</th>\n      <td>Private gathering restrictions</td>\n      <td>30s</td>\n      <td>False</td>\n      <td>Mississauga</td>\n      <td>MALE</td>\n      <td>False</td>\n      <td>-0.206685</td>\n      <td>-0.013779</td>\n      <td>0.978310</td>\n    </tr>\n    <tr>\n      <th>4</th>\n      <td>Private gathering restrictions</td>\n      <td>20s</td>\n      <td>False</td>\n      <td>Newmarket</td>\n      <td>MALE</td>\n      <td>False</td>\n      <td>-0.534274</td>\n      <td>0.194282</td>\n      <td>0.822682</td>\n    </tr>\n  </tbody>\n</table>\n</div>"
     },
     "metadata": {},
     "execution_count": 65
    }
   ],
   "source": [
    "#normalize\n",
    "#Normalizing data:\n",
    "transform_data = result_df[[\"retail_and_recreation_percentage\",\"grocery_and_pharmacy_percentage\",\"parks_percentage\"]]\n",
    "X_normalized=preprocessing.normalize(transform_data,norm='l2')\n",
    "normalize_part=pd.DataFrame(X_normalized,columns=transform_data.columns)\n",
    "non_numerical=result_df[[\"status\",\"age_group\",\"is_fatal\",\"city\",\"gender\",\"holiday\"]]\n",
    "result_data=pd.concat([non_numerical,normalize_part],axis=1)\n",
    "result_data.head()"
   ]
  },
  {
   "cell_type": "code",
   "execution_count": 66,
   "metadata": {},
   "outputs": [],
   "source": [
    "#drop the label\n",
    "result_data.drop(columns=['is_fatal'], inplace=True)"
   ]
  },
  {
   "cell_type": "code",
   "execution_count": 67,
   "metadata": {},
   "outputs": [
    {
     "output_type": "execute_result",
     "data": {
      "text/plain": [
       "   holiday  retail_and_recreation_percentage  grocery_and_pharmacy_percentage  \\\n",
       "0    False                         -0.206685                        -0.013779   \n",
       "1    False                         -0.206685                        -0.013779   \n",
       "2    False                         -0.206685                        -0.013779   \n",
       "3    False                         -0.206685                        -0.013779   \n",
       "4    False                         -0.534274                         0.194282   \n",
       "\n",
       "   parks_percentage  status_Acitivies closures  status_Control  \\\n",
       "0          0.978310                          0               0   \n",
       "1          0.978310                          0               0   \n",
       "2          0.978310                          0               0   \n",
       "3          0.978310                          0               0   \n",
       "4          0.822682                          0               0   \n",
       "\n",
       "   status_Lockdown  status_Other  status_Private gathering restrictions  \\\n",
       "0                0             0                                      1   \n",
       "1                0             0                                      1   \n",
       "2                0             0                                      1   \n",
       "3                0             0                                      1   \n",
       "4                0             0                                      1   \n",
       "\n",
       "   status_Protect  ...  city_Mississauga  city_Newmarket  city_Oakville  \\\n",
       "0               0  ...                 1               0              0   \n",
       "1               0  ...                 1               0              0   \n",
       "2               0  ...                 1               0              0   \n",
       "3               0  ...                 1               0              0   \n",
       "4               0  ...                 0               1              0   \n",
       "\n",
       "   city_Ottawa  city_Toronto  city_Whitby  gender_FEMALE  \\\n",
       "0            0             0            0              0   \n",
       "1            0             0            0              0   \n",
       "2            0             0            0              0   \n",
       "3            0             0            0              0   \n",
       "4            0             0            0              0   \n",
       "\n",
       "   gender_GENDER DIVERSE  gender_MALE  gender_UNSPECIFIED  \n",
       "0                      0            1                   0  \n",
       "1                      0            1                   0  \n",
       "2                      0            1                   0  \n",
       "3                      0            1                   0  \n",
       "4                      0            1                   0  \n",
       "\n",
       "[5 rows x 32 columns]"
      ],
      "text/html": "<div>\n<style scoped>\n    .dataframe tbody tr th:only-of-type {\n        vertical-align: middle;\n    }\n\n    .dataframe tbody tr th {\n        vertical-align: top;\n    }\n\n    .dataframe thead th {\n        text-align: right;\n    }\n</style>\n<table border=\"1\" class=\"dataframe\">\n  <thead>\n    <tr style=\"text-align: right;\">\n      <th></th>\n      <th>holiday</th>\n      <th>retail_and_recreation_percentage</th>\n      <th>grocery_and_pharmacy_percentage</th>\n      <th>parks_percentage</th>\n      <th>status_Acitivies closures</th>\n      <th>status_Control</th>\n      <th>status_Lockdown</th>\n      <th>status_Other</th>\n      <th>status_Private gathering restrictions</th>\n      <th>status_Protect</th>\n      <th>...</th>\n      <th>city_Mississauga</th>\n      <th>city_Newmarket</th>\n      <th>city_Oakville</th>\n      <th>city_Ottawa</th>\n      <th>city_Toronto</th>\n      <th>city_Whitby</th>\n      <th>gender_FEMALE</th>\n      <th>gender_GENDER DIVERSE</th>\n      <th>gender_MALE</th>\n      <th>gender_UNSPECIFIED</th>\n    </tr>\n  </thead>\n  <tbody>\n    <tr>\n      <th>0</th>\n      <td>False</td>\n      <td>-0.206685</td>\n      <td>-0.013779</td>\n      <td>0.978310</td>\n      <td>0</td>\n      <td>0</td>\n      <td>0</td>\n      <td>0</td>\n      <td>1</td>\n      <td>0</td>\n      <td>...</td>\n      <td>1</td>\n      <td>0</td>\n      <td>0</td>\n      <td>0</td>\n      <td>0</td>\n      <td>0</td>\n      <td>0</td>\n      <td>0</td>\n      <td>1</td>\n      <td>0</td>\n    </tr>\n    <tr>\n      <th>1</th>\n      <td>False</td>\n      <td>-0.206685</td>\n      <td>-0.013779</td>\n      <td>0.978310</td>\n      <td>0</td>\n      <td>0</td>\n      <td>0</td>\n      <td>0</td>\n      <td>1</td>\n      <td>0</td>\n      <td>...</td>\n      <td>1</td>\n      <td>0</td>\n      <td>0</td>\n      <td>0</td>\n      <td>0</td>\n      <td>0</td>\n      <td>0</td>\n      <td>0</td>\n      <td>1</td>\n      <td>0</td>\n    </tr>\n    <tr>\n      <th>2</th>\n      <td>False</td>\n      <td>-0.206685</td>\n      <td>-0.013779</td>\n      <td>0.978310</td>\n      <td>0</td>\n      <td>0</td>\n      <td>0</td>\n      <td>0</td>\n      <td>1</td>\n      <td>0</td>\n      <td>...</td>\n      <td>1</td>\n      <td>0</td>\n      <td>0</td>\n      <td>0</td>\n      <td>0</td>\n      <td>0</td>\n      <td>0</td>\n      <td>0</td>\n      <td>1</td>\n      <td>0</td>\n    </tr>\n    <tr>\n      <th>3</th>\n      <td>False</td>\n      <td>-0.206685</td>\n      <td>-0.013779</td>\n      <td>0.978310</td>\n      <td>0</td>\n      <td>0</td>\n      <td>0</td>\n      <td>0</td>\n      <td>1</td>\n      <td>0</td>\n      <td>...</td>\n      <td>1</td>\n      <td>0</td>\n      <td>0</td>\n      <td>0</td>\n      <td>0</td>\n      <td>0</td>\n      <td>0</td>\n      <td>0</td>\n      <td>1</td>\n      <td>0</td>\n    </tr>\n    <tr>\n      <th>4</th>\n      <td>False</td>\n      <td>-0.534274</td>\n      <td>0.194282</td>\n      <td>0.822682</td>\n      <td>0</td>\n      <td>0</td>\n      <td>0</td>\n      <td>0</td>\n      <td>1</td>\n      <td>0</td>\n      <td>...</td>\n      <td>0</td>\n      <td>1</td>\n      <td>0</td>\n      <td>0</td>\n      <td>0</td>\n      <td>0</td>\n      <td>0</td>\n      <td>0</td>\n      <td>1</td>\n      <td>0</td>\n    </tr>\n  </tbody>\n</table>\n<p>5 rows × 32 columns</p>\n</div>"
     },
     "metadata": {},
     "execution_count": 67
    }
   ],
   "source": [
    "# Our features have categorical data. We need to convert them to one-hot encoders to get the best results.\n",
    "new_result_df = pd.get_dummies(result_data)\n",
    "new_result_df.head()"
   ]
  },
  {
   "cell_type": "code",
   "execution_count": 68,
   "metadata": {},
   "outputs": [],
   "source": [
    "#Undersampling of majority classes:  4\n",
    "from imblearn.under_sampling import NearMiss\n",
    "X = new_result_df.values#features\n",
    "undersample = NearMiss(version=1,n_neighbors=3)\n",
    "x_under, y_under = undersample.fit_resample(X,y_under)"
   ]
  },
  {
   "cell_type": "code",
   "execution_count": 69,
   "metadata": {},
   "outputs": [],
   "source": [
    "X_train, X_test, y_train, y_test = train_test_split(x_under, y_under, test_size=0.33, shuffle=True, stratify=y_under)"
   ]
  },
  {
   "cell_type": "code",
   "execution_count": 70,
   "metadata": {},
   "outputs": [
    {
     "output_type": "stream",
     "name": "stdout",
     "text": [
      "Training set Counter({False: 955, True: 954}) \nTest set Counter({True: 471, False: 470}) \n"
     ]
    }
   ],
   "source": [
    "#Let's see the no. of records per class in training and test set\n",
    "print(\"Training set {} \".format(Counter(y_train)))\n",
    "print(\"Test set {} \".format(Counter(y_test)))"
   ]
  },
  {
   "cell_type": "code",
   "execution_count": 71,
   "metadata": {},
   "outputs": [
    {
     "output_type": "stream",
     "name": "stdout",
     "text": [
      "time in milliseconds\n",
      "91.598\n",
      "Confusion Matrix:\n",
      "[[403  67]\n",
      " [191 280]]\n",
      "Classification Report\n",
      "              precision    recall  f1-score   support\n",
      "\n",
      "       False       0.68      0.86      0.76       470\n",
      "        True       0.81      0.59      0.68       471\n",
      "\n",
      "    accuracy                           0.73       941\n",
      "   macro avg       0.74      0.73      0.72       941\n",
      "weighted avg       0.74      0.73      0.72       941\n",
      "\n",
      "Accuracy of Gradient Boosting: 72.58 %\n",
      "Precision of Gradient Boosting: 59.45 %\n",
      "Recall of Gradient Boosting: 80.69 %\n"
     ]
    }
   ],
   "source": [
    "#PART B\n",
    "from sklearn.metrics import classification_report, confusion_matrix\n",
    "from sklearn.metrics import classification_report, confusion_matrix\n",
    "from sklearn.metrics import recall_score, precision_score, accuracy_score\n",
    "import datetime\n",
    "#Gradient Boosting\n",
    "\n",
    "\n",
    "#X_train, X_test, y_train, y_test = train_test_split(X, y, test_size=0.33, shuffle=True, stratify=y_under)\n",
    "a = datetime.datetime.now()\n",
    "classifier = GradientBoostingClassifier(n_estimators=20, learning_rate=0.75, max_features=2, max_depth=2, random_state=0)\n",
    "classifier.fit(X_train, y_train)\n",
    "predictions = classifier.predict(X_test)\n",
    "b = datetime.datetime.now()\n",
    "c = b - a\n",
    "\n",
    "print('time in milliseconds')\n",
    "print(c.total_seconds() * 1000)\n",
    "print(\"Confusion Matrix:\")\n",
    "print(confusion_matrix(y_test, predictions))\n",
    "\n",
    "print(\"Classification Report\")\n",
    "print(classification_report(y_test, predictions))\n",
    "\n",
    "accuracy = accuracy_score(predictions, y_test) * 100\n",
    "recall = recall_score(predictions, y_test) * 100\n",
    "precision = precision_score(predictions, y_test) * 100\n",
    "\n",
    "print(\"Accuracy of Gradient Boosting: {:.2f} %\".format(accuracy))\n",
    "print(\"Precision of Gradient Boosting: {:.2f} %\".format(precision))\n",
    "print(\"Recall of Gradient Boosting: {:.2f} %\".format(recall))\n"
   ]
  },
  {
   "cell_type": "code",
   "execution_count": 72,
   "metadata": {},
   "outputs": [
    {
     "output_type": "stream",
     "name": "stdout",
     "text": [
      "time in milliseconds\n413.632\nConfusion Matrix:\n[[377  93]\n [185 286]]\nClassification Report\n              precision    recall  f1-score   support\n\n       False       0.67      0.80      0.73       470\n        True       0.75      0.61      0.67       471\n\n    accuracy                           0.70       941\n   macro avg       0.71      0.70      0.70       941\nweighted avg       0.71      0.70      0.70       941\n\nAccuracy of Random Forest: 70.46 %\nPrecision of Random Forest: 60.72 %\nRecall of Random Forest: 75.46 %\n"
     ]
    }
   ],
   "source": [
    "#Random Forest\n",
    "#X_train, X_test, y_train, y_test = train_test_split(X, y, test_size=0.2, shuffle=True, stratify = y_under)\n",
    "\n",
    "#create and fit random forest\n",
    "a = datetime.datetime.now()#start time\n",
    "rf = RandomForestClassifier(max_depth=2, random_state=0)\n",
    "rf.fit(X_train, y_train)\n",
    "y_pred = rf.predict(X_test)\n",
    "b = datetime.datetime.now()#end time\n",
    "c = b - a\n",
    "\n",
    "print('time in milliseconds')\n",
    "print(c.total_seconds() * 1000)\n",
    "\n",
    "print(\"Confusion Matrix:\")\n",
    "print(confusion_matrix(y_test, y_pred))\n",
    "\n",
    "print(\"Classification Report\")\n",
    "print(classification_report(y_test, y_pred))\n",
    "\n",
    "accuracy = accuracy_score(y_pred, y_test) * 100\n",
    "recall = recall_score(y_pred, y_test) * 100\n",
    "precision = precision_score(y_pred, y_test) * 100\n",
    "\n",
    "print(\"Accuracy of Random Forest: {:.2f} %\".format(accuracy))\n",
    "print(\"Precision of Random Forest: {:.2f} %\".format(precision))\n",
    "print(\"Recall of Random Forest: {:.2f} %\".format(recall))\n"
   ]
  },
  {
   "cell_type": "code",
   "execution_count": 73,
   "metadata": {},
   "outputs": [
    {
     "output_type": "stream",
     "name": "stdout",
     "text": [
      "time in milliseconds\n18.568\nConfusion Matrix:\n[[423  47]\n [170 301]]\nClassification Report\n              precision    recall  f1-score   support\n\n       False       0.71      0.90      0.80       470\n        True       0.86      0.64      0.74       471\n\n    accuracy                           0.77       941\n   macro avg       0.79      0.77      0.77       941\nweighted avg       0.79      0.77      0.77       941\n\nAccuracy of Decision Tree: 76.94 %\nRecall of Decision Tree: 86.49 %\nPrecision of Decision Tree: 63.91 %\n"
     ]
    }
   ],
   "source": [
    "#Decision Tree Algorithm:\n",
    "#X_train, X_test, y_train, y_test = train_test_split(X, y, test_size=0.2, shuffle=True, stratify=y)\n",
    "from sklearn import tree\n",
    "from matplotlib import pyplot as plt\n",
    "import graphviz\n",
    "\n",
    "a = datetime.datetime.now()\n",
    "dt = DecisionTreeClassifier(criterion='entropy')\n",
    "dt.fit(X_train, y_train)\n",
    "y_pred = dt.predict(X_test)\n",
    "b = datetime.datetime.now()\n",
    "c = b - a\n",
    "\n",
    "print('time in milliseconds')\n",
    "print(c.total_seconds() * 1000)\n",
    "\n",
    "print(\"Confusion Matrix:\")\n",
    "print(confusion_matrix(y_test, y_pred))\n",
    "\n",
    "print(\"Classification Report\")\n",
    "print(classification_report(y_test, y_pred))\n",
    "\n",
    "accuracy = accuracy_score(y_pred,y_test) * 100  \n",
    "recall = recall_score(y_pred, y_test) * 100 \n",
    "precision = precision_score(y_pred, y_test) * 100\n",
    "\n",
    "print(\"Accuracy of Decision Tree: {:.2f} %\".format(accuracy))\n",
    "print(\"Recall of Decision Tree: {:.2f} %\".format(recall))\n",
    "print(\"Precision of Decision Tree: {:.2f} %\".format(precision))\n",
    "\n"
   ]
  },
  {
   "cell_type": "code",
   "execution_count": 74,
   "metadata": {},
   "outputs": [
    {
     "output_type": "execute_result",
     "data": {
      "text/plain": [
       "'DecisionTree.pdf'"
      ]
     },
     "metadata": {},
     "execution_count": 74
    }
   ],
   "source": [
    "dot_data = tree.export_graphviz(dt, out_file=None) \n",
    "graph = graphviz.Source(dot_data) \n",
    "graph.render(\"DecisionTree\") "
   ]
  },
  {
   "cell_type": "code",
   "execution_count": 75,
   "metadata": {},
   "outputs": [
    {
     "output_type": "stream",
     "name": "stdout",
     "text": [
      "[783.51508707 759.7222725  790.45860349 794.17708018 789.07672603\n 785.48352512 788.99219076 781.1568513  806.42303246 802.68815054\n 799.8845826  787.43944558 777.50977755 787.53341843 751.67195228\n 769.81610405 790.91944198 773.41998315 786.21922312 795.4040059\n 786.21922312 773.7398396  796.04374601 772.12479468 797.94731186\n 761.49149842 790.91944198 799.41014731 790.91907928 785.4006314\n 786.86461623 796.75501822 805.11755811 794.78223657 799.66828618\n 797.75602531 798.35345035 801.36104135 756.25631444 786.16546274\n 754.33340317 801.09384596 795.950441   775.439937   799.15395188\n 767.53837025 794.91334716 796.1570452  809.51298718 767.85806513\n 788.45010186 804.79279551 754.59706776 791.05833805 796.5329363\n 788.99219076 765.60570282 735.1335603  795.51051294 797.0407701\n 790.30764948 809.80346943 745.29351177 781.48068556 780.96136412\n 796.70784044 789.98675983 789.45343212 790.95709114 793.38920527\n 793.24039601 803.82386195 758.24178822 792.36743474 779.79488588\n 802.22065221 756.01775061 795.77527725 799.61772942 808.48828124\n 779.67297449 808.48828124 760.61033468 759.31446347 802.72558622\n 767.08077693 781.52692503 802.52637622 805.29574989 808.48828124\n 792.25882685 789.22619256 752.2311211  784.52707928 789.45343212\n 791.66736689 762.81644745 796.53331338 794.92010581 799.56354706\n 802.64597021 731.61718395 794.94130904 799.66828618 773.47886766\n 773.02921906 765.92949653 791.19466249 753.21533731 772.12479468\n 791.05833805 765.67953713 773.85246878 802.64597021 767.08992369\n 790.91907928 798.98884981 793.39545686 788.45010186 785.72170374\n 760.72681675 787.53341843 766.89254962 799.61772942 774.67397457\n 781.48068556 803.34139414 792.88599971 786.26754976 795.950441\n 783.31507083 790.45860349 790.95617268 791.74269529 781.91301381\n 778.1477658  778.14951787 768.41136198 788.86586229 796.72968252\n 790.91944198 802.22463955 787.59610911 766.2720818  790.95709114\n 784.52707928 761.54007052 751.9749023  798.63051117 804.30173371\n 795.77527725 797.94731186 806.92136579 767.8641252  793.93454273\n 770.8706239  793.93454273 787.45826189 790.91944198 806.71353797\n 796.39116539 795.950441   774.99921508 770.6298199  805.61040782\n 786.48969774 791.2173582  804.38846156 779.33086115 800.50826849\n 767.1748986  796.10144889 787.97619095 793.42181057 788.8880338\n 780.1377795  799.76251043 773.85246878 785.48352512 799.84127216\n 799.8845826  751.40210782 755.57971888 779.76036826 755.50081695\n 775.87281854 795.97464725 751.75140574 805.61040782 771.81477857\n 802.64597021 796.10144889 809.51298718 796.63138538 775.87281854\n 796.1570452  778.87876505 808.16914316 793.49622468 796.40615143\n 774.99921508 805.29574989 786.630163   750.71338471 785.6831198\n 745.99317246 787.43944558 796.1570452  787.85418899 794.17708018\n 742.66265202 796.10144889 794.93509309 799.61772942 790.95617268\n 781.45927519 787.53341843 788.74551315 769.50916705 759.77244379\n 793.93454273 752.7546792  796.53331338 796.60366397 759.89847476\n 788.45010186 751.08472695 780.88799927 790.45860349 796.23027477\n 775.82124033 802.23622068 788.8880338  799.19445553 796.40615143\n 799.28331203 796.78954172 785.81149408 770.60049184 766.02869236\n 788.66677    787.95049469 796.72968252 800.37049306 758.73717962\n 775.87281854 755.2736762  787.95049469 734.7826579  783.73596957\n 768.83027626 775.87281854 783.29748914 771.78859297 789.07672603\n 802.57042411 790.91944198 766.84158356 791.4909239  756.33592768\n 760.80881244 768.94910761 790.91951282 790.95617268 803.60644667\n 794.78223657 799.19445553 801.38887942 775.87281854 785.66425409\n 787.59610911 786.09498041 796.36453457 782.03232588 779.62572287\n 779.50051289 795.77527725 799.84127216 800.53681793 783.42152001\n 773.85246878 771.78859297 796.72968252 751.08472695 802.6400854\n 806.42303246 786.21922312 752.02854947 776.48314129 797.94731186\n 755.92890921 797.94731186 803.82386195 775.34179625 758.98985794\n 796.05473677 779.75164408 775.87281854 794.78223657 775.87281854\n 785.46852872 763.66835509 778.20513194 788.45010186 795.77527725\n 773.8929108  791.66736689 802.85357117 775.78728468 798.66761993\n 797.0407701  796.75501822 787.56399613 766.17689926 761.65897006\n 796.83435427 796.60944978 751.17597505 789.97965705 758.82136034\n 787.12963126 769.83310312 788.8880338  787.59610911 745.08476385\n 755.51096062 794.93509309 797.16552929 789.0015735  775.87281854\n 799.84127216 796.05473677 800.37049306 752.2311211  790.95617268\n 795.950441   796.63138538 809.86052598 798.63051117 790.91944198\n 794.78223657 787.86120152 761.50519643 787.36922529 790.95709114\n 787.4784187  806.4889143  799.56354706 789.98675983 762.544261\n 787.45826189 764.44793912 762.42700747 802.22463955 772.09943972\n 790.45860349 794.78223657 768.11036665 806.56660948 799.70521632\n 789.97965705 778.13927815 799.12301979 804.47849994 801.81141773\n 796.43751679 743.6273777  777.31071962 800.50826849 809.51298718\n 781.46584557 799.33572002 801.38887942 802.57042411 777.78360213\n 806.4889143  783.73596957 787.45826189 790.95617268 775.87281854\n 805.76595609 797.0407701  788.8880338  796.78954172 800.37049306\n 802.35620895 799.76251043 795.54731122 797.67263342 808.65258244\n 796.83435427 800.50826849 784.28006954 779.43264151 798.63051117\n 805.80232767 789.98675983 796.70784044 747.69534804 790.91943853\n 798.63051117 795.950441   780.81605637 799.84237824 781.71439\n 763.07053874 796.72968252 792.08058787 790.95617268 755.04777169\n 783.73596957 797.94731186 768.01976448 799.84237824 800.09274799\n 802.3706195  795.97464725 779.29148118 797.23598848 767.1391461\n 793.90699132 780.93952007 804.38846156 799.84237824 774.66142445\n 762.31065739 781.45927519 790.91907928 799.19445553 778.87876505\n 802.49950266 783.73596957 784.60611727 807.84911468 791.1941009\n 757.68345988 803.98901593 798.66761993 775.94370532 792.69106932\n 788.95664072 796.75501822 793.81569632 773.85246878 800.86836389\n 793.93454273 796.43751679 791.96740191 800.30584392 750.47505506\n 793.49513516 802.57042411 790.45860349 803.98901593 756.43318994\n 774.99921508 799.32927189 794.72822188 789.22619256 794.72822188\n 749.91120189 798.18456718 786.95400231 796.75501822 757.75548999\n 787.95049469 800.50826849 790.95617268 805.29574989 799.56354706\n 802.49950266 794.64383964 801.15255241 789.22619256 787.43944558\n 787.98411384 796.5329363  752.13774371 800.50826849 806.92136579\n 808.48828124 774.66142445 802.22065221 774.95443537 789.439321\n 781.13959028 799.84237824 785.6831198  791.48954897 796.83435427\n 794.64383964 791.1941009  788.924197   800.53681793 796.72968252\n 799.26591682 775.77829454 754.3671315  796.63138538 790.91951282\n 779.50051289 782.53471472 789.98981938 797.67263342 786.55644762\n 802.56494238 795.77527725 794.68369147 759.04850353 755.51096062\n 800.53681793 802.35620895 790.83040473 799.76251043 790.95617268\n 798.37249249 782.03232588 783.73596957 799.84237824 803.34139414\n 804.30173371 770.49650534 776.60396707 795.16500316 790.72134121\n 769.78513702 787.93854065 786.75449277 796.53331338 771.78859297\n 802.21682902 802.22065221 796.1570452  805.81058588 795.16500316\n 791.66880574 796.63138538 799.76251043 763.29973375 763.72321118\n 760.72681675 781.42436791 789.97965705 779.87726385 796.53745544\n 778.0299941  759.68308237 778.86694236 793.37871491 809.51298718\n 755.74620956 803.26050815 797.94731186 771.63626327 797.94731186\n 760.72681675 798.32460082 789.45343212 773.99610005 769.52363885\n 778.99440242 797.73517065 791.46658032 802.56494238 743.6273777\n 797.94731186 778.62200906 774.99921508 798.45179892 803.72975283\n 792.781745   794.68369147 802.51282954 761.74048907 799.41014731\n 797.06957884 784.52707928 788.37258162 787.95049469 800.35120937\n 745.14458061 799.92710118 806.43320962 799.19445553 790.40266909\n 787.86861324 795.950441   806.63243199 790.45860349 791.1941009\n 795.77527725 781.45927519 798.85770405 803.90327998 775.2592337\n 786.48969774 798.85770405 779.77440022 794.91334716 799.41014731\n 805.80232767 747.48150256 780.83790461 775.35067938 799.56354706\n 796.75501822 796.04374601 794.17708018 799.76251043 781.23665749\n 797.66627579 796.53745544 803.34326492 799.84237824 794.81373384\n 808.48828124 790.95617268 787.69341584 808.48828124 761.74858111\n 805.81058588 791.1941009  795.950441   789.97965705 787.53341843\n 796.53331338 782.03232588 786.48969774 775.03909108 786.21922312\n 799.28331203 805.80232767 795.4040059  779.71343927 791.05833805\n 809.80346943 798.63051117 774.58587877 789.97965705 779.43264151\n 787.95049469 802.22463955 777.16448098 790.2189174  784.23882688\n 793.37871491 783.13788686 796.63138538 789.45343212 766.84847324\n 786.48969774 802.72558622 790.19410005 749.05028159 789.97965705\n 796.70784044 789.33977249 790.72134121 799.28331203 762.23063551\n 802.51282954 795.950441   802.85357117 751.57009529 799.61772942\n 781.45927519 766.89254962 775.87281854 781.48068556 767.8641252\n 780.1377795  795.77527725 788.66677    809.51298718 786.55644762\n 802.22065221 800.53681793 760.72681675 802.49950266 787.45826189\n 779.55087394 791.76514701 752.7546792  796.10144889 766.41832137\n 795.44056951 794.29986531 795.950441   791.2173582  796.43751679\n 777.91529497 802.72558622 796.75501822 787.37076133 802.53447768\n 794.64383964 803.98901593 796.04374601 795.51051294 772.12479468\n 767.3190066  782.79633565 792.22098581 803.82386195 781.19030298\n 790.07873312 745.6357251  794.81373384 799.92710118 795.950441\n 794.64383964 800.50826849 772.12479468 793.37871491 802.55676829\n 790.95709114 741.76349226 757.29296833 768.19803811 794.29986531\n 781.45927519 795.97464725 780.81605637 787.59610911 779.76036826\n 795.97464725 794.17708018 724.79468558 769.79705661 790.91944198\n 779.79324656 803.98901593 802.72558622 757.48626221 799.76251043\n 792.9601185  765.89820216 753.62085179 779.59825861 796.75501822\n 755.50081695 803.72975283 801.38887942 790.09401593 802.52637622\n 798.66761993 780.9853531  798.63051117 791.1941009  776.37645596\n 775.77829454 799.56354706 746.86643423 791.2173582  761.67527671\n 790.2189174  789.98675983 796.72968252 771.76699436 799.84237824\n 796.70784044 802.53447768 797.16552929 792.98051093 778.4569914\n 803.60644667 802.95361756 781.1568513  796.70784044 800.37049306\n 755.2736762  796.83435427 794.17708018 787.69341584 806.43320962\n 789.66508783 795.54731122 785.34996831 795.44056951 789.97965705\n 790.30764948 765.60570282 796.60944978 760.72681675 792.64729842\n 788.45010186 785.66425409 775.87281854 799.26591682 804.30173371\n 802.22065221 796.43751679 764.91518456 752.59823487 780.06255021\n 787.53341843 795.54731122 751.08472695 788.45010186 778.79704079\n 779.28486352 779.62572287 797.20972569 751.07095799 796.04374601\n 791.05833805 790.45860349 788.45010186 772.12479468 799.41014731\n 790.91944198 780.41912478 796.60944978 787.97619095 808.4561245\n 793.39545686 800.53681793 771.46629539 765.00578033 779.62572287\n 797.21389632 801.56030239 777.11080958 794.91334716 773.92173613\n 803.72975283 802.52637622 796.53745544 804.30173371 758.74093334\n 755.2418286  803.90327998 768.26158175 790.37555458 787.85418899\n 794.91334716 776.63243369 771.78859297 803.90327998 792.64729842\n 758.84147559 788.19811069 790.91944198 766.58010847 794.78223657\n 781.01217014 808.16914316 747.89637107 770.73879176 790.45860349\n 774.85722591 796.05473677 759.73305603 798.18456718 759.65844038\n 799.33572002 769.61201205 747.45864454 802.23622068 792.69106932\n 803.26050815 798.70460233 799.50014399 749.75244645 792.98051093\n 790.91907928 790.72134121 802.64597021 796.39116539 799.33572002\n 800.7510288  796.70784044 795.77527725 790.91951282 750.23086775\n 799.33572002 799.19445553 789.97965705 766.74268803 795.77527725\n 787.45826189 787.95049469 769.04884376 771.20565566 791.53048597\n 773.69501469 803.05396755 790.95617268 803.60644667 785.74596459\n 779.93970196 791.66736689 787.37076133 802.39801572 796.75501822\n 775.87281854 776.37645596 771.78859297 805.76595609 809.80346943\n 790.30764948 772.46391228 808.16914316 798.18456718 760.72915498\n 802.49950266 796.1570452  765.69367729 762.22233134 789.98557042\n 795.77527725 775.57962795 801.15255241 803.34326492 799.56354706\n 786.48969774 786.75449277 796.63138538 757.52108178 802.21682902\n 796.40615143 795.950441   789.98675983 796.05473677 784.52707928\n 799.92710118 766.99313283 799.84237824 742.60184225 743.2951238\n 799.92710118 797.06957884 759.09162905 765.78413481 799.84237824\n 799.84237824 787.85418899 796.72968252 801.09384596 779.93970196\n 769.049822  ]\n"
     ]
    }
   ],
   "source": [
    "#PART C\n",
    "from sklearn.svm import OneClassSVM\n",
    "\n",
    "clf = OneClassSVM(gamma='auto').fit(X_train)\n",
    "y_pred = clf.predict(X_test)\n",
    "#array([-1,  1,  1,  1, -1])\n",
    "Score = clf.score_samples(X_test)\n",
    "print(Score)\n",
    "#array([1.7798..., 2.0547..., 2.0556..., 2.0561..., 1.7332...])\n"
   ]
  },
  {
   "cell_type": "code",
   "execution_count": null,
   "metadata": {},
   "outputs": [],
   "source": []
  }
 ]
}