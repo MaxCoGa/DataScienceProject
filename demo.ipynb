{
 "metadata": {
  "language_info": {
   "codemirror_mode": {
    "name": "ipython",
    "version": 3
   },
   "file_extension": ".py",
   "mimetype": "text/x-python",
   "name": "python",
   "nbconvert_exporter": "python",
   "pygments_lexer": "ipython3",
   "version": "3.9.2"
  },
  "orig_nbformat": 2,
  "kernelspec": {
   "name": "python392jvsc74a57bd0ffef2fa9cbcc2cd7cb384c713b0ae375e402913407c8199aff0f77ffc4a59ac0",
   "display_name": "Python 3.9.2 64-bit"
  }
 },
 "nbformat": 4,
 "nbformat_minor": 2,
 "cells": [
  {
   "cell_type": "code",
   "execution_count": 195,
   "metadata": {},
   "outputs": [],
   "source": [
    "from configparser import ConfigParser\n",
    "import psycopg2\n",
    "import numpy as np\n",
    "import pandas as pd\n",
    "from sklearn import preprocessing\n",
    "from sklearn.model_selection import train_test_split\n",
    "from sklearn.tree import DecisionTreeClassifier\n",
    "from sklearn.ensemble import RandomForestClassifier\n",
    "from sklearn.ensemble import GradientBoostingClassifier\n",
    "from sklearn.svm import LinearSVC\n",
    "from sklearn.metrics import recall_score, precision_score\n",
    "#Can be very helpful to notice any imbalance in classes\n",
    "from collections import Counter "
   ]
  },
  {
   "cell_type": "code",
   "execution_count": 219,
   "metadata": {},
   "outputs": [],
   "source": [
    "#Sourced from https://www.postgresqltutorial.com/postgresql-python/connect/\n",
    "def config(filename='psql_sample.ini', section='postgresql'):\n",
    "    parser = ConfigParser()\n",
    "    # read config file\n",
    "    parser.read(filename) \n",
    " \n",
    "    # get section, default to postgresql\n",
    "    db = {}\n",
    "    if parser.has_section(section):\n",
    "        params = parser.items(section)\n",
    "        for param in params:\n",
    "            db[param[0]] = param[1]\n",
    "    else:\n",
    "        raise Exception('Section {0} not found in the {1} file'.format(section, filename))\n",
    " \n",
    "    return db"
   ]
  },
  {
   "cell_type": "code",
   "execution_count": 220,
   "metadata": {},
   "outputs": [
    {
     "output_type": "stream",
     "name": "stdout",
     "text": [
      "Here's an attempt to connect to the database\n",
      "Look's like it was a success\n"
     ]
    }
   ],
   "source": [
    "#Get the configuration file as a python dictionary\n",
    "cfg = config()\n",
    "\n",
    "#Establish the connection and create a cursor to the database\n",
    "try:\n",
    "    print(\"Here's an attempt to connect to the database\")\n",
    "    conn = psycopg2.connect(**cfg)\n",
    "    cursor = conn.cursor()\n",
    "    print(\"Look's like it was a success\")\n",
    "    \n",
    "except (Exception, psycopg2.DatabaseError) as error:\n",
    "    print(error)"
   ]
  },
  {
   "cell_type": "code",
   "execution_count": 221,
   "metadata": {},
   "outputs": [],
   "source": [
    "#SELECT QUERY\n",
    "try:\n",
    "    # is_fatal \n",
    "    cursor.execute(\"SELECT status, retail_and_recreation_percentage,\\\n",
    "                   grocery_and_pharmacy_percentage, parks_percentage, transit_stations_percentage,\\\n",
    "                   workplaces_percentage, age_group, gender, phu_name, holiday, \\\n",
    "                   is_fatal from data_mart.fact_table as fact inner join data_mart.special_measures_dimension\\\n",
    "                   as measure on fact.special_measures_key = measure.special_measures_key \\\n",
    "                   inner join data_mart.patient_dimension as patient\\\n",
    "                   on fact.patient_key = patient.patient_key inner join data_mart.mobility_dimension as mobile\\\n",
    "                   on fact.mobility_key = mobile.mobility_key\\\n",
    "                   inner join data_mart.phu_location_dimension as phu\\\n",
    "                   on fact.phu_location_key = phu.phu_location_key\\\n",
    "                   inner join data_mart.test_date_dimension as test_date\\\n",
    "                   on fact.test_date_key = test_date.test_date_key;\"\n",
    "                  )\n",
    "\n",
    "    #Get the complete result set. It will be a list of tuples where each tuple is a row from the result set\n",
    "    result_list = cursor.fetchall()\n",
    "        \n",
    "except (Exception, psycopg2.DatabaseError) as error:\n",
    "    print(error)"
   ]
  },
  {
   "cell_type": "code",
   "execution_count": 222,
   "metadata": {},
   "outputs": [],
   "source": [
    "#Ensure to run this cell at the end of all your experiments to close all connections\n",
    "cursor.close()\n",
    "conn.close()"
   ]
  },
  {
   "cell_type": "code",
   "execution_count": 223,
   "metadata": {},
   "outputs": [
    {
     "output_type": "execute_result",
     "data": {
      "text/plain": [
       "                           status  retail_rec  grocery_pharm  parks  transit  \\\n",
       "0  Private gathering restrictions       -15.0           -1.0   71.0    -57.0   \n",
       "1  Private gathering restrictions       -15.0           -1.0   71.0    -57.0   \n",
       "2  Private gathering restrictions       -15.0           -1.0   71.0    -57.0   \n",
       "3  Private gathering restrictions       -15.0           -1.0   71.0    -57.0   \n",
       "4  Private gathering restrictions       -11.0            4.0    NaN    -52.0   \n",
       "\n",
       "   workplaces age_group gender                            phu_name  holiday  \\\n",
       "0       -44.0       40s   MALE                  Peel Public Health    False   \n",
       "1       -44.0       50s   MALE                  Peel Public Health    False   \n",
       "2       -44.0       <20   MALE                  Peel Public Health    False   \n",
       "3       -44.0       30s   MALE                  Peel Public Health    False   \n",
       "4       -50.0       20s   MALE  York Region Public Health Services    False   \n",
       "\n",
       "   is_fatal  \n",
       "0     False  \n",
       "1     False  \n",
       "2     False  \n",
       "3     False  \n",
       "4     False  "
      ],
      "text/html": "<div>\n<style scoped>\n    .dataframe tbody tr th:only-of-type {\n        vertical-align: middle;\n    }\n\n    .dataframe tbody tr th {\n        vertical-align: top;\n    }\n\n    .dataframe thead th {\n        text-align: right;\n    }\n</style>\n<table border=\"1\" class=\"dataframe\">\n  <thead>\n    <tr style=\"text-align: right;\">\n      <th></th>\n      <th>status</th>\n      <th>retail_rec</th>\n      <th>grocery_pharm</th>\n      <th>parks</th>\n      <th>transit</th>\n      <th>workplaces</th>\n      <th>age_group</th>\n      <th>gender</th>\n      <th>phu_name</th>\n      <th>holiday</th>\n      <th>is_fatal</th>\n    </tr>\n  </thead>\n  <tbody>\n    <tr>\n      <th>0</th>\n      <td>Private gathering restrictions</td>\n      <td>-15.0</td>\n      <td>-1.0</td>\n      <td>71.0</td>\n      <td>-57.0</td>\n      <td>-44.0</td>\n      <td>40s</td>\n      <td>MALE</td>\n      <td>Peel Public Health</td>\n      <td>False</td>\n      <td>False</td>\n    </tr>\n    <tr>\n      <th>1</th>\n      <td>Private gathering restrictions</td>\n      <td>-15.0</td>\n      <td>-1.0</td>\n      <td>71.0</td>\n      <td>-57.0</td>\n      <td>-44.0</td>\n      <td>50s</td>\n      <td>MALE</td>\n      <td>Peel Public Health</td>\n      <td>False</td>\n      <td>False</td>\n    </tr>\n    <tr>\n      <th>2</th>\n      <td>Private gathering restrictions</td>\n      <td>-15.0</td>\n      <td>-1.0</td>\n      <td>71.0</td>\n      <td>-57.0</td>\n      <td>-44.0</td>\n      <td>&lt;20</td>\n      <td>MALE</td>\n      <td>Peel Public Health</td>\n      <td>False</td>\n      <td>False</td>\n    </tr>\n    <tr>\n      <th>3</th>\n      <td>Private gathering restrictions</td>\n      <td>-15.0</td>\n      <td>-1.0</td>\n      <td>71.0</td>\n      <td>-57.0</td>\n      <td>-44.0</td>\n      <td>30s</td>\n      <td>MALE</td>\n      <td>Peel Public Health</td>\n      <td>False</td>\n      <td>False</td>\n    </tr>\n    <tr>\n      <th>4</th>\n      <td>Private gathering restrictions</td>\n      <td>-11.0</td>\n      <td>4.0</td>\n      <td>NaN</td>\n      <td>-52.0</td>\n      <td>-50.0</td>\n      <td>20s</td>\n      <td>MALE</td>\n      <td>York Region Public Health Services</td>\n      <td>False</td>\n      <td>False</td>\n    </tr>\n  </tbody>\n</table>\n</div>"
     },
     "metadata": {},
     "execution_count": 223
    }
   ],
   "source": [
    "#Now,  1\n",
    "result_df = result_df = pd.DataFrame(result_list, columns=[\"status\",\"retail_rec\", \"grocery_pharm\", \n",
    "                                               \"parks\", \"transit\",\"workplaces\",\"age_group\",\n",
    "                                               \"gender\",\"phu_name\",\"holiday\",\"is_fatal\"])#pd.DataFrame(result_list, columns=[\"age_group\",\"gender\",\"status\",\"holiday\",\"city\",\"daily_high\",\"daily_low\",\"rain_amount\",\"snow_amount\", \"parks_percentage\", \"retail_and_recreation_percentage\",\"grocery_and_pharmacy_percentage\",\"workplaces_percentage\",\"residential_percentage\",\"transit_stations_percentage\",\"is_fatal\", \"is_resolved\",\"is_unresolved\"])\n",
    "\n",
    "\n",
    "result_df.head()"
   ]
  },
  {
   "cell_type": "code",
   "execution_count": 224,
   "metadata": {},
   "outputs": [
    {
     "output_type": "execute_result",
     "data": {
      "text/plain": [
       "0"
      ]
     },
     "metadata": {},
     "execution_count": 224
    }
   ],
   "source": [
    "#Remove null values - first check which columns have null values\n",
    "result_df['status'].isna().sum() "
   ]
  },
  {
   "cell_type": "code",
   "execution_count": 225,
   "metadata": {},
   "outputs": [
    {
     "output_type": "execute_result",
     "data": {
      "text/plain": [
       "0"
      ]
     },
     "metadata": {},
     "execution_count": 225
    }
   ],
   "source": [
    "result_df['retail_rec'].isna().sum() \n",
    "\n"
   ]
  },
  {
   "cell_type": "code",
   "execution_count": 226,
   "metadata": {},
   "outputs": [
    {
     "output_type": "execute_result",
     "data": {
      "text/plain": [
       "0"
      ]
     },
     "metadata": {},
     "execution_count": 226
    }
   ],
   "source": [
    "result_df['grocery_pharm'].isna().sum() "
   ]
  },
  {
   "cell_type": "code",
   "execution_count": 227,
   "metadata": {},
   "outputs": [
    {
     "output_type": "execute_result",
     "data": {
      "text/plain": [
       "186"
      ]
     },
     "metadata": {},
     "execution_count": 227
    }
   ],
   "source": [
    "result_df['parks'].isna().sum() "
   ]
  },
  {
   "cell_type": "code",
   "execution_count": 228,
   "metadata": {},
   "outputs": [],
   "source": [
    "# Replace null values with mean - may introduce bias\n",
    "result_df['parks'].fillna(result_df['parks'].mean(), inplace=True)"
   ]
  },
  {
   "cell_type": "code",
   "execution_count": 229,
   "metadata": {},
   "outputs": [
    {
     "output_type": "execute_result",
     "data": {
      "text/plain": [
       "0"
      ]
     },
     "metadata": {},
     "execution_count": 229
    }
   ],
   "source": [
    "result_df['parks'].isna().sum() "
   ]
  },
  {
   "cell_type": "code",
   "execution_count": 230,
   "metadata": {},
   "outputs": [
    {
     "output_type": "execute_result",
     "data": {
      "text/plain": [
       "5"
      ]
     },
     "metadata": {},
     "execution_count": 230
    }
   ],
   "source": [
    "result_df['transit'].isna().sum() "
   ]
  },
  {
   "cell_type": "code",
   "execution_count": 231,
   "metadata": {},
   "outputs": [],
   "source": [
    "result_df['transit'].fillna(result_df['transit'].mean(), inplace=True)"
   ]
  },
  {
   "cell_type": "code",
   "execution_count": 232,
   "metadata": {},
   "outputs": [
    {
     "output_type": "execute_result",
     "data": {
      "text/plain": [
       "0"
      ]
     },
     "metadata": {},
     "execution_count": 232
    }
   ],
   "source": [
    "result_df['workplaces'].isna().sum() "
   ]
  },
  {
   "cell_type": "code",
   "execution_count": 233,
   "metadata": {},
   "outputs": [
    {
     "output_type": "execute_result",
     "data": {
      "text/plain": [
       "0"
      ]
     },
     "metadata": {},
     "execution_count": 233
    }
   ],
   "source": [
    "result_df['age_group'].isna().sum() "
   ]
  },
  {
   "cell_type": "code",
   "execution_count": 234,
   "metadata": {},
   "outputs": [
    {
     "output_type": "execute_result",
     "data": {
      "text/plain": [
       "0"
      ]
     },
     "metadata": {},
     "execution_count": 234
    }
   ],
   "source": [
    "result_df['gender'].isna().sum() "
   ]
  },
  {
   "cell_type": "code",
   "execution_count": 235,
   "metadata": {},
   "outputs": [
    {
     "output_type": "execute_result",
     "data": {
      "text/plain": [
       "0"
      ]
     },
     "metadata": {},
     "execution_count": 235
    }
   ],
   "source": [
    "result_df['phu_name'].isna().sum() "
   ]
  },
  {
   "cell_type": "code",
   "execution_count": 236,
   "metadata": {},
   "outputs": [
    {
     "output_type": "execute_result",
     "data": {
      "text/plain": [
       "0"
      ]
     },
     "metadata": {},
     "execution_count": 236
    }
   ],
   "source": [
    "result_df['holiday'].isna().sum() "
   ]
  },
  {
   "cell_type": "code",
   "execution_count": 237,
   "metadata": {},
   "outputs": [
    {
     "output_type": "execute_result",
     "data": {
      "text/plain": [
       "0"
      ]
     },
     "metadata": {},
     "execution_count": 237
    }
   ],
   "source": [
    "result_df['is_fatal'].isna().sum() "
   ]
  },
  {
   "cell_type": "code",
   "execution_count": 238,
   "metadata": {},
   "outputs": [
    {
     "output_type": "execute_result",
     "data": {
      "text/plain": [
       "                           status  retail_rec  grocery_pharm      parks  \\\n",
       "0  Private gathering restrictions       -15.0           -1.0  71.000000   \n",
       "1  Private gathering restrictions       -15.0           -1.0  71.000000   \n",
       "2  Private gathering restrictions       -15.0           -1.0  71.000000   \n",
       "3  Private gathering restrictions       -15.0           -1.0  71.000000   \n",
       "4  Private gathering restrictions       -11.0            4.0  16.937927   \n",
       "\n",
       "   transit  workplaces age_group gender                            phu_name  \\\n",
       "0    -57.0       -44.0       40s   MALE                  Peel Public Health   \n",
       "1    -57.0       -44.0       50s   MALE                  Peel Public Health   \n",
       "2    -57.0       -44.0       <20   MALE                  Peel Public Health   \n",
       "3    -57.0       -44.0       30s   MALE                  Peel Public Health   \n",
       "4    -52.0       -50.0       20s   MALE  York Region Public Health Services   \n",
       "\n",
       "   holiday  is_fatal  \n",
       "0    False     False  \n",
       "1    False     False  \n",
       "2    False     False  \n",
       "3    False     False  \n",
       "4    False     False  "
      ],
      "text/html": "<div>\n<style scoped>\n    .dataframe tbody tr th:only-of-type {\n        vertical-align: middle;\n    }\n\n    .dataframe tbody tr th {\n        vertical-align: top;\n    }\n\n    .dataframe thead th {\n        text-align: right;\n    }\n</style>\n<table border=\"1\" class=\"dataframe\">\n  <thead>\n    <tr style=\"text-align: right;\">\n      <th></th>\n      <th>status</th>\n      <th>retail_rec</th>\n      <th>grocery_pharm</th>\n      <th>parks</th>\n      <th>transit</th>\n      <th>workplaces</th>\n      <th>age_group</th>\n      <th>gender</th>\n      <th>phu_name</th>\n      <th>holiday</th>\n      <th>is_fatal</th>\n    </tr>\n  </thead>\n  <tbody>\n    <tr>\n      <th>0</th>\n      <td>Private gathering restrictions</td>\n      <td>-15.0</td>\n      <td>-1.0</td>\n      <td>71.000000</td>\n      <td>-57.0</td>\n      <td>-44.0</td>\n      <td>40s</td>\n      <td>MALE</td>\n      <td>Peel Public Health</td>\n      <td>False</td>\n      <td>False</td>\n    </tr>\n    <tr>\n      <th>1</th>\n      <td>Private gathering restrictions</td>\n      <td>-15.0</td>\n      <td>-1.0</td>\n      <td>71.000000</td>\n      <td>-57.0</td>\n      <td>-44.0</td>\n      <td>50s</td>\n      <td>MALE</td>\n      <td>Peel Public Health</td>\n      <td>False</td>\n      <td>False</td>\n    </tr>\n    <tr>\n      <th>2</th>\n      <td>Private gathering restrictions</td>\n      <td>-15.0</td>\n      <td>-1.0</td>\n      <td>71.000000</td>\n      <td>-57.0</td>\n      <td>-44.0</td>\n      <td>&lt;20</td>\n      <td>MALE</td>\n      <td>Peel Public Health</td>\n      <td>False</td>\n      <td>False</td>\n    </tr>\n    <tr>\n      <th>3</th>\n      <td>Private gathering restrictions</td>\n      <td>-15.0</td>\n      <td>-1.0</td>\n      <td>71.000000</td>\n      <td>-57.0</td>\n      <td>-44.0</td>\n      <td>30s</td>\n      <td>MALE</td>\n      <td>Peel Public Health</td>\n      <td>False</td>\n      <td>False</td>\n    </tr>\n    <tr>\n      <th>4</th>\n      <td>Private gathering restrictions</td>\n      <td>-11.0</td>\n      <td>4.0</td>\n      <td>16.937927</td>\n      <td>-52.0</td>\n      <td>-50.0</td>\n      <td>20s</td>\n      <td>MALE</td>\n      <td>York Region Public Health Services</td>\n      <td>False</td>\n      <td>False</td>\n    </tr>\n  </tbody>\n</table>\n</div>"
     },
     "metadata": {},
     "execution_count": 238
    }
   ],
   "source": [
    "\n",
    "result_df.head()"
   ]
  },
  {
   "cell_type": "code",
   "execution_count": 239,
   "metadata": {},
   "outputs": [
    {
     "output_type": "execute_result",
     "data": {
      "text/plain": [
       "Counter({False: 83387, True: 1425})"
      ]
     },
     "metadata": {},
     "execution_count": 239
    }
   ],
   "source": [
    "#get counter 6\n",
    "Counter(result_df['is_fatal'])"
   ]
  },
  {
   "cell_type": "code",
   "execution_count": 240,
   "metadata": {},
   "outputs": [],
   "source": [
    "# Normalization \n",
    "normalized_data = result_df[[\"retail_rec\", \"grocery_pharm\",\"parks\", \"transit\",\"workplaces\"]]"
   ]
  },
  {
   "cell_type": "code",
   "execution_count": 241,
   "metadata": {},
   "outputs": [],
   "source": [
    "X_normalized = preprocessing.normalize(normalized_data, norm='l2')"
   ]
  },
  {
   "cell_type": "code",
   "execution_count": 242,
   "metadata": {},
   "outputs": [
    {
     "output_type": "execute_result",
     "data": {
      "text/plain": [
       "   retail_rec  grocery_pharm     parks   transit  workplaces\n",
       "0   -0.146721      -0.009781  0.694478 -0.557539   -0.430381\n",
       "1   -0.146721      -0.009781  0.694478 -0.557539   -0.430381\n",
       "2   -0.146721      -0.009781  0.694478 -0.557539   -0.430381\n",
       "3   -0.146721      -0.009781  0.694478 -0.557539   -0.430381\n",
       "4   -0.146629       0.053320  0.225781 -0.693155   -0.666495"
      ],
      "text/html": "<div>\n<style scoped>\n    .dataframe tbody tr th:only-of-type {\n        vertical-align: middle;\n    }\n\n    .dataframe tbody tr th {\n        vertical-align: top;\n    }\n\n    .dataframe thead th {\n        text-align: right;\n    }\n</style>\n<table border=\"1\" class=\"dataframe\">\n  <thead>\n    <tr style=\"text-align: right;\">\n      <th></th>\n      <th>retail_rec</th>\n      <th>grocery_pharm</th>\n      <th>parks</th>\n      <th>transit</th>\n      <th>workplaces</th>\n    </tr>\n  </thead>\n  <tbody>\n    <tr>\n      <th>0</th>\n      <td>-0.146721</td>\n      <td>-0.009781</td>\n      <td>0.694478</td>\n      <td>-0.557539</td>\n      <td>-0.430381</td>\n    </tr>\n    <tr>\n      <th>1</th>\n      <td>-0.146721</td>\n      <td>-0.009781</td>\n      <td>0.694478</td>\n      <td>-0.557539</td>\n      <td>-0.430381</td>\n    </tr>\n    <tr>\n      <th>2</th>\n      <td>-0.146721</td>\n      <td>-0.009781</td>\n      <td>0.694478</td>\n      <td>-0.557539</td>\n      <td>-0.430381</td>\n    </tr>\n    <tr>\n      <th>3</th>\n      <td>-0.146721</td>\n      <td>-0.009781</td>\n      <td>0.694478</td>\n      <td>-0.557539</td>\n      <td>-0.430381</td>\n    </tr>\n    <tr>\n      <th>4</th>\n      <td>-0.146629</td>\n      <td>0.053320</td>\n      <td>0.225781</td>\n      <td>-0.693155</td>\n      <td>-0.666495</td>\n    </tr>\n  </tbody>\n</table>\n</div>"
     },
     "metadata": {},
     "execution_count": 242
    }
   ],
   "source": [
    "normalized_part = pd.DataFrame(X_normalized, columns=normalized_data.columns)\n",
    "normalized_part.head()"
   ]
  },
  {
   "cell_type": "code",
   "execution_count": 243,
   "metadata": {},
   "outputs": [
    {
     "output_type": "execute_result",
     "data": {
      "text/plain": [
       "                           status age_group gender  \\\n",
       "0  Private gathering restrictions       40s   MALE   \n",
       "1  Private gathering restrictions       50s   MALE   \n",
       "2  Private gathering restrictions       <20   MALE   \n",
       "3  Private gathering restrictions       30s   MALE   \n",
       "4  Private gathering restrictions       20s   MALE   \n",
       "\n",
       "                             phu_name  holiday  is_fatal  \n",
       "0                  Peel Public Health    False     False  \n",
       "1                  Peel Public Health    False     False  \n",
       "2                  Peel Public Health    False     False  \n",
       "3                  Peel Public Health    False     False  \n",
       "4  York Region Public Health Services    False     False  "
      ],
      "text/html": "<div>\n<style scoped>\n    .dataframe tbody tr th:only-of-type {\n        vertical-align: middle;\n    }\n\n    .dataframe tbody tr th {\n        vertical-align: top;\n    }\n\n    .dataframe thead th {\n        text-align: right;\n    }\n</style>\n<table border=\"1\" class=\"dataframe\">\n  <thead>\n    <tr style=\"text-align: right;\">\n      <th></th>\n      <th>status</th>\n      <th>age_group</th>\n      <th>gender</th>\n      <th>phu_name</th>\n      <th>holiday</th>\n      <th>is_fatal</th>\n    </tr>\n  </thead>\n  <tbody>\n    <tr>\n      <th>0</th>\n      <td>Private gathering restrictions</td>\n      <td>40s</td>\n      <td>MALE</td>\n      <td>Peel Public Health</td>\n      <td>False</td>\n      <td>False</td>\n    </tr>\n    <tr>\n      <th>1</th>\n      <td>Private gathering restrictions</td>\n      <td>50s</td>\n      <td>MALE</td>\n      <td>Peel Public Health</td>\n      <td>False</td>\n      <td>False</td>\n    </tr>\n    <tr>\n      <th>2</th>\n      <td>Private gathering restrictions</td>\n      <td>&lt;20</td>\n      <td>MALE</td>\n      <td>Peel Public Health</td>\n      <td>False</td>\n      <td>False</td>\n    </tr>\n    <tr>\n      <th>3</th>\n      <td>Private gathering restrictions</td>\n      <td>30s</td>\n      <td>MALE</td>\n      <td>Peel Public Health</td>\n      <td>False</td>\n      <td>False</td>\n    </tr>\n    <tr>\n      <th>4</th>\n      <td>Private gathering restrictions</td>\n      <td>20s</td>\n      <td>MALE</td>\n      <td>York Region Public Health Services</td>\n      <td>False</td>\n      <td>False</td>\n    </tr>\n  </tbody>\n</table>\n</div>"
     },
     "metadata": {},
     "execution_count": 243
    }
   ],
   "source": [
    "non_numerical = result_df[[\"status\",\"age_group\",\"gender\",\"phu_name\",\"holiday\",\"is_fatal\"]]\n",
    "non_numerical.head()"
   ]
  },
  {
   "cell_type": "code",
   "execution_count": 244,
   "metadata": {},
   "outputs": [
    {
     "output_type": "execute_result",
     "data": {
      "text/plain": [
       "                           status age_group gender  \\\n",
       "0  Private gathering restrictions       40s   MALE   \n",
       "1  Private gathering restrictions       50s   MALE   \n",
       "2  Private gathering restrictions       <20   MALE   \n",
       "3  Private gathering restrictions       30s   MALE   \n",
       "4  Private gathering restrictions       20s   MALE   \n",
       "\n",
       "                             phu_name  holiday  is_fatal  retail_rec  \\\n",
       "0                  Peel Public Health    False     False   -0.146721   \n",
       "1                  Peel Public Health    False     False   -0.146721   \n",
       "2                  Peel Public Health    False     False   -0.146721   \n",
       "3                  Peel Public Health    False     False   -0.146721   \n",
       "4  York Region Public Health Services    False     False   -0.146629   \n",
       "\n",
       "   grocery_pharm     parks   transit  workplaces  \n",
       "0      -0.009781  0.694478 -0.557539   -0.430381  \n",
       "1      -0.009781  0.694478 -0.557539   -0.430381  \n",
       "2      -0.009781  0.694478 -0.557539   -0.430381  \n",
       "3      -0.009781  0.694478 -0.557539   -0.430381  \n",
       "4       0.053320  0.225781 -0.693155   -0.666495  "
      ],
      "text/html": "<div>\n<style scoped>\n    .dataframe tbody tr th:only-of-type {\n        vertical-align: middle;\n    }\n\n    .dataframe tbody tr th {\n        vertical-align: top;\n    }\n\n    .dataframe thead th {\n        text-align: right;\n    }\n</style>\n<table border=\"1\" class=\"dataframe\">\n  <thead>\n    <tr style=\"text-align: right;\">\n      <th></th>\n      <th>status</th>\n      <th>age_group</th>\n      <th>gender</th>\n      <th>phu_name</th>\n      <th>holiday</th>\n      <th>is_fatal</th>\n      <th>retail_rec</th>\n      <th>grocery_pharm</th>\n      <th>parks</th>\n      <th>transit</th>\n      <th>workplaces</th>\n    </tr>\n  </thead>\n  <tbody>\n    <tr>\n      <th>0</th>\n      <td>Private gathering restrictions</td>\n      <td>40s</td>\n      <td>MALE</td>\n      <td>Peel Public Health</td>\n      <td>False</td>\n      <td>False</td>\n      <td>-0.146721</td>\n      <td>-0.009781</td>\n      <td>0.694478</td>\n      <td>-0.557539</td>\n      <td>-0.430381</td>\n    </tr>\n    <tr>\n      <th>1</th>\n      <td>Private gathering restrictions</td>\n      <td>50s</td>\n      <td>MALE</td>\n      <td>Peel Public Health</td>\n      <td>False</td>\n      <td>False</td>\n      <td>-0.146721</td>\n      <td>-0.009781</td>\n      <td>0.694478</td>\n      <td>-0.557539</td>\n      <td>-0.430381</td>\n    </tr>\n    <tr>\n      <th>2</th>\n      <td>Private gathering restrictions</td>\n      <td>&lt;20</td>\n      <td>MALE</td>\n      <td>Peel Public Health</td>\n      <td>False</td>\n      <td>False</td>\n      <td>-0.146721</td>\n      <td>-0.009781</td>\n      <td>0.694478</td>\n      <td>-0.557539</td>\n      <td>-0.430381</td>\n    </tr>\n    <tr>\n      <th>3</th>\n      <td>Private gathering restrictions</td>\n      <td>30s</td>\n      <td>MALE</td>\n      <td>Peel Public Health</td>\n      <td>False</td>\n      <td>False</td>\n      <td>-0.146721</td>\n      <td>-0.009781</td>\n      <td>0.694478</td>\n      <td>-0.557539</td>\n      <td>-0.430381</td>\n    </tr>\n    <tr>\n      <th>4</th>\n      <td>Private gathering restrictions</td>\n      <td>20s</td>\n      <td>MALE</td>\n      <td>York Region Public Health Services</td>\n      <td>False</td>\n      <td>False</td>\n      <td>-0.146629</td>\n      <td>0.053320</td>\n      <td>0.225781</td>\n      <td>-0.693155</td>\n      <td>-0.666495</td>\n    </tr>\n  </tbody>\n</table>\n</div>"
     },
     "metadata": {},
     "execution_count": 244
    }
   ],
   "source": [
    "result_normal = pd.concat([non_numerical,normalized_part],axis=1)\n",
    "result_normal.head()"
   ]
  },
  {
   "cell_type": "code",
   "execution_count": 245,
   "metadata": {},
   "outputs": [
    {
     "output_type": "execute_result",
     "data": {
      "text/plain": [
       "   holiday  retail_rec  grocery_pharm     parks   transit  workplaces  \\\n",
       "0    False   -0.146721      -0.009781  0.694478 -0.557539   -0.430381   \n",
       "1    False   -0.146721      -0.009781  0.694478 -0.557539   -0.430381   \n",
       "2    False   -0.146721      -0.009781  0.694478 -0.557539   -0.430381   \n",
       "3    False   -0.146721      -0.009781  0.694478 -0.557539   -0.430381   \n",
       "4    False   -0.146629       0.053320  0.225781 -0.693155   -0.666495   \n",
       "\n",
       "   status_Acitivies closures  status_Control  status_Lockdown  status_Other  \\\n",
       "0                          0               0                0             0   \n",
       "1                          0               0                0             0   \n",
       "2                          0               0                0             0   \n",
       "3                          0               0                0             0   \n",
       "4                          0               0                0             0   \n",
       "\n",
       "   ...  gender_FEMALE  gender_GENDER DIVERSE  gender_MALE  gender_UNSPECIFIED  \\\n",
       "0  ...              0                      0            1                   0   \n",
       "1  ...              0                      0            1                   0   \n",
       "2  ...              0                      0            1                   0   \n",
       "3  ...              0                      0            1                   0   \n",
       "4  ...              0                      0            1                   0   \n",
       "\n",
       "   phu_name_Durham Region Health Department  \\\n",
       "0                                         0   \n",
       "1                                         0   \n",
       "2                                         0   \n",
       "3                                         0   \n",
       "4                                         0   \n",
       "\n",
       "   phu_name_Halton Region Health Department  phu_name_Ottawa Public Health  \\\n",
       "0                                         0                              0   \n",
       "1                                         0                              0   \n",
       "2                                         0                              0   \n",
       "3                                         0                              0   \n",
       "4                                         0                              0   \n",
       "\n",
       "   phu_name_Peel Public Health  phu_name_Toronto Public Health  \\\n",
       "0                            1                               0   \n",
       "1                            1                               0   \n",
       "2                            1                               0   \n",
       "3                            1                               0   \n",
       "4                            0                               0   \n",
       "\n",
       "   phu_name_York Region Public Health Services  \n",
       "0                                            0  \n",
       "1                                            0  \n",
       "2                                            0  \n",
       "3                                            0  \n",
       "4                                            1  \n",
       "\n",
       "[5 rows x 34 columns]"
      ],
      "text/html": "<div>\n<style scoped>\n    .dataframe tbody tr th:only-of-type {\n        vertical-align: middle;\n    }\n\n    .dataframe tbody tr th {\n        vertical-align: top;\n    }\n\n    .dataframe thead th {\n        text-align: right;\n    }\n</style>\n<table border=\"1\" class=\"dataframe\">\n  <thead>\n    <tr style=\"text-align: right;\">\n      <th></th>\n      <th>holiday</th>\n      <th>retail_rec</th>\n      <th>grocery_pharm</th>\n      <th>parks</th>\n      <th>transit</th>\n      <th>workplaces</th>\n      <th>status_Acitivies closures</th>\n      <th>status_Control</th>\n      <th>status_Lockdown</th>\n      <th>status_Other</th>\n      <th>...</th>\n      <th>gender_FEMALE</th>\n      <th>gender_GENDER DIVERSE</th>\n      <th>gender_MALE</th>\n      <th>gender_UNSPECIFIED</th>\n      <th>phu_name_Durham Region Health Department</th>\n      <th>phu_name_Halton Region Health Department</th>\n      <th>phu_name_Ottawa Public Health</th>\n      <th>phu_name_Peel Public Health</th>\n      <th>phu_name_Toronto Public Health</th>\n      <th>phu_name_York Region Public Health Services</th>\n    </tr>\n  </thead>\n  <tbody>\n    <tr>\n      <th>0</th>\n      <td>False</td>\n      <td>-0.146721</td>\n      <td>-0.009781</td>\n      <td>0.694478</td>\n      <td>-0.557539</td>\n      <td>-0.430381</td>\n      <td>0</td>\n      <td>0</td>\n      <td>0</td>\n      <td>0</td>\n      <td>...</td>\n      <td>0</td>\n      <td>0</td>\n      <td>1</td>\n      <td>0</td>\n      <td>0</td>\n      <td>0</td>\n      <td>0</td>\n      <td>1</td>\n      <td>0</td>\n      <td>0</td>\n    </tr>\n    <tr>\n      <th>1</th>\n      <td>False</td>\n      <td>-0.146721</td>\n      <td>-0.009781</td>\n      <td>0.694478</td>\n      <td>-0.557539</td>\n      <td>-0.430381</td>\n      <td>0</td>\n      <td>0</td>\n      <td>0</td>\n      <td>0</td>\n      <td>...</td>\n      <td>0</td>\n      <td>0</td>\n      <td>1</td>\n      <td>0</td>\n      <td>0</td>\n      <td>0</td>\n      <td>0</td>\n      <td>1</td>\n      <td>0</td>\n      <td>0</td>\n    </tr>\n    <tr>\n      <th>2</th>\n      <td>False</td>\n      <td>-0.146721</td>\n      <td>-0.009781</td>\n      <td>0.694478</td>\n      <td>-0.557539</td>\n      <td>-0.430381</td>\n      <td>0</td>\n      <td>0</td>\n      <td>0</td>\n      <td>0</td>\n      <td>...</td>\n      <td>0</td>\n      <td>0</td>\n      <td>1</td>\n      <td>0</td>\n      <td>0</td>\n      <td>0</td>\n      <td>0</td>\n      <td>1</td>\n      <td>0</td>\n      <td>0</td>\n    </tr>\n    <tr>\n      <th>3</th>\n      <td>False</td>\n      <td>-0.146721</td>\n      <td>-0.009781</td>\n      <td>0.694478</td>\n      <td>-0.557539</td>\n      <td>-0.430381</td>\n      <td>0</td>\n      <td>0</td>\n      <td>0</td>\n      <td>0</td>\n      <td>...</td>\n      <td>0</td>\n      <td>0</td>\n      <td>1</td>\n      <td>0</td>\n      <td>0</td>\n      <td>0</td>\n      <td>0</td>\n      <td>1</td>\n      <td>0</td>\n      <td>0</td>\n    </tr>\n    <tr>\n      <th>4</th>\n      <td>False</td>\n      <td>-0.146629</td>\n      <td>0.053320</td>\n      <td>0.225781</td>\n      <td>-0.693155</td>\n      <td>-0.666495</td>\n      <td>0</td>\n      <td>0</td>\n      <td>0</td>\n      <td>0</td>\n      <td>...</td>\n      <td>0</td>\n      <td>0</td>\n      <td>1</td>\n      <td>0</td>\n      <td>0</td>\n      <td>0</td>\n      <td>0</td>\n      <td>0</td>\n      <td>0</td>\n      <td>1</td>\n    </tr>\n  </tbody>\n</table>\n<p>5 rows × 34 columns</p>\n</div>"
     },
     "metadata": {},
     "execution_count": 245
    }
   ],
   "source": [
    "# one-hot encoding \n",
    "new_result = pd.get_dummies(result_normal)\n",
    "new_result.drop(columns=[\"is_fatal\"], inplace = True)\n",
    "new_result.head()"
   ]
  },
  {
   "cell_type": "code",
   "execution_count": 246,
   "metadata": {},
   "outputs": [],
   "source": [
    "#Get the labels 3\n",
    "y = result_normal[\"is_fatal\"].values#label"
   ]
  },
  {
   "cell_type": "code",
   "execution_count": 247,
   "metadata": {},
   "outputs": [],
   "source": [
    "# Undersampling of majority classes\n",
    "from imblearn.under_sampling import NearMiss\n",
    "x = new_result.values\n",
    "#y = result_normal[\"is_fatal\"].values#label\n",
    "undersample = NearMiss(version=1, n_neighbors=3)\n",
    "x_under, y_under = undersample.fit_resample(x,y)"
   ]
  },
  {
   "cell_type": "code",
   "execution_count": 248,
   "metadata": {},
   "outputs": [],
   "source": [
    "X_train, X_test, y_train, y_test = train_test_split(x, y, test_size=0.33, shuffle=True, stratify=y)\n"
   ]
  },
  {
   "cell_type": "code",
   "execution_count": 249,
   "metadata": {},
   "outputs": [
    {
     "output_type": "stream",
     "name": "stdout",
     "text": [
      "Training set Counter({False: 55869, True: 955}) \nTest set Counter({False: 27518, True: 470}) \n"
     ]
    }
   ],
   "source": [
    "#Let's see the no. of records per class in training and test set\n",
    "# class imbalance very high\n",
    "print(\"Training set {} \".format(Counter(y_train)))\n",
    "print(\"Test set {} \".format(Counter(y_test)))"
   ]
  },
  {
   "cell_type": "code",
   "execution_count": 250,
   "metadata": {},
   "outputs": [],
   "source": [
    "X_train, X_test, y_train, y_test = train_test_split(x_under, y_under, test_size=0.33, shuffle=True, stratify=y_under)"
   ]
  },
  {
   "cell_type": "code",
   "execution_count": 251,
   "metadata": {},
   "outputs": [
    {
     "output_type": "stream",
     "name": "stdout",
     "text": [
      "Training set Counter({True: 955, False: 954}) \nTest set Counter({False: 471, True: 470}) \n"
     ]
    }
   ],
   "source": [
    "#Let's see the no. of records per class in training and test set\n",
    "print(\"Training set {} \".format(Counter(y_train)))\n",
    "print(\"Test set {} \".format(Counter(y_test)))"
   ]
  },
  {
   "cell_type": "code",
   "execution_count": 252,
   "metadata": {},
   "outputs": [
    {
     "output_type": "stream",
     "name": "stdout",
     "text": [
      "time in milliseconds\n43.882\nConfusion Matrix:\n[[368 103]\n [119 351]]\nClassification Report\n              precision    recall  f1-score   support\n\n       False       0.76      0.78      0.77       471\n        True       0.77      0.75      0.76       470\n\n    accuracy                           0.76       941\n   macro avg       0.76      0.76      0.76       941\nweighted avg       0.76      0.76      0.76       941\n\nAccuracy of Gradient Boosting: 76.41 %\nPrecision of Gradient Boosting: 74.68 %\nRecall of Gradient Boosting: 77.31 %\n"
     ]
    }
   ],
   "source": [
    "#PART B\n",
    "from sklearn.metrics import classification_report, confusion_matrix\n",
    "from sklearn.metrics import classification_report, confusion_matrix\n",
    "from sklearn.metrics import recall_score, precision_score, accuracy_score\n",
    "import datetime\n",
    "#Gradient Boosting\n",
    "\n",
    "\n",
    "X_train, X_test, y_train, y_test = train_test_split(x_under, y_under, test_size=0.33, shuffle=True, stratify=y_under)\n",
    "a = datetime.datetime.now()\n",
    "classifier = GradientBoostingClassifier(n_estimators=20, learning_rate=0.75, max_features=2, max_depth=2, random_state=0)\n",
    "classifier.fit(X_train, y_train)\n",
    "predictions = classifier.predict(X_test)\n",
    "b = datetime.datetime.now()\n",
    "c = b - a\n",
    "\n",
    "print('time in milliseconds')\n",
    "print(c.total_seconds() * 1000)\n",
    "print(\"Confusion Matrix:\")\n",
    "print(confusion_matrix(y_test, predictions))\n",
    "\n",
    "print(\"Classification Report\")\n",
    "print(classification_report(y_test, predictions))\n",
    "\n",
    "accuracy = accuracy_score(predictions, y_test) * 100\n",
    "recall = recall_score(predictions, y_test) * 100\n",
    "precision = precision_score(predictions, y_test) * 100\n",
    "\n",
    "print(\"Accuracy of Gradient Boosting: {:.2f} %\".format(accuracy))\n",
    "print(\"Precision of Gradient Boosting: {:.2f} %\".format(precision))\n",
    "print(\"Recall of Gradient Boosting: {:.2f} %\".format(recall))\n"
   ]
  },
  {
   "cell_type": "code",
   "execution_count": 253,
   "metadata": {},
   "outputs": [
    {
     "output_type": "error",
     "ename": "ValueError",
     "evalue": "Length of passed values is 34, index implies 35.",
     "traceback": [
      "\u001b[1;31m---------------------------------------------------------------------------\u001b[0m",
      "\u001b[1;31mValueError\u001b[0m                                Traceback (most recent call last)",
      "\u001b[1;32m<ipython-input-253-188c00bc8dd9>\u001b[0m in \u001b[0;36m<module>\u001b[1;34m\u001b[0m\n\u001b[1;32m----> 1\u001b[1;33m \u001b[0mimportance\u001b[0m \u001b[1;33m=\u001b[0m \u001b[0mpd\u001b[0m\u001b[1;33m.\u001b[0m\u001b[0mSeries\u001b[0m\u001b[1;33m(\u001b[0m\u001b[0mclassifier\u001b[0m\u001b[1;33m.\u001b[0m\u001b[0mfeature_importances_\u001b[0m\u001b[1;33m,\u001b[0m \u001b[0mindex\u001b[0m\u001b[1;33m=\u001b[0m\u001b[0mnew_result_df\u001b[0m\u001b[1;33m.\u001b[0m\u001b[0mcolumns\u001b[0m\u001b[1;33m)\u001b[0m\u001b[1;33m\u001b[0m\u001b[1;33m\u001b[0m\u001b[0m\n\u001b[0m\u001b[0;32m      2\u001b[0m \u001b[0mimportance\u001b[0m\u001b[1;33m.\u001b[0m\u001b[0mnlargest\u001b[0m\u001b[1;33m(\u001b[0m\u001b[1;36m20\u001b[0m\u001b[1;33m)\u001b[0m\u001b[1;33m.\u001b[0m\u001b[0mplot\u001b[0m\u001b[1;33m(\u001b[0m\u001b[0mkind\u001b[0m\u001b[1;33m=\u001b[0m\u001b[1;34m'barh'\u001b[0m\u001b[1;33m)\u001b[0m\u001b[1;33m\u001b[0m\u001b[1;33m\u001b[0m\u001b[0m\n",
      "\u001b[1;32m~\\AppData\\Local\\Programs\\Python\\Python39\\lib\\site-packages\\pandas\\core\\series.py\u001b[0m in \u001b[0;36m__init__\u001b[1;34m(self, data, index, dtype, name, copy, fastpath)\u001b[0m\n\u001b[0;32m    346\u001b[0m                 \u001b[1;32mtry\u001b[0m\u001b[1;33m:\u001b[0m\u001b[1;33m\u001b[0m\u001b[1;33m\u001b[0m\u001b[0m\n\u001b[0;32m    347\u001b[0m                     \u001b[1;32mif\u001b[0m \u001b[0mlen\u001b[0m\u001b[1;33m(\u001b[0m\u001b[0mindex\u001b[0m\u001b[1;33m)\u001b[0m \u001b[1;33m!=\u001b[0m \u001b[0mlen\u001b[0m\u001b[1;33m(\u001b[0m\u001b[0mdata\u001b[0m\u001b[1;33m)\u001b[0m\u001b[1;33m:\u001b[0m\u001b[1;33m\u001b[0m\u001b[1;33m\u001b[0m\u001b[0m\n\u001b[1;32m--> 348\u001b[1;33m                         raise ValueError(\n\u001b[0m\u001b[0;32m    349\u001b[0m                             \u001b[1;34mf\"Length of passed values is {len(data)}, \"\u001b[0m\u001b[1;33m\u001b[0m\u001b[1;33m\u001b[0m\u001b[0m\n\u001b[0;32m    350\u001b[0m                             \u001b[1;34mf\"index implies {len(index)}.\"\u001b[0m\u001b[1;33m\u001b[0m\u001b[1;33m\u001b[0m\u001b[0m\n",
      "\u001b[1;31mValueError\u001b[0m: Length of passed values is 34, index implies 35."
     ]
    }
   ],
   "source": [
    "importance = pd.Series(classifier.feature_importances_, index=new_result_df.columns)\n",
    "importance.nlargest(20).plot(kind='barh')\n"
   ]
  },
  {
   "cell_type": "code",
   "execution_count": 254,
   "metadata": {},
   "outputs": [
    {
     "output_type": "stream",
     "name": "stdout",
     "text": [
      "time in milliseconds\n206.63899999999998\nConfusion Matrix:\n[[386  84]\n [185 286]]\nClassification Report\n              precision    recall  f1-score   support\n\n       False       0.68      0.82      0.74       470\n        True       0.77      0.61      0.68       471\n\n    accuracy                           0.71       941\n   macro avg       0.72      0.71      0.71       941\nweighted avg       0.72      0.71      0.71       941\n\nAccuracy of Random Forest: 71.41 %\nPrecision of Random Forest: 60.72 %\nRecall of Random Forest: 77.30 %\n"
     ]
    }
   ],
   "source": [
    "#Random Forest\n",
    "X_train, X_test, y_train, y_test = train_test_split(x_under, y_under, test_size=0.33, shuffle=True, stratify=y_under)\n",
    "\n",
    "#create and fit random forest\n",
    "a = datetime.datetime.now()#start time\n",
    "rf = RandomForestClassifier(max_depth=2, random_state=0)\n",
    "rf.fit(X_train, y_train)\n",
    "y_pred = rf.predict(X_test)\n",
    "b = datetime.datetime.now()#end time\n",
    "c = b - a\n",
    "\n",
    "print('time in milliseconds')\n",
    "print(c.total_seconds() * 1000)\n",
    "\n",
    "print(\"Confusion Matrix:\")\n",
    "print(confusion_matrix(y_test, y_pred))\n",
    "\n",
    "print(\"Classification Report\")\n",
    "print(classification_report(y_test, y_pred))\n",
    "\n",
    "accuracy = accuracy_score(y_pred, y_test) * 100\n",
    "recall = recall_score(y_pred, y_test) * 100\n",
    "precision = precision_score(y_pred, y_test) * 100\n",
    "\n",
    "print(\"Accuracy of Random Forest: {:.2f} %\".format(accuracy))\n",
    "print(\"Precision of Random Forest: {:.2f} %\".format(precision))\n",
    "print(\"Recall of Random Forest: {:.2f} %\".format(recall))\n"
   ]
  },
  {
   "cell_type": "code",
   "execution_count": 255,
   "metadata": {},
   "outputs": [
    {
     "output_type": "error",
     "ename": "ValueError",
     "evalue": "Length of passed values is 34, index implies 35.",
     "traceback": [
      "\u001b[1;31m---------------------------------------------------------------------------\u001b[0m",
      "\u001b[1;31mValueError\u001b[0m                                Traceback (most recent call last)",
      "\u001b[1;32m<ipython-input-255-17d0eee20158>\u001b[0m in \u001b[0;36m<module>\u001b[1;34m\u001b[0m\n\u001b[1;32m----> 1\u001b[1;33m \u001b[0mimportance\u001b[0m \u001b[1;33m=\u001b[0m \u001b[0mpd\u001b[0m\u001b[1;33m.\u001b[0m\u001b[0mSeries\u001b[0m\u001b[1;33m(\u001b[0m\u001b[0mrf\u001b[0m\u001b[1;33m.\u001b[0m\u001b[0mfeature_importances_\u001b[0m\u001b[1;33m,\u001b[0m \u001b[0mindex\u001b[0m\u001b[1;33m=\u001b[0m\u001b[0mnew_result_df\u001b[0m\u001b[1;33m.\u001b[0m\u001b[0mcolumns\u001b[0m\u001b[1;33m)\u001b[0m\u001b[1;33m\u001b[0m\u001b[1;33m\u001b[0m\u001b[0m\n\u001b[0m\u001b[0;32m      2\u001b[0m \u001b[0mimportance\u001b[0m\u001b[1;33m.\u001b[0m\u001b[0mnlargest\u001b[0m\u001b[1;33m(\u001b[0m\u001b[1;36m20\u001b[0m\u001b[1;33m)\u001b[0m\u001b[1;33m.\u001b[0m\u001b[0mplot\u001b[0m\u001b[1;33m(\u001b[0m\u001b[0mkind\u001b[0m\u001b[1;33m=\u001b[0m\u001b[1;34m'barh'\u001b[0m\u001b[1;33m)\u001b[0m\u001b[1;33m\u001b[0m\u001b[1;33m\u001b[0m\u001b[0m\n",
      "\u001b[1;32m~\\AppData\\Local\\Programs\\Python\\Python39\\lib\\site-packages\\pandas\\core\\series.py\u001b[0m in \u001b[0;36m__init__\u001b[1;34m(self, data, index, dtype, name, copy, fastpath)\u001b[0m\n\u001b[0;32m    346\u001b[0m                 \u001b[1;32mtry\u001b[0m\u001b[1;33m:\u001b[0m\u001b[1;33m\u001b[0m\u001b[1;33m\u001b[0m\u001b[0m\n\u001b[0;32m    347\u001b[0m                     \u001b[1;32mif\u001b[0m \u001b[0mlen\u001b[0m\u001b[1;33m(\u001b[0m\u001b[0mindex\u001b[0m\u001b[1;33m)\u001b[0m \u001b[1;33m!=\u001b[0m \u001b[0mlen\u001b[0m\u001b[1;33m(\u001b[0m\u001b[0mdata\u001b[0m\u001b[1;33m)\u001b[0m\u001b[1;33m:\u001b[0m\u001b[1;33m\u001b[0m\u001b[1;33m\u001b[0m\u001b[0m\n\u001b[1;32m--> 348\u001b[1;33m                         raise ValueError(\n\u001b[0m\u001b[0;32m    349\u001b[0m                             \u001b[1;34mf\"Length of passed values is {len(data)}, \"\u001b[0m\u001b[1;33m\u001b[0m\u001b[1;33m\u001b[0m\u001b[0m\n\u001b[0;32m    350\u001b[0m                             \u001b[1;34mf\"index implies {len(index)}.\"\u001b[0m\u001b[1;33m\u001b[0m\u001b[1;33m\u001b[0m\u001b[0m\n",
      "\u001b[1;31mValueError\u001b[0m: Length of passed values is 34, index implies 35."
     ]
    }
   ],
   "source": [
    "importance = pd.Series(rf.feature_importances_, index=new_result_df.columns)\n",
    "importance.nlargest(20).plot(kind='barh')\n"
   ]
  },
  {
   "cell_type": "code",
   "execution_count": 256,
   "metadata": {},
   "outputs": [
    {
     "output_type": "stream",
     "name": "stdout",
     "text": [
      "time in milliseconds\n11.968\nConfusion Matrix:\n[[424  47]\n [167 303]]\nClassification Report\n              precision    recall  f1-score   support\n\n       False       0.72      0.90      0.80       471\n        True       0.87      0.64      0.74       470\n\n    accuracy                           0.77       941\n   macro avg       0.79      0.77      0.77       941\nweighted avg       0.79      0.77      0.77       941\n\nAccuracy of Decision Tree: 77.26 %\nRecall of Decision Tree: 86.57 %\nPrecision of Decision Tree: 64.47 %\n"
     ]
    }
   ],
   "source": [
    "#Decision Tree Algorithm:\n",
    "X_train, X_test, y_train, y_test = train_test_split(x_under, y_under, test_size=0.33, shuffle=True, stratify=y_under)\n",
    "from sklearn import tree\n",
    "from matplotlib import pyplot as plt\n",
    "import graphviz\n",
    "\n",
    "a = datetime.datetime.now()\n",
    "dt = DecisionTreeClassifier(criterion='entropy')\n",
    "dt.fit(X_train, y_train)\n",
    "y_pred = dt.predict(X_test)\n",
    "b = datetime.datetime.now()\n",
    "c = b - a\n",
    "\n",
    "print('time in milliseconds')\n",
    "print(c.total_seconds() * 1000)\n",
    "\n",
    "print(\"Confusion Matrix:\")\n",
    "print(confusion_matrix(y_test, y_pred))\n",
    "\n",
    "print(\"Classification Report\")\n",
    "print(classification_report(y_test, y_pred))\n",
    "\n",
    "accuracy = accuracy_score(y_pred,y_test) * 100  \n",
    "recall = recall_score(y_pred, y_test) * 100 \n",
    "precision = precision_score(y_pred, y_test) * 100\n",
    "\n",
    "print(\"Accuracy of Decision Tree: {:.2f} %\".format(accuracy))\n",
    "print(\"Recall of Decision Tree: {:.2f} %\".format(recall))\n",
    "print(\"Precision of Decision Tree: {:.2f} %\".format(precision))\n",
    "\n"
   ]
  },
  {
   "cell_type": "code",
   "execution_count": 192,
   "metadata": {},
   "outputs": [
    {
     "output_type": "execute_result",
     "data": {
      "text/plain": [
       "<AxesSubplot:>"
      ]
     },
     "metadata": {},
     "execution_count": 192
    },
    {
     "output_type": "display_data",
     "data": {
      "text/plain": "<Figure size 432x288 with 1 Axes>",
      "image/svg+xml": "<?xml version=\"1.0\" encoding=\"utf-8\" standalone=\"no\"?>\r\n<!DOCTYPE svg PUBLIC \"-//W3C//DTD SVG 1.1//EN\"\r\n  \"http://www.w3.org/Graphics/SVG/1.1/DTD/svg11.dtd\">\r\n<svg height=\"248.518125pt\" version=\"1.1\" viewBox=\"0 0 542.657307 248.518125\" width=\"542.657307pt\" xmlns=\"http://www.w3.org/2000/svg\" xmlns:xlink=\"http://www.w3.org/1999/xlink\">\r\n <metadata>\r\n  <rdf:RDF xmlns:cc=\"http://creativecommons.org/ns#\" xmlns:dc=\"http://purl.org/dc/elements/1.1/\" xmlns:rdf=\"http://www.w3.org/1999/02/22-rdf-syntax-ns#\">\r\n   <cc:Work>\r\n    <dc:type rdf:resource=\"http://purl.org/dc/dcmitype/StillImage\"/>\r\n    <dc:date>2021-04-13T15:00:50.575053</dc:date>\r\n    <dc:format>image/svg+xml</dc:format>\r\n    <dc:creator>\r\n     <cc:Agent>\r\n      <dc:title>Matplotlib v3.4.1, https://matplotlib.org/</dc:title>\r\n     </cc:Agent>\r\n    </dc:creator>\r\n   </cc:Work>\r\n  </rdf:RDF>\r\n </metadata>\r\n <defs>\r\n  <style type=\"text/css\">*{stroke-linecap:butt;stroke-linejoin:round;}</style>\r\n </defs>\r\n <g id=\"figure_1\">\r\n  <g id=\"patch_1\">\r\n   <path d=\"M -0 248.518125 \r\nL 542.657307 248.518125 \r\nL 542.657307 0 \r\nL -0 0 \r\nz\r\n\" style=\"fill:none;\"/>\r\n  </g>\r\n  <g id=\"axes_1\">\r\n   <g id=\"patch_2\">\r\n    <path d=\"M 195.528125 224.64 \r\nL 530.328125 224.64 \r\nL 530.328125 7.2 \r\nL 195.528125 7.2 \r\nz\r\n\" style=\"fill:#ffffff;\"/>\r\n   </g>\r\n   <g id=\"patch_3\">\r\n    <path clip-path=\"url(#pe0fa039730)\" d=\"M 195.528125 221.922 \r\nL 514.385268 221.922 \r\nL 514.385268 216.486 \r\nL 195.528125 216.486 \r\nz\r\n\" style=\"fill:#1f77b4;\"/>\r\n   </g>\r\n   <g id=\"patch_4\">\r\n    <path clip-path=\"url(#pe0fa039730)\" d=\"M 195.528125 211.05 \r\nL 327.187037 211.05 \r\nL 327.187037 205.614 \r\nL 195.528125 205.614 \r\nz\r\n\" style=\"fill:#1f77b4;\"/>\r\n   </g>\r\n   <g id=\"patch_5\">\r\n    <path clip-path=\"url(#pe0fa039730)\" d=\"M 195.528125 200.178 \r\nL 322.428929 200.178 \r\nL 322.428929 194.742 \r\nL 195.528125 194.742 \r\nz\r\n\" style=\"fill:#1f77b4;\"/>\r\n   </g>\r\n   <g id=\"patch_6\">\r\n    <path clip-path=\"url(#pe0fa039730)\" d=\"M 195.528125 189.306 \r\nL 281.011858 189.306 \r\nL 281.011858 183.87 \r\nL 195.528125 183.87 \r\nz\r\n\" style=\"fill:#1f77b4;\"/>\r\n   </g>\r\n   <g id=\"patch_7\">\r\n    <path clip-path=\"url(#pe0fa039730)\" d=\"M 195.528125 178.434 \r\nL 269.848611 178.434 \r\nL 269.848611 172.998 \r\nL 195.528125 172.998 \r\nz\r\n\" style=\"fill:#1f77b4;\"/>\r\n   </g>\r\n   <g id=\"patch_8\">\r\n    <path clip-path=\"url(#pe0fa039730)\" d=\"M 195.528125 167.562 \r\nL 261.434638 167.562 \r\nL 261.434638 162.126 \r\nL 195.528125 162.126 \r\nz\r\n\" style=\"fill:#1f77b4;\"/>\r\n   </g>\r\n   <g id=\"patch_9\">\r\n    <path clip-path=\"url(#pe0fa039730)\" d=\"M 195.528125 156.69 \r\nL 236.154594 156.69 \r\nL 236.154594 151.254 \r\nL 195.528125 151.254 \r\nz\r\n\" style=\"fill:#1f77b4;\"/>\r\n   </g>\r\n   <g id=\"patch_10\">\r\n    <path clip-path=\"url(#pe0fa039730)\" d=\"M 195.528125 145.818 \r\nL 235.045739 145.818 \r\nL 235.045739 140.382 \r\nL 195.528125 140.382 \r\nz\r\n\" style=\"fill:#1f77b4;\"/>\r\n   </g>\r\n   <g id=\"patch_11\">\r\n    <path clip-path=\"url(#pe0fa039730)\" d=\"M 195.528125 134.946 \r\nL 228.480511 134.946 \r\nL 228.480511 129.51 \r\nL 195.528125 129.51 \r\nz\r\n\" style=\"fill:#1f77b4;\"/>\r\n   </g>\r\n   <g id=\"patch_12\">\r\n    <path clip-path=\"url(#pe0fa039730)\" d=\"M 195.528125 124.074 \r\nL 227.394905 124.074 \r\nL 227.394905 118.638 \r\nL 195.528125 118.638 \r\nz\r\n\" style=\"fill:#1f77b4;\"/>\r\n   </g>\r\n   <g id=\"patch_13\">\r\n    <path clip-path=\"url(#pe0fa039730)\" d=\"M 195.528125 113.202 \r\nL 227.377664 113.202 \r\nL 227.377664 107.766 \r\nL 195.528125 107.766 \r\nz\r\n\" style=\"fill:#1f77b4;\"/>\r\n   </g>\r\n   <g id=\"patch_14\">\r\n    <path clip-path=\"url(#pe0fa039730)\" d=\"M 195.528125 102.33 \r\nL 221.046143 102.33 \r\nL 221.046143 96.894 \r\nL 195.528125 96.894 \r\nz\r\n\" style=\"fill:#1f77b4;\"/>\r\n   </g>\r\n   <g id=\"patch_15\">\r\n    <path clip-path=\"url(#pe0fa039730)\" d=\"M 195.528125 91.458 \r\nL 220.32244 91.458 \r\nL 220.32244 86.022 \r\nL 195.528125 86.022 \r\nz\r\n\" style=\"fill:#1f77b4;\"/>\r\n   </g>\r\n   <g id=\"patch_16\">\r\n    <path clip-path=\"url(#pe0fa039730)\" d=\"M 195.528125 80.586 \r\nL 218.484149 80.586 \r\nL 218.484149 75.15 \r\nL 195.528125 75.15 \r\nz\r\n\" style=\"fill:#1f77b4;\"/>\r\n   </g>\r\n   <g id=\"patch_17\">\r\n    <path clip-path=\"url(#pe0fa039730)\" d=\"M 195.528125 69.714 \r\nL 208.64016 69.714 \r\nL 208.64016 64.278 \r\nL 195.528125 64.278 \r\nz\r\n\" style=\"fill:#1f77b4;\"/>\r\n   </g>\r\n   <g id=\"patch_18\">\r\n    <path clip-path=\"url(#pe0fa039730)\" d=\"M 195.528125 58.842 \r\nL 204.429158 58.842 \r\nL 204.429158 53.406 \r\nL 195.528125 53.406 \r\nz\r\n\" style=\"fill:#1f77b4;\"/>\r\n   </g>\r\n   <g id=\"patch_19\">\r\n    <path clip-path=\"url(#pe0fa039730)\" d=\"M 195.528125 47.97 \r\nL 202.099333 47.97 \r\nL 202.099333 42.534 \r\nL 195.528125 42.534 \r\nz\r\n\" style=\"fill:#1f77b4;\"/>\r\n   </g>\r\n   <g id=\"patch_20\">\r\n    <path clip-path=\"url(#pe0fa039730)\" d=\"M 195.528125 37.098 \r\nL 199.570064 37.098 \r\nL 199.570064 31.662 \r\nL 195.528125 31.662 \r\nz\r\n\" style=\"fill:#1f77b4;\"/>\r\n   </g>\r\n   <g id=\"patch_21\">\r\n    <path clip-path=\"url(#pe0fa039730)\" d=\"M 195.528125 26.226 \r\nL 199.392334 26.226 \r\nL 199.392334 20.79 \r\nL 195.528125 20.79 \r\nz\r\n\" style=\"fill:#1f77b4;\"/>\r\n   </g>\r\n   <g id=\"patch_22\">\r\n    <path clip-path=\"url(#pe0fa039730)\" d=\"M 195.528125 15.354 \r\nL 198.906969 15.354 \r\nL 198.906969 9.918 \r\nL 195.528125 9.918 \r\nz\r\n\" style=\"fill:#1f77b4;\"/>\r\n   </g>\r\n   <g id=\"matplotlib.axis_1\">\r\n    <g id=\"xtick_1\">\r\n     <g id=\"line2d_1\">\r\n      <defs>\r\n       <path d=\"M 0 0 \r\nL 0 3.5 \r\n\" id=\"m2789c49c45\" style=\"stroke:#000000;stroke-width:0.8;\"/>\r\n      </defs>\r\n      <g>\r\n       <use style=\"stroke:#000000;stroke-width:0.8;\" x=\"195.528125\" xlink:href=\"#m2789c49c45\" y=\"224.64\"/>\r\n      </g>\r\n     </g>\r\n     <g id=\"text_1\">\r\n      <!-- 0.00 -->\r\n      <g transform=\"translate(184.395312 239.238437)scale(0.1 -0.1)\">\r\n       <defs>\r\n        <path d=\"M 2034 4250 \r\nQ 1547 4250 1301 3770 \r\nQ 1056 3291 1056 2328 \r\nQ 1056 1369 1301 889 \r\nQ 1547 409 2034 409 \r\nQ 2525 409 2770 889 \r\nQ 3016 1369 3016 2328 \r\nQ 3016 3291 2770 3770 \r\nQ 2525 4250 2034 4250 \r\nz\r\nM 2034 4750 \r\nQ 2819 4750 3233 4129 \r\nQ 3647 3509 3647 2328 \r\nQ 3647 1150 3233 529 \r\nQ 2819 -91 2034 -91 \r\nQ 1250 -91 836 529 \r\nQ 422 1150 422 2328 \r\nQ 422 3509 836 4129 \r\nQ 1250 4750 2034 4750 \r\nz\r\n\" id=\"DejaVuSans-30\" transform=\"scale(0.015625)\"/>\r\n        <path d=\"M 684 794 \r\nL 1344 794 \r\nL 1344 0 \r\nL 684 0 \r\nL 684 794 \r\nz\r\n\" id=\"DejaVuSans-2e\" transform=\"scale(0.015625)\"/>\r\n       </defs>\r\n       <use xlink:href=\"#DejaVuSans-30\"/>\r\n       <use x=\"63.623047\" xlink:href=\"#DejaVuSans-2e\"/>\r\n       <use x=\"95.410156\" xlink:href=\"#DejaVuSans-30\"/>\r\n       <use x=\"159.033203\" xlink:href=\"#DejaVuSans-30\"/>\r\n      </g>\r\n     </g>\r\n    </g>\r\n    <g id=\"xtick_2\">\r\n     <g id=\"line2d_2\">\r\n      <g>\r\n       <use style=\"stroke:#000000;stroke-width:0.8;\" x=\"250.32752\" xlink:href=\"#m2789c49c45\" y=\"224.64\"/>\r\n      </g>\r\n     </g>\r\n     <g id=\"text_2\">\r\n      <!-- 0.05 -->\r\n      <g transform=\"translate(239.194707 239.238437)scale(0.1 -0.1)\">\r\n       <defs>\r\n        <path d=\"M 691 4666 \r\nL 3169 4666 \r\nL 3169 4134 \r\nL 1269 4134 \r\nL 1269 2991 \r\nQ 1406 3038 1543 3061 \r\nQ 1681 3084 1819 3084 \r\nQ 2600 3084 3056 2656 \r\nQ 3513 2228 3513 1497 \r\nQ 3513 744 3044 326 \r\nQ 2575 -91 1722 -91 \r\nQ 1428 -91 1123 -41 \r\nQ 819 9 494 109 \r\nL 494 744 \r\nQ 775 591 1075 516 \r\nQ 1375 441 1709 441 \r\nQ 2250 441 2565 725 \r\nQ 2881 1009 2881 1497 \r\nQ 2881 1984 2565 2268 \r\nQ 2250 2553 1709 2553 \r\nQ 1456 2553 1204 2497 \r\nQ 953 2441 691 2322 \r\nL 691 4666 \r\nz\r\n\" id=\"DejaVuSans-35\" transform=\"scale(0.015625)\"/>\r\n       </defs>\r\n       <use xlink:href=\"#DejaVuSans-30\"/>\r\n       <use x=\"63.623047\" xlink:href=\"#DejaVuSans-2e\"/>\r\n       <use x=\"95.410156\" xlink:href=\"#DejaVuSans-30\"/>\r\n       <use x=\"159.033203\" xlink:href=\"#DejaVuSans-35\"/>\r\n      </g>\r\n     </g>\r\n    </g>\r\n    <g id=\"xtick_3\">\r\n     <g id=\"line2d_3\">\r\n      <g>\r\n       <use style=\"stroke:#000000;stroke-width:0.8;\" x=\"305.126915\" xlink:href=\"#m2789c49c45\" y=\"224.64\"/>\r\n      </g>\r\n     </g>\r\n     <g id=\"text_3\">\r\n      <!-- 0.10 -->\r\n      <g transform=\"translate(293.994102 239.238437)scale(0.1 -0.1)\">\r\n       <defs>\r\n        <path d=\"M 794 531 \r\nL 1825 531 \r\nL 1825 4091 \r\nL 703 3866 \r\nL 703 4441 \r\nL 1819 4666 \r\nL 2450 4666 \r\nL 2450 531 \r\nL 3481 531 \r\nL 3481 0 \r\nL 794 0 \r\nL 794 531 \r\nz\r\n\" id=\"DejaVuSans-31\" transform=\"scale(0.015625)\"/>\r\n       </defs>\r\n       <use xlink:href=\"#DejaVuSans-30\"/>\r\n       <use x=\"63.623047\" xlink:href=\"#DejaVuSans-2e\"/>\r\n       <use x=\"95.410156\" xlink:href=\"#DejaVuSans-31\"/>\r\n       <use x=\"159.033203\" xlink:href=\"#DejaVuSans-30\"/>\r\n      </g>\r\n     </g>\r\n    </g>\r\n    <g id=\"xtick_4\">\r\n     <g id=\"line2d_4\">\r\n      <g>\r\n       <use style=\"stroke:#000000;stroke-width:0.8;\" x=\"359.92631\" xlink:href=\"#m2789c49c45\" y=\"224.64\"/>\r\n      </g>\r\n     </g>\r\n     <g id=\"text_4\">\r\n      <!-- 0.15 -->\r\n      <g transform=\"translate(348.793497 239.238437)scale(0.1 -0.1)\">\r\n       <use xlink:href=\"#DejaVuSans-30\"/>\r\n       <use x=\"63.623047\" xlink:href=\"#DejaVuSans-2e\"/>\r\n       <use x=\"95.410156\" xlink:href=\"#DejaVuSans-31\"/>\r\n       <use x=\"159.033203\" xlink:href=\"#DejaVuSans-35\"/>\r\n      </g>\r\n     </g>\r\n    </g>\r\n    <g id=\"xtick_5\">\r\n     <g id=\"line2d_5\">\r\n      <g>\r\n       <use style=\"stroke:#000000;stroke-width:0.8;\" x=\"414.725705\" xlink:href=\"#m2789c49c45\" y=\"224.64\"/>\r\n      </g>\r\n     </g>\r\n     <g id=\"text_5\">\r\n      <!-- 0.20 -->\r\n      <g transform=\"translate(403.592892 239.238437)scale(0.1 -0.1)\">\r\n       <defs>\r\n        <path d=\"M 1228 531 \r\nL 3431 531 \r\nL 3431 0 \r\nL 469 0 \r\nL 469 531 \r\nQ 828 903 1448 1529 \r\nQ 2069 2156 2228 2338 \r\nQ 2531 2678 2651 2914 \r\nQ 2772 3150 2772 3378 \r\nQ 2772 3750 2511 3984 \r\nQ 2250 4219 1831 4219 \r\nQ 1534 4219 1204 4116 \r\nQ 875 4013 500 3803 \r\nL 500 4441 \r\nQ 881 4594 1212 4672 \r\nQ 1544 4750 1819 4750 \r\nQ 2544 4750 2975 4387 \r\nQ 3406 4025 3406 3419 \r\nQ 3406 3131 3298 2873 \r\nQ 3191 2616 2906 2266 \r\nQ 2828 2175 2409 1742 \r\nQ 1991 1309 1228 531 \r\nz\r\n\" id=\"DejaVuSans-32\" transform=\"scale(0.015625)\"/>\r\n       </defs>\r\n       <use xlink:href=\"#DejaVuSans-30\"/>\r\n       <use x=\"63.623047\" xlink:href=\"#DejaVuSans-2e\"/>\r\n       <use x=\"95.410156\" xlink:href=\"#DejaVuSans-32\"/>\r\n       <use x=\"159.033203\" xlink:href=\"#DejaVuSans-30\"/>\r\n      </g>\r\n     </g>\r\n    </g>\r\n    <g id=\"xtick_6\">\r\n     <g id=\"line2d_6\">\r\n      <g>\r\n       <use style=\"stroke:#000000;stroke-width:0.8;\" x=\"469.5251\" xlink:href=\"#m2789c49c45\" y=\"224.64\"/>\r\n      </g>\r\n     </g>\r\n     <g id=\"text_6\">\r\n      <!-- 0.25 -->\r\n      <g transform=\"translate(458.392287 239.238437)scale(0.1 -0.1)\">\r\n       <use xlink:href=\"#DejaVuSans-30\"/>\r\n       <use x=\"63.623047\" xlink:href=\"#DejaVuSans-2e\"/>\r\n       <use x=\"95.410156\" xlink:href=\"#DejaVuSans-32\"/>\r\n       <use x=\"159.033203\" xlink:href=\"#DejaVuSans-35\"/>\r\n      </g>\r\n     </g>\r\n    </g>\r\n    <g id=\"xtick_7\">\r\n     <g id=\"line2d_7\">\r\n      <g>\r\n       <use style=\"stroke:#000000;stroke-width:0.8;\" x=\"524.324495\" xlink:href=\"#m2789c49c45\" y=\"224.64\"/>\r\n      </g>\r\n     </g>\r\n     <g id=\"text_7\">\r\n      <!-- 0.30 -->\r\n      <g transform=\"translate(513.191682 239.238437)scale(0.1 -0.1)\">\r\n       <defs>\r\n        <path d=\"M 2597 2516 \r\nQ 3050 2419 3304 2112 \r\nQ 3559 1806 3559 1356 \r\nQ 3559 666 3084 287 \r\nQ 2609 -91 1734 -91 \r\nQ 1441 -91 1130 -33 \r\nQ 819 25 488 141 \r\nL 488 750 \r\nQ 750 597 1062 519 \r\nQ 1375 441 1716 441 \r\nQ 2309 441 2620 675 \r\nQ 2931 909 2931 1356 \r\nQ 2931 1769 2642 2001 \r\nQ 2353 2234 1838 2234 \r\nL 1294 2234 \r\nL 1294 2753 \r\nL 1863 2753 \r\nQ 2328 2753 2575 2939 \r\nQ 2822 3125 2822 3475 \r\nQ 2822 3834 2567 4026 \r\nQ 2313 4219 1838 4219 \r\nQ 1578 4219 1281 4162 \r\nQ 984 4106 628 3988 \r\nL 628 4550 \r\nQ 988 4650 1302 4700 \r\nQ 1616 4750 1894 4750 \r\nQ 2613 4750 3031 4423 \r\nQ 3450 4097 3450 3541 \r\nQ 3450 3153 3228 2886 \r\nQ 3006 2619 2597 2516 \r\nz\r\n\" id=\"DejaVuSans-33\" transform=\"scale(0.015625)\"/>\r\n       </defs>\r\n       <use xlink:href=\"#DejaVuSans-30\"/>\r\n       <use x=\"63.623047\" xlink:href=\"#DejaVuSans-2e\"/>\r\n       <use x=\"95.410156\" xlink:href=\"#DejaVuSans-33\"/>\r\n       <use x=\"159.033203\" xlink:href=\"#DejaVuSans-30\"/>\r\n      </g>\r\n     </g>\r\n    </g>\r\n   </g>\r\n   <g id=\"matplotlib.axis_2\">\r\n    <g id=\"ytick_1\">\r\n     <g id=\"line2d_8\">\r\n      <defs>\r\n       <path d=\"M 0 0 \r\nL -3.5 0 \r\n\" id=\"mcb816a4b19\" style=\"stroke:#000000;stroke-width:0.8;\"/>\r\n      </defs>\r\n      <g>\r\n       <use style=\"stroke:#000000;stroke-width:0.8;\" x=\"195.528125\" xlink:href=\"#mcb816a4b19\" y=\"219.204\"/>\r\n      </g>\r\n     </g>\r\n     <g id=\"text_8\">\r\n      <!-- grocery_and_pharmacy_percentage -->\r\n      <g transform=\"translate(9.717187 223.003219)scale(0.1 -0.1)\">\r\n       <defs>\r\n        <path d=\"M 2906 1791 \r\nQ 2906 2416 2648 2759 \r\nQ 2391 3103 1925 3103 \r\nQ 1463 3103 1205 2759 \r\nQ 947 2416 947 1791 \r\nQ 947 1169 1205 825 \r\nQ 1463 481 1925 481 \r\nQ 2391 481 2648 825 \r\nQ 2906 1169 2906 1791 \r\nz\r\nM 3481 434 \r\nQ 3481 -459 3084 -895 \r\nQ 2688 -1331 1869 -1331 \r\nQ 1566 -1331 1297 -1286 \r\nQ 1028 -1241 775 -1147 \r\nL 775 -588 \r\nQ 1028 -725 1275 -790 \r\nQ 1522 -856 1778 -856 \r\nQ 2344 -856 2625 -561 \r\nQ 2906 -266 2906 331 \r\nL 2906 616 \r\nQ 2728 306 2450 153 \r\nQ 2172 0 1784 0 \r\nQ 1141 0 747 490 \r\nQ 353 981 353 1791 \r\nQ 353 2603 747 3093 \r\nQ 1141 3584 1784 3584 \r\nQ 2172 3584 2450 3431 \r\nQ 2728 3278 2906 2969 \r\nL 2906 3500 \r\nL 3481 3500 \r\nL 3481 434 \r\nz\r\n\" id=\"DejaVuSans-67\" transform=\"scale(0.015625)\"/>\r\n        <path d=\"M 2631 2963 \r\nQ 2534 3019 2420 3045 \r\nQ 2306 3072 2169 3072 \r\nQ 1681 3072 1420 2755 \r\nQ 1159 2438 1159 1844 \r\nL 1159 0 \r\nL 581 0 \r\nL 581 3500 \r\nL 1159 3500 \r\nL 1159 2956 \r\nQ 1341 3275 1631 3429 \r\nQ 1922 3584 2338 3584 \r\nQ 2397 3584 2469 3576 \r\nQ 2541 3569 2628 3553 \r\nL 2631 2963 \r\nz\r\n\" id=\"DejaVuSans-72\" transform=\"scale(0.015625)\"/>\r\n        <path d=\"M 1959 3097 \r\nQ 1497 3097 1228 2736 \r\nQ 959 2375 959 1747 \r\nQ 959 1119 1226 758 \r\nQ 1494 397 1959 397 \r\nQ 2419 397 2687 759 \r\nQ 2956 1122 2956 1747 \r\nQ 2956 2369 2687 2733 \r\nQ 2419 3097 1959 3097 \r\nz\r\nM 1959 3584 \r\nQ 2709 3584 3137 3096 \r\nQ 3566 2609 3566 1747 \r\nQ 3566 888 3137 398 \r\nQ 2709 -91 1959 -91 \r\nQ 1206 -91 779 398 \r\nQ 353 888 353 1747 \r\nQ 353 2609 779 3096 \r\nQ 1206 3584 1959 3584 \r\nz\r\n\" id=\"DejaVuSans-6f\" transform=\"scale(0.015625)\"/>\r\n        <path d=\"M 3122 3366 \r\nL 3122 2828 \r\nQ 2878 2963 2633 3030 \r\nQ 2388 3097 2138 3097 \r\nQ 1578 3097 1268 2742 \r\nQ 959 2388 959 1747 \r\nQ 959 1106 1268 751 \r\nQ 1578 397 2138 397 \r\nQ 2388 397 2633 464 \r\nQ 2878 531 3122 666 \r\nL 3122 134 \r\nQ 2881 22 2623 -34 \r\nQ 2366 -91 2075 -91 \r\nQ 1284 -91 818 406 \r\nQ 353 903 353 1747 \r\nQ 353 2603 823 3093 \r\nQ 1294 3584 2113 3584 \r\nQ 2378 3584 2631 3529 \r\nQ 2884 3475 3122 3366 \r\nz\r\n\" id=\"DejaVuSans-63\" transform=\"scale(0.015625)\"/>\r\n        <path d=\"M 3597 1894 \r\nL 3597 1613 \r\nL 953 1613 \r\nQ 991 1019 1311 708 \r\nQ 1631 397 2203 397 \r\nQ 2534 397 2845 478 \r\nQ 3156 559 3463 722 \r\nL 3463 178 \r\nQ 3153 47 2828 -22 \r\nQ 2503 -91 2169 -91 \r\nQ 1331 -91 842 396 \r\nQ 353 884 353 1716 \r\nQ 353 2575 817 3079 \r\nQ 1281 3584 2069 3584 \r\nQ 2775 3584 3186 3129 \r\nQ 3597 2675 3597 1894 \r\nz\r\nM 3022 2063 \r\nQ 3016 2534 2758 2815 \r\nQ 2500 3097 2075 3097 \r\nQ 1594 3097 1305 2825 \r\nQ 1016 2553 972 2059 \r\nL 3022 2063 \r\nz\r\n\" id=\"DejaVuSans-65\" transform=\"scale(0.015625)\"/>\r\n        <path d=\"M 2059 -325 \r\nQ 1816 -950 1584 -1140 \r\nQ 1353 -1331 966 -1331 \r\nL 506 -1331 \r\nL 506 -850 \r\nL 844 -850 \r\nQ 1081 -850 1212 -737 \r\nQ 1344 -625 1503 -206 \r\nL 1606 56 \r\nL 191 3500 \r\nL 800 3500 \r\nL 1894 763 \r\nL 2988 3500 \r\nL 3597 3500 \r\nL 2059 -325 \r\nz\r\n\" id=\"DejaVuSans-79\" transform=\"scale(0.015625)\"/>\r\n        <path d=\"M 3263 -1063 \r\nL 3263 -1509 \r\nL -63 -1509 \r\nL -63 -1063 \r\nL 3263 -1063 \r\nz\r\n\" id=\"DejaVuSans-5f\" transform=\"scale(0.015625)\"/>\r\n        <path d=\"M 2194 1759 \r\nQ 1497 1759 1228 1600 \r\nQ 959 1441 959 1056 \r\nQ 959 750 1161 570 \r\nQ 1363 391 1709 391 \r\nQ 2188 391 2477 730 \r\nQ 2766 1069 2766 1631 \r\nL 2766 1759 \r\nL 2194 1759 \r\nz\r\nM 3341 1997 \r\nL 3341 0 \r\nL 2766 0 \r\nL 2766 531 \r\nQ 2569 213 2275 61 \r\nQ 1981 -91 1556 -91 \r\nQ 1019 -91 701 211 \r\nQ 384 513 384 1019 \r\nQ 384 1609 779 1909 \r\nQ 1175 2209 1959 2209 \r\nL 2766 2209 \r\nL 2766 2266 \r\nQ 2766 2663 2505 2880 \r\nQ 2244 3097 1772 3097 \r\nQ 1472 3097 1187 3025 \r\nQ 903 2953 641 2809 \r\nL 641 3341 \r\nQ 956 3463 1253 3523 \r\nQ 1550 3584 1831 3584 \r\nQ 2591 3584 2966 3190 \r\nQ 3341 2797 3341 1997 \r\nz\r\n\" id=\"DejaVuSans-61\" transform=\"scale(0.015625)\"/>\r\n        <path d=\"M 3513 2113 \r\nL 3513 0 \r\nL 2938 0 \r\nL 2938 2094 \r\nQ 2938 2591 2744 2837 \r\nQ 2550 3084 2163 3084 \r\nQ 1697 3084 1428 2787 \r\nQ 1159 2491 1159 1978 \r\nL 1159 0 \r\nL 581 0 \r\nL 581 3500 \r\nL 1159 3500 \r\nL 1159 2956 \r\nQ 1366 3272 1645 3428 \r\nQ 1925 3584 2291 3584 \r\nQ 2894 3584 3203 3211 \r\nQ 3513 2838 3513 2113 \r\nz\r\n\" id=\"DejaVuSans-6e\" transform=\"scale(0.015625)\"/>\r\n        <path d=\"M 2906 2969 \r\nL 2906 4863 \r\nL 3481 4863 \r\nL 3481 0 \r\nL 2906 0 \r\nL 2906 525 \r\nQ 2725 213 2448 61 \r\nQ 2172 -91 1784 -91 \r\nQ 1150 -91 751 415 \r\nQ 353 922 353 1747 \r\nQ 353 2572 751 3078 \r\nQ 1150 3584 1784 3584 \r\nQ 2172 3584 2448 3432 \r\nQ 2725 3281 2906 2969 \r\nz\r\nM 947 1747 \r\nQ 947 1113 1208 752 \r\nQ 1469 391 1925 391 \r\nQ 2381 391 2643 752 \r\nQ 2906 1113 2906 1747 \r\nQ 2906 2381 2643 2742 \r\nQ 2381 3103 1925 3103 \r\nQ 1469 3103 1208 2742 \r\nQ 947 2381 947 1747 \r\nz\r\n\" id=\"DejaVuSans-64\" transform=\"scale(0.015625)\"/>\r\n        <path d=\"M 1159 525 \r\nL 1159 -1331 \r\nL 581 -1331 \r\nL 581 3500 \r\nL 1159 3500 \r\nL 1159 2969 \r\nQ 1341 3281 1617 3432 \r\nQ 1894 3584 2278 3584 \r\nQ 2916 3584 3314 3078 \r\nQ 3713 2572 3713 1747 \r\nQ 3713 922 3314 415 \r\nQ 2916 -91 2278 -91 \r\nQ 1894 -91 1617 61 \r\nQ 1341 213 1159 525 \r\nz\r\nM 3116 1747 \r\nQ 3116 2381 2855 2742 \r\nQ 2594 3103 2138 3103 \r\nQ 1681 3103 1420 2742 \r\nQ 1159 2381 1159 1747 \r\nQ 1159 1113 1420 752 \r\nQ 1681 391 2138 391 \r\nQ 2594 391 2855 752 \r\nQ 3116 1113 3116 1747 \r\nz\r\n\" id=\"DejaVuSans-70\" transform=\"scale(0.015625)\"/>\r\n        <path d=\"M 3513 2113 \r\nL 3513 0 \r\nL 2938 0 \r\nL 2938 2094 \r\nQ 2938 2591 2744 2837 \r\nQ 2550 3084 2163 3084 \r\nQ 1697 3084 1428 2787 \r\nQ 1159 2491 1159 1978 \r\nL 1159 0 \r\nL 581 0 \r\nL 581 4863 \r\nL 1159 4863 \r\nL 1159 2956 \r\nQ 1366 3272 1645 3428 \r\nQ 1925 3584 2291 3584 \r\nQ 2894 3584 3203 3211 \r\nQ 3513 2838 3513 2113 \r\nz\r\n\" id=\"DejaVuSans-68\" transform=\"scale(0.015625)\"/>\r\n        <path d=\"M 3328 2828 \r\nQ 3544 3216 3844 3400 \r\nQ 4144 3584 4550 3584 \r\nQ 5097 3584 5394 3201 \r\nQ 5691 2819 5691 2113 \r\nL 5691 0 \r\nL 5113 0 \r\nL 5113 2094 \r\nQ 5113 2597 4934 2840 \r\nQ 4756 3084 4391 3084 \r\nQ 3944 3084 3684 2787 \r\nQ 3425 2491 3425 1978 \r\nL 3425 0 \r\nL 2847 0 \r\nL 2847 2094 \r\nQ 2847 2600 2669 2842 \r\nQ 2491 3084 2119 3084 \r\nQ 1678 3084 1418 2786 \r\nQ 1159 2488 1159 1978 \r\nL 1159 0 \r\nL 581 0 \r\nL 581 3500 \r\nL 1159 3500 \r\nL 1159 2956 \r\nQ 1356 3278 1631 3431 \r\nQ 1906 3584 2284 3584 \r\nQ 2666 3584 2933 3390 \r\nQ 3200 3197 3328 2828 \r\nz\r\n\" id=\"DejaVuSans-6d\" transform=\"scale(0.015625)\"/>\r\n        <path d=\"M 1172 4494 \r\nL 1172 3500 \r\nL 2356 3500 \r\nL 2356 3053 \r\nL 1172 3053 \r\nL 1172 1153 \r\nQ 1172 725 1289 603 \r\nQ 1406 481 1766 481 \r\nL 2356 481 \r\nL 2356 0 \r\nL 1766 0 \r\nQ 1100 0 847 248 \r\nQ 594 497 594 1153 \r\nL 594 3053 \r\nL 172 3053 \r\nL 172 3500 \r\nL 594 3500 \r\nL 594 4494 \r\nL 1172 4494 \r\nz\r\n\" id=\"DejaVuSans-74\" transform=\"scale(0.015625)\"/>\r\n       </defs>\r\n       <use xlink:href=\"#DejaVuSans-67\"/>\r\n       <use x=\"63.476562\" xlink:href=\"#DejaVuSans-72\"/>\r\n       <use x=\"102.339844\" xlink:href=\"#DejaVuSans-6f\"/>\r\n       <use x=\"163.521484\" xlink:href=\"#DejaVuSans-63\"/>\r\n       <use x=\"218.501953\" xlink:href=\"#DejaVuSans-65\"/>\r\n       <use x=\"280.025391\" xlink:href=\"#DejaVuSans-72\"/>\r\n       <use x=\"321.138672\" xlink:href=\"#DejaVuSans-79\"/>\r\n       <use x=\"380.318359\" xlink:href=\"#DejaVuSans-5f\"/>\r\n       <use x=\"430.318359\" xlink:href=\"#DejaVuSans-61\"/>\r\n       <use x=\"491.597656\" xlink:href=\"#DejaVuSans-6e\"/>\r\n       <use x=\"554.976562\" xlink:href=\"#DejaVuSans-64\"/>\r\n       <use x=\"618.453125\" xlink:href=\"#DejaVuSans-5f\"/>\r\n       <use x=\"668.453125\" xlink:href=\"#DejaVuSans-70\"/>\r\n       <use x=\"731.929688\" xlink:href=\"#DejaVuSans-68\"/>\r\n       <use x=\"795.308594\" xlink:href=\"#DejaVuSans-61\"/>\r\n       <use x=\"856.587891\" xlink:href=\"#DejaVuSans-72\"/>\r\n       <use x=\"895.951172\" xlink:href=\"#DejaVuSans-6d\"/>\r\n       <use x=\"993.363281\" xlink:href=\"#DejaVuSans-61\"/>\r\n       <use x=\"1054.642578\" xlink:href=\"#DejaVuSans-63\"/>\r\n       <use x=\"1109.623047\" xlink:href=\"#DejaVuSans-79\"/>\r\n       <use x=\"1168.802734\" xlink:href=\"#DejaVuSans-5f\"/>\r\n       <use x=\"1218.802734\" xlink:href=\"#DejaVuSans-70\"/>\r\n       <use x=\"1282.279297\" xlink:href=\"#DejaVuSans-65\"/>\r\n       <use x=\"1343.802734\" xlink:href=\"#DejaVuSans-72\"/>\r\n       <use x=\"1382.666016\" xlink:href=\"#DejaVuSans-63\"/>\r\n       <use x=\"1437.646484\" xlink:href=\"#DejaVuSans-65\"/>\r\n       <use x=\"1499.169922\" xlink:href=\"#DejaVuSans-6e\"/>\r\n       <use x=\"1562.548828\" xlink:href=\"#DejaVuSans-74\"/>\r\n       <use x=\"1601.757812\" xlink:href=\"#DejaVuSans-61\"/>\r\n       <use x=\"1663.037109\" xlink:href=\"#DejaVuSans-67\"/>\r\n       <use x=\"1726.513672\" xlink:href=\"#DejaVuSans-65\"/>\r\n      </g>\r\n     </g>\r\n    </g>\r\n    <g id=\"ytick_2\">\r\n     <g id=\"line2d_9\">\r\n      <g>\r\n       <use style=\"stroke:#000000;stroke-width:0.8;\" x=\"195.528125\" xlink:href=\"#mcb816a4b19\" y=\"208.332\"/>\r\n      </g>\r\n     </g>\r\n     <g id=\"text_9\">\r\n      <!-- parks_percentage -->\r\n      <g transform=\"translate(99.014062 212.131219)scale(0.1 -0.1)\">\r\n       <defs>\r\n        <path d=\"M 581 4863 \r\nL 1159 4863 \r\nL 1159 1991 \r\nL 2875 3500 \r\nL 3609 3500 \r\nL 1753 1863 \r\nL 3688 0 \r\nL 2938 0 \r\nL 1159 1709 \r\nL 1159 0 \r\nL 581 0 \r\nL 581 4863 \r\nz\r\n\" id=\"DejaVuSans-6b\" transform=\"scale(0.015625)\"/>\r\n        <path d=\"M 2834 3397 \r\nL 2834 2853 \r\nQ 2591 2978 2328 3040 \r\nQ 2066 3103 1784 3103 \r\nQ 1356 3103 1142 2972 \r\nQ 928 2841 928 2578 \r\nQ 928 2378 1081 2264 \r\nQ 1234 2150 1697 2047 \r\nL 1894 2003 \r\nQ 2506 1872 2764 1633 \r\nQ 3022 1394 3022 966 \r\nQ 3022 478 2636 193 \r\nQ 2250 -91 1575 -91 \r\nQ 1294 -91 989 -36 \r\nQ 684 19 347 128 \r\nL 347 722 \r\nQ 666 556 975 473 \r\nQ 1284 391 1588 391 \r\nQ 1994 391 2212 530 \r\nQ 2431 669 2431 922 \r\nQ 2431 1156 2273 1281 \r\nQ 2116 1406 1581 1522 \r\nL 1381 1569 \r\nQ 847 1681 609 1914 \r\nQ 372 2147 372 2553 \r\nQ 372 3047 722 3315 \r\nQ 1072 3584 1716 3584 \r\nQ 2034 3584 2315 3537 \r\nQ 2597 3491 2834 3397 \r\nz\r\n\" id=\"DejaVuSans-73\" transform=\"scale(0.015625)\"/>\r\n       </defs>\r\n       <use xlink:href=\"#DejaVuSans-70\"/>\r\n       <use x=\"63.476562\" xlink:href=\"#DejaVuSans-61\"/>\r\n       <use x=\"124.755859\" xlink:href=\"#DejaVuSans-72\"/>\r\n       <use x=\"165.869141\" xlink:href=\"#DejaVuSans-6b\"/>\r\n       <use x=\"223.779297\" xlink:href=\"#DejaVuSans-73\"/>\r\n       <use x=\"275.878906\" xlink:href=\"#DejaVuSans-5f\"/>\r\n       <use x=\"325.878906\" xlink:href=\"#DejaVuSans-70\"/>\r\n       <use x=\"389.355469\" xlink:href=\"#DejaVuSans-65\"/>\r\n       <use x=\"450.878906\" xlink:href=\"#DejaVuSans-72\"/>\r\n       <use x=\"489.742188\" xlink:href=\"#DejaVuSans-63\"/>\r\n       <use x=\"544.722656\" xlink:href=\"#DejaVuSans-65\"/>\r\n       <use x=\"606.246094\" xlink:href=\"#DejaVuSans-6e\"/>\r\n       <use x=\"669.625\" xlink:href=\"#DejaVuSans-74\"/>\r\n       <use x=\"708.833984\" xlink:href=\"#DejaVuSans-61\"/>\r\n       <use x=\"770.113281\" xlink:href=\"#DejaVuSans-67\"/>\r\n       <use x=\"833.589844\" xlink:href=\"#DejaVuSans-65\"/>\r\n      </g>\r\n     </g>\r\n    </g>\r\n    <g id=\"ytick_3\">\r\n     <g id=\"line2d_10\">\r\n      <g>\r\n       <use style=\"stroke:#000000;stroke-width:0.8;\" x=\"195.528125\" xlink:href=\"#mcb816a4b19\" y=\"197.46\"/>\r\n      </g>\r\n     </g>\r\n     <g id=\"text_10\">\r\n      <!-- workplaces_percentage -->\r\n      <g transform=\"translate(70.2875 201.259219)scale(0.1 -0.1)\">\r\n       <defs>\r\n        <path d=\"M 269 3500 \r\nL 844 3500 \r\nL 1563 769 \r\nL 2278 3500 \r\nL 2956 3500 \r\nL 3675 769 \r\nL 4391 3500 \r\nL 4966 3500 \r\nL 4050 0 \r\nL 3372 0 \r\nL 2619 2869 \r\nL 1863 0 \r\nL 1184 0 \r\nL 269 3500 \r\nz\r\n\" id=\"DejaVuSans-77\" transform=\"scale(0.015625)\"/>\r\n        <path d=\"M 603 4863 \r\nL 1178 4863 \r\nL 1178 0 \r\nL 603 0 \r\nL 603 4863 \r\nz\r\n\" id=\"DejaVuSans-6c\" transform=\"scale(0.015625)\"/>\r\n       </defs>\r\n       <use xlink:href=\"#DejaVuSans-77\"/>\r\n       <use x=\"81.787109\" xlink:href=\"#DejaVuSans-6f\"/>\r\n       <use x=\"142.96875\" xlink:href=\"#DejaVuSans-72\"/>\r\n       <use x=\"184.082031\" xlink:href=\"#DejaVuSans-6b\"/>\r\n       <use x=\"241.992188\" xlink:href=\"#DejaVuSans-70\"/>\r\n       <use x=\"305.46875\" xlink:href=\"#DejaVuSans-6c\"/>\r\n       <use x=\"333.251953\" xlink:href=\"#DejaVuSans-61\"/>\r\n       <use x=\"394.53125\" xlink:href=\"#DejaVuSans-63\"/>\r\n       <use x=\"449.511719\" xlink:href=\"#DejaVuSans-65\"/>\r\n       <use x=\"511.035156\" xlink:href=\"#DejaVuSans-73\"/>\r\n       <use x=\"563.134766\" xlink:href=\"#DejaVuSans-5f\"/>\r\n       <use x=\"613.134766\" xlink:href=\"#DejaVuSans-70\"/>\r\n       <use x=\"676.611328\" xlink:href=\"#DejaVuSans-65\"/>\r\n       <use x=\"738.134766\" xlink:href=\"#DejaVuSans-72\"/>\r\n       <use x=\"776.998047\" xlink:href=\"#DejaVuSans-63\"/>\r\n       <use x=\"831.978516\" xlink:href=\"#DejaVuSans-65\"/>\r\n       <use x=\"893.501953\" xlink:href=\"#DejaVuSans-6e\"/>\r\n       <use x=\"956.880859\" xlink:href=\"#DejaVuSans-74\"/>\r\n       <use x=\"996.089844\" xlink:href=\"#DejaVuSans-61\"/>\r\n       <use x=\"1057.369141\" xlink:href=\"#DejaVuSans-67\"/>\r\n       <use x=\"1120.845703\" xlink:href=\"#DejaVuSans-65\"/>\r\n      </g>\r\n     </g>\r\n    </g>\r\n    <g id=\"ytick_4\">\r\n     <g id=\"line2d_11\">\r\n      <g>\r\n       <use style=\"stroke:#000000;stroke-width:0.8;\" x=\"195.528125\" xlink:href=\"#mcb816a4b19\" y=\"186.588\"/>\r\n      </g>\r\n     </g>\r\n     <g id=\"text_11\">\r\n      <!-- city_Toronto -->\r\n      <g transform=\"translate(128.504687 190.387219)scale(0.1 -0.1)\">\r\n       <defs>\r\n        <path d=\"M 603 3500 \r\nL 1178 3500 \r\nL 1178 0 \r\nL 603 0 \r\nL 603 3500 \r\nz\r\nM 603 4863 \r\nL 1178 4863 \r\nL 1178 4134 \r\nL 603 4134 \r\nL 603 4863 \r\nz\r\n\" id=\"DejaVuSans-69\" transform=\"scale(0.015625)\"/>\r\n        <path d=\"M -19 4666 \r\nL 3928 4666 \r\nL 3928 4134 \r\nL 2272 4134 \r\nL 2272 0 \r\nL 1638 0 \r\nL 1638 4134 \r\nL -19 4134 \r\nL -19 4666 \r\nz\r\n\" id=\"DejaVuSans-54\" transform=\"scale(0.015625)\"/>\r\n       </defs>\r\n       <use xlink:href=\"#DejaVuSans-63\"/>\r\n       <use x=\"54.980469\" xlink:href=\"#DejaVuSans-69\"/>\r\n       <use x=\"82.763672\" xlink:href=\"#DejaVuSans-74\"/>\r\n       <use x=\"121.972656\" xlink:href=\"#DejaVuSans-79\"/>\r\n       <use x=\"181.152344\" xlink:href=\"#DejaVuSans-5f\"/>\r\n       <use x=\"231.152344\" xlink:href=\"#DejaVuSans-54\"/>\r\n       <use x=\"275.236328\" xlink:href=\"#DejaVuSans-6f\"/>\r\n       <use x=\"336.417969\" xlink:href=\"#DejaVuSans-72\"/>\r\n       <use x=\"375.28125\" xlink:href=\"#DejaVuSans-6f\"/>\r\n       <use x=\"436.462891\" xlink:href=\"#DejaVuSans-6e\"/>\r\n       <use x=\"499.841797\" xlink:href=\"#DejaVuSans-74\"/>\r\n       <use x=\"539.050781\" xlink:href=\"#DejaVuSans-6f\"/>\r\n      </g>\r\n     </g>\r\n    </g>\r\n    <g id=\"ytick_5\">\r\n     <g id=\"line2d_12\">\r\n      <g>\r\n       <use style=\"stroke:#000000;stroke-width:0.8;\" x=\"195.528125\" xlink:href=\"#mcb816a4b19\" y=\"175.716\"/>\r\n      </g>\r\n     </g>\r\n     <g id=\"text_12\">\r\n      <!-- retail_and_recreation_percentage -->\r\n      <g transform=\"translate(21.284375 179.515219)scale(0.1 -0.1)\">\r\n       <use xlink:href=\"#DejaVuSans-72\"/>\r\n       <use x=\"38.863281\" xlink:href=\"#DejaVuSans-65\"/>\r\n       <use x=\"100.386719\" xlink:href=\"#DejaVuSans-74\"/>\r\n       <use x=\"139.595703\" xlink:href=\"#DejaVuSans-61\"/>\r\n       <use x=\"200.875\" xlink:href=\"#DejaVuSans-69\"/>\r\n       <use x=\"228.658203\" xlink:href=\"#DejaVuSans-6c\"/>\r\n       <use x=\"256.441406\" xlink:href=\"#DejaVuSans-5f\"/>\r\n       <use x=\"306.441406\" xlink:href=\"#DejaVuSans-61\"/>\r\n       <use x=\"367.720703\" xlink:href=\"#DejaVuSans-6e\"/>\r\n       <use x=\"431.099609\" xlink:href=\"#DejaVuSans-64\"/>\r\n       <use x=\"494.576172\" xlink:href=\"#DejaVuSans-5f\"/>\r\n       <use x=\"544.576172\" xlink:href=\"#DejaVuSans-72\"/>\r\n       <use x=\"583.439453\" xlink:href=\"#DejaVuSans-65\"/>\r\n       <use x=\"644.962891\" xlink:href=\"#DejaVuSans-63\"/>\r\n       <use x=\"699.943359\" xlink:href=\"#DejaVuSans-72\"/>\r\n       <use x=\"738.806641\" xlink:href=\"#DejaVuSans-65\"/>\r\n       <use x=\"800.330078\" xlink:href=\"#DejaVuSans-61\"/>\r\n       <use x=\"861.609375\" xlink:href=\"#DejaVuSans-74\"/>\r\n       <use x=\"900.818359\" xlink:href=\"#DejaVuSans-69\"/>\r\n       <use x=\"928.601562\" xlink:href=\"#DejaVuSans-6f\"/>\r\n       <use x=\"989.783203\" xlink:href=\"#DejaVuSans-6e\"/>\r\n       <use x=\"1053.162109\" xlink:href=\"#DejaVuSans-5f\"/>\r\n       <use x=\"1103.162109\" xlink:href=\"#DejaVuSans-70\"/>\r\n       <use x=\"1166.638672\" xlink:href=\"#DejaVuSans-65\"/>\r\n       <use x=\"1228.162109\" xlink:href=\"#DejaVuSans-72\"/>\r\n       <use x=\"1267.025391\" xlink:href=\"#DejaVuSans-63\"/>\r\n       <use x=\"1322.005859\" xlink:href=\"#DejaVuSans-65\"/>\r\n       <use x=\"1383.529297\" xlink:href=\"#DejaVuSans-6e\"/>\r\n       <use x=\"1446.908203\" xlink:href=\"#DejaVuSans-74\"/>\r\n       <use x=\"1486.117188\" xlink:href=\"#DejaVuSans-61\"/>\r\n       <use x=\"1547.396484\" xlink:href=\"#DejaVuSans-67\"/>\r\n       <use x=\"1610.873047\" xlink:href=\"#DejaVuSans-65\"/>\r\n      </g>\r\n     </g>\r\n    </g>\r\n    <g id=\"ytick_6\">\r\n     <g id=\"line2d_13\">\r\n      <g>\r\n       <use style=\"stroke:#000000;stroke-width:0.8;\" x=\"195.528125\" xlink:href=\"#mcb816a4b19\" y=\"164.844\"/>\r\n      </g>\r\n     </g>\r\n     <g id=\"text_13\">\r\n      <!-- residential_percentage -->\r\n      <g transform=\"translate(74.13125 168.643219)scale(0.1 -0.1)\">\r\n       <use xlink:href=\"#DejaVuSans-72\"/>\r\n       <use x=\"38.863281\" xlink:href=\"#DejaVuSans-65\"/>\r\n       <use x=\"100.386719\" xlink:href=\"#DejaVuSans-73\"/>\r\n       <use x=\"152.486328\" xlink:href=\"#DejaVuSans-69\"/>\r\n       <use x=\"180.269531\" xlink:href=\"#DejaVuSans-64\"/>\r\n       <use x=\"243.746094\" xlink:href=\"#DejaVuSans-65\"/>\r\n       <use x=\"305.269531\" xlink:href=\"#DejaVuSans-6e\"/>\r\n       <use x=\"368.648438\" xlink:href=\"#DejaVuSans-74\"/>\r\n       <use x=\"407.857422\" xlink:href=\"#DejaVuSans-69\"/>\r\n       <use x=\"435.640625\" xlink:href=\"#DejaVuSans-61\"/>\r\n       <use x=\"496.919922\" xlink:href=\"#DejaVuSans-6c\"/>\r\n       <use x=\"524.703125\" xlink:href=\"#DejaVuSans-5f\"/>\r\n       <use x=\"574.703125\" xlink:href=\"#DejaVuSans-70\"/>\r\n       <use x=\"638.179688\" xlink:href=\"#DejaVuSans-65\"/>\r\n       <use x=\"699.703125\" xlink:href=\"#DejaVuSans-72\"/>\r\n       <use x=\"738.566406\" xlink:href=\"#DejaVuSans-63\"/>\r\n       <use x=\"793.546875\" xlink:href=\"#DejaVuSans-65\"/>\r\n       <use x=\"855.070312\" xlink:href=\"#DejaVuSans-6e\"/>\r\n       <use x=\"918.449219\" xlink:href=\"#DejaVuSans-74\"/>\r\n       <use x=\"957.658203\" xlink:href=\"#DejaVuSans-61\"/>\r\n       <use x=\"1018.9375\" xlink:href=\"#DejaVuSans-67\"/>\r\n       <use x=\"1082.414062\" xlink:href=\"#DejaVuSans-65\"/>\r\n      </g>\r\n     </g>\r\n    </g>\r\n    <g id=\"ytick_7\">\r\n     <g id=\"line2d_14\">\r\n      <g>\r\n       <use style=\"stroke:#000000;stroke-width:0.8;\" x=\"195.528125\" xlink:href=\"#mcb816a4b19\" y=\"153.972\"/>\r\n      </g>\r\n     </g>\r\n     <g id=\"text_14\">\r\n      <!-- age_group_90+ -->\r\n      <g transform=\"translate(109.754687 157.682937)scale(0.1 -0.1)\">\r\n       <defs>\r\n        <path d=\"M 544 1381 \r\nL 544 3500 \r\nL 1119 3500 \r\nL 1119 1403 \r\nQ 1119 906 1312 657 \r\nQ 1506 409 1894 409 \r\nQ 2359 409 2629 706 \r\nQ 2900 1003 2900 1516 \r\nL 2900 3500 \r\nL 3475 3500 \r\nL 3475 0 \r\nL 2900 0 \r\nL 2900 538 \r\nQ 2691 219 2414 64 \r\nQ 2138 -91 1772 -91 \r\nQ 1169 -91 856 284 \r\nQ 544 659 544 1381 \r\nz\r\nM 1991 3584 \r\nL 1991 3584 \r\nz\r\n\" id=\"DejaVuSans-75\" transform=\"scale(0.015625)\"/>\r\n        <path d=\"M 703 97 \r\nL 703 672 \r\nQ 941 559 1184 500 \r\nQ 1428 441 1663 441 \r\nQ 2288 441 2617 861 \r\nQ 2947 1281 2994 2138 \r\nQ 2813 1869 2534 1725 \r\nQ 2256 1581 1919 1581 \r\nQ 1219 1581 811 2004 \r\nQ 403 2428 403 3163 \r\nQ 403 3881 828 4315 \r\nQ 1253 4750 1959 4750 \r\nQ 2769 4750 3195 4129 \r\nQ 3622 3509 3622 2328 \r\nQ 3622 1225 3098 567 \r\nQ 2575 -91 1691 -91 \r\nQ 1453 -91 1209 -44 \r\nQ 966 3 703 97 \r\nz\r\nM 1959 2075 \r\nQ 2384 2075 2632 2365 \r\nQ 2881 2656 2881 3163 \r\nQ 2881 3666 2632 3958 \r\nQ 2384 4250 1959 4250 \r\nQ 1534 4250 1286 3958 \r\nQ 1038 3666 1038 3163 \r\nQ 1038 2656 1286 2365 \r\nQ 1534 2075 1959 2075 \r\nz\r\n\" id=\"DejaVuSans-39\" transform=\"scale(0.015625)\"/>\r\n        <path d=\"M 2944 4013 \r\nL 2944 2272 \r\nL 4684 2272 \r\nL 4684 1741 \r\nL 2944 1741 \r\nL 2944 0 \r\nL 2419 0 \r\nL 2419 1741 \r\nL 678 1741 \r\nL 678 2272 \r\nL 2419 2272 \r\nL 2419 4013 \r\nL 2944 4013 \r\nz\r\n\" id=\"DejaVuSans-2b\" transform=\"scale(0.015625)\"/>\r\n       </defs>\r\n       <use xlink:href=\"#DejaVuSans-61\"/>\r\n       <use x=\"61.279297\" xlink:href=\"#DejaVuSans-67\"/>\r\n       <use x=\"124.755859\" xlink:href=\"#DejaVuSans-65\"/>\r\n       <use x=\"186.279297\" xlink:href=\"#DejaVuSans-5f\"/>\r\n       <use x=\"236.279297\" xlink:href=\"#DejaVuSans-67\"/>\r\n       <use x=\"299.755859\" xlink:href=\"#DejaVuSans-72\"/>\r\n       <use x=\"338.619141\" xlink:href=\"#DejaVuSans-6f\"/>\r\n       <use x=\"399.800781\" xlink:href=\"#DejaVuSans-75\"/>\r\n       <use x=\"463.179688\" xlink:href=\"#DejaVuSans-70\"/>\r\n       <use x=\"526.65625\" xlink:href=\"#DejaVuSans-5f\"/>\r\n       <use x=\"576.65625\" xlink:href=\"#DejaVuSans-39\"/>\r\n       <use x=\"640.279297\" xlink:href=\"#DejaVuSans-30\"/>\r\n       <use x=\"703.902344\" xlink:href=\"#DejaVuSans-2b\"/>\r\n      </g>\r\n     </g>\r\n    </g>\r\n    <g id=\"ytick_8\">\r\n     <g id=\"line2d_15\">\r\n      <g>\r\n       <use style=\"stroke:#000000;stroke-width:0.8;\" x=\"195.528125\" xlink:href=\"#mcb816a4b19\" y=\"143.1\"/>\r\n      </g>\r\n     </g>\r\n     <g id=\"text_15\">\r\n      <!-- age_group_80s -->\r\n      <g transform=\"translate(112.925 146.810937)scale(0.1 -0.1)\">\r\n       <defs>\r\n        <path d=\"M 2034 2216 \r\nQ 1584 2216 1326 1975 \r\nQ 1069 1734 1069 1313 \r\nQ 1069 891 1326 650 \r\nQ 1584 409 2034 409 \r\nQ 2484 409 2743 651 \r\nQ 3003 894 3003 1313 \r\nQ 3003 1734 2745 1975 \r\nQ 2488 2216 2034 2216 \r\nz\r\nM 1403 2484 \r\nQ 997 2584 770 2862 \r\nQ 544 3141 544 3541 \r\nQ 544 4100 942 4425 \r\nQ 1341 4750 2034 4750 \r\nQ 2731 4750 3128 4425 \r\nQ 3525 4100 3525 3541 \r\nQ 3525 3141 3298 2862 \r\nQ 3072 2584 2669 2484 \r\nQ 3125 2378 3379 2068 \r\nQ 3634 1759 3634 1313 \r\nQ 3634 634 3220 271 \r\nQ 2806 -91 2034 -91 \r\nQ 1263 -91 848 271 \r\nQ 434 634 434 1313 \r\nQ 434 1759 690 2068 \r\nQ 947 2378 1403 2484 \r\nz\r\nM 1172 3481 \r\nQ 1172 3119 1398 2916 \r\nQ 1625 2713 2034 2713 \r\nQ 2441 2713 2670 2916 \r\nQ 2900 3119 2900 3481 \r\nQ 2900 3844 2670 4047 \r\nQ 2441 4250 2034 4250 \r\nQ 1625 4250 1398 4047 \r\nQ 1172 3844 1172 3481 \r\nz\r\n\" id=\"DejaVuSans-38\" transform=\"scale(0.015625)\"/>\r\n       </defs>\r\n       <use xlink:href=\"#DejaVuSans-61\"/>\r\n       <use x=\"61.279297\" xlink:href=\"#DejaVuSans-67\"/>\r\n       <use x=\"124.755859\" xlink:href=\"#DejaVuSans-65\"/>\r\n       <use x=\"186.279297\" xlink:href=\"#DejaVuSans-5f\"/>\r\n       <use x=\"236.279297\" xlink:href=\"#DejaVuSans-67\"/>\r\n       <use x=\"299.755859\" xlink:href=\"#DejaVuSans-72\"/>\r\n       <use x=\"338.619141\" xlink:href=\"#DejaVuSans-6f\"/>\r\n       <use x=\"399.800781\" xlink:href=\"#DejaVuSans-75\"/>\r\n       <use x=\"463.179688\" xlink:href=\"#DejaVuSans-70\"/>\r\n       <use x=\"526.65625\" xlink:href=\"#DejaVuSans-5f\"/>\r\n       <use x=\"576.65625\" xlink:href=\"#DejaVuSans-38\"/>\r\n       <use x=\"640.279297\" xlink:href=\"#DejaVuSans-30\"/>\r\n       <use x=\"703.902344\" xlink:href=\"#DejaVuSans-73\"/>\r\n      </g>\r\n     </g>\r\n    </g>\r\n    <g id=\"ytick_9\">\r\n     <g id=\"line2d_16\">\r\n      <g>\r\n       <use style=\"stroke:#000000;stroke-width:0.8;\" x=\"195.528125\" xlink:href=\"#mcb816a4b19\" y=\"132.228\"/>\r\n      </g>\r\n     </g>\r\n     <g id=\"text_16\">\r\n      <!-- transit_stations_percentage -->\r\n      <g transform=\"translate(49.575 136.027219)scale(0.1 -0.1)\">\r\n       <use xlink:href=\"#DejaVuSans-74\"/>\r\n       <use x=\"39.208984\" xlink:href=\"#DejaVuSans-72\"/>\r\n       <use x=\"80.322266\" xlink:href=\"#DejaVuSans-61\"/>\r\n       <use x=\"141.601562\" xlink:href=\"#DejaVuSans-6e\"/>\r\n       <use x=\"204.980469\" xlink:href=\"#DejaVuSans-73\"/>\r\n       <use x=\"257.080078\" xlink:href=\"#DejaVuSans-69\"/>\r\n       <use x=\"284.863281\" xlink:href=\"#DejaVuSans-74\"/>\r\n       <use x=\"324.072266\" xlink:href=\"#DejaVuSans-5f\"/>\r\n       <use x=\"374.072266\" xlink:href=\"#DejaVuSans-73\"/>\r\n       <use x=\"426.171875\" xlink:href=\"#DejaVuSans-74\"/>\r\n       <use x=\"465.380859\" xlink:href=\"#DejaVuSans-61\"/>\r\n       <use x=\"526.660156\" xlink:href=\"#DejaVuSans-74\"/>\r\n       <use x=\"565.869141\" xlink:href=\"#DejaVuSans-69\"/>\r\n       <use x=\"593.652344\" xlink:href=\"#DejaVuSans-6f\"/>\r\n       <use x=\"654.833984\" xlink:href=\"#DejaVuSans-6e\"/>\r\n       <use x=\"718.212891\" xlink:href=\"#DejaVuSans-73\"/>\r\n       <use x=\"770.3125\" xlink:href=\"#DejaVuSans-5f\"/>\r\n       <use x=\"820.3125\" xlink:href=\"#DejaVuSans-70\"/>\r\n       <use x=\"883.789062\" xlink:href=\"#DejaVuSans-65\"/>\r\n       <use x=\"945.3125\" xlink:href=\"#DejaVuSans-72\"/>\r\n       <use x=\"984.175781\" xlink:href=\"#DejaVuSans-63\"/>\r\n       <use x=\"1039.15625\" xlink:href=\"#DejaVuSans-65\"/>\r\n       <use x=\"1100.679688\" xlink:href=\"#DejaVuSans-6e\"/>\r\n       <use x=\"1164.058594\" xlink:href=\"#DejaVuSans-74\"/>\r\n       <use x=\"1203.267578\" xlink:href=\"#DejaVuSans-61\"/>\r\n       <use x=\"1264.546875\" xlink:href=\"#DejaVuSans-67\"/>\r\n       <use x=\"1328.023438\" xlink:href=\"#DejaVuSans-65\"/>\r\n      </g>\r\n     </g>\r\n    </g>\r\n    <g id=\"ytick_10\">\r\n     <g id=\"line2d_17\">\r\n      <g>\r\n       <use style=\"stroke:#000000;stroke-width:0.8;\" x=\"195.528125\" xlink:href=\"#mcb816a4b19\" y=\"121.356\"/>\r\n      </g>\r\n     </g>\r\n     <g id=\"text_17\">\r\n      <!-- gender_FEMALE -->\r\n      <g transform=\"translate(108.646875 125.155219)scale(0.1 -0.1)\">\r\n       <defs>\r\n        <path d=\"M 628 4666 \r\nL 3309 4666 \r\nL 3309 4134 \r\nL 1259 4134 \r\nL 1259 2759 \r\nL 3109 2759 \r\nL 3109 2228 \r\nL 1259 2228 \r\nL 1259 0 \r\nL 628 0 \r\nL 628 4666 \r\nz\r\n\" id=\"DejaVuSans-46\" transform=\"scale(0.015625)\"/>\r\n        <path d=\"M 628 4666 \r\nL 3578 4666 \r\nL 3578 4134 \r\nL 1259 4134 \r\nL 1259 2753 \r\nL 3481 2753 \r\nL 3481 2222 \r\nL 1259 2222 \r\nL 1259 531 \r\nL 3634 531 \r\nL 3634 0 \r\nL 628 0 \r\nL 628 4666 \r\nz\r\n\" id=\"DejaVuSans-45\" transform=\"scale(0.015625)\"/>\r\n        <path d=\"M 628 4666 \r\nL 1569 4666 \r\nL 2759 1491 \r\nL 3956 4666 \r\nL 4897 4666 \r\nL 4897 0 \r\nL 4281 0 \r\nL 4281 4097 \r\nL 3078 897 \r\nL 2444 897 \r\nL 1241 4097 \r\nL 1241 0 \r\nL 628 0 \r\nL 628 4666 \r\nz\r\n\" id=\"DejaVuSans-4d\" transform=\"scale(0.015625)\"/>\r\n        <path d=\"M 2188 4044 \r\nL 1331 1722 \r\nL 3047 1722 \r\nL 2188 4044 \r\nz\r\nM 1831 4666 \r\nL 2547 4666 \r\nL 4325 0 \r\nL 3669 0 \r\nL 3244 1197 \r\nL 1141 1197 \r\nL 716 0 \r\nL 50 0 \r\nL 1831 4666 \r\nz\r\n\" id=\"DejaVuSans-41\" transform=\"scale(0.015625)\"/>\r\n        <path d=\"M 628 4666 \r\nL 1259 4666 \r\nL 1259 531 \r\nL 3531 531 \r\nL 3531 0 \r\nL 628 0 \r\nL 628 4666 \r\nz\r\n\" id=\"DejaVuSans-4c\" transform=\"scale(0.015625)\"/>\r\n       </defs>\r\n       <use xlink:href=\"#DejaVuSans-67\"/>\r\n       <use x=\"63.476562\" xlink:href=\"#DejaVuSans-65\"/>\r\n       <use x=\"125\" xlink:href=\"#DejaVuSans-6e\"/>\r\n       <use x=\"188.378906\" xlink:href=\"#DejaVuSans-64\"/>\r\n       <use x=\"251.855469\" xlink:href=\"#DejaVuSans-65\"/>\r\n       <use x=\"313.378906\" xlink:href=\"#DejaVuSans-72\"/>\r\n       <use x=\"354.492188\" xlink:href=\"#DejaVuSans-5f\"/>\r\n       <use x=\"404.492188\" xlink:href=\"#DejaVuSans-46\"/>\r\n       <use x=\"462.011719\" xlink:href=\"#DejaVuSans-45\"/>\r\n       <use x=\"525.195312\" xlink:href=\"#DejaVuSans-4d\"/>\r\n       <use x=\"611.474609\" xlink:href=\"#DejaVuSans-41\"/>\r\n       <use x=\"679.882812\" xlink:href=\"#DejaVuSans-4c\"/>\r\n       <use x=\"735.595703\" xlink:href=\"#DejaVuSans-45\"/>\r\n      </g>\r\n     </g>\r\n    </g>\r\n    <g id=\"ytick_11\">\r\n     <g id=\"line2d_18\">\r\n      <g>\r\n       <use style=\"stroke:#000000;stroke-width:0.8;\" x=\"195.528125\" xlink:href=\"#mcb816a4b19\" y=\"110.484\"/>\r\n      </g>\r\n     </g>\r\n     <g id=\"text_18\">\r\n      <!-- age_group_70s -->\r\n      <g transform=\"translate(112.925 114.194937)scale(0.1 -0.1)\">\r\n       <defs>\r\n        <path d=\"M 525 4666 \r\nL 3525 4666 \r\nL 3525 4397 \r\nL 1831 0 \r\nL 1172 0 \r\nL 2766 4134 \r\nL 525 4134 \r\nL 525 4666 \r\nz\r\n\" id=\"DejaVuSans-37\" transform=\"scale(0.015625)\"/>\r\n       </defs>\r\n       <use xlink:href=\"#DejaVuSans-61\"/>\r\n       <use x=\"61.279297\" xlink:href=\"#DejaVuSans-67\"/>\r\n       <use x=\"124.755859\" xlink:href=\"#DejaVuSans-65\"/>\r\n       <use x=\"186.279297\" xlink:href=\"#DejaVuSans-5f\"/>\r\n       <use x=\"236.279297\" xlink:href=\"#DejaVuSans-67\"/>\r\n       <use x=\"299.755859\" xlink:href=\"#DejaVuSans-72\"/>\r\n       <use x=\"338.619141\" xlink:href=\"#DejaVuSans-6f\"/>\r\n       <use x=\"399.800781\" xlink:href=\"#DejaVuSans-75\"/>\r\n       <use x=\"463.179688\" xlink:href=\"#DejaVuSans-70\"/>\r\n       <use x=\"526.65625\" xlink:href=\"#DejaVuSans-5f\"/>\r\n       <use x=\"576.65625\" xlink:href=\"#DejaVuSans-37\"/>\r\n       <use x=\"640.279297\" xlink:href=\"#DejaVuSans-30\"/>\r\n       <use x=\"703.902344\" xlink:href=\"#DejaVuSans-73\"/>\r\n      </g>\r\n     </g>\r\n    </g>\r\n    <g id=\"ytick_12\">\r\n     <g id=\"line2d_19\">\r\n      <g>\r\n       <use style=\"stroke:#000000;stroke-width:0.8;\" x=\"195.528125\" xlink:href=\"#mcb816a4b19\" y=\"99.612\"/>\r\n      </g>\r\n     </g>\r\n     <g id=\"text_19\">\r\n      <!-- age_group_60s -->\r\n      <g transform=\"translate(112.925 103.322937)scale(0.1 -0.1)\">\r\n       <defs>\r\n        <path d=\"M 2113 2584 \r\nQ 1688 2584 1439 2293 \r\nQ 1191 2003 1191 1497 \r\nQ 1191 994 1439 701 \r\nQ 1688 409 2113 409 \r\nQ 2538 409 2786 701 \r\nQ 3034 994 3034 1497 \r\nQ 3034 2003 2786 2293 \r\nQ 2538 2584 2113 2584 \r\nz\r\nM 3366 4563 \r\nL 3366 3988 \r\nQ 3128 4100 2886 4159 \r\nQ 2644 4219 2406 4219 \r\nQ 1781 4219 1451 3797 \r\nQ 1122 3375 1075 2522 \r\nQ 1259 2794 1537 2939 \r\nQ 1816 3084 2150 3084 \r\nQ 2853 3084 3261 2657 \r\nQ 3669 2231 3669 1497 \r\nQ 3669 778 3244 343 \r\nQ 2819 -91 2113 -91 \r\nQ 1303 -91 875 529 \r\nQ 447 1150 447 2328 \r\nQ 447 3434 972 4092 \r\nQ 1497 4750 2381 4750 \r\nQ 2619 4750 2861 4703 \r\nQ 3103 4656 3366 4563 \r\nz\r\n\" id=\"DejaVuSans-36\" transform=\"scale(0.015625)\"/>\r\n       </defs>\r\n       <use xlink:href=\"#DejaVuSans-61\"/>\r\n       <use x=\"61.279297\" xlink:href=\"#DejaVuSans-67\"/>\r\n       <use x=\"124.755859\" xlink:href=\"#DejaVuSans-65\"/>\r\n       <use x=\"186.279297\" xlink:href=\"#DejaVuSans-5f\"/>\r\n       <use x=\"236.279297\" xlink:href=\"#DejaVuSans-67\"/>\r\n       <use x=\"299.755859\" xlink:href=\"#DejaVuSans-72\"/>\r\n       <use x=\"338.619141\" xlink:href=\"#DejaVuSans-6f\"/>\r\n       <use x=\"399.800781\" xlink:href=\"#DejaVuSans-75\"/>\r\n       <use x=\"463.179688\" xlink:href=\"#DejaVuSans-70\"/>\r\n       <use x=\"526.65625\" xlink:href=\"#DejaVuSans-5f\"/>\r\n       <use x=\"576.65625\" xlink:href=\"#DejaVuSans-36\"/>\r\n       <use x=\"640.279297\" xlink:href=\"#DejaVuSans-30\"/>\r\n       <use x=\"703.902344\" xlink:href=\"#DejaVuSans-73\"/>\r\n      </g>\r\n     </g>\r\n    </g>\r\n    <g id=\"ytick_13\">\r\n     <g id=\"line2d_20\">\r\n      <g>\r\n       <use style=\"stroke:#000000;stroke-width:0.8;\" x=\"195.528125\" xlink:href=\"#mcb816a4b19\" y=\"88.74\"/>\r\n      </g>\r\n     </g>\r\n     <g id=\"text_20\">\r\n      <!-- gender_MALE -->\r\n      <g transform=\"translate(120.717187 92.539219)scale(0.1 -0.1)\">\r\n       <use xlink:href=\"#DejaVuSans-67\"/>\r\n       <use x=\"63.476562\" xlink:href=\"#DejaVuSans-65\"/>\r\n       <use x=\"125\" xlink:href=\"#DejaVuSans-6e\"/>\r\n       <use x=\"188.378906\" xlink:href=\"#DejaVuSans-64\"/>\r\n       <use x=\"251.855469\" xlink:href=\"#DejaVuSans-65\"/>\r\n       <use x=\"313.378906\" xlink:href=\"#DejaVuSans-72\"/>\r\n       <use x=\"354.492188\" xlink:href=\"#DejaVuSans-5f\"/>\r\n       <use x=\"404.492188\" xlink:href=\"#DejaVuSans-4d\"/>\r\n       <use x=\"490.771484\" xlink:href=\"#DejaVuSans-41\"/>\r\n       <use x=\"559.179688\" xlink:href=\"#DejaVuSans-4c\"/>\r\n       <use x=\"614.892578\" xlink:href=\"#DejaVuSans-45\"/>\r\n      </g>\r\n     </g>\r\n    </g>\r\n    <g id=\"ytick_14\">\r\n     <g id=\"line2d_21\">\r\n      <g>\r\n       <use style=\"stroke:#000000;stroke-width:0.8;\" x=\"195.528125\" xlink:href=\"#mcb816a4b19\" y=\"77.868\"/>\r\n      </g>\r\n     </g>\r\n     <g id=\"text_21\">\r\n      <!-- status_Lockdown -->\r\n      <g transform=\"translate(103.015625 81.667219)scale(0.1 -0.1)\">\r\n       <use xlink:href=\"#DejaVuSans-73\"/>\r\n       <use x=\"52.099609\" xlink:href=\"#DejaVuSans-74\"/>\r\n       <use x=\"91.308594\" xlink:href=\"#DejaVuSans-61\"/>\r\n       <use x=\"152.587891\" xlink:href=\"#DejaVuSans-74\"/>\r\n       <use x=\"191.796875\" xlink:href=\"#DejaVuSans-75\"/>\r\n       <use x=\"255.175781\" xlink:href=\"#DejaVuSans-73\"/>\r\n       <use x=\"307.275391\" xlink:href=\"#DejaVuSans-5f\"/>\r\n       <use x=\"357.275391\" xlink:href=\"#DejaVuSans-4c\"/>\r\n       <use x=\"411.238281\" xlink:href=\"#DejaVuSans-6f\"/>\r\n       <use x=\"472.419922\" xlink:href=\"#DejaVuSans-63\"/>\r\n       <use x=\"527.400391\" xlink:href=\"#DejaVuSans-6b\"/>\r\n       <use x=\"585.310547\" xlink:href=\"#DejaVuSans-64\"/>\r\n       <use x=\"648.787109\" xlink:href=\"#DejaVuSans-6f\"/>\r\n       <use x=\"709.96875\" xlink:href=\"#DejaVuSans-77\"/>\r\n       <use x=\"791.755859\" xlink:href=\"#DejaVuSans-6e\"/>\r\n      </g>\r\n     </g>\r\n    </g>\r\n    <g id=\"ytick_15\">\r\n     <g id=\"line2d_22\">\r\n      <g>\r\n       <use style=\"stroke:#000000;stroke-width:0.8;\" x=\"195.528125\" xlink:href=\"#mcb816a4b19\" y=\"66.996\"/>\r\n      </g>\r\n     </g>\r\n     <g id=\"text_22\">\r\n      <!-- status_Private gathering restrictions -->\r\n      <g transform=\"translate(7.2 70.795219)scale(0.1 -0.1)\">\r\n       <defs>\r\n        <path d=\"M 1259 4147 \r\nL 1259 2394 \r\nL 2053 2394 \r\nQ 2494 2394 2734 2622 \r\nQ 2975 2850 2975 3272 \r\nQ 2975 3691 2734 3919 \r\nQ 2494 4147 2053 4147 \r\nL 1259 4147 \r\nz\r\nM 628 4666 \r\nL 2053 4666 \r\nQ 2838 4666 3239 4311 \r\nQ 3641 3956 3641 3272 \r\nQ 3641 2581 3239 2228 \r\nQ 2838 1875 2053 1875 \r\nL 1259 1875 \r\nL 1259 0 \r\nL 628 0 \r\nL 628 4666 \r\nz\r\n\" id=\"DejaVuSans-50\" transform=\"scale(0.015625)\"/>\r\n        <path d=\"M 191 3500 \r\nL 800 3500 \r\nL 1894 563 \r\nL 2988 3500 \r\nL 3597 3500 \r\nL 2284 0 \r\nL 1503 0 \r\nL 191 3500 \r\nz\r\n\" id=\"DejaVuSans-76\" transform=\"scale(0.015625)\"/>\r\n        <path id=\"DejaVuSans-20\" transform=\"scale(0.015625)\"/>\r\n       </defs>\r\n       <use xlink:href=\"#DejaVuSans-73\"/>\r\n       <use x=\"52.099609\" xlink:href=\"#DejaVuSans-74\"/>\r\n       <use x=\"91.308594\" xlink:href=\"#DejaVuSans-61\"/>\r\n       <use x=\"152.587891\" xlink:href=\"#DejaVuSans-74\"/>\r\n       <use x=\"191.796875\" xlink:href=\"#DejaVuSans-75\"/>\r\n       <use x=\"255.175781\" xlink:href=\"#DejaVuSans-73\"/>\r\n       <use x=\"307.275391\" xlink:href=\"#DejaVuSans-5f\"/>\r\n       <use x=\"357.275391\" xlink:href=\"#DejaVuSans-50\"/>\r\n       <use x=\"415.828125\" xlink:href=\"#DejaVuSans-72\"/>\r\n       <use x=\"456.941406\" xlink:href=\"#DejaVuSans-69\"/>\r\n       <use x=\"484.724609\" xlink:href=\"#DejaVuSans-76\"/>\r\n       <use x=\"543.904297\" xlink:href=\"#DejaVuSans-61\"/>\r\n       <use x=\"605.183594\" xlink:href=\"#DejaVuSans-74\"/>\r\n       <use x=\"644.392578\" xlink:href=\"#DejaVuSans-65\"/>\r\n       <use x=\"705.916016\" xlink:href=\"#DejaVuSans-20\"/>\r\n       <use x=\"737.703125\" xlink:href=\"#DejaVuSans-67\"/>\r\n       <use x=\"801.179688\" xlink:href=\"#DejaVuSans-61\"/>\r\n       <use x=\"862.458984\" xlink:href=\"#DejaVuSans-74\"/>\r\n       <use x=\"901.667969\" xlink:href=\"#DejaVuSans-68\"/>\r\n       <use x=\"965.046875\" xlink:href=\"#DejaVuSans-65\"/>\r\n       <use x=\"1026.570312\" xlink:href=\"#DejaVuSans-72\"/>\r\n       <use x=\"1067.683594\" xlink:href=\"#DejaVuSans-69\"/>\r\n       <use x=\"1095.466797\" xlink:href=\"#DejaVuSans-6e\"/>\r\n       <use x=\"1158.845703\" xlink:href=\"#DejaVuSans-67\"/>\r\n       <use x=\"1222.322266\" xlink:href=\"#DejaVuSans-20\"/>\r\n       <use x=\"1254.109375\" xlink:href=\"#DejaVuSans-72\"/>\r\n       <use x=\"1292.972656\" xlink:href=\"#DejaVuSans-65\"/>\r\n       <use x=\"1354.496094\" xlink:href=\"#DejaVuSans-73\"/>\r\n       <use x=\"1406.595703\" xlink:href=\"#DejaVuSans-74\"/>\r\n       <use x=\"1445.804688\" xlink:href=\"#DejaVuSans-72\"/>\r\n       <use x=\"1486.917969\" xlink:href=\"#DejaVuSans-69\"/>\r\n       <use x=\"1514.701172\" xlink:href=\"#DejaVuSans-63\"/>\r\n       <use x=\"1569.681641\" xlink:href=\"#DejaVuSans-74\"/>\r\n       <use x=\"1608.890625\" xlink:href=\"#DejaVuSans-69\"/>\r\n       <use x=\"1636.673828\" xlink:href=\"#DejaVuSans-6f\"/>\r\n       <use x=\"1697.855469\" xlink:href=\"#DejaVuSans-6e\"/>\r\n       <use x=\"1761.234375\" xlink:href=\"#DejaVuSans-73\"/>\r\n      </g>\r\n     </g>\r\n    </g>\r\n    <g id=\"ytick_16\">\r\n     <g id=\"line2d_23\">\r\n      <g>\r\n       <use style=\"stroke:#000000;stroke-width:0.8;\" x=\"195.528125\" xlink:href=\"#mcb816a4b19\" y=\"56.124\"/>\r\n      </g>\r\n     </g>\r\n     <g id=\"text_23\">\r\n      <!-- age_group_40s -->\r\n      <g transform=\"translate(112.925 59.834937)scale(0.1 -0.1)\">\r\n       <defs>\r\n        <path d=\"M 2419 4116 \r\nL 825 1625 \r\nL 2419 1625 \r\nL 2419 4116 \r\nz\r\nM 2253 4666 \r\nL 3047 4666 \r\nL 3047 1625 \r\nL 3713 1625 \r\nL 3713 1100 \r\nL 3047 1100 \r\nL 3047 0 \r\nL 2419 0 \r\nL 2419 1100 \r\nL 313 1100 \r\nL 313 1709 \r\nL 2253 4666 \r\nz\r\n\" id=\"DejaVuSans-34\" transform=\"scale(0.015625)\"/>\r\n       </defs>\r\n       <use xlink:href=\"#DejaVuSans-61\"/>\r\n       <use x=\"61.279297\" xlink:href=\"#DejaVuSans-67\"/>\r\n       <use x=\"124.755859\" xlink:href=\"#DejaVuSans-65\"/>\r\n       <use x=\"186.279297\" xlink:href=\"#DejaVuSans-5f\"/>\r\n       <use x=\"236.279297\" xlink:href=\"#DejaVuSans-67\"/>\r\n       <use x=\"299.755859\" xlink:href=\"#DejaVuSans-72\"/>\r\n       <use x=\"338.619141\" xlink:href=\"#DejaVuSans-6f\"/>\r\n       <use x=\"399.800781\" xlink:href=\"#DejaVuSans-75\"/>\r\n       <use x=\"463.179688\" xlink:href=\"#DejaVuSans-70\"/>\r\n       <use x=\"526.65625\" xlink:href=\"#DejaVuSans-5f\"/>\r\n       <use x=\"576.65625\" xlink:href=\"#DejaVuSans-34\"/>\r\n       <use x=\"640.279297\" xlink:href=\"#DejaVuSans-30\"/>\r\n       <use x=\"703.902344\" xlink:href=\"#DejaVuSans-73\"/>\r\n      </g>\r\n     </g>\r\n    </g>\r\n    <g id=\"ytick_17\">\r\n     <g id=\"line2d_24\">\r\n      <g>\r\n       <use style=\"stroke:#000000;stroke-width:0.8;\" x=\"195.528125\" xlink:href=\"#mcb816a4b19\" y=\"45.252\"/>\r\n      </g>\r\n     </g>\r\n     <g id=\"text_24\">\r\n      <!-- status_Control -->\r\n      <g transform=\"translate(116.660937 49.051219)scale(0.1 -0.1)\">\r\n       <defs>\r\n        <path d=\"M 4122 4306 \r\nL 4122 3641 \r\nQ 3803 3938 3442 4084 \r\nQ 3081 4231 2675 4231 \r\nQ 1875 4231 1450 3742 \r\nQ 1025 3253 1025 2328 \r\nQ 1025 1406 1450 917 \r\nQ 1875 428 2675 428 \r\nQ 3081 428 3442 575 \r\nQ 3803 722 4122 1019 \r\nL 4122 359 \r\nQ 3791 134 3420 21 \r\nQ 3050 -91 2638 -91 \r\nQ 1578 -91 968 557 \r\nQ 359 1206 359 2328 \r\nQ 359 3453 968 4101 \r\nQ 1578 4750 2638 4750 \r\nQ 3056 4750 3426 4639 \r\nQ 3797 4528 4122 4306 \r\nz\r\n\" id=\"DejaVuSans-43\" transform=\"scale(0.015625)\"/>\r\n       </defs>\r\n       <use xlink:href=\"#DejaVuSans-73\"/>\r\n       <use x=\"52.099609\" xlink:href=\"#DejaVuSans-74\"/>\r\n       <use x=\"91.308594\" xlink:href=\"#DejaVuSans-61\"/>\r\n       <use x=\"152.587891\" xlink:href=\"#DejaVuSans-74\"/>\r\n       <use x=\"191.796875\" xlink:href=\"#DejaVuSans-75\"/>\r\n       <use x=\"255.175781\" xlink:href=\"#DejaVuSans-73\"/>\r\n       <use x=\"307.275391\" xlink:href=\"#DejaVuSans-5f\"/>\r\n       <use x=\"357.275391\" xlink:href=\"#DejaVuSans-43\"/>\r\n       <use x=\"427.099609\" xlink:href=\"#DejaVuSans-6f\"/>\r\n       <use x=\"488.28125\" xlink:href=\"#DejaVuSans-6e\"/>\r\n       <use x=\"551.660156\" xlink:href=\"#DejaVuSans-74\"/>\r\n       <use x=\"590.869141\" xlink:href=\"#DejaVuSans-72\"/>\r\n       <use x=\"629.732422\" xlink:href=\"#DejaVuSans-6f\"/>\r\n       <use x=\"690.914062\" xlink:href=\"#DejaVuSans-6c\"/>\r\n      </g>\r\n     </g>\r\n    </g>\r\n    <g id=\"ytick_18\">\r\n     <g id=\"line2d_25\">\r\n      <g>\r\n       <use style=\"stroke:#000000;stroke-width:0.8;\" x=\"195.528125\" xlink:href=\"#mcb816a4b19\" y=\"34.38\"/>\r\n      </g>\r\n     </g>\r\n     <g id=\"text_25\">\r\n      <!-- age_group_50s -->\r\n      <g transform=\"translate(112.925 38.090937)scale(0.1 -0.1)\">\r\n       <use xlink:href=\"#DejaVuSans-61\"/>\r\n       <use x=\"61.279297\" xlink:href=\"#DejaVuSans-67\"/>\r\n       <use x=\"124.755859\" xlink:href=\"#DejaVuSans-65\"/>\r\n       <use x=\"186.279297\" xlink:href=\"#DejaVuSans-5f\"/>\r\n       <use x=\"236.279297\" xlink:href=\"#DejaVuSans-67\"/>\r\n       <use x=\"299.755859\" xlink:href=\"#DejaVuSans-72\"/>\r\n       <use x=\"338.619141\" xlink:href=\"#DejaVuSans-6f\"/>\r\n       <use x=\"399.800781\" xlink:href=\"#DejaVuSans-75\"/>\r\n       <use x=\"463.179688\" xlink:href=\"#DejaVuSans-70\"/>\r\n       <use x=\"526.65625\" xlink:href=\"#DejaVuSans-5f\"/>\r\n       <use x=\"576.65625\" xlink:href=\"#DejaVuSans-35\"/>\r\n       <use x=\"640.279297\" xlink:href=\"#DejaVuSans-30\"/>\r\n       <use x=\"703.902344\" xlink:href=\"#DejaVuSans-73\"/>\r\n      </g>\r\n     </g>\r\n    </g>\r\n    <g id=\"ytick_19\">\r\n     <g id=\"line2d_26\">\r\n      <g>\r\n       <use style=\"stroke:#000000;stroke-width:0.8;\" x=\"195.528125\" xlink:href=\"#mcb816a4b19\" y=\"23.508\"/>\r\n      </g>\r\n     </g>\r\n     <g id=\"text_26\">\r\n      <!-- status_Acitivies closures -->\r\n      <g transform=\"translate(66.734375 27.307219)scale(0.1 -0.1)\">\r\n       <use xlink:href=\"#DejaVuSans-73\"/>\r\n       <use x=\"52.099609\" xlink:href=\"#DejaVuSans-74\"/>\r\n       <use x=\"91.308594\" xlink:href=\"#DejaVuSans-61\"/>\r\n       <use x=\"152.587891\" xlink:href=\"#DejaVuSans-74\"/>\r\n       <use x=\"191.796875\" xlink:href=\"#DejaVuSans-75\"/>\r\n       <use x=\"255.175781\" xlink:href=\"#DejaVuSans-73\"/>\r\n       <use x=\"307.275391\" xlink:href=\"#DejaVuSans-5f\"/>\r\n       <use x=\"357.275391\" xlink:href=\"#DejaVuSans-41\"/>\r\n       <use x=\"423.933594\" xlink:href=\"#DejaVuSans-63\"/>\r\n       <use x=\"478.914062\" xlink:href=\"#DejaVuSans-69\"/>\r\n       <use x=\"506.697266\" xlink:href=\"#DejaVuSans-74\"/>\r\n       <use x=\"545.90625\" xlink:href=\"#DejaVuSans-69\"/>\r\n       <use x=\"573.689453\" xlink:href=\"#DejaVuSans-76\"/>\r\n       <use x=\"632.869141\" xlink:href=\"#DejaVuSans-69\"/>\r\n       <use x=\"660.652344\" xlink:href=\"#DejaVuSans-65\"/>\r\n       <use x=\"722.175781\" xlink:href=\"#DejaVuSans-73\"/>\r\n       <use x=\"774.275391\" xlink:href=\"#DejaVuSans-20\"/>\r\n       <use x=\"806.0625\" xlink:href=\"#DejaVuSans-63\"/>\r\n       <use x=\"861.042969\" xlink:href=\"#DejaVuSans-6c\"/>\r\n       <use x=\"888.826172\" xlink:href=\"#DejaVuSans-6f\"/>\r\n       <use x=\"950.007812\" xlink:href=\"#DejaVuSans-73\"/>\r\n       <use x=\"1002.107422\" xlink:href=\"#DejaVuSans-75\"/>\r\n       <use x=\"1065.486328\" xlink:href=\"#DejaVuSans-72\"/>\r\n       <use x=\"1104.349609\" xlink:href=\"#DejaVuSans-65\"/>\r\n       <use x=\"1165.873047\" xlink:href=\"#DejaVuSans-73\"/>\r\n      </g>\r\n     </g>\r\n    </g>\r\n    <g id=\"ytick_20\">\r\n     <g id=\"line2d_27\">\r\n      <g>\r\n       <use style=\"stroke:#000000;stroke-width:0.8;\" x=\"195.528125\" xlink:href=\"#mcb816a4b19\" y=\"12.636\"/>\r\n      </g>\r\n     </g>\r\n     <g id=\"text_27\">\r\n      <!-- age_group_30s -->\r\n      <g transform=\"translate(112.925 16.346937)scale(0.1 -0.1)\">\r\n       <use xlink:href=\"#DejaVuSans-61\"/>\r\n       <use x=\"61.279297\" xlink:href=\"#DejaVuSans-67\"/>\r\n       <use x=\"124.755859\" xlink:href=\"#DejaVuSans-65\"/>\r\n       <use x=\"186.279297\" xlink:href=\"#DejaVuSans-5f\"/>\r\n       <use x=\"236.279297\" xlink:href=\"#DejaVuSans-67\"/>\r\n       <use x=\"299.755859\" xlink:href=\"#DejaVuSans-72\"/>\r\n       <use x=\"338.619141\" xlink:href=\"#DejaVuSans-6f\"/>\r\n       <use x=\"399.800781\" xlink:href=\"#DejaVuSans-75\"/>\r\n       <use x=\"463.179688\" xlink:href=\"#DejaVuSans-70\"/>\r\n       <use x=\"526.65625\" xlink:href=\"#DejaVuSans-5f\"/>\r\n       <use x=\"576.65625\" xlink:href=\"#DejaVuSans-33\"/>\r\n       <use x=\"640.279297\" xlink:href=\"#DejaVuSans-30\"/>\r\n       <use x=\"703.902344\" xlink:href=\"#DejaVuSans-73\"/>\r\n      </g>\r\n     </g>\r\n    </g>\r\n   </g>\r\n   <g id=\"patch_23\">\r\n    <path d=\"M 195.528125 224.64 \r\nL 195.528125 7.2 \r\n\" style=\"fill:none;stroke:#000000;stroke-linecap:square;stroke-linejoin:miter;stroke-width:0.8;\"/>\r\n   </g>\r\n   <g id=\"patch_24\">\r\n    <path d=\"M 530.328125 224.64 \r\nL 530.328125 7.2 \r\n\" style=\"fill:none;stroke:#000000;stroke-linecap:square;stroke-linejoin:miter;stroke-width:0.8;\"/>\r\n   </g>\r\n   <g id=\"patch_25\">\r\n    <path d=\"M 195.528125 224.64 \r\nL 530.328125 224.64 \r\n\" style=\"fill:none;stroke:#000000;stroke-linecap:square;stroke-linejoin:miter;stroke-width:0.8;\"/>\r\n   </g>\r\n   <g id=\"patch_26\">\r\n    <path d=\"M 195.528125 7.2 \r\nL 530.328125 7.2 \r\n\" style=\"fill:none;stroke:#000000;stroke-linecap:square;stroke-linejoin:miter;stroke-width:0.8;\"/>\r\n   </g>\r\n  </g>\r\n </g>\r\n <defs>\r\n  <clipPath id=\"pe0fa039730\">\r\n   <rect height=\"217.44\" width=\"334.8\" x=\"195.528125\" y=\"7.2\"/>\r\n  </clipPath>\r\n </defs>\r\n</svg>\r\n",
      "image/png": "[encoded data removed]"
     },
     "metadata": {
      "needs_background": "light"
     }
    }
   ],
   "source": [
    "importance = pd.Series(dt.feature_importances_, index=new_result_df.columns)\n",
    "importance.nlargest(20).plot(kind='barh')"
   ]
  },
  {
   "cell_type": "code",
   "execution_count": 193,
   "metadata": {},
   "outputs": [
    {
     "output_type": "execute_result",
     "data": {
      "text/plain": [
       "'DecisionTree.pdf'"
      ]
     },
     "metadata": {},
     "execution_count": 193
    }
   ],
   "source": [
    "dot_data = tree.export_graphviz(dt, out_file=None) \n",
    "graph = graphviz.Source(dot_data) \n",
    "graph.render(\"DecisionTree\") "
   ]
  },
  {
   "cell_type": "code",
   "execution_count": 194,
   "metadata": {},
   "outputs": [
    {
     "output_type": "stream",
     "name": "stdout",
     "text": [
      "[825.33557954 818.05588651 806.76077809 801.99609764 813.8502821\n 791.63195649 822.44008803 819.33080785 813.1694299  816.38975329\n 817.46574607 821.10359191 796.06654677 819.17138713 817.15420794\n 803.15436249 815.77528488 801.86569675 818.10516514 800.53191291\n 798.40950893 821.57298843 811.31243623 788.64310595 808.485474\n 772.11717566 805.25879612 796.89303062 810.58087049 789.61533364\n 789.42240438 808.93985641 791.94753836 821.81240815 820.7658582\n 798.33729658 812.71882605 809.87476112 792.12442075 814.86781382\n 820.17573538 804.7172591  801.66048535 813.28754466 820.04336272\n 815.65563359 825.2541137  813.52381591 819.25744867 794.24153854\n 813.00381121 818.68866738 813.00381121 810.57615245 817.20407242\n 813.15851072 786.69302912 789.40093981 797.06312966 816.65368164\n 802.46945234 788.39710085 797.68114215 817.01719794 822.21246202\n 826.46255703 815.08334918 813.1694299  815.5853958  820.17573538\n 810.33293921 789.40093981 815.17870775 804.77372607 818.06308295\n 818.05588651 826.93131018 812.62283729 817.56439797 818.05588651\n 789.36354864 787.16593644 796.68424668 808.485474   818.05588651\n 791.94753836 814.19250685 811.43859411 810.11593595 820.59855423\n 825.21735303 802.07207147 797.44528235 820.83649473 815.23026622\n 819.68855884 814.38313155 816.91284274 789.4941491  806.37531053\n 807.04851875 826.44044323 787.89754696 806.33806942 813.28754466\n 813.79582782 798.40950893 818.68866738 801.90962559 817.51424039\n 793.08088024 822.99007476 817.00906931 786.77408601 825.33557954\n 800.34742332 798.85567609 782.61586559 817.02236031 808.93985641\n 795.66570023 818.10516514 808.60995733 819.01426923 817.57795467\n 808.54285673 790.74779424 785.16504404 809.3877546  806.66099031\n 810.64239362 814.66696242 814.57340829 803.57408792 813.30045954\n 819.33935198 797.54771034 822.32587892 813.15851072 813.30694378\n 799.25554283 820.44550417 817.46574607 771.32732586 825.21735303\n 815.25954966 798.14353421 817.10988695 814.78164262 801.66048535\n 791.42226217 822.19283435 817.10988695 806.89524897 797.77510967\n 813.52381591 821.22145301 787.14511526 822.99007476 819.01426923\n 790.40828866 813.30045954 824.09302319 821.02590312 817.46574607\n 806.23887682 799.54213848 771.42485683 807.29370818 793.81981939\n 815.5853958  814.61395941 812.73359956 810.70705496 826.30665795\n 817.49180978 795.19596863 825.45664703 821.37607593 817.49180978\n 825.45664703 817.56439797 816.56529296 823.1901522  810.55553844\n 816.47907294 820.69856491 823.55736758 794.44569034 813.2483858\n 810.59490425 798.31343269 820.69856491 818.68866738 820.93487435\n 816.47907294 822.19283435 818.27252551 816.38975329 824.27388896\n 790.05640383 820.04336272 805.82783331 824.09302319 822.21246202\n 808.59791233 823.98448112 816.47907294 787.78125281 818.98756246\n 817.10988695 815.26432588 791.80504693 791.7685901  813.1694299\n 827.16821605 801.93157525 816.27928414 783.5158754  810.80578041\n 818.22536249 825.39498889 807.20439463 808.485474   815.1852362\n 817.94808653 816.47907294 818.45851009 789.40093981 819.24848563\n 808.57960675 817.93860431 813.8387055  813.3002173  815.08334918\n 787.41556736 824.57381587 781.12642025 813.55105496 821.10359191\n 807.53957211 819.01426923 795.8999566  790.91855606 818.60934876\n 807.79407611 817.46574607 819.1047509  806.21872414 818.05588651\n 808.2201919  821.70920459 818.05588651 812.73359956 819.25744867\n 807.26720431 813.15851072 813.1694299  814.97255957 813.66682127\n 817.81043324 819.17138713 816.5237126  798.99763194 787.14511526\n 813.00381121 809.77795949 813.00381121 813.30045954 817.02236031\n 813.66682127 824.28693609 783.97263493 805.38091811 811.49395644\n 817.58996494 818.05588651 811.37972387 822.3523494  816.5237126\n 808.2201919  781.16973542 813.00381121 793.2802916  798.67282591\n 813.43319536 791.80863122 803.06842512 777.77946796 802.1219838\n 821.81240815 816.48867427 806.5793002  807.20439463 825.33557954\n 791.70178726 806.68419531 798.31343269 817.46574607 812.75215566\n 814.44934029 813.52381591 812.50445363 787.44588025 817.10988695\n 817.38147391 806.15829087 817.30595966 814.48716181 808.50379986\n 821.32424013 799.68704499 821.20462914 810.33869145 797.98405616\n 795.85840098 801.66048535 790.57638197 813.43319536 819.17138713\n 824.83637933 808.78738249 794.28426491 820.37538537 819.33080785\n 806.79405222 792.11300829 817.10988695 796.89455538 812.71882605\n 786.56750972 826.93131018 806.21872414 804.40491215 825.45664703\n 817.58996494 819.30318096 814.86781382 807.90985542 806.66099031\n 813.8387055  820.72375598 826.30665795 819.25744867 817.49180978\n 780.43382749 810.64239362 812.73359956 810.46370169 785.03644117\n 808.78738249 813.30045954 818.10516514 771.41566341 816.47907294\n 818.98756246 792.30610866 813.34089777 815.99504529 792.35946572\n 820.04336272 812.75215566 803.98887796 823.12169051 811.48198562\n 824.11965013 825.43883978 817.58996494 813.31530244 814.48716181\n 802.1219838  814.61395941 822.99007476 816.47907294 801.66048535\n 818.60934876 821.25499132 813.30045878 812.66274503 806.55283363\n 806.34253233 817.86316028 788.34509297 820.28250942 819.17138713\n 813.3002173  801.66048535 814.78164262 817.86316028 817.86316028\n 815.25954966 809.90092331 814.78164262 783.65129365 824.27388896\n 778.95694754 810.64239362 797.44528235 818.10516514 821.02590312\n 790.97887648 826.0780166  806.23887682 814.44934029 825.43883978\n 817.15420794 790.91855606 817.15420794 818.78840858 801.95900197\n 792.66044253 817.51424039 764.5113229  813.52381591 814.48716181\n 784.29228793 793.08088024 806.15829087 811.7466496  817.46574607\n 754.11051243 784.33849872 817.01719794 815.23026622 817.58996494\n 811.49395644 817.46574607 816.38870643 805.46619359 808.78165027\n 802.1219838  814.32655113 813.08516633 802.32208813 826.92076319\n 795.78313099 815.08334918 792.35946572 774.91315412 813.00381121\n 813.15851072 817.86316028 817.93976912 788.98933575 813.50223737\n 807.44222275 817.38760167 818.2577663  826.55455545 817.01719794\n 789.40093981 801.99609764 802.1219838  819.80262658 820.69856491\n 791.94753836 813.00381121 809.37344597 816.65368164 811.09154059\n 812.50445363 792.95404207 810.46370169 813.29535589 798.24629757\n 820.20782151 817.00906931 799.42933327 821.32424013 793.36864441\n 817.86316028 819.24848563 796.88866887 806.68419531 818.10516514\n 813.28754466 822.32587892 810.32205497 810.33869145 826.92076319\n 799.25856796 810.59096183 817.86316028 806.21872414 819.30318096\n 806.76077809 822.21246202 807.09749866 806.66099031 814.48716181\n 817.58996494 796.15721104 815.23026622 801.02040406 794.20944412\n 824.27388896 819.14504886 824.15336443 809.03343225 814.44934029\n 783.41736802 798.21514174 811.43859411 813.1694299  791.06622411\n 813.30045954 817.57795467 813.15851072 815.08334918 820.16247972\n 813.09525585 813.1694299  820.7658582  794.32013393 810.70705496\n 817.57795467 807.09749866 820.7658582  806.31587824 822.44008803\n 823.49601576 817.93860431 813.09536422 807.09749866 819.17138713\n 818.15672881 816.38380253 812.62283729 793.73981144 814.76935252\n 818.05588651 817.49471872 812.50445363 775.41397529 810.35414704\n 770.98319365 816.65368164 817.56961015 818.15395606 813.00381121\n 820.7658582  813.15851072 819.33080785 790.05640383 802.0686722\n 813.00381121 806.83938305 814.86781382 817.93860431 822.3523494\n 813.3002173  826.0780166  814.61395941 813.00381121 804.89831499\n 806.66099031 814.66874594 796.40124379 780.37217773 794.02463275\n 817.51424039 821.02590312 818.78840858 801.93395798 798.55102\n 807.00978858 759.52979419 820.20782151 818.68866738 813.79582782\n 820.17573538 813.79247777 822.32587892 821.32424013 803.07612903\n 776.86838739 817.56439797 803.73664255 789.98796395 814.97255957\n 801.25031786 824.27388896 790.05640383 825.13901337 815.08334918\n 813.28754466 826.30665795 820.7658582  791.70178726 768.72076977\n 820.72375598 817.93860431 788.59743385 823.1901522  822.21246202\n 775.65183305 791.94753836 814.57340829 791.59744303 818.05588651\n 819.84655205 826.92076319 778.14108181 790.05640383 820.72375598\n 826.55455545 787.17502719 825.50014162 790.05640383 810.53716422\n 795.64244558 822.53361567 820.64043423 816.65368164 824.15336443\n 818.0494914  787.15376197 820.04336272 789.88060458 826.30665795\n 789.40093981 799.42933327 806.66099031 812.62283729 819.24848563\n 793.08088024 814.97255957 806.786375   810.70552089 821.20462914\n 818.78840858 816.91284274 821.25499132 823.12169051 781.28278275\n 815.25954966 812.44937782 818.41769008 814.48716181 801.66094586\n 814.61395941 812.62283729 822.3523494  807.16486376 813.79582782\n 818.98756246 823.1901522  818.15672881 814.66696242 801.76788348\n 810.25408718 813.1694299  781.46887879 814.57340829 800.28068568\n 814.78164262 787.71373479 820.44550417 818.41316024 781.888994\n 821.28950491 780.01865626 817.15420794 824.58302194 817.38147391\n 817.06809456 780.96990955 820.07604065 814.75533909 800.34742332\n 790.25953415 797.93034503 826.46255703 818.05588651 795.80295805\n 822.99007476 817.57795467 823.69329537 814.75533909 806.66099031\n 815.54445799 826.55455545 810.33869145 821.22145301 790.42763547\n 823.98448112 799.39866776 790.05640383 793.69558202 818.75357002\n 816.91284274 801.73059896 824.15336443 792.35946572 813.66682127\n 818.68866738 808.57960675 819.33935198 819.84655205 788.94484017\n 813.28754466 804.17245668 818.6620292  796.27154557 816.5237126\n 795.76331745 826.44044323 781.90515127 822.99007476 789.13688281\n 780.06696356 813.3002173  796.16799611 811.28727834 810.33869145\n 809.95567184 768.46570515 820.17573538 824.27388896 804.40491215\n 788.03940841 815.15413142 819.87375555 818.15672881 817.68994943\n 814.86781382 817.93860431 815.08334918 820.59855423 801.71464827\n 819.25744867 808.42165559 816.27928414 824.15336443 774.36253398\n 817.00906931 818.05588651 802.19601782 813.8387055  819.01426923\n 816.47907294 806.55283363 819.27155051 808.59791233 801.66048535\n 802.41905617 823.1901522  809.95567184 819.8545713  815.5853958\n 801.68264393 813.30045954 815.77528488 817.56439797 811.43859411\n 808.57960675 819.17138713 817.49180978 814.75533909 822.87258845\n 824.28693609 827.16821605 802.1219838  808.31868384 827.16821605\n 826.46693617 806.0851662  817.00906931 823.96063564 820.59855423\n 814.75533909 813.30045954 808.485474   818.7420438  793.08088024\n 801.66048535 824.20699224 814.04897094 803.73664255 819.25744867\n 790.87992029 796.91361381 821.81240815 811.86908026 817.10988695\n 804.40491215 806.07082409 817.46574607 812.42619057 812.73359956\n 819.80262658 777.51705431 797.90654374 811.30678547 797.3377177\n 820.59855423 810.33293921 804.96582265 813.79582782 815.1852362\n 813.28754466 814.57340829 813.1694299  798.57410217 817.51424039\n 824.83637933 814.97255957 812.50445363 802.1219838  808.23920855\n 800.65952565 820.59855423 817.00906931 824.8166368  816.38975329\n 819.84655205 813.43319536 816.56529296 800.97867098 820.72375598\n 825.43883978 817.15420794 813.66682127 812.62283729 785.60229606\n 779.47502753 812.50445363 808.93985641 813.00381121 818.78840858\n 820.32194753 820.69856491 813.00381121 824.28693609 818.05588651\n 818.10516514 793.70442249 822.2065164  813.1694299  821.22145301\n 821.22145301 820.23444795 782.57470931 820.04336272 818.6620292\n 793.08088024 823.91381903 810.92308113 817.93860431 822.32587892\n 817.15420794 813.71697118 813.3002173  812.73359956 820.44550417\n 811.86908026 813.30045954 822.21246202 794.51079954 796.91361381\n 793.88492738 761.53608586 819.33935198 812.19519543 814.30880135\n 801.14959708 822.44008803 801.91986906 812.45882242 817.93976912\n 817.00906931 803.98887796 817.13035407 813.55105496 817.58996494\n 826.46693617 806.55283363 793.08088024 803.73664255 787.252882\n 788.82074687 804.40491215 816.10721558 817.38147391 808.83390712\n 821.02590312 815.88553203 806.76077809 817.76125338 800.19248204\n 817.93860431 795.26402312 816.56529296 818.6620292  813.09536422\n 819.87375555 823.98448112 805.51166994 826.30665795 813.1694299\n 827.16821605 811.48198562 806.55283363 790.5339984  822.19283435\n 821.25499132 827.16821605 816.52372921 818.68866738 821.25499132\n 813.30045878 817.57795467 818.60934876 817.15420794 813.1694299\n 819.44637853 773.08561494 826.55455545 788.39710085 813.55105496\n 808.60995733 823.91381903 817.46574607 801.93157525 812.06192484\n 817.9036215  818.68866738 826.55455545 806.15829087 792.4191949\n 793.73981144 817.56439797 813.43319536 780.73876946 798.91494868\n 818.06308295 813.66682127 811.30678547 819.25744867 810.46370169\n 811.86908026]\n"
     ]
    }
   ],
   "source": [
    "#PART C\n",
    "from sklearn.svm import OneClassSVM\n",
    "\n",
    "clf = OneClassSVM(gamma='auto').fit(X_train)\n",
    "y_pred = clf.predict(X_test)\n",
    "#array([-1,  1,  1,  1, -1])\n",
    "Score = clf.score_samples(X_test)\n",
    "print(Score)\n",
    "#array([1.7798..., 2.0547..., 2.0556..., 2.0561..., 1.7332...])\n"
   ]
  },
  {
   "cell_type": "code",
   "execution_count": null,
   "metadata": {},
   "outputs": [],
   "source": []
  }
 ]
}