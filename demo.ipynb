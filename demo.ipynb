{
 "metadata": {
  "language_info": {
   "codemirror_mode": {
    "name": "ipython",
    "version": 3
   },
   "file_extension": ".py",
   "mimetype": "text/x-python",
   "name": "python",
   "nbconvert_exporter": "python",
   "pygments_lexer": "ipython3",
   "version": "3.9.2"
  },
  "orig_nbformat": 2,
  "kernelspec": {
   "name": "python392jvsc74a57bd0ffef2fa9cbcc2cd7cb384c713b0ae375e402913407c8199aff0f77ffc4a59ac0",
   "display_name": "Python 3.9.2 64-bit"
  }
 },
 "nbformat": 4,
 "nbformat_minor": 2,
 "cells": [
  {
   "cell_type": "code",
   "execution_count": 351,
   "metadata": {},
   "outputs": [],
   "source": [
    "from configparser import ConfigParser\n",
    "import psycopg2\n",
    "import numpy as np\n",
    "import pandas as pd\n",
    "from sklearn import preprocessing\n",
    "from sklearn.model_selection import train_test_split\n",
    "from sklearn.tree import DecisionTreeClassifier\n",
    "from sklearn.ensemble import RandomForestClassifier\n",
    "from sklearn.ensemble import GradientBoostingClassifier\n",
    "from sklearn.svm import LinearSVC\n",
    "from sklearn.metrics import recall_score, precision_score\n",
    "#Can be very helpful to notice any imbalance in classes\n",
    "from collections import Counter "
   ]
  },
  {
   "cell_type": "code",
   "execution_count": 352,
   "metadata": {},
   "outputs": [],
   "source": [
    "#Sourced from https://www.postgresqltutorial.com/postgresql-python/connect/\n",
    "def config(filename='psql_sample.ini', section='postgresql'):\n",
    "    parser = ConfigParser()\n",
    "    # read config file\n",
    "    parser.read(filename) \n",
    " \n",
    "    # get section, default to postgresql\n",
    "    db = {}\n",
    "    if parser.has_section(section):\n",
    "        params = parser.items(section)\n",
    "        for param in params:\n",
    "            db[param[0]] = param[1]\n",
    "    else:\n",
    "        raise Exception('Section {0} not found in the {1} file'.format(section, filename))\n",
    " \n",
    "    return db"
   ]
  },
  {
   "cell_type": "code",
   "execution_count": 353,
   "metadata": {},
   "outputs": [
    {
     "output_type": "stream",
     "name": "stdout",
     "text": [
      "Here's an attempt to connect to the database\n",
      "Look's like it was a success\n"
     ]
    }
   ],
   "source": [
    "#Get the configuration file as a python dictionary\n",
    "cfg = config()\n",
    "\n",
    "#Establish the connection and create a cursor to the database\n",
    "try:\n",
    "    print(\"Here's an attempt to connect to the database\")\n",
    "    conn = psycopg2.connect(**cfg)\n",
    "    cursor = conn.cursor()\n",
    "    print(\"Look's like it was a success\")\n",
    "    \n",
    "except (Exception, psycopg2.DatabaseError) as error:\n",
    "    print(error)"
   ]
  },
  {
   "cell_type": "code",
   "execution_count": 256,
   "metadata": {},
   "outputs": [],
   "source": [
    "#SELECT QUERY\n",
    "try:\n",
    "    #Lets get our data \n",
    "    cursor.execute(\"SELECT age_group,gender,measures.status,holiday,city,daily_high_temp,daily_low_temp,rain_amount,snow_amount,parks_percentage,retail_and_recreation_percentage,grocery_and_pharmacy_percentage,workplaces_percentage,residential_percentage,transit_stations_percentage,is_fatal,is_resolved,is_unresolved from data_mart.fact_table as fact inner join data_mart.mobility_dimension as mobility on fact.mobility_key=mobility.mobility_key inner join data_mart.weather_dimension as weather on fact.weather_key=weather.weather_key inner join data_mart.patient_dimension as patient on fact.patient_key=patient.patient_key inner join data_mart.special_measures_dimension as measures on fact.special_measures_key=measures.special_measures_key inner join data_mart.phu_location_dimension as phu on fact.phu_location_key=phu.phu_location_key inner join data_mart.reported_date_dimension as date on fact.reported_date_key=date.reported_date_key\") \n",
    "\n",
    "    #Get the complete result set. It will be a list of tuples where each tuple is a row from the result set\n",
    "    result_list = cursor.fetchall()\n",
    "        \n",
    "except (Exception, psycopg2.DatabaseError) as error:\n",
    "    print(error)"
   ]
  },
  {
   "cell_type": "code",
   "execution_count": 257,
   "metadata": {},
   "outputs": [],
   "source": [
    "#Ensure to run this cell at the end of all your experiments to close all connections\n",
    "cursor.close()\n",
    "conn.close()"
   ]
  },
  {
   "cell_type": "code",
   "execution_count": 315,
   "metadata": {},
   "outputs": [
    {
     "output_type": "execute_result",
     "data": {
      "text/plain": [
       "  age_group gender                          status  holiday         city  \\\n",
       "0       40s   MALE  Private gathering restrictions    False  Mississauga   \n",
       "1       50s   MALE  Private gathering restrictions    False  Mississauga   \n",
       "2       <20   MALE  Private gathering restrictions    False  Mississauga   \n",
       "3       30s   MALE  Private gathering restrictions    False  Mississauga   \n",
       "4       20s   MALE  Private gathering restrictions    False    Newmarket   \n",
       "\n",
       "   parks_percentage  retail_and_recreation_percentage  \\\n",
       "0              71.0                             -15.0   \n",
       "1              71.0                             -15.0   \n",
       "2              71.0                             -15.0   \n",
       "3              71.0                             -15.0   \n",
       "4               NaN                             -11.0   \n",
       "\n",
       "   grocery_and_pharmacy_percentage  is_fatal  \n",
       "0                             -1.0     False  \n",
       "1                             -1.0     False  \n",
       "2                             -1.0     False  \n",
       "3                             -1.0     False  \n",
       "4                              4.0     False  "
      ],
      "text/html": "<div>\n<style scoped>\n    .dataframe tbody tr th:only-of-type {\n        vertical-align: middle;\n    }\n\n    .dataframe tbody tr th {\n        vertical-align: top;\n    }\n\n    .dataframe thead th {\n        text-align: right;\n    }\n</style>\n<table border=\"1\" class=\"dataframe\">\n  <thead>\n    <tr style=\"text-align: right;\">\n      <th></th>\n      <th>age_group</th>\n      <th>gender</th>\n      <th>status</th>\n      <th>holiday</th>\n      <th>city</th>\n      <th>parks_percentage</th>\n      <th>retail_and_recreation_percentage</th>\n      <th>grocery_and_pharmacy_percentage</th>\n      <th>is_fatal</th>\n    </tr>\n  </thead>\n  <tbody>\n    <tr>\n      <th>0</th>\n      <td>40s</td>\n      <td>MALE</td>\n      <td>Private gathering restrictions</td>\n      <td>False</td>\n      <td>Mississauga</td>\n      <td>71.0</td>\n      <td>-15.0</td>\n      <td>-1.0</td>\n      <td>False</td>\n    </tr>\n    <tr>\n      <th>1</th>\n      <td>50s</td>\n      <td>MALE</td>\n      <td>Private gathering restrictions</td>\n      <td>False</td>\n      <td>Mississauga</td>\n      <td>71.0</td>\n      <td>-15.0</td>\n      <td>-1.0</td>\n      <td>False</td>\n    </tr>\n    <tr>\n      <th>2</th>\n      <td>&lt;20</td>\n      <td>MALE</td>\n      <td>Private gathering restrictions</td>\n      <td>False</td>\n      <td>Mississauga</td>\n      <td>71.0</td>\n      <td>-15.0</td>\n      <td>-1.0</td>\n      <td>False</td>\n    </tr>\n    <tr>\n      <th>3</th>\n      <td>30s</td>\n      <td>MALE</td>\n      <td>Private gathering restrictions</td>\n      <td>False</td>\n      <td>Mississauga</td>\n      <td>71.0</td>\n      <td>-15.0</td>\n      <td>-1.0</td>\n      <td>False</td>\n    </tr>\n    <tr>\n      <th>4</th>\n      <td>20s</td>\n      <td>MALE</td>\n      <td>Private gathering restrictions</td>\n      <td>False</td>\n      <td>Newmarket</td>\n      <td>NaN</td>\n      <td>-11.0</td>\n      <td>4.0</td>\n      <td>False</td>\n    </tr>\n  </tbody>\n</table>\n</div>"
     },
     "metadata": {},
     "execution_count": 315
    }
   ],
   "source": [
    "#Now,  1\n",
    "result_df = pd.DataFrame(result_list, columns=[\"age_group\",\"gender\",\"status\",\"holiday\",\"city\",\"daily_high\",\"daily_low\",\"rain_amount\",\"snow_amount\", \"parks_percentage\", \"retail_and_recreation_percentage\",\"grocery_and_pharmacy_percentage\",\"workplaces_percentage\",\"residential_percentage\",\"transit_stations_percentage\",\n",
    "                                               \"is_fatal\", \"is_resolved\",\"is_unresolved\"])\n",
    "\n",
    "result_df.drop(columns=['daily_high'], inplace=True)\n",
    "result_df.drop(columns=['daily_low'], inplace=True)\n",
    "result_df.drop(columns=['rain_amount'], inplace=True)\n",
    "result_df.drop(columns=['snow_amount'], inplace=True)\n",
    "result_df.drop(columns=['workplaces_percentage'], inplace=True)\n",
    "result_df.drop(columns=['residential_percentage'], inplace=True)\n",
    "result_df.drop(columns=['transit_stations_percentage'], inplace=True)\n",
    "result_df.drop(columns=['is_resolved'], inplace=True)\n",
    "result_df.drop(columns=['is_unresolved'], inplace=True)\n",
    "\n",
    "result_df.head()"
   ]
  },
  {
   "cell_type": "code",
   "execution_count": 323,
   "metadata": {},
   "outputs": [
    {
     "output_type": "execute_result",
     "data": {
      "text/plain": [
       "  age_group gender                          status  holiday         city  \\\n",
       "0       40s   MALE  Private gathering restrictions    False  Mississauga   \n",
       "1       50s   MALE  Private gathering restrictions    False  Mississauga   \n",
       "2       <20   MALE  Private gathering restrictions    False  Mississauga   \n",
       "3       30s   MALE  Private gathering restrictions    False  Mississauga   \n",
       "4       20s   MALE  Private gathering restrictions    False    Newmarket   \n",
       "\n",
       "   parks_percentage  retail_and_recreation_percentage  \\\n",
       "0         71.000000                             -15.0   \n",
       "1         71.000000                             -15.0   \n",
       "2         71.000000                             -15.0   \n",
       "3         71.000000                             -15.0   \n",
       "4         16.937927                             -11.0   \n",
       "\n",
       "   grocery_and_pharmacy_percentage  is_fatal  \n",
       "0                             -1.0     False  \n",
       "1                             -1.0     False  \n",
       "2                             -1.0     False  \n",
       "3                             -1.0     False  \n",
       "4                              4.0     False  "
      ],
      "text/html": "<div>\n<style scoped>\n    .dataframe tbody tr th:only-of-type {\n        vertical-align: middle;\n    }\n\n    .dataframe tbody tr th {\n        vertical-align: top;\n    }\n\n    .dataframe thead th {\n        text-align: right;\n    }\n</style>\n<table border=\"1\" class=\"dataframe\">\n  <thead>\n    <tr style=\"text-align: right;\">\n      <th></th>\n      <th>age_group</th>\n      <th>gender</th>\n      <th>status</th>\n      <th>holiday</th>\n      <th>city</th>\n      <th>parks_percentage</th>\n      <th>retail_and_recreation_percentage</th>\n      <th>grocery_and_pharmacy_percentage</th>\n      <th>is_fatal</th>\n    </tr>\n  </thead>\n  <tbody>\n    <tr>\n      <th>0</th>\n      <td>40s</td>\n      <td>MALE</td>\n      <td>Private gathering restrictions</td>\n      <td>False</td>\n      <td>Mississauga</td>\n      <td>71.000000</td>\n      <td>-15.0</td>\n      <td>-1.0</td>\n      <td>False</td>\n    </tr>\n    <tr>\n      <th>1</th>\n      <td>50s</td>\n      <td>MALE</td>\n      <td>Private gathering restrictions</td>\n      <td>False</td>\n      <td>Mississauga</td>\n      <td>71.000000</td>\n      <td>-15.0</td>\n      <td>-1.0</td>\n      <td>False</td>\n    </tr>\n    <tr>\n      <th>2</th>\n      <td>&lt;20</td>\n      <td>MALE</td>\n      <td>Private gathering restrictions</td>\n      <td>False</td>\n      <td>Mississauga</td>\n      <td>71.000000</td>\n      <td>-15.0</td>\n      <td>-1.0</td>\n      <td>False</td>\n    </tr>\n    <tr>\n      <th>3</th>\n      <td>30s</td>\n      <td>MALE</td>\n      <td>Private gathering restrictions</td>\n      <td>False</td>\n      <td>Mississauga</td>\n      <td>71.000000</td>\n      <td>-15.0</td>\n      <td>-1.0</td>\n      <td>False</td>\n    </tr>\n    <tr>\n      <th>4</th>\n      <td>20s</td>\n      <td>MALE</td>\n      <td>Private gathering restrictions</td>\n      <td>False</td>\n      <td>Newmarket</td>\n      <td>16.937927</td>\n      <td>-11.0</td>\n      <td>4.0</td>\n      <td>False</td>\n    </tr>\n  </tbody>\n</table>\n</div>"
     },
     "metadata": {},
     "execution_count": 323
    }
   ],
   "source": [
    "#Removing null values : 2\n",
    "result_df[\"parks_percentage\"].fillna(result_df[\"parks_percentage\"].mean(), inplace=True)\n",
    "result_df[\"grocery_and_pharmacy_percentage\"].fillna(result_df[\"grocery_and_pharmacy_percentage\"].mean(), inplace=True)\n",
    "result_df[\"retail_and_recreation_percentage\"].fillna(result_df[\"retail_and_recreation_percentage\"].mean(), inplace=True)\n",
    "\n",
    "result_df.head()"
   ]
  },
  {
   "cell_type": "code",
   "execution_count": 325,
   "metadata": {},
   "outputs": [
    {
     "output_type": "execute_result",
     "data": {
      "text/plain": [
       "Counter({False: 83387, True: 1425})"
      ]
     },
     "metadata": {},
     "execution_count": 325
    }
   ],
   "source": [
    "#get counter 6\n",
    "Counter(result_df['is_fatal'])"
   ]
  },
  {
   "cell_type": "code",
   "execution_count": 327,
   "metadata": {},
   "outputs": [],
   "source": [
    "#Get the labels 3\n",
    "y_under = result_df[\"is_fatal\"]#label\n"
   ]
  },
  {
   "cell_type": "code",
   "execution_count": 329,
   "metadata": {},
   "outputs": [
    {
     "output_type": "execute_result",
     "data": {
      "text/plain": [
       "                           status age_group  is_fatal         city gender  \\\n",
       "0  Private gathering restrictions       40s     False  Mississauga   MALE   \n",
       "1  Private gathering restrictions       50s     False  Mississauga   MALE   \n",
       "2  Private gathering restrictions       <20     False  Mississauga   MALE   \n",
       "3  Private gathering restrictions       30s     False  Mississauga   MALE   \n",
       "4  Private gathering restrictions       20s     False    Newmarket   MALE   \n",
       "\n",
       "   holiday  retail_and_recreation_percentage  grocery_and_pharmacy_percentage  \\\n",
       "0    False                         -0.206685                        -0.013779   \n",
       "1    False                         -0.206685                        -0.013779   \n",
       "2    False                         -0.206685                        -0.013779   \n",
       "3    False                         -0.206685                        -0.013779   \n",
       "4    False                         -0.534274                         0.194282   \n",
       "\n",
       "   parks_percentage  \n",
       "0          0.978310  \n",
       "1          0.978310  \n",
       "2          0.978310  \n",
       "3          0.978310  \n",
       "4          0.822682  "
      ],
      "text/html": "<div>\n<style scoped>\n    .dataframe tbody tr th:only-of-type {\n        vertical-align: middle;\n    }\n\n    .dataframe tbody tr th {\n        vertical-align: top;\n    }\n\n    .dataframe thead th {\n        text-align: right;\n    }\n</style>\n<table border=\"1\" class=\"dataframe\">\n  <thead>\n    <tr style=\"text-align: right;\">\n      <th></th>\n      <th>status</th>\n      <th>age_group</th>\n      <th>is_fatal</th>\n      <th>city</th>\n      <th>gender</th>\n      <th>holiday</th>\n      <th>retail_and_recreation_percentage</th>\n      <th>grocery_and_pharmacy_percentage</th>\n      <th>parks_percentage</th>\n    </tr>\n  </thead>\n  <tbody>\n    <tr>\n      <th>0</th>\n      <td>Private gathering restrictions</td>\n      <td>40s</td>\n      <td>False</td>\n      <td>Mississauga</td>\n      <td>MALE</td>\n      <td>False</td>\n      <td>-0.206685</td>\n      <td>-0.013779</td>\n      <td>0.978310</td>\n    </tr>\n    <tr>\n      <th>1</th>\n      <td>Private gathering restrictions</td>\n      <td>50s</td>\n      <td>False</td>\n      <td>Mississauga</td>\n      <td>MALE</td>\n      <td>False</td>\n      <td>-0.206685</td>\n      <td>-0.013779</td>\n      <td>0.978310</td>\n    </tr>\n    <tr>\n      <th>2</th>\n      <td>Private gathering restrictions</td>\n      <td>&lt;20</td>\n      <td>False</td>\n      <td>Mississauga</td>\n      <td>MALE</td>\n      <td>False</td>\n      <td>-0.206685</td>\n      <td>-0.013779</td>\n      <td>0.978310</td>\n    </tr>\n    <tr>\n      <th>3</th>\n      <td>Private gathering restrictions</td>\n      <td>30s</td>\n      <td>False</td>\n      <td>Mississauga</td>\n      <td>MALE</td>\n      <td>False</td>\n      <td>-0.206685</td>\n      <td>-0.013779</td>\n      <td>0.978310</td>\n    </tr>\n    <tr>\n      <th>4</th>\n      <td>Private gathering restrictions</td>\n      <td>20s</td>\n      <td>False</td>\n      <td>Newmarket</td>\n      <td>MALE</td>\n      <td>False</td>\n      <td>-0.534274</td>\n      <td>0.194282</td>\n      <td>0.822682</td>\n    </tr>\n  </tbody>\n</table>\n</div>"
     },
     "metadata": {},
     "execution_count": 329
    }
   ],
   "source": [
    "#normalize\n",
    "#Normalizing data:\n",
    "transform_data = result_df[[\"retail_and_recreation_percentage\",\"grocery_and_pharmacy_percentage\",\"parks_percentage\"]]\n",
    "X_normalized=preprocessing.normalize(transform_data,norm='l2')\n",
    "normalize_part=pd.DataFrame(X_normalized,columns=transform_data.columns)\n",
    "non_numerical=result_df[[\"status\",\"age_group\",\"is_fatal\",\"city\",\"gender\",\"holiday\"]]\n",
    "result_data=pd.concat([non_numerical,normalize_part],axis=1)\n",
    "result_data.head()"
   ]
  },
  {
   "cell_type": "code",
   "execution_count": 331,
   "metadata": {},
   "outputs": [],
   "source": [
    "#drop the label\n",
    "result_data.drop(columns=['is_fatal'], inplace=True)"
   ]
  },
  {
   "cell_type": "code",
   "execution_count": 333,
   "metadata": {},
   "outputs": [
    {
     "output_type": "execute_result",
     "data": {
      "text/plain": [
       "   holiday  retail_and_recreation_percentage  grocery_and_pharmacy_percentage  \\\n",
       "0    False                         -0.206685                        -0.013779   \n",
       "1    False                         -0.206685                        -0.013779   \n",
       "2    False                         -0.206685                        -0.013779   \n",
       "3    False                         -0.206685                        -0.013779   \n",
       "4    False                         -0.534274                         0.194282   \n",
       "\n",
       "   parks_percentage  status_Acitivies closures  status_Control  \\\n",
       "0          0.978310                          0               0   \n",
       "1          0.978310                          0               0   \n",
       "2          0.978310                          0               0   \n",
       "3          0.978310                          0               0   \n",
       "4          0.822682                          0               0   \n",
       "\n",
       "   status_Lockdown  status_Other  status_Private gathering restrictions  \\\n",
       "0                0             0                                      1   \n",
       "1                0             0                                      1   \n",
       "2                0             0                                      1   \n",
       "3                0             0                                      1   \n",
       "4                0             0                                      1   \n",
       "\n",
       "   status_Protect  ...  city_Mississauga  city_Newmarket  city_Oakville  \\\n",
       "0               0  ...                 1               0              0   \n",
       "1               0  ...                 1               0              0   \n",
       "2               0  ...                 1               0              0   \n",
       "3               0  ...                 1               0              0   \n",
       "4               0  ...                 0               1              0   \n",
       "\n",
       "   city_Ottawa  city_Toronto  city_Whitby  gender_FEMALE  \\\n",
       "0            0             0            0              0   \n",
       "1            0             0            0              0   \n",
       "2            0             0            0              0   \n",
       "3            0             0            0              0   \n",
       "4            0             0            0              0   \n",
       "\n",
       "   gender_GENDER DIVERSE  gender_MALE  gender_UNSPECIFIED  \n",
       "0                      0            1                   0  \n",
       "1                      0            1                   0  \n",
       "2                      0            1                   0  \n",
       "3                      0            1                   0  \n",
       "4                      0            1                   0  \n",
       "\n",
       "[5 rows x 32 columns]"
      ],
      "text/html": "<div>\n<style scoped>\n    .dataframe tbody tr th:only-of-type {\n        vertical-align: middle;\n    }\n\n    .dataframe tbody tr th {\n        vertical-align: top;\n    }\n\n    .dataframe thead th {\n        text-align: right;\n    }\n</style>\n<table border=\"1\" class=\"dataframe\">\n  <thead>\n    <tr style=\"text-align: right;\">\n      <th></th>\n      <th>holiday</th>\n      <th>retail_and_recreation_percentage</th>\n      <th>grocery_and_pharmacy_percentage</th>\n      <th>parks_percentage</th>\n      <th>status_Acitivies closures</th>\n      <th>status_Control</th>\n      <th>status_Lockdown</th>\n      <th>status_Other</th>\n      <th>status_Private gathering restrictions</th>\n      <th>status_Protect</th>\n      <th>...</th>\n      <th>city_Mississauga</th>\n      <th>city_Newmarket</th>\n      <th>city_Oakville</th>\n      <th>city_Ottawa</th>\n      <th>city_Toronto</th>\n      <th>city_Whitby</th>\n      <th>gender_FEMALE</th>\n      <th>gender_GENDER DIVERSE</th>\n      <th>gender_MALE</th>\n      <th>gender_UNSPECIFIED</th>\n    </tr>\n  </thead>\n  <tbody>\n    <tr>\n      <th>0</th>\n      <td>False</td>\n      <td>-0.206685</td>\n      <td>-0.013779</td>\n      <td>0.978310</td>\n      <td>0</td>\n      <td>0</td>\n      <td>0</td>\n      <td>0</td>\n      <td>1</td>\n      <td>0</td>\n      <td>...</td>\n      <td>1</td>\n      <td>0</td>\n      <td>0</td>\n      <td>0</td>\n      <td>0</td>\n      <td>0</td>\n      <td>0</td>\n      <td>0</td>\n      <td>1</td>\n      <td>0</td>\n    </tr>\n    <tr>\n      <th>1</th>\n      <td>False</td>\n      <td>-0.206685</td>\n      <td>-0.013779</td>\n      <td>0.978310</td>\n      <td>0</td>\n      <td>0</td>\n      <td>0</td>\n      <td>0</td>\n      <td>1</td>\n      <td>0</td>\n      <td>...</td>\n      <td>1</td>\n      <td>0</td>\n      <td>0</td>\n      <td>0</td>\n      <td>0</td>\n      <td>0</td>\n      <td>0</td>\n      <td>0</td>\n      <td>1</td>\n      <td>0</td>\n    </tr>\n    <tr>\n      <th>2</th>\n      <td>False</td>\n      <td>-0.206685</td>\n      <td>-0.013779</td>\n      <td>0.978310</td>\n      <td>0</td>\n      <td>0</td>\n      <td>0</td>\n      <td>0</td>\n      <td>1</td>\n      <td>0</td>\n      <td>...</td>\n      <td>1</td>\n      <td>0</td>\n      <td>0</td>\n      <td>0</td>\n      <td>0</td>\n      <td>0</td>\n      <td>0</td>\n      <td>0</td>\n      <td>1</td>\n      <td>0</td>\n    </tr>\n    <tr>\n      <th>3</th>\n      <td>False</td>\n      <td>-0.206685</td>\n      <td>-0.013779</td>\n      <td>0.978310</td>\n      <td>0</td>\n      <td>0</td>\n      <td>0</td>\n      <td>0</td>\n      <td>1</td>\n      <td>0</td>\n      <td>...</td>\n      <td>1</td>\n      <td>0</td>\n      <td>0</td>\n      <td>0</td>\n      <td>0</td>\n      <td>0</td>\n      <td>0</td>\n      <td>0</td>\n      <td>1</td>\n      <td>0</td>\n    </tr>\n    <tr>\n      <th>4</th>\n      <td>False</td>\n      <td>-0.534274</td>\n      <td>0.194282</td>\n      <td>0.822682</td>\n      <td>0</td>\n      <td>0</td>\n      <td>0</td>\n      <td>0</td>\n      <td>1</td>\n      <td>0</td>\n      <td>...</td>\n      <td>0</td>\n      <td>1</td>\n      <td>0</td>\n      <td>0</td>\n      <td>0</td>\n      <td>0</td>\n      <td>0</td>\n      <td>0</td>\n      <td>1</td>\n      <td>0</td>\n    </tr>\n  </tbody>\n</table>\n<p>5 rows × 32 columns</p>\n</div>"
     },
     "metadata": {},
     "execution_count": 333
    }
   ],
   "source": [
    "# Our features have categorical data. We need to convert them to one-hot encoders to get the best results.\n",
    "new_result_df = pd.get_dummies(result_data)\n",
    "new_result_df.head()"
   ]
  },
  {
   "cell_type": "code",
   "execution_count": 335,
   "metadata": {},
   "outputs": [],
   "source": [
    "#Undersampling of majority classes:  4\n",
    "from imblearn.under_sampling import NearMiss\n",
    "X = new_result_df.values#features\n",
    "undersample = NearMiss(version=1,n_neighbors=3)\n",
    "x_under, y_under = undersample.fit_resample(X,label)"
   ]
  },
  {
   "cell_type": "code",
   "execution_count": 349,
   "metadata": {},
   "outputs": [],
   "source": [
    "X_train, X_test, y_train, y_test = train_test_split(x_under, y_under, test_size=0.2, shuffle=True, stratify=y_under)"
   ]
  },
  {
   "cell_type": "code",
   "execution_count": 350,
   "metadata": {},
   "outputs": [
    {
     "output_type": "stream",
     "name": "stdout",
     "text": [
      "Training set Counter({True: 1140, False: 1140}) \nTest set Counter({True: 285, False: 285}) \n"
     ]
    }
   ],
   "source": [
    "#Let's see the no. of records per class in training and test set\n",
    "print(\"Training set {} \".format(Counter(y_train)))\n",
    "print(\"Test set {} \".format(Counter(y_test)))"
   ]
  },
  {
   "cell_type": "code",
   "execution_count": 339,
   "metadata": {},
   "outputs": [
    {
     "output_type": "stream",
     "name": "stdout",
     "text": [
      "time in milliseconds\n57.802\nConfusion Matrix:\n[[227  58]\n [112 173]]\nClassification Report\n              precision    recall  f1-score   support\n\n       False       0.67      0.80      0.73       285\n        True       0.75      0.61      0.67       285\n\n    accuracy                           0.70       570\n   macro avg       0.71      0.70      0.70       570\nweighted avg       0.71      0.70      0.70       570\n\nAccuracy of Gradient Boosting: 70.18 %\nPrecision of Gradient Boosting: 60.70 %\nRecall of Gradient Boosting: 74.89 %\n"
     ]
    }
   ],
   "source": [
    "#PART B\n",
    "from sklearn.metrics import classification_report, confusion_matrix\n",
    "from sklearn.metrics import classification_report, confusion_matrix\n",
    "from sklearn.metrics import recall_score, precision_score, accuracy_score\n",
    "import datetime\n",
    "#Gradient Boosting\n",
    "\n",
    "\n",
    "#X_train, X_test, y_train, y_test = train_test_split(X, y, test_size=0.33, shuffle=True, stratify=y_under)\n",
    "a = datetime.datetime.now()\n",
    "classifier = GradientBoostingClassifier(n_estimators=20, learning_rate=0.75, max_features=2, max_depth=2, random_state=0)\n",
    "classifier.fit(X_train, y_train)\n",
    "predictions = classifier.predict(X_test)\n",
    "b = datetime.datetime.now()\n",
    "c = b - a\n",
    "print('time in milliseconds')\n",
    "print(c.total_seconds() * 1000)\n",
    "print(\"Confusion Matrix:\")\n",
    "print(confusion_matrix(y_test, predictions))\n",
    "\n",
    "print(\"Classification Report\")\n",
    "print(classification_report(y_test, predictions))\n",
    "\n",
    "accuracy = accuracy_score(predictions, y_test) * 100\n",
    "recall = recall_score(predictions, y_test) * 100\n",
    "precision = precision_score(predictions, y_test) * 100\n",
    "\n",
    "print(\"Accuracy of Gradient Boosting: {:.2f} %\".format(accuracy))\n",
    "print(\"Precision of Gradient Boosting: {:.2f} %\".format(precision))\n",
    "print(\"Recall of Gradient Boosting: {:.2f} %\".format(recall))\n"
   ]
  },
  {
   "cell_type": "code",
   "execution_count": 340,
   "metadata": {},
   "outputs": [
    {
     "output_type": "stream",
     "name": "stdout",
     "text": [
      "time in milliseconds\n440.75399999999996\nConfusion Matrix:\n[[237  48]\n [118 167]]\nClassification Report\n              precision    recall  f1-score   support\n\n       False       0.67      0.83      0.74       285\n        True       0.78      0.59      0.67       285\n\n    accuracy                           0.71       570\n   macro avg       0.72      0.71      0.70       570\nweighted avg       0.72      0.71      0.70       570\n\nAccuracy of Random Forest: 70.88 %\nPrecision of Random Forest: 58.60 %\nRecall of Random Forest: 77.67 %\n"
     ]
    }
   ],
   "source": [
    "#Random Forest\n",
    "#X_train, X_test, y_train, y_test = train_test_split(X, y, test_size=0.2, shuffle=True, stratify = y_under)\n",
    "\n",
    "#create and fit random forest\n",
    "a = datetime.datetime.now()#start time\n",
    "rf = RandomForestClassifier(max_depth=2, random_state=0)\n",
    "rf.fit(X_train, y_train)\n",
    "y_pred = rf.predict(X_test)\n",
    "b = datetime.datetime.now()#end time\n",
    "c = b - a\n",
    "print('time in milliseconds')\n",
    "print(c.total_seconds() * 1000)\n",
    "\n",
    "print(\"Confusion Matrix:\")\n",
    "print(confusion_matrix(y_test, y_pred))\n",
    "\n",
    "print(\"Classification Report\")\n",
    "print(classification_report(y_test, y_pred))\n",
    "\n",
    "accuracy = accuracy_score(y_pred, y_test) * 100\n",
    "recall = recall_score(y_pred, y_test) * 100\n",
    "precision = precision_score(y_pred, y_test) * 100\n",
    "\n",
    "print(\"Accuracy of Random Forest: {:.2f} %\".format(accuracy))\n",
    "print(\"Precision of Random Forest: {:.2f} %\".format(precision))\n",
    "print(\"Recall of Random Forest: {:.2f} %\".format(recall))\n"
   ]
  },
  {
   "cell_type": "code",
   "execution_count": 341,
   "metadata": {},
   "outputs": [
    {
     "output_type": "stream",
     "name": "stdout",
     "text": [
      "time in milliseconds\n44.699000000000005\nConfusion Matrix:\n[[255  30]\n [105 180]]\nClassification Report\n              precision    recall  f1-score   support\n\n       False       0.71      0.89      0.79       285\n        True       0.86      0.63      0.73       285\n\n    accuracy                           0.76       570\n   macro avg       0.78      0.76      0.76       570\nweighted avg       0.78      0.76      0.76       570\n\nAccuracy of Decision Tree: 76.32 %\nRecall of Decision Tree: 85.71 %\nprecision of Decision Tree: 63.16 %\n"
     ]
    }
   ],
   "source": [
    "#Decision Tree Algorithm:\n",
    "#X_train, X_test, y_train, y_test = train_test_split(X, y, test_size=0.2, shuffle=True, stratify=y)\n",
    "from sklearn import tree\n",
    "from matplotlib import pyplot as plt\n",
    "import graphviz\n",
    "\n",
    "a = datetime.datetime.now()\n",
    "dt = DecisionTreeClassifier(criterion='entropy')\n",
    "dt.fit(X_train, y_train)\n",
    "\n",
    "y_pred = dt.predict(X_test)\n",
    "b = datetime.datetime.now()\n",
    "c = b - a\n",
    "print('time in milliseconds')\n",
    "print(c.total_seconds() * 1000)\n",
    "\n",
    "print(\"Confusion Matrix:\")\n",
    "print(confusion_matrix(y_test, y_pred))\n",
    "\n",
    "print(\"Classification Report\")\n",
    "print(classification_report(y_test, y_pred))\n",
    "\n",
    "accuracy = accuracy_score(y_pred,y_test) * 100  \n",
    "recall = recall_score(y_pred, y_test) * 100 \n",
    "precision = precision_score(y_pred, y_test) * 100\n",
    "\n",
    "print(\"Accuracy of Decision Tree: {:.2f} %\".format(accuracy))\n",
    "print(\"Recall of Decision Tree: {:.2f} %\".format(recall))\n",
    "print(\"precision of Decision Tree: {:.2f} %\".format(precision))\n",
    "\n"
   ]
  },
  {
   "cell_type": "code",
   "execution_count": 342,
   "metadata": {},
   "outputs": [
    {
     "output_type": "execute_result",
     "data": {
      "text/plain": [
       "'DecisionTree.pdf'"
      ]
     },
     "metadata": {},
     "execution_count": 342
    }
   ],
   "source": [
    "dot_data = tree.export_graphviz(dt, out_file=None) \n",
    "graph = graphviz.Source(dot_data) \n",
    "graph.render(\"DecisionTree\") "
   ]
  },
  {
   "cell_type": "code",
   "execution_count": 343,
   "metadata": {},
   "outputs": [
    {
     "output_type": "stream",
     "name": "stdout",
     "text": [
      "[910.05329477 938.89774941 937.25505834 928.95123801 903.8268\n 952.89101345 953.25464584 958.6540075  952.65209946 927.1861651\n 946.64632033 938.96168681 947.28585376 946.21197739 933.8720698\n 927.1029745  916.04886931 952.89101345 942.48652063 943.08190113\n 927.4082738  954.57561496 953.16216021 949.1648353  924.51337792\n 941.2120428  905.26614931 958.77154487 951.34002367 949.71871405\n 958.77154487 956.88684793 902.75236243 943.3614357  948.03954202\n 949.15098196 938.30800943 938.59918596 953.96110425 936.87687533\n 921.39438674 932.07586126 949.44107647 941.2120428  928.49734178\n 908.3583714  920.99774221 957.21654792 953.66746061 924.09439173\n 940.50465993 964.18637426 946.50286396 948.89119173 878.00222299\n 910.79974995 939.50086803 953.73616935 897.4429088  928.03713738\n 943.3614357  943.08190113 924.39618302 917.25178575 950.87865559\n 946.50286396 926.41684472 942.48652063 932.17106741 955.03658072\n 953.63010876 915.13045968 943.0370595  941.48991862 938.90076306\n 951.23544774 960.93922722 887.24730658 949.82060092 938.62990927\n 958.6540075  949.82060092 893.67830014 948.89119173 950.40160817\n 888.6473567  949.34094809 961.12145423 944.97164061 938.59918596\n 939.47769314 909.11433454 901.34695314 956.90642614 941.91480542\n 950.53930377 958.54846261 932.8772918  965.84918896 948.46282244\n 940.63821711 898.30162187 958.54846261 951.24352638 934.43965363\n 943.08193346 949.90322738 938.67503863 934.10909321 943.0370595\n 937.1399845  952.28595229 925.03574404 949.53776115 935.33498271\n 905.10914765 904.6064836  949.90322738 925.03574404 925.03574404\n 959.33111612 920.99774221 928.57529114 953.41837213 936.88410915\n 955.02272449 938.59918596 932.70058249 895.30643492 957.21654792\n 939.47769314 946.404676   952.96734826 925.71756566 919.64288174\n 920.99774221 961.67361793 944.14605048 957.31331739 953.83612188\n 957.22024308 942.48652063 955.28913831 928.32293761 936.19553473\n 956.96263523 937.25505834 941.50779909 893.32693816 951.37256953\n 926.59708346 950.59254092 957.31331739 954.57561496 946.84894625\n 916.04350454 958.54846261 950.05445444 957.94458298 892.45750663\n 949.82060092 939.41724284 957.46613803 927.1861651  952.79609228\n 965.88008847 939.97157056 934.45328128 945.92792116 900.59099175\n 930.45377566 959.7778272  945.79598598 935.00337954 918.11686639\n 952.89101345 953.66746061 895.30643492 947.86747053 956.85197466\n 942.57370561 941.91480542 914.16597329 940.63821711 961.67361793\n 920.23886276 932.17106741 889.66717993 946.32839428 940.56174486\n 948.46282244 952.07278335 933.16739612 941.91480542 942.48652063\n 914.63525216 943.3614357  947.73603159 951.15545217 942.48652063\n 952.42481593 915.93860722 941.48991862 946.99212996 941.91480542\n 949.13715512 937.25505834 949.93958689 955.03658072 928.88552292\n 952.85877891 959.2021467  960.93922722 914.54417642 929.38780391\n 931.3021021  944.14605048 945.52547019 953.25464584 942.48652063\n 948.49097412 957.21654792 925.03574404 941.91480542 949.13715512\n 904.93293356 943.08193346 897.9493515  950.37729922 949.34094809\n 950.87865559 947.45887637 925.03574404 929.75758871 932.8772918\n 933.68901098 938.96168681 931.66058788 941.91480542 938.44561643\n 918.13356945 965.47098839 941.2120428  949.34094809 939.97157056\n 916.42413235 901.29403704 903.44921916 939.97157056 949.12601069\n 947.73603159 943.65166006 933.54944674 910.87831687 888.74249477\n 939.47417033 942.56266791 911.95622501 938.28287156 949.82060092\n 960.89125347 892.45750663 926.50789457 942.34812756 945.38485628\n 943.0370595  956.85197466 948.89119173 944.47713028 949.90322738\n 956.62366413 949.53776115 894.16991083 959.86814741 932.74965591\n 950.87674294 950.83278852 943.08167155 950.08041467 941.91480542\n 957.31331739 949.13715512 907.8676316  899.29952499 925.03574404\n 951.23544774 955.79394329 919.20932766 948.89119173 941.91480542\n 938.43457628 954.67156189 947.73603159 907.65330452 957.21654792\n 955.24928312 956.09164822 946.41225199 938.67503863 948.49097412\n 889.90159094 929.17790773 951.34002367 962.03778097 938.44561643\n 949.71871405 933.5198859  909.73813145 906.81494319 940.50465993\n 945.38485628 916.14421912 918.86721955 961.05726462 925.76848611\n 943.0370595  954.78625113 954.93769486 952.89101345 878.00222299\n 945.52547019 929.61766644 939.50086803 886.57947128 938.90076306\n 949.932901   950.87865559 902.22889097 961.67361793 945.38485628\n 944.34970119 952.37902934 961.93336408 942.91024096 946.41225199\n 929.50522919 939.50086803 909.11433454 924.86484397 942.51112358\n 953.96110425 939.17146377 943.08252731 933.44859306 888.34955391\n 954.75633423 942.46572282 948.01679225 938.43457628 957.22024308\n 950.05445444 938.60795081 930.76795413 946.404676   941.80464864\n 923.37795736 924.46643033 939.41724284 891.8115089  949.82060092\n 956.62366413 948.89119173 919.29667906 951.24352638 939.07489783\n 952.85877891 949.95099457 909.31373353 953.16216021 950.87865559\n 910.15648934 924.46643033 951.82596478 926.50525497 926.93155785\n 919.74251513 928.0173081  934.31984343 961.84791953 939.56817615\n 932.81369774 960.1875336  953.73616935 949.44107647 952.37902934\n 929.21521229 932.17106741 951.24352638 941.91480542 917.01972132\n 953.63010876 920.82916171 945.01512337 948.03954202 955.03658072\n 942.25352702 938.63679774 949.44107647 942.59949962 961.79489767\n 911.05137655 905.77447479 943.08193346 932.73180108 938.31784443\n 939.87353258 950.67739536 942.34812756 951.55242122 923.65747711\n 955.54130089 943.08190113 952.89101345 908.43406633 953.84242812\n 950.05445444 957.11785431 923.42575998 949.44107647 935.90145312\n 952.42481593 925.31896869 921.86653369 943.71613476 962.28808177\n 907.39242633 953.41837213 914.66350804 938.97766541 957.11158274\n 931.3021021  932.07586126 958.57808862 901.34695314 938.43457628\n 927.8740188  961.05726462 953.25464584 953.84242812 946.99212996\n 945.85952991 956.99637433 939.50086803 960.5135087  957.31331739\n 948.42149209 921.86360936 953.16216021 894.3723901  953.16216021\n 948.42149209 930.24961378 949.53776115 943.3614357  941.91480542\n 961.12145423 908.9521593  914.66350804 924.86484397 934.10909321\n 952.89101345 919.1897122  951.24352638 955.89926573 946.87385932\n 915.55820084 952.89101345 929.96665572 938.97766541 934.17813972\n 938.43457628 961.67361793 945.92792116 949.90322738 953.84242812\n 956.90642614 952.79609228 948.03954202 959.2021467  949.93875145\n 963.8754189  957.46613803 946.99212996 946.404676   930.51953143\n 933.44859306 943.08197456 950.17056194 949.932901   952.17220742\n 950.37729922 947.86930332 950.48895236 943.08197456 938.43457628\n 933.37544232 919.91016249 948.86888103 952.79609228 878.00222299\n 939.50086803 949.61210833 938.43457628 952.37902934 931.68580908\n 925.71756566 938.50566257 911.35415856 939.50086803 944.97164061\n 948.42149209 933.49487563 925.29764714 932.8772918  943.3614357\n 943.0370595  899.39495829 930.11232241 925.54195949 940.19091871\n 961.46778717 939.97157056 936.81785587 963.8754189  948.49097412\n 942.48652063 943.08210538 949.82060092 945.01512337 913.39384775\n 895.60483102 949.93875145 937.55316994 940.50465993 955.28913831\n 948.42149209 938.51487564 957.22024308 922.6883617  949.44107647\n 939.50615129 925.32578114 950.48895236 959.2021467  933.54944674\n 922.01541178 949.38313018 942.48652063 942.46572282 940.56174486\n 961.87290958 934.10909321 958.37643487 940.63821711 954.13275922\n 940.10818942 954.75633423 930.79106403 949.13715512 940.50465993\n 958.44145481 933.75392211 933.73445774 943.0370595  956.51208279\n 949.61210833 938.31347945 957.9725356  939.50086803 917.34687147]\n"
     ]
    }
   ],
   "source": [
    "#PART C\n",
    "from sklearn.svm import OneClassSVM\n",
    "\n",
    "clf = OneClassSVM(gamma='auto').fit(X_train)\n",
    "y_pred = clf.predict(X_test)\n",
    "#array([-1,  1,  1,  1, -1])\n",
    "Score = clf.score_samples(X_test)\n",
    "print(Score)\n",
    "#array([1.7798..., 2.0547..., 2.0556..., 2.0561..., 1.7332...])\n"
   ]
  },
  {
   "cell_type": "code",
   "execution_count": null,
   "metadata": {},
   "outputs": [],
   "source": []
  }
 ]
}