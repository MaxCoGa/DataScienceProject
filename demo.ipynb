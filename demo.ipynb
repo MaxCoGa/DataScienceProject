{
 "metadata": {
  "language_info": {
   "codemirror_mode": {
    "name": "ipython",
    "version": 3
   },
   "file_extension": ".py",
   "mimetype": "text/x-python",
   "name": "python",
   "nbconvert_exporter": "python",
   "pygments_lexer": "ipython3",
   "version": "3.9.2"
  },
  "orig_nbformat": 2,
  "kernelspec": {
   "name": "python392jvsc74a57bd0ffef2fa9cbcc2cd7cb384c713b0ae375e402913407c8199aff0f77ffc4a59ac0",
   "display_name": "Python 3.9.2 64-bit"
  }
 },
 "nbformat": 4,
 "nbformat_minor": 2,
 "cells": [
  {
   "cell_type": "code",
   "execution_count": 253,
   "metadata": {},
   "outputs": [],
   "source": [
    "from configparser import ConfigParser\n",
    "import psycopg2\n",
    "import numpy as np\n",
    "import pandas as pd\n",
    "from sklearn import preprocessing\n",
    "from sklearn.model_selection import train_test_split\n",
    "from sklearn.tree import DecisionTreeClassifier\n",
    "from sklearn.ensemble import RandomForestClassifier\n",
    "from sklearn.ensemble import GradientBoostingClassifier\n",
    "from sklearn.svm import LinearSVC\n",
    "from sklearn.metrics import recall_score, precision_score\n",
    "#Can be very helpful to notice any imbalance in classes\n",
    "from collections import Counter "
   ]
  },
  {
   "cell_type": "code",
   "execution_count": 254,
   "metadata": {},
   "outputs": [],
   "source": [
    "#Sourced from https://www.postgresqltutorial.com/postgresql-python/connect/\n",
    "def config(filename='psql_sample.ini', section='postgresql'):\n",
    "    parser = ConfigParser()\n",
    "    # read config file\n",
    "    parser.read(filename) \n",
    " \n",
    "    # get section, default to postgresql\n",
    "    db = {}\n",
    "    if parser.has_section(section):\n",
    "        params = parser.items(section)\n",
    "        for param in params:\n",
    "            db[param[0]] = param[1]\n",
    "    else:\n",
    "        raise Exception('Section {0} not found in the {1} file'.format(section, filename))\n",
    " \n",
    "    return db"
   ]
  },
  {
   "cell_type": "code",
   "execution_count": 255,
   "metadata": {},
   "outputs": [
    {
     "output_type": "stream",
     "name": "stdout",
     "text": [
      "Here's an attempt to connect to the database\n",
      "Look's like it was a success\n"
     ]
    }
   ],
   "source": [
    "#Get the configuration file as a python dictionary\n",
    "cfg = config()\n",
    "\n",
    "#Establish the connection and create a cursor to the database\n",
    "try:\n",
    "    print(\"Here's an attempt to connect to the database\")\n",
    "    conn = psycopg2.connect(**cfg)\n",
    "    cursor = conn.cursor()\n",
    "    print(\"Look's like it was a success\")\n",
    "    \n",
    "except (Exception, psycopg2.DatabaseError) as error:\n",
    "    print(error)"
   ]
  },
  {
   "cell_type": "code",
   "execution_count": 256,
   "metadata": {},
   "outputs": [],
   "source": [
    "#SELECT QUERY\n",
    "try:\n",
    "    #Lets get our data \n",
    "    cursor.execute(\"SELECT age_group,gender,measures.status,holiday,city,daily_high_temp,daily_low_temp,rain_amount,snow_amount,parks_percentage,retail_and_recreation_percentage,grocery_and_pharmacy_percentage,workplaces_percentage,residential_percentage,transit_stations_percentage,is_fatal,is_resolved,is_unresolved from data_mart.fact_table as fact inner join data_mart.mobility_dimension as mobility on fact.mobility_key=mobility.mobility_key inner join data_mart.weather_dimension as weather on fact.weather_key=weather.weather_key inner join data_mart.patient_dimension as patient on fact.patient_key=patient.patient_key inner join data_mart.special_measures_dimension as measures on fact.special_measures_key=measures.special_measures_key inner join data_mart.phu_location_dimension as phu on fact.phu_location_key=phu.phu_location_key inner join data_mart.reported_date_dimension as date on fact.reported_date_key=date.reported_date_key\") \n",
    "\n",
    "    #Get the complete result set. It will be a list of tuples where each tuple is a row from the result set\n",
    "    result_list = cursor.fetchall()\n",
    "        \n",
    "except (Exception, psycopg2.DatabaseError) as error:\n",
    "    print(error)"
   ]
  },
  {
   "cell_type": "code",
   "execution_count": 257,
   "metadata": {},
   "outputs": [],
   "source": [
    "#Ensure to run this cell at the end of all your experiments to close all connections\n",
    "cursor.close()\n",
    "conn.close()"
   ]
  },
  {
   "cell_type": "code",
   "execution_count": 258,
   "metadata": {},
   "outputs": [
    {
     "output_type": "execute_result",
     "data": {
      "text/plain": [
       "  age_group gender                          status  holiday         city  \\\n",
       "0       40s   MALE  Private gathering restrictions    False  Mississauga   \n",
       "1       50s   MALE  Private gathering restrictions    False  Mississauga   \n",
       "2       <20   MALE  Private gathering restrictions    False  Mississauga   \n",
       "3       30s   MALE  Private gathering restrictions    False  Mississauga   \n",
       "4       20s   MALE  Private gathering restrictions    False    Newmarket   \n",
       "\n",
       "   parks_percentage  retail_and_recreation_percentage  \\\n",
       "0              71.0                             -15.0   \n",
       "1              71.0                             -15.0   \n",
       "2              71.0                             -15.0   \n",
       "3              71.0                             -15.0   \n",
       "4               NaN                             -11.0   \n",
       "\n",
       "   grocery_and_pharmacy_percentage  is_fatal  \n",
       "0                             -1.0     False  \n",
       "1                             -1.0     False  \n",
       "2                             -1.0     False  \n",
       "3                             -1.0     False  \n",
       "4                              4.0     False  "
      ],
      "text/html": "<div>\n<style scoped>\n    .dataframe tbody tr th:only-of-type {\n        vertical-align: middle;\n    }\n\n    .dataframe tbody tr th {\n        vertical-align: top;\n    }\n\n    .dataframe thead th {\n        text-align: right;\n    }\n</style>\n<table border=\"1\" class=\"dataframe\">\n  <thead>\n    <tr style=\"text-align: right;\">\n      <th></th>\n      <th>age_group</th>\n      <th>gender</th>\n      <th>status</th>\n      <th>holiday</th>\n      <th>city</th>\n      <th>parks_percentage</th>\n      <th>retail_and_recreation_percentage</th>\n      <th>grocery_and_pharmacy_percentage</th>\n      <th>is_fatal</th>\n    </tr>\n  </thead>\n  <tbody>\n    <tr>\n      <th>0</th>\n      <td>40s</td>\n      <td>MALE</td>\n      <td>Private gathering restrictions</td>\n      <td>False</td>\n      <td>Mississauga</td>\n      <td>71.0</td>\n      <td>-15.0</td>\n      <td>-1.0</td>\n      <td>False</td>\n    </tr>\n    <tr>\n      <th>1</th>\n      <td>50s</td>\n      <td>MALE</td>\n      <td>Private gathering restrictions</td>\n      <td>False</td>\n      <td>Mississauga</td>\n      <td>71.0</td>\n      <td>-15.0</td>\n      <td>-1.0</td>\n      <td>False</td>\n    </tr>\n    <tr>\n      <th>2</th>\n      <td>&lt;20</td>\n      <td>MALE</td>\n      <td>Private gathering restrictions</td>\n      <td>False</td>\n      <td>Mississauga</td>\n      <td>71.0</td>\n      <td>-15.0</td>\n      <td>-1.0</td>\n      <td>False</td>\n    </tr>\n    <tr>\n      <th>3</th>\n      <td>30s</td>\n      <td>MALE</td>\n      <td>Private gathering restrictions</td>\n      <td>False</td>\n      <td>Mississauga</td>\n      <td>71.0</td>\n      <td>-15.0</td>\n      <td>-1.0</td>\n      <td>False</td>\n    </tr>\n    <tr>\n      <th>4</th>\n      <td>20s</td>\n      <td>MALE</td>\n      <td>Private gathering restrictions</td>\n      <td>False</td>\n      <td>Newmarket</td>\n      <td>NaN</td>\n      <td>-11.0</td>\n      <td>4.0</td>\n      <td>False</td>\n    </tr>\n  </tbody>\n</table>\n</div>"
     },
     "metadata": {},
     "execution_count": 258
    }
   ],
   "source": [
    "#Now,  1\n",
    "result_df = pd.DataFrame(result_list, columns=[\"age_group\",\"gender\",\"status\",\"holiday\",\"city\",\"daily_high\",\"daily_low\",\"rain_amount\",\"snow_amount\", \"parks_percentage\", \"retail_and_recreation_percentage\",\"grocery_and_pharmacy_percentage\",\"workplaces_percentage\",\"residential_percentage\",\"transit_stations_percentage\",\n",
    "                                               \"is_fatal\", \"is_resolved\",\"is_unresolved\"])\n",
    "\n",
    "result_df.drop(columns=['daily_high'], inplace=True)\n",
    "result_df.drop(columns=['daily_low'], inplace=True)\n",
    "result_df.drop(columns=['rain_amount'], inplace=True)\n",
    "result_df.drop(columns=['snow_amount'], inplace=True)\n",
    "result_df.drop(columns=['workplaces_percentage'], inplace=True)\n",
    "result_df.drop(columns=['residential_percentage'], inplace=True)\n",
    "result_df.drop(columns=['transit_stations_percentage'], inplace=True)\n",
    "result_df.drop(columns=['is_resolved'], inplace=True)\n",
    "result_df.drop(columns=['is_unresolved'], inplace=True)\n",
    "\n",
    "result_df.head()"
   ]
  },
  {
   "cell_type": "code",
   "execution_count": 259,
   "metadata": {},
   "outputs": [
    {
     "output_type": "execute_result",
     "data": {
      "text/plain": [
       "  age_group gender                          status  holiday         city  \\\n",
       "0       40s   MALE  Private gathering restrictions    False  Mississauga   \n",
       "1       50s   MALE  Private gathering restrictions    False  Mississauga   \n",
       "2       <20   MALE  Private gathering restrictions    False  Mississauga   \n",
       "3       30s   MALE  Private gathering restrictions    False  Mississauga   \n",
       "4       20s   MALE  Private gathering restrictions    False    Newmarket   \n",
       "\n",
       "   parks_percentage  retail_and_recreation_percentage  \\\n",
       "0         71.000000                             -15.0   \n",
       "1         71.000000                             -15.0   \n",
       "2         71.000000                             -15.0   \n",
       "3         71.000000                             -15.0   \n",
       "4         16.937927                             -11.0   \n",
       "\n",
       "   grocery_and_pharmacy_percentage  is_fatal  \n",
       "0                             -1.0     False  \n",
       "1                             -1.0     False  \n",
       "2                             -1.0     False  \n",
       "3                             -1.0     False  \n",
       "4                              4.0     False  "
      ],
      "text/html": "<div>\n<style scoped>\n    .dataframe tbody tr th:only-of-type {\n        vertical-align: middle;\n    }\n\n    .dataframe tbody tr th {\n        vertical-align: top;\n    }\n\n    .dataframe thead th {\n        text-align: right;\n    }\n</style>\n<table border=\"1\" class=\"dataframe\">\n  <thead>\n    <tr style=\"text-align: right;\">\n      <th></th>\n      <th>age_group</th>\n      <th>gender</th>\n      <th>status</th>\n      <th>holiday</th>\n      <th>city</th>\n      <th>parks_percentage</th>\n      <th>retail_and_recreation_percentage</th>\n      <th>grocery_and_pharmacy_percentage</th>\n      <th>is_fatal</th>\n    </tr>\n  </thead>\n  <tbody>\n    <tr>\n      <th>0</th>\n      <td>40s</td>\n      <td>MALE</td>\n      <td>Private gathering restrictions</td>\n      <td>False</td>\n      <td>Mississauga</td>\n      <td>71.000000</td>\n      <td>-15.0</td>\n      <td>-1.0</td>\n      <td>False</td>\n    </tr>\n    <tr>\n      <th>1</th>\n      <td>50s</td>\n      <td>MALE</td>\n      <td>Private gathering restrictions</td>\n      <td>False</td>\n      <td>Mississauga</td>\n      <td>71.000000</td>\n      <td>-15.0</td>\n      <td>-1.0</td>\n      <td>False</td>\n    </tr>\n    <tr>\n      <th>2</th>\n      <td>&lt;20</td>\n      <td>MALE</td>\n      <td>Private gathering restrictions</td>\n      <td>False</td>\n      <td>Mississauga</td>\n      <td>71.000000</td>\n      <td>-15.0</td>\n      <td>-1.0</td>\n      <td>False</td>\n    </tr>\n    <tr>\n      <th>3</th>\n      <td>30s</td>\n      <td>MALE</td>\n      <td>Private gathering restrictions</td>\n      <td>False</td>\n      <td>Mississauga</td>\n      <td>71.000000</td>\n      <td>-15.0</td>\n      <td>-1.0</td>\n      <td>False</td>\n    </tr>\n    <tr>\n      <th>4</th>\n      <td>20s</td>\n      <td>MALE</td>\n      <td>Private gathering restrictions</td>\n      <td>False</td>\n      <td>Newmarket</td>\n      <td>16.937927</td>\n      <td>-11.0</td>\n      <td>4.0</td>\n      <td>False</td>\n    </tr>\n  </tbody>\n</table>\n</div>"
     },
     "metadata": {},
     "execution_count": 259
    }
   ],
   "source": [
    "#Removing null values : 2\n",
    "result_df[\"parks_percentage\"].fillna(result_df[\"parks_percentage\"].mean(), inplace=True)\n",
    "result_df[\"grocery_and_pharmacy_percentage\"].fillna(result_df[\"grocery_and_pharmacy_percentage\"].mean(), inplace=True)\n",
    "result_df[\"retail_and_recreation_percentage\"].fillna(result_df[\"retail_and_recreation_percentage\"].mean(), inplace=True)\n",
    "\n",
    "result_df.head()"
   ]
  },
  {
   "cell_type": "code",
   "execution_count": 260,
   "metadata": {},
   "outputs": [
    {
     "output_type": "execute_result",
     "data": {
      "text/plain": [
       "Counter({False: 83387, True: 1425})"
      ]
     },
     "metadata": {},
     "execution_count": 260
    }
   ],
   "source": [
    "#get counter 6\n",
    "Counter(result_df['is_fatal'])"
   ]
  },
  {
   "cell_type": "code",
   "execution_count": 261,
   "metadata": {},
   "outputs": [],
   "source": [
    "#Get the labels 3\n",
    "y = result_df['is_fatal']#label\n"
   ]
  },
  {
   "cell_type": "code",
   "execution_count": 262,
   "metadata": {},
   "outputs": [
    {
     "output_type": "execute_result",
     "data": {
      "text/plain": [
       "                           status age_group  is_fatal         city gender  \\\n",
       "0  Private gathering restrictions       40s     False  Mississauga   MALE   \n",
       "1  Private gathering restrictions       50s     False  Mississauga   MALE   \n",
       "2  Private gathering restrictions       <20     False  Mississauga   MALE   \n",
       "3  Private gathering restrictions       30s     False  Mississauga   MALE   \n",
       "4  Private gathering restrictions       20s     False    Newmarket   MALE   \n",
       "\n",
       "   holiday  retail_and_recreation_percentage  grocery_and_pharmacy_percentage  \\\n",
       "0    False                         -0.206685                        -0.013779   \n",
       "1    False                         -0.206685                        -0.013779   \n",
       "2    False                         -0.206685                        -0.013779   \n",
       "3    False                         -0.206685                        -0.013779   \n",
       "4    False                         -0.534274                         0.194282   \n",
       "\n",
       "   parks_percentage  \n",
       "0          0.978310  \n",
       "1          0.978310  \n",
       "2          0.978310  \n",
       "3          0.978310  \n",
       "4          0.822682  "
      ],
      "text/html": "<div>\n<style scoped>\n    .dataframe tbody tr th:only-of-type {\n        vertical-align: middle;\n    }\n\n    .dataframe tbody tr th {\n        vertical-align: top;\n    }\n\n    .dataframe thead th {\n        text-align: right;\n    }\n</style>\n<table border=\"1\" class=\"dataframe\">\n  <thead>\n    <tr style=\"text-align: right;\">\n      <th></th>\n      <th>status</th>\n      <th>age_group</th>\n      <th>is_fatal</th>\n      <th>city</th>\n      <th>gender</th>\n      <th>holiday</th>\n      <th>retail_and_recreation_percentage</th>\n      <th>grocery_and_pharmacy_percentage</th>\n      <th>parks_percentage</th>\n    </tr>\n  </thead>\n  <tbody>\n    <tr>\n      <th>0</th>\n      <td>Private gathering restrictions</td>\n      <td>40s</td>\n      <td>False</td>\n      <td>Mississauga</td>\n      <td>MALE</td>\n      <td>False</td>\n      <td>-0.206685</td>\n      <td>-0.013779</td>\n      <td>0.978310</td>\n    </tr>\n    <tr>\n      <th>1</th>\n      <td>Private gathering restrictions</td>\n      <td>50s</td>\n      <td>False</td>\n      <td>Mississauga</td>\n      <td>MALE</td>\n      <td>False</td>\n      <td>-0.206685</td>\n      <td>-0.013779</td>\n      <td>0.978310</td>\n    </tr>\n    <tr>\n      <th>2</th>\n      <td>Private gathering restrictions</td>\n      <td>&lt;20</td>\n      <td>False</td>\n      <td>Mississauga</td>\n      <td>MALE</td>\n      <td>False</td>\n      <td>-0.206685</td>\n      <td>-0.013779</td>\n      <td>0.978310</td>\n    </tr>\n    <tr>\n      <th>3</th>\n      <td>Private gathering restrictions</td>\n      <td>30s</td>\n      <td>False</td>\n      <td>Mississauga</td>\n      <td>MALE</td>\n      <td>False</td>\n      <td>-0.206685</td>\n      <td>-0.013779</td>\n      <td>0.978310</td>\n    </tr>\n    <tr>\n      <th>4</th>\n      <td>Private gathering restrictions</td>\n      <td>20s</td>\n      <td>False</td>\n      <td>Newmarket</td>\n      <td>MALE</td>\n      <td>False</td>\n      <td>-0.534274</td>\n      <td>0.194282</td>\n      <td>0.822682</td>\n    </tr>\n  </tbody>\n</table>\n</div>"
     },
     "metadata": {},
     "execution_count": 262
    }
   ],
   "source": [
    "#normalize\n",
    "#Normalizing data:\n",
    "transform_data = result_df[[\"retail_and_recreation_percentage\",\"grocery_and_pharmacy_percentage\",\"parks_percentage\"]]\n",
    "X_normalized=preprocessing.normalize(transform_data,norm='l2')\n",
    "normalize_part=pd.DataFrame(X_normalized,columns=transform_data.columns)\n",
    "non_numerical=result_df[[\"status\",\"age_group\",\"is_fatal\",\"city\",\"gender\",\"holiday\"]]\n",
    "result_data=pd.concat([non_numerical,normalize_part],axis=1)\n",
    "result_data.head()"
   ]
  },
  {
   "cell_type": "code",
   "execution_count": 263,
   "metadata": {},
   "outputs": [],
   "source": [
    "#drop the label\n",
    "result_data.drop(columns=['is_fatal'], inplace=True)"
   ]
  },
  {
   "cell_type": "code",
   "execution_count": 264,
   "metadata": {},
   "outputs": [
    {
     "output_type": "execute_result",
     "data": {
      "text/plain": [
       "   holiday  retail_and_recreation_percentage  grocery_and_pharmacy_percentage  \\\n",
       "0    False                         -0.206685                        -0.013779   \n",
       "1    False                         -0.206685                        -0.013779   \n",
       "2    False                         -0.206685                        -0.013779   \n",
       "3    False                         -0.206685                        -0.013779   \n",
       "4    False                         -0.534274                         0.194282   \n",
       "\n",
       "   parks_percentage  status_Acitivies closures  status_Control  \\\n",
       "0          0.978310                          0               0   \n",
       "1          0.978310                          0               0   \n",
       "2          0.978310                          0               0   \n",
       "3          0.978310                          0               0   \n",
       "4          0.822682                          0               0   \n",
       "\n",
       "   status_Lockdown  status_Other  status_Private gathering restrictions  \\\n",
       "0                0             0                                      1   \n",
       "1                0             0                                      1   \n",
       "2                0             0                                      1   \n",
       "3                0             0                                      1   \n",
       "4                0             0                                      1   \n",
       "\n",
       "   status_Protect  ...  city_Mississauga  city_Newmarket  city_Oakville  \\\n",
       "0               0  ...                 1               0              0   \n",
       "1               0  ...                 1               0              0   \n",
       "2               0  ...                 1               0              0   \n",
       "3               0  ...                 1               0              0   \n",
       "4               0  ...                 0               1              0   \n",
       "\n",
       "   city_Ottawa  city_Toronto  city_Whitby  gender_FEMALE  \\\n",
       "0            0             0            0              0   \n",
       "1            0             0            0              0   \n",
       "2            0             0            0              0   \n",
       "3            0             0            0              0   \n",
       "4            0             0            0              0   \n",
       "\n",
       "   gender_GENDER DIVERSE  gender_MALE  gender_UNSPECIFIED  \n",
       "0                      0            1                   0  \n",
       "1                      0            1                   0  \n",
       "2                      0            1                   0  \n",
       "3                      0            1                   0  \n",
       "4                      0            1                   0  \n",
       "\n",
       "[5 rows x 32 columns]"
      ],
      "text/html": "<div>\n<style scoped>\n    .dataframe tbody tr th:only-of-type {\n        vertical-align: middle;\n    }\n\n    .dataframe tbody tr th {\n        vertical-align: top;\n    }\n\n    .dataframe thead th {\n        text-align: right;\n    }\n</style>\n<table border=\"1\" class=\"dataframe\">\n  <thead>\n    <tr style=\"text-align: right;\">\n      <th></th>\n      <th>holiday</th>\n      <th>retail_and_recreation_percentage</th>\n      <th>grocery_and_pharmacy_percentage</th>\n      <th>parks_percentage</th>\n      <th>status_Acitivies closures</th>\n      <th>status_Control</th>\n      <th>status_Lockdown</th>\n      <th>status_Other</th>\n      <th>status_Private gathering restrictions</th>\n      <th>status_Protect</th>\n      <th>...</th>\n      <th>city_Mississauga</th>\n      <th>city_Newmarket</th>\n      <th>city_Oakville</th>\n      <th>city_Ottawa</th>\n      <th>city_Toronto</th>\n      <th>city_Whitby</th>\n      <th>gender_FEMALE</th>\n      <th>gender_GENDER DIVERSE</th>\n      <th>gender_MALE</th>\n      <th>gender_UNSPECIFIED</th>\n    </tr>\n  </thead>\n  <tbody>\n    <tr>\n      <th>0</th>\n      <td>False</td>\n      <td>-0.206685</td>\n      <td>-0.013779</td>\n      <td>0.978310</td>\n      <td>0</td>\n      <td>0</td>\n      <td>0</td>\n      <td>0</td>\n      <td>1</td>\n      <td>0</td>\n      <td>...</td>\n      <td>1</td>\n      <td>0</td>\n      <td>0</td>\n      <td>0</td>\n      <td>0</td>\n      <td>0</td>\n      <td>0</td>\n      <td>0</td>\n      <td>1</td>\n      <td>0</td>\n    </tr>\n    <tr>\n      <th>1</th>\n      <td>False</td>\n      <td>-0.206685</td>\n      <td>-0.013779</td>\n      <td>0.978310</td>\n      <td>0</td>\n      <td>0</td>\n      <td>0</td>\n      <td>0</td>\n      <td>1</td>\n      <td>0</td>\n      <td>...</td>\n      <td>1</td>\n      <td>0</td>\n      <td>0</td>\n      <td>0</td>\n      <td>0</td>\n      <td>0</td>\n      <td>0</td>\n      <td>0</td>\n      <td>1</td>\n      <td>0</td>\n    </tr>\n    <tr>\n      <th>2</th>\n      <td>False</td>\n      <td>-0.206685</td>\n      <td>-0.013779</td>\n      <td>0.978310</td>\n      <td>0</td>\n      <td>0</td>\n      <td>0</td>\n      <td>0</td>\n      <td>1</td>\n      <td>0</td>\n      <td>...</td>\n      <td>1</td>\n      <td>0</td>\n      <td>0</td>\n      <td>0</td>\n      <td>0</td>\n      <td>0</td>\n      <td>0</td>\n      <td>0</td>\n      <td>1</td>\n      <td>0</td>\n    </tr>\n    <tr>\n      <th>3</th>\n      <td>False</td>\n      <td>-0.206685</td>\n      <td>-0.013779</td>\n      <td>0.978310</td>\n      <td>0</td>\n      <td>0</td>\n      <td>0</td>\n      <td>0</td>\n      <td>1</td>\n      <td>0</td>\n      <td>...</td>\n      <td>1</td>\n      <td>0</td>\n      <td>0</td>\n      <td>0</td>\n      <td>0</td>\n      <td>0</td>\n      <td>0</td>\n      <td>0</td>\n      <td>1</td>\n      <td>0</td>\n    </tr>\n    <tr>\n      <th>4</th>\n      <td>False</td>\n      <td>-0.534274</td>\n      <td>0.194282</td>\n      <td>0.822682</td>\n      <td>0</td>\n      <td>0</td>\n      <td>0</td>\n      <td>0</td>\n      <td>1</td>\n      <td>0</td>\n      <td>...</td>\n      <td>0</td>\n      <td>1</td>\n      <td>0</td>\n      <td>0</td>\n      <td>0</td>\n      <td>0</td>\n      <td>0</td>\n      <td>0</td>\n      <td>1</td>\n      <td>0</td>\n    </tr>\n  </tbody>\n</table>\n<p>5 rows × 32 columns</p>\n</div>"
     },
     "metadata": {},
     "execution_count": 264
    }
   ],
   "source": [
    "# Our features have categorical data. We need to convert them to one-hot encoders to get the best results.\n",
    "new_result_df = pd.get_dummies(result_data)\n",
    "new_result_df.head()"
   ]
  },
  {
   "cell_type": "code",
   "execution_count": 265,
   "metadata": {},
   "outputs": [],
   "source": [
    "#Undersampling of majority classes:  4\n",
    "from imblearn.under_sampling import NearMiss\n",
    "X = new_result_df.values#features\n",
    "label = result_df[\"is_fatal\"]#label\n",
    "undersample = NearMiss(version=1,n_neighbors=3)\n",
    "x_under, y_under = undersample.fit_resample(X,y)"
   ]
  },
  {
   "cell_type": "code",
   "execution_count": 266,
   "metadata": {},
   "outputs": [],
   "source": [
    "X_train, X_test, y_train, y_test = train_test_split(x_under, label, test_size=0.2, shuffle=True, stratify=label)"
   ]
  },
  {
   "cell_type": "code",
   "execution_count": 267,
   "metadata": {},
   "outputs": [
    {
     "output_type": "stream",
     "name": "stdout",
     "text": [
      "Training set Counter({False: 1140, True: 1140}) \nTest set Counter({False: 285, True: 285}) \n"
     ]
    }
   ],
   "source": [
    "#Let's see the no. of records per class in training and test set\n",
    "print(\"Training set {} \".format(Counter(y_train)))\n",
    "print(\"Test set {} \".format(Counter(y_test)))"
   ]
  },
  {
   "cell_type": "code",
   "execution_count": 268,
   "metadata": {},
   "outputs": [
    {
     "output_type": "stream",
     "name": "stdout",
     "text": [
      "time in milliseconds\n85.39099999999999\nConfusion Matrix:\n[[199  86]\n [ 99 186]]\nClassification Report\n              precision    recall  f1-score   support\n\n       False       0.67      0.70      0.68       285\n        True       0.68      0.65      0.67       285\n\n    accuracy                           0.68       570\n   macro avg       0.68      0.68      0.68       570\nweighted avg       0.68      0.68      0.68       570\n\nAccuracy of Gradient Boosting: 67.54 %\nPrecision of Gradient Boosting: 65.26 %\nRecall of Gradient Boosting: 68.38 %\n"
     ]
    }
   ],
   "source": [
    "#PART B\n",
    "from sklearn.metrics import classification_report, confusion_matrix\n",
    "from sklearn.metrics import classification_report, confusion_matrix\n",
    "from sklearn.metrics import recall_score, precision_score, accuracy_score\n",
    "import datetime\n",
    "#Gradient Boosting\n",
    "\n",
    "\n",
    "#X_train, X_test, y_train, y_test = train_test_split(X, y, test_size=0.33, shuffle=True, stratify=y_under)\n",
    "a = datetime.datetime.now()\n",
    "classifier = GradientBoostingClassifier(n_estimators=20, learning_rate=0.75, max_features=2, max_depth=2, random_state=0)\n",
    "classifier.fit(X_train, y_train)\n",
    "predictions = classifier.predict(X_test)\n",
    "b = datetime.datetime.now()\n",
    "c = b - a\n",
    "print('time in milliseconds')\n",
    "print(c.total_seconds() * 1000)\n",
    "print(\"Confusion Matrix:\")\n",
    "print(confusion_matrix(y_test, predictions))\n",
    "\n",
    "print(\"Classification Report\")\n",
    "print(classification_report(y_test, predictions))\n",
    "\n",
    "accuracy = accuracy_score(predictions, y_test) * 100\n",
    "recall = recall_score(predictions, y_test) * 100\n",
    "precision = precision_score(predictions, y_test) * 100\n",
    "\n",
    "print(\"Accuracy of Gradient Boosting: {:.2f} %\".format(accuracy))\n",
    "print(\"Precision of Gradient Boosting: {:.2f} %\".format(precision))\n",
    "print(\"Recall of Gradient Boosting: {:.2f} %\".format(recall))\n"
   ]
  },
  {
   "cell_type": "code",
   "execution_count": 269,
   "metadata": {},
   "outputs": [
    {
     "output_type": "stream",
     "name": "stdout",
     "text": [
      "time in milliseconds\n367.026\nConfusion Matrix:\n[[198  87]\n [ 91 194]]\nClassification Report\n              precision    recall  f1-score   support\n\n       False       0.69      0.69      0.69       285\n        True       0.69      0.68      0.69       285\n\n    accuracy                           0.69       570\n   macro avg       0.69      0.69      0.69       570\nweighted avg       0.69      0.69      0.69       570\n\nAccuracy of Random Forest: 68.77 %\nPrecision of Random Forest: 68.07 %\nRecall of Random Forest: 69.04 %\n"
     ]
    }
   ],
   "source": [
    "#Random Forest\n",
    "#X_train, X_test, y_train, y_test = train_test_split(X, y, test_size=0.2, shuffle=True, stratify = y_under)\n",
    "\n",
    "#create and fit random forest\n",
    "a = datetime.datetime.now()#start time\n",
    "rf = RandomForestClassifier(max_depth=2, random_state=0)\n",
    "rf.fit(X_train, y_train)\n",
    "y_pred = rf.predict(X_test)\n",
    "b = datetime.datetime.now()#end time\n",
    "c = b - a\n",
    "print('time in milliseconds')\n",
    "print(c.total_seconds() * 1000)\n",
    "\n",
    "print(\"Confusion Matrix:\")\n",
    "print(confusion_matrix(y_test, y_pred))\n",
    "\n",
    "print(\"Classification Report\")\n",
    "print(classification_report(y_test, y_pred))\n",
    "\n",
    "accuracy = accuracy_score(y_pred, y_test) * 100\n",
    "recall = recall_score(y_pred, y_test) * 100\n",
    "precision = precision_score(y_pred, y_test) * 100\n",
    "\n",
    "print(\"Accuracy of Random Forest: {:.2f} %\".format(accuracy))\n",
    "print(\"Precision of Random Forest: {:.2f} %\".format(precision))\n",
    "print(\"Recall of Random Forest: {:.2f} %\".format(recall))\n"
   ]
  },
  {
   "cell_type": "code",
   "execution_count": 270,
   "metadata": {},
   "outputs": [
    {
     "output_type": "stream",
     "name": "stdout",
     "text": [
      "time in milliseconds\n38.619\nConfusion Matrix:\n[[241  44]\n [104 181]]\nClassification Report\n              precision    recall  f1-score   support\n\n       False       0.70      0.85      0.77       285\n        True       0.80      0.64      0.71       285\n\n    accuracy                           0.74       570\n   macro avg       0.75      0.74      0.74       570\nweighted avg       0.75      0.74      0.74       570\n\nAccuracy of Decision Tree: 74.04 %\nRecall of Decision Tree: 80.44 %\nprecision of Decision Tree: 63.51 %\n"
     ]
    }
   ],
   "source": [
    "#Decision Tree Algorithm:\n",
    "#X_train, X_test, y_train, y_test = train_test_split(X, y, test_size=0.2, shuffle=True, stratify=y)\n",
    "from sklearn import tree\n",
    "from matplotlib import pyplot as plt\n",
    "import graphviz\n",
    "\n",
    "a = datetime.datetime.now()\n",
    "dt = DecisionTreeClassifier(criterion='entropy')\n",
    "dt.fit(X_train, y_train)\n",
    "\n",
    "y_pred = dt.predict(X_test)\n",
    "b = datetime.datetime.now()\n",
    "c = b - a\n",
    "print('time in milliseconds')\n",
    "print(c.total_seconds() * 1000)\n",
    "\n",
    "print(\"Confusion Matrix:\")\n",
    "print(confusion_matrix(y_test, y_pred))\n",
    "\n",
    "print(\"Classification Report\")\n",
    "print(classification_report(y_test, y_pred))\n",
    "\n",
    "accuracy = accuracy_score(y_pred,y_test) * 100  \n",
    "recall = recall_score(y_pred, y_test) * 100 \n",
    "precision = precision_score(y_pred, y_test) * 100\n",
    "\n",
    "print(\"Accuracy of Decision Tree: {:.2f} %\".format(accuracy))\n",
    "print(\"Recall of Decision Tree: {:.2f} %\".format(recall))\n",
    "print(\"precision of Decision Tree: {:.2f} %\".format(precision))\n",
    "\n"
   ]
  },
  {
   "cell_type": "code",
   "execution_count": 271,
   "metadata": {},
   "outputs": [
    {
     "output_type": "execute_result",
     "data": {
      "text/plain": [
       "'DecisionTree.pdf'"
      ]
     },
     "metadata": {},
     "execution_count": 271
    }
   ],
   "source": [
    "dot_data = tree.export_graphviz(dt, out_file=None) \n",
    "graph = graphviz.Source(dot_data) \n",
    "graph.render(\"DecisionTree\") "
   ]
  },
  {
   "cell_type": "code",
   "execution_count": 272,
   "metadata": {},
   "outputs": [
    {
     "output_type": "stream",
     "name": "stdout",
     "text": [
      "[961.63902965 960.81609955 925.04866741 928.9750466  936.30846295\n 945.78853579 957.91194736 931.67945984 943.89093147 938.0663991\n 947.30646973 945.78853579 943.91481574 921.55293688 937.21757125\n 954.49418155 921.82693813 963.47928844 949.75483449 949.3433719\n 948.62804666 950.80945741 910.4487685  944.85476816 957.68467038\n 958.09848273 927.69573636 952.02520253 935.67649959 958.39645791\n 925.80305259 936.66774331 940.55855826 954.68113988 920.18103276\n 931.27459681 936.37575562 917.36863614 956.43471959 923.71913497\n 949.15300214 947.91963584 950.84244171 956.59865438 896.32940112\n 950.48762168 955.01588981 925.04866741 951.15037883 917.20281959\n 950.29503734 946.43774934 937.0276063  956.3801457  922.0282053\n 946.59534168 929.02863822 942.28126791 927.54445795 953.05149282\n 951.46660631 950.84244171 911.23759472 962.83239237 964.9193382\n 931.27459681 933.23532831 948.37842828 958.3212183  919.49553923\n 945.02350391 893.857007   943.28405188 894.94871281 930.57739867\n 944.44272401 943.31760241 904.3404554  966.93488429 959.79334684\n 944.69455384 942.37281712 944.76878725 953.42277517 957.29613801\n 936.12734174 925.04866741 964.55395704 933.078735   926.470529\n 945.78853579 917.50140487 918.10171305 944.76878725 932.32014634\n 957.84776538 909.05944682 946.70153437 900.14737208 926.470529\n 959.7100565  943.91481574 923.4563841  932.91617122 952.02520253\n 922.00684147 956.9772603  957.51395935 938.04154809 932.93726125\n 944.44272401 952.02520253 954.39122907 962.11867663 959.79334684\n 899.55417125 957.8892276  948.61084528 941.04640273 953.8281377\n 944.44272401 954.223085   937.21757125 950.98340419 961.8401919\n 900.47057464 956.30712748 957.51395935 962.83239237 939.15417059\n 915.38025789 946.43774934 954.29703732 893.00338556 966.95890548\n 907.99476015 956.2897801  955.01588981 911.10115573 941.96242703\n 900.89051279 950.05059809 941.31362991 957.51395935 914.46927501\n 952.70949021 924.64959584 906.97218963 942.37281712 915.75448422\n 951.76814631 917.50140487 951.25537521 934.66755301 951.90498792\n 889.74593454 948.87608565 950.98340419 896.22502472 963.41833214\n 949.52671398 922.63778168 945.36156285 921.63099883 941.31362991\n 954.57553869 945.02350391 919.52706487 925.79557201 945.27207213\n 966.58456651 931.37629685 950.29503734 918.51967078 952.70949021\n 945.78853579 932.93726125 951.13673897 964.9193382  954.27951444\n 959.79334684 958.3136508  961.3950124  910.26626488 951.35035634\n 926.470529   954.223085   944.22312601 924.64959584 911.11777015\n 940.55855826 925.94287064 917.70322944 957.29613801 899.75953553\n 922.40251079 923.85526855 950.25599749 941.49323521 943.05945498\n 937.53564749 939.84448985 952.79611105 930.49619148 949.71410391\n 944.73963291 951.05929042 942.00957333 957.84776538 941.31362991\n 948.87608565 944.23996157 943.89093147 957.91194736 917.50140487\n 933.01193924 941.89816302 958.28254537 940.30856212 954.16525343\n 901.57295367 954.57553869 942.37281712 931.79817124 950.25599749\n 921.63099883 911.42958428 898.96919935 950.43237298 947.30646973\n 911.65301193 901.02838507 948.19138641 951.22938168 932.93726125\n 963.07108525 958.09848273 944.48352746 951.22616044 950.48762168\n 963.07163672 944.48374179 941.94493108 897.57453547 943.13256969\n 925.21836301 938.7822703  951.76814631 954.58924146 944.85476816\n 950.25599749 932.42337702 946.59534168 925.80305259 927.24854936\n 949.52671398 904.13582395 904.04253457 944.44272401 932.78210323\n 908.62162407 919.685502   952.42170977 950.93600034 946.43774934\n 946.62426299 948.87974213 951.13793715 949.91759487 948.87608565\n 931.84759666 951.13793715 940.68842398 941.49323521 903.00376584\n 954.223085   932.42337702 961.67973618 927.26302055 936.74331302\n 956.9772603  935.99496894 954.57553869 894.59997856 966.58456651\n 944.76878725 923.32809319 954.39122907 960.81609955 943.28405188\n 890.81204366 950.25599749 952.70949021 941.96242703 957.78969123\n 924.81319296 939.15417059 961.75958424 921.63099883 897.74678988\n 956.55747639 956.2897801  936.37575562 951.47682467 954.48266961\n 943.31760241 957.8892276  941.03532151 915.66034522 964.55395704\n 941.74976901 947.84078861 964.55395704 912.97406876 944.44272401\n 940.37732862 931.11923908 966.93488429 921.63099883 920.87811783\n 954.40135408 963.42007571 934.74370936 903.08528077 939.74420606\n 951.35035634 909.44457132 944.48352746 952.95482794 934.62987688\n 963.07163672 951.22938168 934.83731182 926.470529   948.61084528\n 930.57739867 955.65235378 941.04640273 931.37629685 950.05059809\n 946.59534168 893.06390759 955.01588981 941.03532151 929.77427961\n 957.75082366 952.70949021 930.72714239 954.223085   887.58408329\n 957.75082366 963.16886505 942.26969125 950.25599749 951.30449649\n 964.9193382  958.09848273 950.25599749 944.48374179 906.62229078\n 892.47817471 955.01588981 948.37842828 917.93588183 944.44272401\n 938.33952915 938.45903657 941.89816302 924.98762507 962.83239237\n 945.02350391 953.09305555 900.32517363 953.8281377  920.22391484\n 954.28008769 922.72655957 931.27459681 915.00000296 945.02350391\n 931.27459681 953.32634498 940.55855826 958.09848273 944.85476816\n 950.84244171 934.83731182 958.39645791 919.1235617  950.48762168\n 932.93726125 926.470529   957.8892276  949.15300214 938.32808542\n 965.27597322 951.13673897 941.89647363 950.93600034 957.75082366\n 916.19207125 950.29503734 940.55855826 932.42337702 948.37842828\n 941.90230325 955.07132112 944.48374179 966.95890548 940.2084529\n 911.76816657 921.63099883 923.91543455 952.02520253 897.7431438\n 942.47220664 956.43471959 938.31003369 956.24447377 915.76227092\n 918.12320564 941.23287772 959.88748486 888.58664469 956.2897801\n 916.15697545 904.36717435 935.99496894 945.32979252 947.80218001\n 948.37842828 956.43471959 944.34577577 950.29503734 909.34776855\n 898.40745757 905.57898287 944.69455384 916.36598056 949.59463613\n 882.85272417 944.48352746 941.16555135 887.76180721 944.48373864\n 901.70397537 957.84776538 955.01588981 907.50071642 950.58344623\n 958.35430493 934.41078436 957.68467038 926.56713904 924.16985994\n 905.8218872  962.08921776 925.04866741 955.01588981 921.25504494\n 959.00721789 965.32959911 959.95165586 951.15037883 909.92738553\n 939.74420606 941.89816302 964.9193382  950.05059809 902.13506567\n 953.16369216 943.91481574 932.93726125 941.03532151 931.71506085\n 956.59865438 903.2158818  941.31362991 931.34104977 963.41833214\n 916.25877033 941.94493108 932.93726125 948.77002756 950.98340419\n 938.06805524 954.68113988 958.09848273 957.29613801 927.97023235\n 940.2084529  948.3438472  944.21853027 956.23289007 957.78969123\n 950.25599749 938.33952915 922.23243892 949.91759487 950.29503734\n 934.83731182 950.05059809 951.33524483 941.49323521 950.08434527\n 951.30449649 931.52627171 940.54489476 906.41655501 941.31362991\n 951.33524483 951.99621469 956.43727128 954.29703732 951.25537521\n 956.2897801  948.65908366 963.00376494 910.86075077 948.37842828\n 944.44272401 894.09863952 950.05059809 911.10677485 944.21853027\n 941.03532151 930.49619148 944.21853027 926.470529   897.74678988\n 959.95165586 920.31677728 954.74471355 961.8401919  941.89816302\n 920.93175799 962.08921776 952.70949021 955.63699055 906.97218963\n 922.0282053  948.19138641 873.63533352 877.23744331 949.59463613\n 915.23834899 927.29008486 916.15487309 942.87522984 958.3212183\n 956.55747639 948.77002756 945.78853579 932.42219612 895.59203799\n 961.67973618 922.34630534 919.08298339 930.43998855 954.40135408\n 956.5952239  928.08892354 957.78969123 941.49323521 943.31760241\n 946.80678893 956.67100756 943.31760241 878.24368477 885.53982575]\n"
     ]
    }
   ],
   "source": [
    "#PART C\n",
    "from sklearn.svm import OneClassSVM\n",
    "\n",
    "clf = OneClassSVM(gamma='auto').fit(X_train)\n",
    "y_pred = clf.predict(X_test)\n",
    "#array([-1,  1,  1,  1, -1])\n",
    "Score = clf.score_samples(X_test)\n",
    "print(Score)\n",
    "#array([1.7798..., 2.0547..., 2.0556..., 2.0561..., 1.7332...])\n"
   ]
  },
  {
   "cell_type": "code",
   "execution_count": null,
   "metadata": {},
   "outputs": [],
   "source": []
  }
 ]
}