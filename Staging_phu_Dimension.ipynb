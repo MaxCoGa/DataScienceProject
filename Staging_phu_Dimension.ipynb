{
 "metadata": {
  "language_info": {
   "codemirror_mode": {
    "name": "ipython",
    "version": 3
   },
   "file_extension": ".py",
   "mimetype": "text/x-python",
   "name": "python",
   "nbconvert_exporter": "python",
   "pygments_lexer": "ipython3",
   "version": "3.9.2-final"
  },
  "orig_nbformat": 2,
  "kernelspec": {
   "name": "python3",
   "display_name": "Python 3",
   "language": "python"
  }
 },
 "nbformat": 4,
 "nbformat_minor": 2,
 "cells": [
  {
   "cell_type": "code",
   "execution_count": 17,
   "metadata": {},
   "outputs": [],
   "source": [
    "import pandas as pd\n",
    "import numpy as np\n",
    "\n",
    "from datetime import datetime, timedelta"
   ]
  },
  {
   "cell_type": "code",
   "execution_count": 18,
   "metadata": {},
   "outputs": [],
   "source": [
    "#Phu csv\n",
    "phu_raw = pd.DataFrame(pd.read_csv(\"conposcovidloc.csv\"))\n"
   ]
  },
  {
   "cell_type": "code",
   "execution_count": 19,
   "metadata": {},
   "outputs": [],
   "source": [
    "#remove all duplicates phu\n",
    "phu_raw = phu_raw.drop_duplicates(subset =[\"Reporting_PHU\"])\n",
    "\n",
    "#drop unnecessary column\n",
    "phu_raw.drop(phu_raw.columns[[0,1,2,3,4,5,6,7,8,9,10]], axis=1, inplace=True)"
   ]
  },
  {
   "cell_type": "code",
   "execution_count": 20,
   "metadata": {},
   "outputs": [],
   "source": [
    "#insert the Province column with Ontario as a value for all\n",
    "phu_raw.insert(4,'province','Ontario')\n"
   ]
  },
  {
   "cell_type": "code",
   "execution_count": 21,
   "metadata": {},
   "outputs": [],
   "source": [
    "#keep only the city that we are interested in\n",
    "phu_raw = phu_raw[(phu_raw['Reporting_PHU_City']=='Ottawa') | (phu_raw['Reporting_PHU_City']=='Toronto') | (phu_raw['Reporting_PHU_City']=='Oakville') | (phu_raw['Reporting_PHU_City']=='Mississauga') | (phu_raw['Reporting_PHU_City']=='Newmarket') | (phu_raw['Reporting_PHU_City']=='Whitby')]"
   ]
  },
  {
   "cell_type": "code",
   "execution_count": 22,
   "metadata": {},
   "outputs": [],
   "source": [
    "#rename columns\n",
    "phu_raw.rename(columns={'Reporting_PHU':'phu_name','Reporting_PHU_Address':'address','Reporting_PHU_City':'city','Reporting_PHU_Postal_Code':'postal_code','Reporting_PHU_Website':'url','Reporting_PHU_Latitude':'latitude','Reporting_PHU_Longitude':'longitude'}, inplace=True)"
   ]
  },
  {
   "cell_type": "code",
   "execution_count": 23,
   "metadata": {},
   "outputs": [
    {
     "output_type": "execute_result",
     "data": {
      "text/plain": [
       "      phu_location_key                            phu_name  \\\n",
       "0                    1                  Peel Public Health   \n",
       "22                   2     Halton Region Health Department   \n",
       "249                  3               Toronto Public Health   \n",
       "2406                 4  York Region Public Health Services   \n",
       "6983                 5     Durham Region Health Department   \n",
       "8013                 6                Ottawa Public Health   \n",
       "\n",
       "                             address         city postal_code province  \\\n",
       "0             7120 Hurontario Street  Mississauga     L5W 1N4  Ontario   \n",
       "22                  1151 Bronte Road     Oakville     L6M 3Ll  Ontario   \n",
       "249   277 Victoria Street, 5th Floor      Toronto     M5B 1W2  Ontario   \n",
       "2406              17250 Yonge Street    Newmarket     L3Y 6Z1  Ontario   \n",
       "6983          605 Rossland Road East       Whitby     L1N 0B2  Ontario   \n",
       "8013         100 Constellation Drive       Ottawa     K2G 6J8  Ontario   \n",
       "\n",
       "                                                    url   latitude  longitude  \n",
       "0                             www.peelregion.ca/health/  43.647471 -79.708893  \n",
       "22          www.halton.ca/For-Residents/Public-Health/   43.413997 -79.744796  \n",
       "249   www.toronto.ca/community-people/health-wellnes...  43.656591 -79.379358  \n",
       "2406           www.york.ca/wps/portal/yorkhome/health/   44.048023 -79.480239  \n",
       "6983  www.durham.ca/en/health-and-wellness/health-an...  43.898605 -78.940341  \n",
       "8013                          www.ottawapublichealth.ca  45.345665 -75.763912  "
      ],
      "text/html": "<div>\n<style scoped>\n    .dataframe tbody tr th:only-of-type {\n        vertical-align: middle;\n    }\n\n    .dataframe tbody tr th {\n        vertical-align: top;\n    }\n\n    .dataframe thead th {\n        text-align: right;\n    }\n</style>\n<table border=\"1\" class=\"dataframe\">\n  <thead>\n    <tr style=\"text-align: right;\">\n      <th></th>\n      <th>phu_location_key</th>\n      <th>phu_name</th>\n      <th>address</th>\n      <th>city</th>\n      <th>postal_code</th>\n      <th>province</th>\n      <th>url</th>\n      <th>latitude</th>\n      <th>longitude</th>\n    </tr>\n  </thead>\n  <tbody>\n    <tr>\n      <th>0</th>\n      <td>1</td>\n      <td>Peel Public Health</td>\n      <td>7120 Hurontario Street</td>\n      <td>Mississauga</td>\n      <td>L5W 1N4</td>\n      <td>Ontario</td>\n      <td>www.peelregion.ca/health/</td>\n      <td>43.647471</td>\n      <td>-79.708893</td>\n    </tr>\n    <tr>\n      <th>22</th>\n      <td>2</td>\n      <td>Halton Region Health Department</td>\n      <td>1151 Bronte Road</td>\n      <td>Oakville</td>\n      <td>L6M 3Ll</td>\n      <td>Ontario</td>\n      <td>www.halton.ca/For-Residents/Public-Health/</td>\n      <td>43.413997</td>\n      <td>-79.744796</td>\n    </tr>\n    <tr>\n      <th>249</th>\n      <td>3</td>\n      <td>Toronto Public Health</td>\n      <td>277 Victoria Street, 5th Floor</td>\n      <td>Toronto</td>\n      <td>M5B 1W2</td>\n      <td>Ontario</td>\n      <td>www.toronto.ca/community-people/health-wellnes...</td>\n      <td>43.656591</td>\n      <td>-79.379358</td>\n    </tr>\n    <tr>\n      <th>2406</th>\n      <td>4</td>\n      <td>York Region Public Health Services</td>\n      <td>17250 Yonge Street</td>\n      <td>Newmarket</td>\n      <td>L3Y 6Z1</td>\n      <td>Ontario</td>\n      <td>www.york.ca/wps/portal/yorkhome/health/</td>\n      <td>44.048023</td>\n      <td>-79.480239</td>\n    </tr>\n    <tr>\n      <th>6983</th>\n      <td>5</td>\n      <td>Durham Region Health Department</td>\n      <td>605 Rossland Road East</td>\n      <td>Whitby</td>\n      <td>L1N 0B2</td>\n      <td>Ontario</td>\n      <td>www.durham.ca/en/health-and-wellness/health-an...</td>\n      <td>43.898605</td>\n      <td>-78.940341</td>\n    </tr>\n    <tr>\n      <th>8013</th>\n      <td>6</td>\n      <td>Ottawa Public Health</td>\n      <td>100 Constellation Drive</td>\n      <td>Ottawa</td>\n      <td>K2G 6J8</td>\n      <td>Ontario</td>\n      <td>www.ottawapublichealth.ca</td>\n      <td>45.345665</td>\n      <td>-75.763912</td>\n    </tr>\n  </tbody>\n</table>\n</div>"
     },
     "metadata": {},
     "execution_count": 23
    }
   ],
   "source": [
    "phu_location_key_start = 1\n",
    "phu_raw.insert(0,'phu_location_key', range(phu_location_key_start, phu_location_key_start+phu_raw.phu_name.count()))\n",
    "phu_raw"
   ]
  },
  {
   "cell_type": "code",
   "execution_count": 24,
   "metadata": {},
   "outputs": [],
   "source": [
    "phu_raw.to_csv('phu_dimension.csv',index=False)"
   ]
  }
 ]
}